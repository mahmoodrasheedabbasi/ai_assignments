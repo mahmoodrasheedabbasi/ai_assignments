{
 "cells": [
  {
   "cell_type": "markdown",
   "id": "bfa1d53e",
   "metadata": {},
   "source": [
    "# Mahmood Rasheed\n",
    "## Day4 Assignment"
   ]
  },
  {
   "cell_type": "markdown",
   "id": "564c9deb",
   "metadata": {},
   "source": [
    "- Write a python function to calculate the area of a circle."
   ]
  },
  {
   "cell_type": "code",
   "execution_count": 1,
   "id": "62f6c65e",
   "metadata": {},
   "outputs": [],
   "source": [
    "import math"
   ]
  },
  {
   "cell_type": "code",
   "execution_count": 2,
   "id": "b22c7beb",
   "metadata": {},
   "outputs": [
    {
     "name": "stdout",
     "output_type": "stream",
     "text": [
      "Enter radius: 5.5\n",
      "Area of circle = 95.03317777109125\n"
     ]
    }
   ],
   "source": [
    "def area_of_circle(radius):\n",
    "    return (math.pi * radius**2)\n",
    "\n",
    "radius = eval(input(\"Enter radius: \"))\n",
    "print(\"Area of circle =\", area_of_circle(radius))"
   ]
  },
  {
   "cell_type": "markdown",
   "id": "cc13b51c",
   "metadata": {},
   "source": [
    "- Write a python function to calculate the area of a rectangle."
   ]
  },
  {
   "cell_type": "code",
   "execution_count": 3,
   "id": "ce5ff955",
   "metadata": {},
   "outputs": [
    {
     "name": "stdout",
     "output_type": "stream",
     "text": [
      "Enter length: 7.6\n",
      "Enter width: 8.9\n",
      "Area of rectangle = 67.64\n"
     ]
    }
   ],
   "source": [
    "def area_of_rectangle(length, width):\n",
    "    return length*width\n",
    "\n",
    "length = eval(input(\"Enter length: \"))\n",
    "width = eval(input(\"Enter width: \"))\n",
    "\n",
    "print(\"Area of rectangle =\", area_of_rectangle(length, width))"
   ]
  },
  {
   "cell_type": "markdown",
   "id": "e25c59ec",
   "metadata": {},
   "source": [
    "- Write a python function to calculate the area of a triangle."
   ]
  },
  {
   "cell_type": "code",
   "execution_count": 4,
   "id": "7bc98259",
   "metadata": {},
   "outputs": [
    {
     "name": "stdout",
     "output_type": "stream",
     "text": [
      "Enter base: 56\n",
      "Enter height: 23\n",
      "Area of triangle = 644.0\n"
     ]
    }
   ],
   "source": [
    "def area_of_triangle(base, height):\n",
    "    return (base*height)/2\n",
    "\n",
    "base = eval(input(\"Enter base: \"))\n",
    "height = eval(input(\"Enter height: \"))\n",
    "\n",
    "print(\"Area of triangle =\", area_of_triangle(base, height))"
   ]
  },
  {
   "cell_type": "markdown",
   "id": "77fb201e",
   "metadata": {},
   "source": [
    "- Write a python function to calculate the area of a square."
   ]
  },
  {
   "cell_type": "code",
   "execution_count": 5,
   "id": "8299907a",
   "metadata": {},
   "outputs": [
    {
     "name": "stdout",
     "output_type": "stream",
     "text": [
      "Enter length of one side of square: 67\n",
      "Area of rectangle = 4489\n"
     ]
    }
   ],
   "source": [
    "def area_of_square(length):\n",
    "    return length**2\n",
    "\n",
    "length = eval(input(\"Enter length of one side of square: \"))\n",
    "\n",
    "print(\"Area of rectangle =\", area_of_square(length))"
   ]
  },
  {
   "cell_type": "markdown",
   "id": "3c16c09e",
   "metadata": {},
   "source": [
    "- Find out your best 5 built-in functions in Python and write the use of them."
   ]
  },
  {
   "cell_type": "markdown",
   "id": "2b7cb3d9",
   "metadata": {},
   "source": [
    "Ans: Five best functions, that I have found are:\n",
    "    \n",
    "    1) abs()\n",
    "    2) divmod()\n",
    "    3) enumerate()\n",
    "    4) pow()\n",
    "    5) zip()\n",
    "    \n",
    "    Uses:\n",
    "    1) abs():\n",
    "        Python abs() built-in function is used to return an absolute value of any numeric value \n",
    "        input as an argument to the function.\n",
    "    \n",
    "        The Python abs() function is responsible to return an absolute value of the given\n",
    "        number and if the number is a complex number, then it returns its magnitude.\n",
    "        \n",
    "        Example:\n",
    "            num1 = -10\n",
    "            print('Absolute value of -10 is:', abs(num1))\n",
    "            \n",
    "            output: Absolute value of -10 is: 10\n",
    "            \n",
    "            complex1 = (10 + 5j)\n",
    "            print('Absolute value of 10+5j is:', abs(complex1))\n",
    "            \n",
    "            output: Absolute value of 10+5j is: 11.180339887498949\n",
    "    \n",
    "    2) divmod():\n",
    "        The divmod() method in Python is a built-in function that returns the quotient\n",
    "        and remainder of two numbers. It takes two arguments and returns a tuple containing\n",
    "        the quotient and remainder. This method is used when you need to get both the\n",
    "        quotient and remainder of a division operation.\n",
    "        \n",
    "        Example:\n",
    "            x = 10\n",
    "            y = 3\n",
    "            result = divmod(x, y)\n",
    "            print(result)\n",
    "            \n",
    "            output: (3, 1)\n",
    "\n",
    "    3) enumerate():\n",
    "        Python Enumerate is a built-in function that allows us to iterate over a sequence,\n",
    "        such as a list or a string, while also keeping track of the index of each element.\n",
    "        It returns an enumerate object, which is essentially an iterator that generates pairs\n",
    "        of index-value tuples. This function is particularly useful when we need to access\n",
    "        both the index and value of each element in a loop, eliminating the need to use a \n",
    "        separate variable to keep track of the index.\n",
    "        \n",
    "        Example: \n",
    "            progamming_languages = [\"Python\", \"C++\", \"Java\", \"Dart\"]\n",
    "\n",
    "            for index, value in enumerate(progamming_languages):\n",
    "                print(index, value)\n",
    "            \n",
    "            output: \n",
    "                0 Python\n",
    "                1 C++\n",
    "                2 Java\n",
    "                3 Dart\n",
    "                \n",
    "    4) pow():\n",
    "        The pow() function returns the value of x to the power of y (xy).\n",
    "        \n",
    "        Example:\n",
    "        print(pow(3,4))\n",
    "        \n",
    "        output:\n",
    "            81\n",
    "            \n",
    "    5) zip():\n",
    "         Makes an iterator that aggregates elements from two or more iterables.\n",
    "       \n",
    "         Example:\n",
    "         names = ['Ahmed', 'Ali', 'Akber']\n",
    "         ages = [10, 20, 30]\n",
    "         \n",
    "         for name, age in zip(names, ages):\n",
    "             print(name, age)\n",
    "         \n",
    "         output: \n",
    "            Ahmed 10\n",
    "            Ali 20\n",
    "            Akber 30"
   ]
  },
  {
   "cell_type": "markdown",
   "id": "4c44ccbc",
   "metadata": {},
   "source": [
    "- Write a python function to calculate the sum of all numbers in a list."
   ]
  },
  {
   "cell_type": "code",
   "execution_count": 13,
   "id": "6fe54362",
   "metadata": {},
   "outputs": [
    {
     "name": "stdout",
     "output_type": "stream",
     "text": [
      "sum of numbers is:  24\n"
     ]
    }
   ],
   "source": [
    "def sum_of_all_elements(numbers):\n",
    "    \n",
    "    sum = 0\n",
    "    for number in numbers:\n",
    "        sum+=number\n",
    "    \n",
    "    return sum\n",
    "\n",
    "numbers = [5, 3, 6, 9, 1]\n",
    "\n",
    "print(\"sum of numbers is: \" , sum_of_all_elements(numbers))"
   ]
  },
  {
   "cell_type": "markdown",
   "id": "faff470e",
   "metadata": {},
   "source": [
    "- Write a python function to calculate the average of all numbers in a list."
   ]
  },
  {
   "cell_type": "code",
   "execution_count": 14,
   "id": "c560b41d",
   "metadata": {},
   "outputs": [
    {
     "name": "stdout",
     "output_type": "stream",
     "text": [
      "average of numbers is:  4.8\n"
     ]
    }
   ],
   "source": [
    "def avg_of_all_elements(numbers):\n",
    "    \n",
    "    sum = 0\n",
    "    for number in numbers:\n",
    "        sum+=number\n",
    "    \n",
    "    return sum/len(numbers)\n",
    "\n",
    "numbers = [5, 3, 6, 9, 1]\n",
    "\n",
    "print(\"average of numbers is: \" , avg_of_all_elements(numbers))"
   ]
  },
  {
   "cell_type": "markdown",
   "id": "76dc13ab",
   "metadata": {},
   "source": [
    "- Write a Python program that prompts the user to input two numbers and raises a TypeError exception if the inputs are not numerical."
   ]
  },
  {
   "cell_type": "code",
   "execution_count": 33,
   "id": "f9a031f6",
   "metadata": {},
   "outputs": [
    {
     "name": "stdout",
     "output_type": "stream",
     "text": [
      "Enter number1: 5\n",
      "Enter number2: \"10\"\n",
      "TypeError unsupported operand type(s) for +: 'int' and 'str'\n"
     ]
    }
   ],
   "source": [
    "try:\n",
    "    number1 = eval(input(\"Enter number1: \"))\n",
    "    number2 = eval(input(\"Enter number2: \"))\n",
    "\n",
    "    result = number1+number2\n",
    "except TypeError as e:\n",
    "    print(\"TypeError\", e)"
   ]
  },
  {
   "cell_type": "markdown",
   "id": "de9fb6b9",
   "metadata": {},
   "source": [
    "- Write a Python program that prompts the user to input a number and handles a KeyboardInterrupt exception if the user cancels the input."
   ]
  },
  {
   "cell_type": "code",
   "execution_count": 7,
   "id": "ea41e947",
   "metadata": {},
   "outputs": [
    {
     "name": "stdout",
     "output_type": "stream",
     "text": [
      "KeyboardInterrupt:  Interrupted by user\n"
     ]
    }
   ],
   "source": [
    "try:\n",
    "    number = eval(input(\"Enter a number: \"))\n",
    "except KeyboardInterrupt as e:\n",
    "    print(\"KeyboardInterrupt: \", e)"
   ]
  },
  {
   "cell_type": "markdown",
   "id": "89ed5afc",
   "metadata": {},
   "source": [
    "- Make a guess the number game. The computer randomly generates a number. The user inputs a number, and the computer will tell you if the number is higher, lower, or correct. The user will keep inputting the number until it is correct. Hint: Use the random module. Also handle the exception if the user inputs a string instead of a number."
   ]
  },
  {
   "cell_type": "code",
   "execution_count": 12,
   "id": "65a9c2b4",
   "metadata": {},
   "outputs": [
    {
     "name": "stdout",
     "output_type": "stream",
     "text": [
      "Guess the number(1-6): 3\n",
      "You won the game\n"
     ]
    }
   ],
   "source": [
    "import random\n",
    "\n",
    "try:\n",
    "    \n",
    "    system_number = random.randint(1,6)\n",
    "    user_number = int(input(\"Guess the number(1-6): \"))\n",
    "    \n",
    "    if(user_number > system_number):\n",
    "        print(\"You have entered a higher number, the actual number is:\", system_number)\n",
    "    elif(user_number < system_number):\n",
    "        print(\"You have entered a lower number, the actual number is:\", system_number)\n",
    "    else:\n",
    "        print(\"You won the game\")\n",
    "    \n",
    "except ValueError as e:\n",
    "    print(\"Value Error:\", e)"
   ]
  },
  {
   "cell_type": "markdown",
   "id": "32622adb",
   "metadata": {},
   "source": [
    "- Write a Python program to read a file and print the content of the file."
   ]
  },
  {
   "cell_type": "code",
   "execution_count": 14,
   "id": "6d454339",
   "metadata": {},
   "outputs": [
    {
     "name": "stdout",
     "output_type": "stream",
     "text": [
      "Baa, baa, black sheep\n",
      "Have you any wool?\n",
      "Yes sir, yes sir, three bags full.\n",
      "One for the master,\n",
      "And one for the dame,\n",
      "And one for the little boy\n",
      "Who lives down the lane.\n"
     ]
    }
   ],
   "source": [
    "try:\n",
    "    \n",
    "    file = open(\"data.txt\", \"r\")\n",
    "    \n",
    "    content = file.read()\n",
    "    print(content)\n",
    "    \n",
    "    file.close()\n",
    "    \n",
    "except Exception as e:\n",
    "    print(e)"
   ]
  },
  {
   "cell_type": "markdown",
   "id": "dfc4eea8",
   "metadata": {},
   "source": [
    "- Write a Python program to read a file and print the first 5 lines of the file."
   ]
  },
  {
   "cell_type": "code",
   "execution_count": 16,
   "id": "2e6d6709",
   "metadata": {},
   "outputs": [
    {
     "name": "stdout",
     "output_type": "stream",
     "text": [
      "Baa, baa, black sheep\n",
      "Have you any wool?\n",
      "Yes sir, yes sir, three bags full.\n",
      "One for the master,\n",
      "And one for the dame,\n",
      "\n"
     ]
    }
   ],
   "source": [
    "try:\n",
    "    \n",
    "    file = open(\"data.txt\", \"r\")\n",
    "    \n",
    "    first_five_lines = \"\"\n",
    "    \n",
    "    for i in range(5):\n",
    "        first_five_lines += file.readline()\n",
    "        \n",
    "    print(first_five_lines)\n",
    "    \n",
    "    file.close()\n",
    "    \n",
    "except Exception as e:\n",
    "    print(e)"
   ]
  },
  {
   "cell_type": "markdown",
   "id": "83c28437",
   "metadata": {},
   "source": [
    "- Write a Python program to read a file and print the first 5 characters of the file."
   ]
  },
  {
   "cell_type": "code",
   "execution_count": 27,
   "id": "a7bc2ff7",
   "metadata": {},
   "outputs": [
    {
     "name": "stdout",
     "output_type": "stream",
     "text": [
      "Baa, \n"
     ]
    }
   ],
   "source": [
    "try:\n",
    "    \n",
    "    file = open(\"data.txt\", \"r\")\n",
    "    \n",
    "    # this file is \"Baa,\" and a space character as first 5 characters\n",
    "    print(file.read(5))\n",
    "        \n",
    "    file.close()\n",
    "    \n",
    "except Exception as e:\n",
    "    print(e)"
   ]
  },
  {
   "cell_type": "markdown",
   "id": "46cf4981",
   "metadata": {},
   "source": [
    "- Write a Python program to read a file and print the last 5 lines of the file."
   ]
  },
  {
   "cell_type": "code",
   "execution_count": 30,
   "id": "dc42c113",
   "metadata": {},
   "outputs": [
    {
     "name": "stdout",
     "output_type": "stream",
     "text": [
      "Baa, baa, black sheep\n",
      "Have you any wool?\n",
      "Yes sir, yes sir, three bags full.\n",
      "One for the master,\n",
      "And one for the dame,\n",
      "And one for the little boy\n",
      "\n"
     ]
    }
   ],
   "source": [
    "try:\n",
    "    \n",
    "    file = open(\"data.txt\", \"r\")\n",
    "    \n",
    "    first_six_lines = \"\"\n",
    "    \n",
    "    for i in range(6):\n",
    "        first_six_lines += file.readline()\n",
    "        \n",
    "    print(first_six_lines)\n",
    "    \n",
    "    file.close()\n",
    "    \n",
    "except Exception as e:\n",
    "    print(e)"
   ]
  }
 ],
 "metadata": {
  "kernelspec": {
   "display_name": "Python 3 (ipykernel)",
   "language": "python",
   "name": "python3"
  },
  "language_info": {
   "codemirror_mode": {
    "name": "ipython",
    "version": 3
   },
   "file_extension": ".py",
   "mimetype": "text/x-python",
   "name": "python",
   "nbconvert_exporter": "python",
   "pygments_lexer": "ipython3",
   "version": "3.11.4"
  }
 },
 "nbformat": 4,
 "nbformat_minor": 5
}
