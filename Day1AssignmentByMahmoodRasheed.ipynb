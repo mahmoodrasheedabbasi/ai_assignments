{
 "cells": [
  {
   "cell_type": "markdown",
   "metadata": {},
   "source": [
    "# Mahmood Rasheed\n",
    "## Assignment 1 - Day 1 - 13-06-2024"
   ]
  },
  {
   "cell_type": "markdown",
   "metadata": {},
   "source": [
    "- What are reserved words in Python?"
   ]
  },
  {
   "cell_type": "markdown",
   "metadata": {},
   "source": [
    "Ans: There is a restriction while naming identifiers that there are some restricted words that are built-in to Python which cannot be used as an identifier.\n",
    "\n",
    "Examples: \n",
    "False,\tdef,\tif,\traise, None, \tdel,\timport,\treturn, True,\telif, \tin,\ttry,\n",
    "and,\telse,\tis,\twhile, as,\texcept,\tlambda,\twith, assert,\tfinally,\tnonlocal,\tyield,\n",
    "break,\tfor,\tnot, class,\tform,\tor, continue,\tglobal,\tpass."
   ]
  },
  {
   "cell_type": "markdown",
   "metadata": {},
   "source": [
    "- what is difference between single and double quotes in Python?"
   ]
  },
  {
   "cell_type": "markdown",
   "metadata": {},
   "source": [
    "Ans: There is no functional difference between using single or double quotes. You can use either one interchangeably.\n",
    "\n",
    "   However, it is a common convention to use single quotes for string literals and double quotes for strings that contain single quotes (or vice versa), to avoid having to escape the quotes within the string."
   ]
  },
  {
   "cell_type": "markdown",
   "metadata": {},
   "source": [
    "- What is the difference between variable and identifier?"
   ]
  },
  {
   "cell_type": "markdown",
   "metadata": {},
   "source": [
    "Ans: A variable is a named storage location in computer memory that holds a value. It acts as a container for storing data values, which can be retrieved or modified during program execution. Variables are essential for writing programs that can manipulate and process data dynamically.\n",
    "\n",
    "An identifier is the name given to a variable, function, class, or any other programmable entity in the code. It is a sequence of characters (letters, digits, and sometimes other special characters like underscores) that serves to identify and reference a particular element within the program."
   ]
  },
  {
   "cell_type": "markdown",
   "metadata": {},
   "source": [
    "- What is the difference between variable and constant?"
   ]
  },
  {
   "cell_type": "markdown",
   "metadata": {},
   "source": [
    "Ans: Variables are used to store and manipulate data that may change over time whereas a constant is also a named storage location in memory, but its value cannot be modified once it is assigned."
   ]
  },
  {
   "cell_type": "markdown",
   "metadata": {},
   "source": [
    "- Find at least 10 methods for string data type in Python."
   ]
  },
  {
   "cell_type": "markdown",
   "metadata": {},
   "source": [
    "1) capitalize(): Converts the first character to upper case"
   ]
  },
  {
   "cell_type": "code",
   "execution_count": 2,
   "metadata": {},
   "outputs": [
    {
     "name": "stdout",
     "output_type": "stream",
     "text": [
      "Mahmood\n"
     ]
    }
   ],
   "source": [
    "name = \"mahmood\"\n",
    "print(name.capitalize())"
   ]
  },
  {
   "cell_type": "markdown",
   "metadata": {},
   "source": [
    "2) count(): Returns the number of times a specified value occurs in a string"
   ]
  },
  {
   "cell_type": "code",
   "execution_count": 3,
   "metadata": {},
   "outputs": [
    {
     "name": "stdout",
     "output_type": "stream",
     "text": [
      "2\n"
     ]
    }
   ],
   "source": [
    "print(name.count(\"m\"))"
   ]
  },
  {
   "cell_type": "markdown",
   "metadata": {},
   "source": [
    "3) find(): Searches the string for a specified value and returns the position of where it was found"
   ]
  },
  {
   "cell_type": "code",
   "execution_count": 5,
   "metadata": {},
   "outputs": [
    {
     "name": "stdout",
     "output_type": "stream",
     "text": [
      "index of h is:  2\n"
     ]
    }
   ],
   "source": [
    "print(\"index of h is: \" ,name.find(\"h\"))"
   ]
  },
  {
   "cell_type": "markdown",
   "metadata": {},
   "source": [
    "4) isalpha():\tReturns True if all characters in the string are in the alphabet"
   ]
  },
  {
   "cell_type": "code",
   "execution_count": 7,
   "metadata": {},
   "outputs": [
    {
     "name": "stdout",
     "output_type": "stream",
     "text": [
      "Contains only alphabets:  True\n"
     ]
    }
   ],
   "source": [
    "print(\"Contains only alphabets: \", name.isalpha())"
   ]
  },
  {
   "cell_type": "markdown",
   "metadata": {},
   "source": [
    "5) islower():\tReturns True if all characters in the string are lower case"
   ]
  },
  {
   "cell_type": "code",
   "execution_count": 8,
   "metadata": {},
   "outputs": [
    {
     "name": "stdout",
     "output_type": "stream",
     "text": [
      "name written in lower case:  True\n"
     ]
    }
   ],
   "source": [
    "print(\"name written in lower case: \", name.islower())"
   ]
  },
  {
   "cell_type": "markdown",
   "metadata": {},
   "source": [
    "6) startswith():\tReturns true if the string starts with the specified value"
   ]
  },
  {
   "cell_type": "code",
   "execution_count": 9,
   "metadata": {},
   "outputs": [
    {
     "name": "stdout",
     "output_type": "stream",
     "text": [
      "name starts with m:  True\n"
     ]
    }
   ],
   "source": [
    "print(\"name starts with m: \", name.startswith(\"m\"))"
   ]
  },
  {
   "cell_type": "markdown",
   "metadata": {},
   "source": [
    "7) endswith():\tReturns true if the string ends with the specified value"
   ]
  },
  {
   "cell_type": "code",
   "execution_count": 10,
   "metadata": {},
   "outputs": [
    {
     "name": "stdout",
     "output_type": "stream",
     "text": [
      "name ends with d:  True\n"
     ]
    }
   ],
   "source": [
    "print(\"name ends with d: \", name.endswith(\"d\"))"
   ]
  },
  {
   "cell_type": "markdown",
   "metadata": {},
   "source": [
    "8) istitle():\tReturns True if the string follows the rules of a title"
   ]
  },
  {
   "cell_type": "code",
   "execution_count": 11,
   "metadata": {},
   "outputs": [
    {
     "name": "stdout",
     "output_type": "stream",
     "text": [
      "name follows rule of a title:  False\n"
     ]
    }
   ],
   "source": [
    "print(\"name follows rule of a title: \", name.istitle())"
   ]
  },
  {
   "cell_type": "markdown",
   "metadata": {},
   "source": [
    "9) swapcase():\tSwaps cases, lower case becomes upper case and vice versa"
   ]
  },
  {
   "cell_type": "code",
   "execution_count": 12,
   "metadata": {},
   "outputs": [
    {
     "name": "stdout",
     "output_type": "stream",
     "text": [
      "Swap cases of name:  MAHMOOD\n"
     ]
    }
   ],
   "source": [
    "print(\"Swap cases of name: \", name.swapcase())"
   ]
  },
  {
   "cell_type": "markdown",
   "metadata": {},
   "source": [
    "10) casefold():\tConverts string into lower case"
   ]
  },
  {
   "cell_type": "code",
   "execution_count": 13,
   "metadata": {},
   "outputs": [
    {
     "name": "stdout",
     "output_type": "stream",
     "text": [
      "Converting into lower case:  abbasi\n"
     ]
    }
   ],
   "source": [
    "caste = \"Abbasi\"\n",
    "print(\"Converting into lower case: \", caste.casefold())"
   ]
  }
 ],
 "metadata": {
  "kernelspec": {
   "display_name": "Python 3 (ipykernel)",
   "language": "python",
   "name": "python3"
  },
  "language_info": {
   "codemirror_mode": {
    "name": "ipython",
    "version": 3
   },
   "file_extension": ".py",
   "mimetype": "text/x-python",
   "name": "python",
   "nbconvert_exporter": "python",
   "pygments_lexer": "ipython3",
   "version": "3.11.4"
  }
 },
 "nbformat": 4,
 "nbformat_minor": 2
}
