{
 "cells": [
  {
   "cell_type": "markdown",
   "id": "180207b8",
   "metadata": {},
   "source": [
    "# Mahmood Rasheed\n",
    "\n",
    "### Create and Share Your Jupyter Notebook"
   ]
  },
  {
   "cell_type": "markdown",
   "id": "a47939d1",
   "metadata": {},
   "source": [
    "- Cell 1 (rendered as Markdown): The title should be \"My Jupyter Notebook at SAINCUBE\", in H1 header styling. The title does not need to be centered."
   ]
  },
  {
   "cell_type": "markdown",
   "id": "d3761b14",
   "metadata": {},
   "source": [
    "# My Jupyter Notebook at SAINCUBE"
   ]
  },
  {
   "cell_type": "markdown",
   "id": "823393a5",
   "metadata": {},
   "source": [
    "- Cell 2 (rendered as Markdown): Include your name, in bold characters. In the line below your name, write your current or desired occupation in regular font."
   ]
  },
  {
   "cell_type": "markdown",
   "id": "aa27f9f7",
   "metadata": {},
   "source": [
    "**Mahmood Rasheed**\n",
    "\n",
    "I want to be an AI Engineer"
   ]
  },
  {
   "cell_type": "markdown",
   "id": "3bf8c7bf",
   "metadata": {},
   "source": [
    "- Cell 3 (rendered as Markdown): In italic formatting, write one or two sentences about why you are interested in data science. For example, you can start your first sentence with \"I am interested in data science because ...\"."
   ]
  },
  {
   "cell_type": "markdown",
   "id": "a89db528",
   "metadata": {},
   "source": [
    "*I am interested in data science because it allows me to uncover patterns and insights from vast amounts of data, driving informed decision-making and innovation.*"
   ]
  },
  {
   "cell_type": "markdown",
   "id": "defb471a",
   "metadata": {},
   "source": [
    "- Cell 4 (rendered as Markdown): In H3 header styling, explain in a short sentence what your code is supposed to do in Cell 5."
   ]
  },
  {
   "cell_type": "markdown",
   "id": "efb3e505",
   "metadata": {},
   "source": [
    "### This code will trace that either the given number is an odd number or an even number"
   ]
  },
  {
   "cell_type": "markdown",
   "id": "95a3ae92",
   "metadata": {},
   "source": [
    "- Cell 5 (code cell): Your code, as described in Cell 4. It must be executed and must display an output. Try to keep the code simple (it can even be \"1 + 1\")."
   ]
  },
  {
   "cell_type": "code",
   "execution_count": 1,
   "id": "1574c651",
   "metadata": {},
   "outputs": [
    {
     "name": "stdout",
     "output_type": "stream",
     "text": [
      "Enter a number: 6\n",
      "6 is an even number\n"
     ]
    }
   ],
   "source": [
    "num = int(input(\"Enter a number: \"))\n",
    "\n",
    "if num%2 == 0:\n",
    "    print(num, \"is an even number\")\n",
    "else:\n",
    "    print(num, \"is an odd number\")"
   ]
  },
  {
   "cell_type": "markdown",
   "id": "b3995293",
   "metadata": {},
   "source": [
    "- Cell 6 (rendered as Markdown): Using Markdown or HTML, this cell must include at least 3 of the following: horizontal rule, bulleted list, numbered list, tables, hyperlinks, images, code/syntax highlighting, blocked quotes, strikethrough."
   ]
  },
  {
   "cell_type": "markdown",
   "id": "84432db8",
   "metadata": {},
   "source": [
    "<h1>Hi, I am Mahmood Rasheed</h1>\n",
    "<hr>\n",
    "<ul>\n",
    "    <li> A final year student of Mehran University of Engineering and Technology Jamshoro</li>\n",
    "</ul>\n",
    "\n",
    "To visit the website of Mehran University <a href=\"https://www.muet.edu.pk/\">Click here</a> \n",
    "\n",
    "<table>\n",
    "<tr>\n",
    "    <th>Name</th>\n",
    "    <th>Father's Name</th>\n",
    "    <th>Semester</th>   \n",
    "</tr>\n",
    "    \n",
    "<tr>\n",
    "  <td>Mahmood Rasheed</td>\n",
    "  <td>Shams ul din</td>\n",
    "  <td>8th</td>   \n",
    "</tr>\n",
    "    \n",
    "<tr>\n",
    "  <td>Asim Raza</td>\n",
    "  <td>Rafique Ahmed</td>\n",
    "  <td>4th</td>   \n",
    "</tr>\n",
    "</table>\n",
    "\n",
    "<img src = \"data:image/jpeg;base64,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\" width = \"200\">"
   ]
  }
 ],
 "metadata": {
  "kernelspec": {
   "display_name": "Python 3 (ipykernel)",
   "language": "python",
   "name": "python3"
  },
  "language_info": {
   "codemirror_mode": {
    "name": "ipython",
    "version": 3
   },
   "file_extension": ".py",
   "mimetype": "text/x-python",
   "name": "python",
   "nbconvert_exporter": "python",
   "pygments_lexer": "ipython3",
   "version": "3.11.4"
  }
 },
 "nbformat": 4,
 "nbformat_minor": 5
}
