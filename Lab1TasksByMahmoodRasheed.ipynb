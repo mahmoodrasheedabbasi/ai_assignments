{
 "cells": [
  {
   "cell_type": "markdown",
   "id": "180207b8",
   "metadata": {},
   "source": [
    "# Mahmood Rasheed\n",
    "\n",
    "### Create and Share Your Jupyter Notebook"
   ]
  },
  {
   "cell_type": "markdown",
   "id": "a47939d1",
   "metadata": {},
   "source": [
    "- Cell 1 (rendered as Markdown): The title should be \"My Jupyter Notebook at SAINCUBE\", in H1 header styling. The title does not need to be centered."
   ]
  },
  {
   "cell_type": "markdown",
   "id": "d3761b14",
   "metadata": {},
   "source": [
    "# My Jupyter Notebook at SAINCUBE"
   ]
  },
  {
   "cell_type": "markdown",
   "id": "823393a5",
   "metadata": {},
   "source": [
    "- Cell 2 (rendered as Markdown): Include your name, in bold characters. In the line below your name, write your current or desired occupation in regular font."
   ]
  },
  {
   "cell_type": "markdown",
   "id": "aa27f9f7",
   "metadata": {},
   "source": [
    "**Mahmood Rasheed**\n",
    "\n",
    "I want to be an AI Engineer"
   ]
  },
  {
   "cell_type": "markdown",
   "id": "3bf8c7bf",
   "metadata": {},
   "source": [
    "- Cell 3 (rendered as Markdown): In italic formatting, write one or two sentences about why you are interested in data science. For example, you can start your first sentence with \"I am interested in data science because ...\"."
   ]
  },
  {
   "cell_type": "markdown",
   "id": "a89db528",
   "metadata": {},
   "source": [
    "*I am interested in data science because it allows me to uncover patterns and insights from vast amounts of data, driving informed decision-making and innovation.*"
   ]
  },
  {
   "cell_type": "markdown",
   "id": "defb471a",
   "metadata": {},
   "source": [
    "- Cell 4 (rendered as Markdown): In H3 header styling, explain in a short sentence what your code is supposed to do in Cell 5."
   ]
  },
  {
   "cell_type": "markdown",
   "id": "efb3e505",
   "metadata": {},
   "source": [
    "### This code will trace that either the given number is an odd number or an even number"
   ]
  },
  {
   "cell_type": "markdown",
   "id": "95a3ae92",
   "metadata": {},
   "source": [
    "- Cell 5 (code cell): Your code, as described in Cell 4. It must be executed and must display an output. Try to keep the code simple (it can even be \"1 + 1\")."
   ]
  },
  {
   "cell_type": "code",
   "execution_count": 1,
   "id": "1574c651",
   "metadata": {},
   "outputs": [
    {
     "name": "stdout",
     "output_type": "stream",
     "text": [
      "Enter a number: 6\n",
      "6 is an even number\n"
     ]
    }
   ],
   "source": [
    "num = int(input(\"Enter a number: \"))\n",
    "\n",
    "if num%2 == 0:\n",
    "    print(num, \"is an even number\")\n",
    "else:\n",
    "    print(num, \"is an odd number\")"
   ]
  },
  {
   "cell_type": "markdown",
   "id": "b3995293",
   "metadata": {},
   "source": [
    "- Cell 6 (rendered as Markdown): Using Markdown or HTML, this cell must include at least 3 of the following: horizontal rule, bulleted list, numbered list, tables, hyperlinks, images, code/syntax highlighting, blocked quotes, strikethrough."
   ]
  },
  {
   "cell_type": "markdown",
   "id": "84432db8",
   "metadata": {},
   "source": [
    "<h1>Hi, I am Mahmood Rasheed</h1>\n",
    "<hr>\n",
    "<ul>\n",
    "    <li> A final year student of Mehran University of Engineering and Technology Jamshoro</li>\n",
    "</ul>\n",
    "\n",
    "To visit the website of Mehran University <a href=\"https://www.muet.edu.pk/\">Click here</a> \n",
    "\n",
    "<table>\n",
    "<tr>\n",
    "    <th>Name</th>\n",
    "    <th>Father's Name</th>\n",
    "    <th>Semester</th>   \n",
    "</tr>\n",
    "    \n",
    "<tr>\n",
    "  <td>Mahmood Rasheed</td>\n",
    "  <td>Shams ul din</td>\n",
    "  <td>8th</td>   \n",
    "</tr>\n",
    "    \n",
    "<tr>\n",
    "  <td>Asim Raza</td>\n",
    "  <td>Rafique Ahmed</td>\n",
    "  <td>4th</td>   \n",
    "</tr>\n",
    "</table>\n",
    "\n",
    "<img src = \"Pic.jpg\" width = \"200\">"
   ]
  }
 ],
 "metadata": {
  "kernelspec": {
   "display_name": "Python 3 (ipykernel)",
   "language": "python",
   "name": "python3"
  },
  "language_info": {
   "codemirror_mode": {
    "name": "ipython",
    "version": 3
   },
   "file_extension": ".py",
   "mimetype": "text/x-python",
   "name": "python",
   "nbconvert_exporter": "python",
   "pygments_lexer": "ipython3",
   "version": "3.11.4"
  }
 },
 "nbformat": 4,
 "nbformat_minor": 5
}
