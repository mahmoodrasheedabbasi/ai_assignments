{
 "cells": [
  {
   "cell_type": "markdown",
   "metadata": {},
   "source": [
    "# Python Lab\n",
    "## By Mahmood Rasheed"
   ]
  },
  {
   "cell_type": "markdown",
   "metadata": {},
   "source": [
    "1. **Declare a variable called `myName` & assign to it a string that represents your Full Name.**"
   ]
  },
  {
   "cell_type": "code",
   "execution_count": 1,
   "metadata": {},
   "outputs": [
    {
     "name": "stdout",
     "output_type": "stream",
     "text": [
      "Mahmood Rasheed\n"
     ]
    }
   ],
   "source": [
    "myName = \"Mahmood Rasheed\"\n",
    "print(myName)"
   ]
  },
  {
   "cell_type": "markdown",
   "metadata": {},
   "source": [
    "2. **Declare a variable, titled `message` and assign “Hello World” to the variable `message` and print the message.**"
   ]
  },
  {
   "cell_type": "code",
   "execution_count": 2,
   "metadata": {},
   "outputs": [
    {
     "name": "stdout",
     "output_type": "stream",
     "text": [
      "Hello World\n"
     ]
    }
   ],
   "source": [
    "message = \"Hello World\"\n",
    "print(message)"
   ]
  },
  {
   "cell_type": "markdown",
   "metadata": {},
   "source": [
    "3. **Declare a variable called `email` & assign to it a string that represents your Email Address (e.g. abc@xyz.com).**\n",
    "   \n",
    "   Print the below mentioned message. *(Hint: use string concatenation)*.\n",
    "\n",
    "   **Expected output:** \n",
    "\n",
    "   My e-mail address is: abc@xyz.com"
   ]
  },
  {
   "cell_type": "code",
   "execution_count": 4,
   "metadata": {},
   "outputs": [
    {
     "name": "stdout",
     "output_type": "stream",
     "text": [
      "My e-mail address is: mahmood.rasheed@gmail.com\n"
     ]
    }
   ],
   "source": [
    "email = \"mahmood.rasheed@gmail.com\"\n",
    "print(\"My e-mail address is:\", email)"
   ]
  },
  {
   "cell_type": "markdown",
   "metadata": {},
   "source": [
    "4. **Declare a variable called `book` & give it the value “Think Python”. Print the following message:**, <br>\n",
    "I am trying to learn from the book ‘Think Python’\n"
   ]
  },
  {
   "cell_type": "code",
   "execution_count": 5,
   "metadata": {},
   "outputs": [
    {
     "name": "stdout",
     "output_type": "stream",
     "text": [
      "I am trying to learn from the book ‘Think Python’\n"
     ]
    }
   ],
   "source": [
    "book = \"Think Python\"\n",
    "print(f\"I am trying to learn from the book ‘{book}’\")"
   ]
  },
  {
   "cell_type": "markdown",
   "metadata": {},
   "source": [
    "**5. Declare the variables & show the details giving meaning to data.**\n",
    "\n",
    "**Student Bio Data**\n",
    "\n",
    "    Please Enter Your Name: Aisha Batool  \n",
    "    Please Enter Your Age: 17  \n",
    "    Please Enter Your University Name: Habib University  \n",
    "    Please Enter Your Course Name: Computational Thinking-1  \n",
    "\n",
    "**Expected Output:**\n",
    "\n",
    "    My name is Aisha Batool\n",
    "    I am 17 Years Old\n",
    "    I study in Habib University\n",
    "    I am enrolled in Computational Thinking-1 Course."
   ]
  },
  {
   "cell_type": "code",
   "execution_count": 7,
   "metadata": {},
   "outputs": [
    {
     "name": "stdout",
     "output_type": "stream",
     "text": [
      "Please Enter Your Name: Mahmood Rasheed\n",
      "Please Enter Your Age: 22\n",
      "Please Enter Your University Name: Mehran University\n",
      "Please Enter Your Course Name: Artificial Intelligence\n",
      "\n",
      "\n",
      "\n",
      "My name is Artificial Intelligence\n",
      "I am 22 Years Old\n",
      "I study in Mehran University\n",
      "i am enrolled in Artificial Intelligence Course\n"
     ]
    }
   ],
   "source": [
    "name = input(\"Please Enter Your Name: \")\n",
    "age = input(\"Please Enter Your Age: \")\n",
    "uni_name = input(\"Please Enter Your University Name: \")\n",
    "course_name = input(\"Please Enter Your Course Name: \")\n",
    "\n",
    "print(\"\\n\\n\")\n",
    "print(f\"My name is {course_name}\")\n",
    "print(f\"I am {age} Years Old\")\n",
    "print(f\"I study in {uni_name}\")\n",
    "print(f\"i am enrolled in {course_name} Course\")"
   ]
  },
  {
   "cell_type": "markdown",
   "metadata": {},
   "source": [
    "**6.  A visitor visits an online clothing store `www.xyzClothing.com`. Write a python script to store in variables the following information:**<br>\n",
    "    `a) Visitor’s name`<br>\n",
    "    `b) Product title`<br>\n",
    "    `c) Quantity i.e. how many products a visitor wants to order`<br>\n",
    "**Show the following message in your browser:**<br> `“John Doe ordered 5 T-shirt(s) on XYZ Clothing store”.`"
   ]
  },
  {
   "cell_type": "code",
   "execution_count": 10,
   "metadata": {},
   "outputs": [
    {
     "name": "stdout",
     "output_type": "stream",
     "text": [
      "John Doe ordered 5 T-shirt(s) on XYZ Clothing Store\n"
     ]
    }
   ],
   "source": [
    "visitor_name = \"John Doe\"\n",
    "product_title = \"T-shirt\"\n",
    "quantity  = 5\n",
    "\n",
    "print(f\"{visitor_name} ordered {quantity} {product_title}(s) on XYZ Clothing Store\")"
   ]
  },
  {
   "cell_type": "markdown",
   "metadata": {
    "id": "u0G3JlV7KQzg"
   },
   "source": [
    "**7. Write a program that obtains four integer values from the user and displays the sum & the product. <br>**\n",
    "`Insert 1st number:` 2 <br>\n",
    "`Insert 2nd number:` 5 <br>\n",
    "`Insert 3rd number:` 7 <br>\n",
    "`Insert 4th number:` 9<br>\n",
    "`Sum:` 23 <br>\n",
    "`Product:` 630 <br>"
   ]
  },
  {
   "cell_type": "code",
   "execution_count": 11,
   "metadata": {},
   "outputs": [
    {
     "name": "stdout",
     "output_type": "stream",
     "text": [
      "Enter 1st number: 2\n",
      "Enter 2nd number: 5\n",
      "Enter 3rd number: 7\n",
      "Enter 4th number: 9\n",
      "Sum:  23\n",
      "Product:  630\n"
     ]
    }
   ],
   "source": [
    "num1 = int(input(\"Enter 1st number: \"))\n",
    "num2 = int(input(\"Enter 2nd number: \"))\n",
    "num3 = int(input(\"Enter 3rd number: \"))\n",
    "num4 = int(input(\"Enter 4th number: \"))\n",
    "\n",
    "sum_of_numbers = num1+num2+num3+num4\n",
    "product = num1*num2*num3*num4\n",
    "\n",
    "print(\"Sum: \", sum_of_numbers)\n",
    "print(\"Product: \", product)"
   ]
  },
  {
   "cell_type": "markdown",
   "metadata": {},
   "source": [
    "**8. Write a program that obtains `four` float values from the user and displays the `sum` & the `product`.**"
   ]
  },
  {
   "cell_type": "code",
   "execution_count": 12,
   "metadata": {},
   "outputs": [
    {
     "name": "stdout",
     "output_type": "stream",
     "text": [
      "Enter 1st number: 9.3\n",
      "Enter 2nd number: 8.5\n",
      "Enter 3rd number: 2.4\n",
      "Enter 4th number: 1.25\n",
      "Sum:  21.45\n",
      "Product:  237.15000000000003\n"
     ]
    }
   ],
   "source": [
    "num1 = float(input(\"Enter 1st number: \"))\n",
    "num2 = float(input(\"Enter 2nd number: \"))\n",
    "num3 = float(input(\"Enter 3rd number: \"))\n",
    "num4 = float(input(\"Enter 4th number: \"))\n",
    "\n",
    "sum_of_numbers = num1+num2+num3+num4\n",
    "product = num1*num2*num3*num4\n",
    "\n",
    "print(\"Sum: \", sum_of_numbers)\n",
    "print(\"Product: \", product)"
   ]
  },
  {
   "cell_type": "markdown",
   "metadata": {},
   "source": [
    "**9. Declare a variable called birthYear & assign to it your birth year. Also Print the type of your variable using type(). Print the following message:**\n",
    "\n",
    "My birth year is 1990  \n",
    "Data Type of my declared variable is `<class 'int'>`\n"
   ]
  },
  {
   "cell_type": "code",
   "execution_count": 13,
   "metadata": {},
   "outputs": [
    {
     "name": "stdout",
     "output_type": "stream",
     "text": [
      "My birth year is 1990\n",
      "Data Type of my declared variable is <class 'int'>\n"
     ]
    }
   ],
   "source": [
    "birthYear = 1990\n",
    "\n",
    "print(\"My birth year is\", birthYear)\n",
    "print(\"Data Type of my declared variable is\", type(birthYear))"
   ]
  },
  {
   "cell_type": "markdown",
   "metadata": {},
   "source": [
    "**10. Print the following by using one variable name only:**\n",
    "\n",
    "**PIZZA**  \n",
    "**PIZZ**  \n",
    "**PIZ**  \n",
    "**PI**  \n",
    "**P**\n"
   ]
  },
  {
   "cell_type": "code",
   "execution_count": 14,
   "metadata": {},
   "outputs": [
    {
     "name": "stdout",
     "output_type": "stream",
     "text": [
      "PIZZA\n",
      "PIZZ\n",
      "PIZ\n",
      "PI\n",
      "P\n"
     ]
    }
   ],
   "source": [
    "name = '''PIZZA\n",
    "PIZZ\n",
    "PIZ\n",
    "PI\n",
    "P'''\n",
    "\n",
    "print(name)"
   ]
  },
  {
   "cell_type": "markdown",
   "metadata": {
    "id": "cRnBt7a0SE4M"
   },
   "source": [
    "---\n",
    "### **Operators**\n",
    "---"
   ]
  },
  {
   "cell_type": "markdown",
   "metadata": {
    "id": "sWvHymMgu_Ll"
   },
   "source": [
    "**1. Write a program that takes two numbers & adds them in a new variable. Print the result.**\n",
    "\n",
    "Input Number 1: 13  \n",
    "Input Number 2: 9  \n",
    "Sum: 22\n"
   ]
  },
  {
   "cell_type": "code",
   "execution_count": 15,
   "metadata": {},
   "outputs": [
    {
     "name": "stdout",
     "output_type": "stream",
     "text": [
      "Input Number 1: 13\n",
      "Input Number 2: 9\n",
      "Sum: 22\n"
     ]
    }
   ],
   "source": [
    "num1 = int(input(\"Input Number 1: \"))\n",
    "num2 = int(input(\"Input Number 2: \"))\n",
    "\n",
    "sum = num1 + num2\n",
    "\n",
    "print(\"Sum:\", sum)"
   ]
  },
  {
   "cell_type": "markdown",
   "metadata": {},
   "source": [
    "**2. Repeat Q1 for subtraction, multiplication, division & modulus.**\n",
    "\n",
    "Input Number 1: 13  \n",
    "Input Number 2: 9  \n",
    "Sum: 22  \n",
    "Subtract: 4  \n",
    "Multiply: 117  \n",
    "Divide: 1.44  \n",
    "Modulus: 4\n"
   ]
  },
  {
   "cell_type": "code",
   "execution_count": 17,
   "metadata": {},
   "outputs": [
    {
     "name": "stdout",
     "output_type": "stream",
     "text": [
      "Input Number 1: 13\n",
      "Input Number 2: 9\n",
      "Sum: 22\n",
      "Subtract: 4\n",
      "Multiply: 117\n",
      "Divide: 1.44\n",
      "Modulus: 4\n"
     ]
    }
   ],
   "source": [
    "num1 = int(input(\"Input Number 1: \"))\n",
    "num2 = int(input(\"Input Number 2: \"))\n",
    "\n",
    "sum = num1 + num2\n",
    "subtract = num1 - num2\n",
    "multiply = num1 * num2\n",
    "divide = num1 / num2\n",
    "modulus = num1 % num2\n",
    "\n",
    "print(\"Sum:\", sum)\n",
    "print(\"Subtract:\", subtract)\n",
    "print(\"Multiply:\", multiply)\n",
    "print(\"Divide:\", round(divide, 2))\n",
    "print(\"Modulus:\", modulus)"
   ]
  },
  {
   "cell_type": "markdown",
   "metadata": {},
   "source": [
    "**3. Do the following using Mathematic Expressions**\n",
    "\n",
    "a) Declare a variable & Initialize the variable with some number.  \n",
    "b) Show the value of variable in your browser like “Initial value: 3”.  \n",
    "c) Add 7 to the variable.  \n",
    "d) Show the value of variable in your browser like “Value after addition is: 10”.  \n",
    "e) Show the remainder after dividing the variable’s value by 3. Output: “The remainder is: 1”.\n"
   ]
  },
  {
   "cell_type": "code",
   "execution_count": 18,
   "metadata": {},
   "outputs": [
    {
     "name": "stdout",
     "output_type": "stream",
     "text": [
      "Initial value:  3\n",
      "Value after addition is:  10\n",
      "The remainder is:  1\n"
     ]
    }
   ],
   "source": [
    "num = 3\n",
    "\n",
    "print(\"Initial value: \", num)\n",
    "\n",
    "num+=7\n",
    "\n",
    "print(\"Value after addition is: \", num)\n",
    "\n",
    "print(\"The remainder is: \", num%3)"
   ]
  },
  {
   "cell_type": "markdown",
   "metadata": {},
   "source": [
    "**4. Cost of one movie ticket is 600 PKR. Store ticket price in a variable & calculate the cost of buying 5 tickets to a movie.**\n",
    "\n",
    "Total Cost to buy 5 tickets to a movie is 3000 PKR\n"
   ]
  },
  {
   "cell_type": "code",
   "execution_count": 20,
   "metadata": {},
   "outputs": [
    {
     "name": "stdout",
     "output_type": "stream",
     "text": [
      "Total Cost to buy 5 tickets to a movie is 3000 PKR\n"
     ]
    }
   ],
   "source": [
    "price_of_ticket1 = 600\n",
    "print(f\"Total Cost to buy 5 tickets to a movie is {price_of_ticket1 * 5} PKR\")"
   ]
  },
  {
   "cell_type": "markdown",
   "metadata": {},
   "source": [
    "**5. Take input total marks & marks obtained by a student. Compute the percentage & print the result.**\n",
    "\n",
    "Marks Sheet  \n",
    "Total Marks: 1200  \n",
    "Marks Obtained: 900  \n",
    "Percentage: 75%\n"
   ]
  },
  {
   "cell_type": "code",
   "execution_count": 23,
   "metadata": {},
   "outputs": [
    {
     "name": "stdout",
     "output_type": "stream",
     "text": [
      "Enter total marks: 1200\n",
      "Enter obtained marks: 900\n",
      "\n",
      "\n",
      "Marks Sheet\n",
      "Total Marks: 1200\n",
      "Marks Obtained: 900\n",
      "Percentage: 75%\n"
     ]
    }
   ],
   "source": [
    "total_marks = int(input(\"Enter total marks: \"))\n",
    "obtained_marks = int(input(\"Enter obtained marks: \"))\n",
    "\n",
    "percentage = (obtained_marks/total_marks)*100\n",
    "\n",
    "print(\"\\n\")\n",
    "print(\"Marks Sheet\")\n",
    "print(\"Total Marks:\", total_marks)\n",
    "print(\"Marks Obtained:\", obtained_marks)\n",
    "print(f\"Percentage: {int(percentage)}%\")"
   ]
  },
  {
   "cell_type": "markdown",
   "metadata": {},
   "source": [
    "**6. Write a program to implement the checkout process of a shopping cart system for an e-commerce website. Store the following in variables:**\n",
    "\n",
    "a) Price of item 1  \n",
    "b) Price of item 2  \n",
    "c) Ordered quantity of item 1  \n",
    "d) Ordered quantity of item 2  \n",
    "e) Shipping charges  \n",
    "\n",
    "Compute the total cost & print the receipt.  \n",
    "\n",
    "**Shopping Cart**\n",
    "\n",
    "Price of Item#1 is 560  \n",
    "Quantity of Item#1 is 2  \n",
    "Price of Item#2 is 200  \n",
    "Quantity of Item#2 is 5  \n",
    "Shipping Charges: 150  \n",
    "\n",
    "**Total Cost of your order is 2270 PKR**\n"
   ]
  },
  {
   "cell_type": "code",
   "execution_count": 25,
   "metadata": {},
   "outputs": [
    {
     "name": "stdout",
     "output_type": "stream",
     "text": [
      "Shopping Cart\n",
      "\n",
      "Price of item#1 is 560\n",
      "Quantity of Item#1 is 2\n",
      "Price of Item#2 is 200\n",
      "Quantity of Item#2 is 5\n",
      "Shipping Charges: 150\n",
      "\n",
      "Total Cost of your order is 2270 PKR\n"
     ]
    }
   ],
   "source": [
    "item1_price = 560\n",
    "item1_quantity = 2\n",
    "item2_price = 200\n",
    "item2_quantity = 5\n",
    "shipping_charges = 150\n",
    "\n",
    "total_cost = (item1_price * item1_quantity) + (item2_price * item2_quantity) + shipping_charges\n",
    "\n",
    "print(f'''Shopping Cart\n",
    "\n",
    "Price of item#1 is {item1_price}\n",
    "Quantity of Item#1 is {item1_quantity}\n",
    "Price of Item#2 is {item2_price}\n",
    "Quantity of Item#2 is {item2_quantity}\n",
    "Shipping Charges: {shipping_charges}\n",
    "\n",
    "Total Cost of your order is {total_cost} PKR''')"
   ]
  },
  {
   "cell_type": "markdown",
   "metadata": {
    "id": "Z3zXDznyW5cE"
   },
   "source": [
    "---\n",
    "## **Control Structure**\n"
   ]
  },
  {
   "cell_type": "markdown",
   "metadata": {
    "id": "8veqQrUbOPsh"
   },
   "source": [
    "### **Conditional Statements**\n",
    "---"
   ]
  },
  {
   "cell_type": "markdown",
   "metadata": {},
   "source": [
    "**1. Write a program to check whether the given input number is divisible by 3 or else show a message “Number is not divisible by 3”.**\n"
   ]
  },
  {
   "cell_type": "code",
   "execution_count": 28,
   "metadata": {},
   "outputs": [
    {
     "name": "stdout",
     "output_type": "stream",
     "text": [
      "Enter a number: 10\n",
      "Number is not divisible by 3\n"
     ]
    }
   ],
   "source": [
    "number = int(input(\"Enter a number: \"))\n",
    "\n",
    "if number%3 == 0:\n",
    "    print(\"Number is divisible by 3\")\n",
    "else:\n",
    "    print(\"Number is not divisible by 3\")"
   ]
  },
  {
   "cell_type": "markdown",
   "metadata": {},
   "source": [
    "**2. Write a program that checks whether the given input is an even number or an odd number.**"
   ]
  },
  {
   "cell_type": "code",
   "execution_count": 30,
   "metadata": {},
   "outputs": [
    {
     "name": "stdout",
     "output_type": "stream",
     "text": [
      "Enter a number: 20\n",
      "20  is an even number\n"
     ]
    }
   ],
   "source": [
    "number = int(input(\"Enter a number: \"))\n",
    "\n",
    "if number%2 == 0:\n",
    "    print(number, \" is an even number\")\n",
    "else:\n",
    "    print(number, \" is an odd number\")"
   ]
  },
  {
   "cell_type": "markdown",
   "metadata": {},
   "source": [
    "**3. Write an if/else statement with the following condition:**\n",
    "\n",
    "If the variable `age` is greater than 18, output \"Old enough\", otherwise output \"Too young\".\n"
   ]
  },
  {
   "cell_type": "code",
   "execution_count": 31,
   "metadata": {},
   "outputs": [
    {
     "name": "stdout",
     "output_type": "stream",
     "text": [
      "Enter your age: 22\n",
      "Old enough\n"
     ]
    }
   ],
   "source": [
    "age = int(input(\"Enter your age: \"))\n",
    "\n",
    "if age > 18:\n",
    "    print(\"Old enough\")\n",
    "else:\n",
    "    print(\"Too young\")"
   ]
  },
  {
   "cell_type": "markdown",
   "metadata": {},
   "source": [
    "**4. Write a program that prompts the user for their name, and then displays a special greeting to that person if their name is the same as yours. If the name entered by the user is anything other than your name, your code should not produce any output.**"
   ]
  },
  {
   "cell_type": "code",
   "execution_count": 35,
   "metadata": {},
   "outputs": [
    {
     "name": "stdout",
     "output_type": "stream",
     "text": [
      "Enter your name: Ajmal\n"
     ]
    }
   ],
   "source": [
    "my_name = \"Mahmood Rasheed\"\n",
    "\n",
    "user_name = input(\"Enter your name: \")\n",
    "\n",
    "if user_name == my_name:\n",
    "    print(\"Greetings Dear\", user_name)\n",
    "else:\n",
    "    pass"
   ]
  },
  {
   "cell_type": "markdown",
   "metadata": {},
   "source": [
    "**5. Write a program that takes a calendar year in YYYY format in a variable. Check & notify the user whether it is a leap year or not.**"
   ]
  },
  {
   "cell_type": "code",
   "execution_count": 38,
   "metadata": {},
   "outputs": [
    {
     "name": "stdout",
     "output_type": "stream",
     "text": [
      "Enter a year in (YYYY) format: 2024\n",
      "2024 is a leap year\n"
     ]
    }
   ],
   "source": [
    "year = int(input(\"Enter a year in (YYYY) format: \"))\n",
    "\n",
    "if((year%4 == 0 and year%100 != 0) or year%400 == 0):\n",
    "    print(year, \"is a leap year\")\n",
    "else:\n",
    "    print(year, \"is not a leap year\")"
   ]
  },
  {
   "cell_type": "markdown",
   "metadata": {},
   "source": [
    "**6. Write a Python program that accepts two integers and displays the larger. Also, show if the two integers are equal.**"
   ]
  },
  {
   "cell_type": "code",
   "execution_count": 39,
   "metadata": {},
   "outputs": [
    {
     "name": "stdout",
     "output_type": "stream",
     "text": [
      "Enter number1: 5\n",
      "Enter number2: 3\n",
      "5 is the larger number\n"
     ]
    }
   ],
   "source": [
    "num1 = int(input(\"Enter number1: \"))\n",
    "num2 = int(input(\"Enter number2: \"))\n",
    "\n",
    "if num1 > num2:\n",
    "    print(num1, \"is the larger number\")\n",
    "elif num2 > num1:\n",
    "    print(num2, \"is the larger number\")\n",
    "else:\n",
    "    print(\"both numbers are equal\")"
   ]
  },
  {
   "cell_type": "markdown",
   "metadata": {},
   "source": [
    "**7. Write a program that takes a character (i.e., string of length 1) and returns true if it is a vowel, false otherwise.**"
   ]
  },
  {
   "cell_type": "code",
   "execution_count": 48,
   "metadata": {},
   "outputs": [
    {
     "name": "stdout",
     "output_type": "stream",
     "text": [
      "Enter a alphabet: a\n",
      "True\n"
     ]
    }
   ],
   "source": [
    "alpha = input(\"Enter a alphabet: \")\n",
    "\n",
    "if (alpha == 'a' or alpha == 'A' or alpha == 'e' or alpha == 'E' or\n",
    "    alpha == 'i' or alpha == 'I' or alpha == 'o' or alpha == 'O' or\n",
    "    alpha == 'u' or alpha == 'u'):\n",
    "    print(True)\n",
    "else:\n",
    "    print(False)"
   ]
  },
  {
   "cell_type": "markdown",
   "metadata": {},
   "source": [
    "**8. Write a program that**\n",
    "\n",
    "a) Stores the correct password in a variable.  \n",
    "b) Asks the user to enter his/her password.  \n",
    "c) Validates the two passwords:  \n",
    "            i. Check if the user has entered a password. If not, then give the message `\"Please enter your password\".`<br>\n",
    "            ii. Check if both passwords are the same. If they are the same, show the message `\"Correct! The password you entered matches the original password\".`<br>\n",
    "            iii. Show `\"Incorrect password\"` otherwise.\n"
   ]
  },
  {
   "cell_type": "code",
   "execution_count": 49,
   "metadata": {},
   "outputs": [
    {
     "name": "stdout",
     "output_type": "stream",
     "text": [
      "Please enter your password: Abc123\n",
      "Correct! The password you entered matches the original password\n"
     ]
    }
   ],
   "source": [
    "correct_password = \"Abc123\"\n",
    "user_password = input(\"Please enter your password: \")\n",
    "\n",
    "if user_password == correct_password:\n",
    "    print(\"Correct! The password you entered matches the original password\")\n",
    "else:\n",
    "    print(\"Incorrect password\")"
   ]
  },
  {
   "cell_type": "markdown",
   "metadata": {},
   "source": [
    "**9. Write a program to display the message “Hello World” 5 times in your browser using while and for loop.**"
   ]
  },
  {
   "cell_type": "code",
   "execution_count": 51,
   "metadata": {},
   "outputs": [
    {
     "name": "stdout",
     "output_type": "stream",
     "text": [
      "Using While Loop\n",
      "Hello World\n",
      "Hello World\n",
      "Hello World\n",
      "Hello World\n",
      "Hello World\n",
      "\n",
      "\n",
      "Using for loop\n",
      "Hello world\n",
      "Hello world\n",
      "Hello world\n",
      "Hello world\n",
      "Hello world\n"
     ]
    }
   ],
   "source": [
    "print(\"Using While Loop\")\n",
    "\n",
    "i = 1\n",
    "while i<=5:\n",
    "    print(\"Hello World\")\n",
    "    i+=1\n",
    "\n",
    "print(\"\\n\\nUsing for loop\")\n",
    "\n",
    "for i in range(5):\n",
    "    print(\"Hello world\")"
   ]
  },
  {
   "cell_type": "markdown",
   "metadata": {},
   "source": [
    "\n",
    "**10. Display numbers from a list using a for loop.**"
   ]
  },
  {
   "cell_type": "code",
   "execution_count": 52,
   "metadata": {},
   "outputs": [
    {
     "name": "stdout",
     "output_type": "stream",
     "text": [
      "5\n",
      "3\n",
      "7\n",
      "8\n",
      "1\n"
     ]
    }
   ],
   "source": [
    "numbers = [5, 3, 7, 8, 1]\n",
    "\n",
    "for number in numbers:\n",
    "    print(number)"
   ]
  },
  {
   "cell_type": "markdown",
   "metadata": {},
   "source": [
    "**11. Print a list in reverse order using a loop.**"
   ]
  },
  {
   "cell_type": "code",
   "execution_count": 53,
   "metadata": {},
   "outputs": [
    {
     "name": "stdout",
     "output_type": "stream",
     "text": [
      "1\n",
      "8\n",
      "7\n",
      "3\n",
      "5\n"
     ]
    }
   ],
   "source": [
    "for i in range(len(numbers)-1, -1, -1):\n",
    "    print(numbers[i])"
   ]
  },
  {
   "cell_type": "markdown",
   "metadata": {},
   "source": [
    "**12. Display the Fibonacci series up to 10 terms using a loop.**"
   ]
  },
  {
   "cell_type": "code",
   "execution_count": 56,
   "metadata": {},
   "outputs": [
    {
     "name": "stdout",
     "output_type": "stream",
     "text": [
      "Fibonacci series up to 10 terms: 1 1 2 3 5 8 13 21 34 55 "
     ]
    }
   ],
   "source": [
    "first_term = 1\n",
    "second_term = 1\n",
    "\n",
    "print(\"Fibonacci series up to 10 terms:\", first_term, second_term, end= \" \")\n",
    "\n",
    "for i in range(8):\n",
    "    \n",
    "    next_term = first_term + second_term\n",
    "    print(next_term, end = \" \")\n",
    "    \n",
    "    first_term = second_term\n",
    "    second_term = next_term"
   ]
  },
  {
   "cell_type": "markdown",
   "metadata": {},
   "source": [
    "**13. Use a loop to display elements from a given list present at odd index positions.**"
   ]
  },
  {
   "cell_type": "code",
   "execution_count": 58,
   "metadata": {},
   "outputs": [
    {
     "name": "stdout",
     "output_type": "stream",
     "text": [
      "5\n",
      "7\n",
      "9\n"
     ]
    }
   ],
   "source": [
    "num_list = [4, 5, 6, 7, 8, 9]\n",
    "\n",
    "for i in range(len(num_list)):\n",
    "    if(i%2 == 1):\n",
    "        print(num_list[i])"
   ]
  },
  {
   "cell_type": "markdown",
   "metadata": {},
   "source": [
    "**14. Write a program to enter numbers until the user enters zero, and at the end, display the count of positive and negative numbers entered.**"
   ]
  },
  {
   "cell_type": "code",
   "execution_count": 60,
   "metadata": {},
   "outputs": [
    {
     "name": "stdout",
     "output_type": "stream",
     "text": [
      "Enter a number: 9\n",
      "Enter a number: 98\n",
      "Enter a number: 53\n",
      "Enter a number: 7373\n",
      "Enter a number: 6563\n",
      "Enter a number: -273\n",
      "Enter a number: -38383\n",
      "Enter a number: -373\n",
      "Enter a number: -11\n",
      "Enter a number: 0\n",
      "The total positive numbers entered by user are: 5\n",
      "The total negative numbers entered by user are: 4\n"
     ]
    }
   ],
   "source": [
    "num_list = []\n",
    "\n",
    "while True:\n",
    "    \n",
    "    num = int(input(\"Enter a number: \"))\n",
    "    \n",
    "    if(num == 0):\n",
    "        break\n",
    "    \n",
    "    num_list.append(num)\n",
    "\n",
    "\n",
    "positive_counter = 0\n",
    "negative_counter = 0\n",
    "\n",
    "for number in num_list:\n",
    "    if number > 0:\n",
    "        positive_counter+=1\n",
    "    else:\n",
    "        negative_counter+=1\n",
    "\n",
    "print(\"The total positive numbers entered by user are:\", positive_counter)\n",
    "print(\"The total negative numbers entered by user are:\", negative_counter)"
   ]
  },
  {
   "cell_type": "markdown",
   "metadata": {},
   "source": [
    "**15. Write a program to print all the characters in the string 'PYTHON' using a loop.**"
   ]
  },
  {
   "cell_type": "code",
   "execution_count": 62,
   "metadata": {},
   "outputs": [
    {
     "name": "stdout",
     "output_type": "stream",
     "text": [
      "P\n",
      "Y\n",
      "T\n",
      "H\n",
      "O\n",
      "N\n"
     ]
    }
   ],
   "source": [
    "language = \"PYTHON\"\n",
    "\n",
    "for i in language:\n",
    "    print(i)"
   ]
  },
  {
   "cell_type": "markdown",
   "metadata": {},
   "source": [
    "**16. Write a program to repeatedly print the value of the variable num which is input by the user. Value should be decreasing by 0.5 each time, as long as the value remains positive.**\n",
    "\n",
    "Enter a number: 5  \n",
    "5, 4.5, 4, 3.5, 3, 2.5, 2, 1.5, 1, 0.5, 0"
   ]
  },
  {
   "cell_type": "code",
   "execution_count": 67,
   "metadata": {},
   "outputs": [
    {
     "name": "stdout",
     "output_type": "stream",
     "text": [
      "Enter a number: 5\n",
      "5, 4.5, 4.0, 3.5, 3.0, 2.5, 2.0, 1.5, 1.0, 0.5, 0\n"
     ]
    }
   ],
   "source": [
    "num = int(input(\"Enter a number: \"))\n",
    "\n",
    "while num >= 0:\n",
    "    if num == 0:\n",
    "        print(int(num))\n",
    "        break\n",
    "    \n",
    "    print(num, end= \", \")\n",
    "    num-=0.5"
   ]
  },
  {
   "cell_type": "markdown",
   "metadata": {
    "id": "fltLOerWIfx6"
   },
   "source": [
    "---\n",
    "### **Functions**\n",
    "---"
   ]
  },
  {
   "cell_type": "markdown",
   "metadata": {},
   "source": [
    "**1. Write a function that adds two numbers `(input by user)` and returns the sum of two numbers.**"
   ]
  },
  {
   "cell_type": "code",
   "execution_count": 68,
   "metadata": {},
   "outputs": [
    {
     "name": "stdout",
     "output_type": "stream",
     "text": [
      "Enter number1: 5\n",
      "Enter number2: 7\n"
     ]
    },
    {
     "data": {
      "text/plain": [
       "12"
      ]
     },
     "execution_count": 68,
     "metadata": {},
     "output_type": "execute_result"
    }
   ],
   "source": [
    "def add(num1, num2):\n",
    "    return num1+num2\n",
    "\n",
    "num1 = int(input(\"Enter number1: \"))\n",
    "num2 = int(input(\"Enter number2: \"))\n",
    "\n",
    "add(num1, num2)"
   ]
  },
  {
   "cell_type": "markdown",
   "metadata": {},
   "source": [
    "**2. Calculator:**\n",
    "\n",
    "Write a function that takes three arguments `num1`, `num2`, and `operator` and computes the desired operation. Return and show the desired result on your screen.\n"
   ]
  },
  {
   "cell_type": "code",
   "execution_count": 72,
   "metadata": {},
   "outputs": [
    {
     "name": "stdout",
     "output_type": "stream",
     "text": [
      "Enter number1: 7\n",
      "Enter number2: 9\n",
      "Enter operation(+,-,*,/, %): *\n",
      "Result= 63\n"
     ]
    }
   ],
   "source": [
    "def calculator(num1, num2, op):\n",
    "    if op == \"+\":\n",
    "        return num1+num2\n",
    "    elif op == \"-\":\n",
    "        return num1-num2\n",
    "    elif op == \"*\":\n",
    "        return num1*num2\n",
    "    elif op == \"/\":\n",
    "        return num1/num2\n",
    "    elif op == \"%\":\n",
    "        return num1%num2\n",
    "    else:\n",
    "        return op\n",
    "\n",
    "num1 = eval(input(\"Enter number1: \"))\n",
    "num2 = eval(input(\"Enter number2: \"))\n",
    "op = input(\"Enter operation(+,-,*,/, %): \")\n",
    "\n",
    "result = calculator(num1, num2, op)\n",
    "\n",
    "if result == op:\n",
    "    print(\"Invalid operand\")\n",
    "else:\n",
    "    print(\"Result=\", result)"
   ]
  },
  {
   "cell_type": "markdown",
   "metadata": {},
   "source": [
    "**3. Write a function that squares its argument.**"
   ]
  },
  {
   "cell_type": "code",
   "execution_count": 74,
   "metadata": {},
   "outputs": [
    {
     "name": "stdout",
     "output_type": "stream",
     "text": [
      "Enter a number: 6\n",
      "6^2 = 36\n"
     ]
    }
   ],
   "source": [
    "def square(num):\n",
    "    return num**2\n",
    "\n",
    "num = eval(input(\"Enter a number: \"))\n",
    "\n",
    "print(f\"{num}^2 = {square(num)}\")"
   ]
  },
  {
   "cell_type": "markdown",
   "metadata": {},
   "source": [
    "**4. Write a function that calculates the area of a rectangle.**\n",
    "\n",
    "*A = width * height*\n",
    "\n",
    "`Pass width and height in the following manner:`<br>\n",
    "``a) Arguments as values``<br>\n",
    "``b) Arguments as variables``<br>\n"
   ]
  },
  {
   "cell_type": "code",
   "execution_count": 1,
   "metadata": {},
   "outputs": [
    {
     "name": "stdout",
     "output_type": "stream",
     "text": [
      "Area with values: 40\n",
      "Area with variables: 50\n"
     ]
    }
   ],
   "source": [
    "def area_of_rectangle(length, width):\n",
    "    return length*width\n",
    "\n",
    "length = 10\n",
    "width = 5\n",
    "\n",
    "print(\"Area with values:\", area_of_rectangle(5, 8))\n",
    "print(\"Area with variables:\", area_of_rectangle(length, width))"
   ]
  },
  {
   "cell_type": "markdown",
   "metadata": {},
   "source": [
    "**5. Create 2 functions that calculate properties of a circle, using the definitions here.**\n",
    "\n",
    "a) Create a function called `calcCircumference`:\n",
    "   * Pass the radius to the function.\n",
    "   * Calculate the circumference based on the radius, and output \"The circumference is NN\".\n",
    "\n",
    "b) Create a function called `calcArea`:\n",
    "   * Pass the radius to the function.\n",
    "   * Calculate the area based on the radius, and output \"The area is NN\".\n"
   ]
  },
  {
   "cell_type": "code",
   "execution_count": 2,
   "metadata": {},
   "outputs": [
    {
     "name": "stdout",
     "output_type": "stream",
     "text": [
      "Circumference of circle=  31.41592653589793\n",
      "Area of Circle = 78.53981633974483\n"
     ]
    }
   ],
   "source": [
    "import math\n",
    "def calcCircumference(radius):\n",
    "    return ((2*math.pi)*radius)\n",
    "\n",
    "def calcArea(radius):\n",
    "    return (math.pi*(radius**2))\n",
    "\n",
    "print(\"Circumference of circle= \", calcCircumference(5))\n",
    "print(\"Area of Circle =\", calcArea(5))"
   ]
  },
  {
   "cell_type": "markdown",
   "metadata": {},
   "source": [
    "**6. Write a Python program to create a lambda function that adds 15 to a given number passed in as an argument. Also, create a lambda function that multiplies argument x with argument y and prints the result.**"
   ]
  },
  {
   "cell_type": "code",
   "execution_count": 3,
   "metadata": {},
   "outputs": [
    {
     "name": "stdout",
     "output_type": "stream",
     "text": [
      "Addition=  25\n",
      "Multiplication = 30\n"
     ]
    }
   ],
   "source": [
    "add = lambda a: a+15 \n",
    "mul = lambda x,y: x * y\n",
    "\n",
    "print(\"Addition= \", add(10))\n",
    "print(\"Multiplication =\", mul(5,6))"
   ]
  },
  {
   "cell_type": "markdown",
   "metadata": {},
   "source": [
    "**7. Write a Python program to sort a list of tuples using Lambda.**"
   ]
  },
  {
   "cell_type": "code",
   "execution_count": 4,
   "metadata": {},
   "outputs": [
    {
     "name": "stdout",
     "output_type": "stream",
     "text": [
      "After sort:  [(1, 9, 8), (3, 5, 7), (5, 4, 6)]\n"
     ]
    }
   ],
   "source": [
    "data = [(5,4,6), (3,5,7), (1,9,8)]\n",
    "\n",
    "data.sort(key = lambda data: data)\n",
    "\n",
    "print(\"After sort: \", data)"
   ]
  },
  {
   "cell_type": "markdown",
   "metadata": {},
   "source": [
    "**8. Check if a number is even or odd using a lambda function.**"
   ]
  },
  {
   "cell_type": "code",
   "execution_count": 5,
   "metadata": {},
   "outputs": [
    {
     "name": "stdout",
     "output_type": "stream",
     "text": [
      "5 is an Odd Number\n"
     ]
    }
   ],
   "source": [
    "even_odd = lambda num : \"Even\" if num%2 == 0 else \"Odd\"\n",
    "\n",
    "print(f\"5 is an {even_odd(5)} Number\")"
   ]
  },
  {
   "cell_type": "markdown",
   "metadata": {},
   "source": [
    "**9. Given a list of numbers, find all numbers divisible by 13 using `filter()` and a lambda function.**"
   ]
  },
  {
   "cell_type": "code",
   "execution_count": 6,
   "metadata": {},
   "outputs": [
    {
     "name": "stdout",
     "output_type": "stream",
     "text": [
      "[26, 39, 52]\n"
     ]
    }
   ],
   "source": [
    "num_list = [23, 26, 36, 39, 45, 52]\n",
    "\n",
    "num_divisible_by_13 = list(filter(lambda num: num%13 == 0, num_list))\n",
    "\n",
    "print(num_divisible_by_13)"
   ]
  },
  {
   "cell_type": "markdown",
   "metadata": {
    "id": "NpqCUBpvJBFJ"
   },
   "source": [
    "**10. Print Fibonacci series using recursion.**"
   ]
  },
  {
   "cell_type": "code",
   "execution_count": 7,
   "metadata": {},
   "outputs": [
    {
     "name": "stdout",
     "output_type": "stream",
     "text": [
      "1 1 2 3 5 8 13 21 34 55 89 \n"
     ]
    }
   ],
   "source": [
    "def fibonacci_series(number_of_terms, first=1, second=1):\n",
    "    \n",
    "    if number_of_terms < 0:\n",
    "        return \"\"\n",
    "    \n",
    "    print(first, end=\" \")\n",
    "\n",
    "    return fibonacci_series(number_of_terms-1, second, first + second)\n",
    "\n",
    "print(fibonacci_series(10))\n"
   ]
  },
  {
   "cell_type": "markdown",
   "metadata": {
    "id": "o_k4WDwwXnZD"
   },
   "source": [
    "---\n",
    "### **OOP**\n",
    "---"
   ]
  },
  {
   "cell_type": "markdown",
   "metadata": {},
   "source": [
    "**1. Write a Python program to create a Vehicle class with max_speed and mileage instance attributes.**"
   ]
  },
  {
   "cell_type": "code",
   "execution_count": 8,
   "metadata": {},
   "outputs": [],
   "source": [
    "class Vehicle:\n",
    "    def __init__(self, max_speed, mileage):\n",
    "        self.max_speed = max_speed\n",
    "        self.mileage = mileage"
   ]
  },
  {
   "cell_type": "markdown",
   "metadata": {},
   "source": [
    "**2. Create a child class Bus that will inherit all of the variables and methods of the Vehicle class.**\n",
    "\n",
    "Given:\n",
    "\n",
    "```python\n",
    "class Vehicle:\n",
    "    def __init__(self, name, max_speed, mileage):\n",
    "        self.name = name\n",
    "        self.max_speed = max_speed\n",
    "        self.mileage = mileage\n",
    "```\n",
    "Create a Bus object that will inherit all of the variables and methods of the parent Vehicle class and display it.\n",
    "\n",
    "**Expected Output:**\n",
    "`Vehicle Name: School Volvo Speed: 180 Mileage: 12`"
   ]
  },
  {
   "cell_type": "code",
   "execution_count": 9,
   "metadata": {},
   "outputs": [
    {
     "name": "stdout",
     "output_type": "stream",
     "text": [
      "Vehicle Name: School Volvo Speed: 180 Mileage: 12\n"
     ]
    }
   ],
   "source": [
    "class Vehicle:\n",
    "    def __init__(self, name, max_speed, mileage):\n",
    "        self.name = name\n",
    "        self.max_speed = max_speed\n",
    "        self.mileage = mileage\n",
    "\n",
    "    def display_info(self):\n",
    "        print(f\"Vehicle Name: {self.name} Speed: {self.max_speed} Mileage: {self.mileage}\")\n",
    "\n",
    "class Bus(Vehicle):\n",
    "    pass\n",
    "\n",
    "bus = Bus(\"School Volvo\", 180, 12)\n",
    "bus.display_info()"
   ]
  },
  {
   "cell_type": "markdown",
   "metadata": {},
   "source": []
  },
  {
   "cell_type": "markdown",
   "metadata": {},
   "source": [
    "**3. Write a Python program to create a class representing a shopping cart. Include methods for adding and removing items, and calculating the total price.**\n"
   ]
  },
  {
   "cell_type": "code",
   "execution_count": 10,
   "metadata": {},
   "outputs": [
    {
     "name": "stdout",
     "output_type": "stream",
     "text": [
      "Total Price=  5500\n"
     ]
    }
   ],
   "source": [
    "class ShoppingCart:\n",
    "    items= dict()\n",
    "    \n",
    "    def add_item(self, item, price_per_item, quantity):\n",
    "        self.items.update({item: [price_per_item, quantity]})\n",
    "    \n",
    "    def remove_item(self, item):\n",
    "        if item in self.items.keys() :\n",
    "            self.items.pop(item)\n",
    "        else:\n",
    "            print(item, \"does not exist\")\n",
    "    \n",
    "    def total_price(self):\n",
    "        total = 0\n",
    "        \n",
    "        for price_and_qty in self.items.values():\n",
    "            total+=(price_and_qty[0] * price_and_qty[1])\n",
    "\n",
    "        print(\"Total Price= \", total)\n",
    "\n",
    "cart = ShoppingCart()\n",
    "\n",
    "cart.add_item(\"Shirt\", 500, 5)\n",
    "cart.add_item(\"Paint\", 1000, 3)\n",
    "cart.add_item(\"Cap\", 200, 1)\n",
    "\n",
    "cart.remove_item(\"Cap\")\n",
    "\n",
    "cart.total_price()"
   ]
  },
  {
   "cell_type": "markdown",
   "metadata": {},
   "source": [
    "**4. Write a Python program to create a class representing a bank. Include methods for managing customer accounts and transactions.**\n"
   ]
  },
  {
   "cell_type": "code",
   "execution_count": 11,
   "metadata": {},
   "outputs": [
    {
     "name": "stdout",
     "output_type": "stream",
     "text": [
      "\n",
      "1-Deposit amount\n",
      "2-Withdraw amount\n",
      "3-Check Amount\n",
      "4-Exit\n",
      "\n",
      "Enter your choice:1\n",
      "Enter amount: 5000\n",
      "Amount deposited successfully, now your current balance is:  5000\n",
      "\n",
      "1-Deposit amount\n",
      "2-Withdraw amount\n",
      "3-Check Amount\n",
      "4-Exit\n",
      "\n",
      "Enter your choice:2\n",
      "Enter amount: 3000\n",
      "Your current balance is:  2000\n",
      "\n",
      "1-Deposit amount\n",
      "2-Withdraw amount\n",
      "3-Check Amount\n",
      "4-Exit\n",
      "\n",
      "Enter your choice:2\n",
      "Enter amount: 3000\n",
      "You cann't withdraw the more amount than your deposited amount.\n",
      "Your current balance is:  2000\n",
      "\n",
      "1-Deposit amount\n",
      "2-Withdraw amount\n",
      "3-Check Amount\n",
      "4-Exit\n",
      "\n",
      "Enter your choice:3\n",
      "Your current balance is:  2000\n",
      "\n",
      "1-Deposit amount\n",
      "2-Withdraw amount\n",
      "3-Check Amount\n",
      "4-Exit\n",
      "\n",
      "Enter your choice:5\n",
      "Invalid operand\n",
      "\n",
      "1-Deposit amount\n",
      "2-Withdraw amount\n",
      "3-Check Amount\n",
      "4-Exit\n",
      "\n",
      "Enter your choice:4\n"
     ]
    }
   ],
   "source": [
    "class Bank:\n",
    "    amount = 0\n",
    "\n",
    "    def depositAmount(self, amount):\n",
    "        self.amount += amount\n",
    "        print(\"Amount deposited successfully, now your current balance is: \", amount)\n",
    "    \n",
    "    def withdrawAmount(self, amount):\n",
    "        if amount > self.amount:\n",
    "            print(\"You cann't withdraw the more amount than your deposited amount.\")\n",
    "            print(\"Your current balance is: \", self.amount)\n",
    "        else:\n",
    "            self.amount-=amount\n",
    "            print(\"Your current balance is: \", self.amount)\n",
    "    \n",
    "    def showAmount(self):\n",
    "        print(\"Your current balance is: \", self.amount)\n",
    "\n",
    "bank = Bank()\n",
    "while True:\n",
    "\n",
    "    print('''\n",
    "1-Deposit amount\n",
    "2-Withdraw amount\n",
    "3-Check Amount\n",
    "4-Exit\n",
    "''')\n",
    "    choice = int(input(\"Enter your choice:\"))\n",
    "\n",
    "    if choice ==  1:\n",
    "        amount = int(input(\"Enter amount: \"))\n",
    "        bank.depositAmount(amount)\n",
    "    elif choice == 2:\n",
    "        amount = int(input(\"Enter amount: \"))\n",
    "        bank.withdrawAmount(amount)\n",
    "    elif choice == 3:\n",
    "        bank.showAmount()\n",
    "    elif choice == 4:\n",
    "        break\n",
    "    else:\n",
    "        print(\"Invalid operand\")"
   ]
  },
  {
   "cell_type": "markdown",
   "metadata": {
    "id": "ZcxPDSvP-xs_"
   },
   "source": [
    "---\n",
    "### **File Handling**\n",
    "---"
   ]
  },
  {
   "cell_type": "markdown",
   "metadata": {},
   "source": [
    "**1. Write a function in Python to read the content from a text file \"your_file.txt\" line by line and display the same on the screen.**"
   ]
  },
  {
   "cell_type": "code",
   "execution_count": 12,
   "metadata": {},
   "outputs": [
    {
     "name": "stdout",
     "output_type": "stream",
     "text": [
      "Baa, baa, black sheep\n",
      "\n",
      "Have you any wool?\n",
      "\n",
      "Yes sir, yes sir, three bags full.\n",
      "\n",
      "One for the master,\n",
      "\n",
      "And one for the dame,\n",
      "\n",
      "And one for the little boy\n",
      "\n",
      "Who lives down the lane.\n",
      "\n"
     ]
    }
   ],
   "source": [
    "try:\n",
    "    file = open(\"your_file.txt\")\n",
    "    \n",
    "    for line in file:\n",
    "        print(line)\n",
    "    \n",
    "    file.close()\n",
    "\n",
    "except Exception as e:\n",
    "    print(e)"
   ]
  },
  {
   "cell_type": "markdown",
   "metadata": {},
   "source": [
    "**2. Write a function in Python to count the number of lines from a text file \"story.txt\" which do not start with an alphabet \"T\".**"
   ]
  },
  {
   "cell_type": "code",
   "execution_count": 19,
   "metadata": {},
   "outputs": [
    {
     "name": "stdout",
     "output_type": "stream",
     "text": [
      "Total number of lines, which do not start with an alphabet T are:  11\n"
     ]
    }
   ],
   "source": [
    "# count if line does not start with \"T\"\n",
    "not_t_counter = 0\n",
    "\n",
    "try:\n",
    "    file = open(\"story.txt\")\n",
    "    \n",
    "    for line in file:\n",
    "            \n",
    "            # get all words from the line\n",
    "            words = line.split(\" \")\n",
    "\n",
    "            # check first letter of first word of line\n",
    "            if words[0][0] != \"T\":\n",
    "                not_t_counter+=1\n",
    "\n",
    "    print(\"Total number of lines, which do not start with an alphabet T are: \", not_t_counter)\n",
    "    file.close()\n",
    "except Exception as e:\n",
    "    print(e)"
   ]
  },
  {
   "cell_type": "markdown",
   "metadata": {},
   "source": [
    "**3. Write a function in Python to count and display the total number of words in a text file.**"
   ]
  },
  {
   "cell_type": "code",
   "execution_count": 32,
   "metadata": {},
   "outputs": [
    {
     "name": "stdout",
     "output_type": "stream",
     "text": [
      "Total number of words in story.txt are:  179\n"
     ]
    }
   ],
   "source": [
    "# count number of words\n",
    "word_counter = 0\n",
    "\n",
    "alpha_list = \"abcdefghijklmnopqrstuvwxyzABCDEFGHIJKLMNOPQRSTUVWXYZ\"\n",
    "\n",
    "try:\n",
    "    file = open(\"story.txt\")\n",
    "    \n",
    "    for line in file:\n",
    "            \n",
    "            # get all words from the line\n",
    "            words = line.split(\" \")\n",
    "            \n",
    "            for word in words:\n",
    "                if word[0] in alpha_list:\n",
    "                    word_counter+= 1\n",
    "\n",
    "    print(\"Total number of words in story.txt are: \", word_counter)\n",
    "    file.close()\n",
    "except Exception as e:\n",
    "    print(e)"
   ]
  },
  {
   "cell_type": "markdown",
   "metadata": {},
   "source": [
    "**4. Write a function in Python to read lines from a text file \"notes.txt\". Your function should find and display the occurrence of the word \"the\".**"
   ]
  },
  {
   "cell_type": "code",
   "execution_count": 36,
   "metadata": {},
   "outputs": [
    {
     "name": "stdout",
     "output_type": "stream",
     "text": [
      "Total number of words in story.txt are:  10\n"
     ]
    }
   ],
   "source": [
    "def find_occourance(word_to_find):\n",
    "    word_counter = 0\n",
    "\n",
    "    try:\n",
    "        file = open(\"story.txt\")\n",
    "\n",
    "        for line in file:\n",
    "\n",
    "                # get all words from the line\n",
    "                words = line.split(\" \")\n",
    "\n",
    "                for word in words:\n",
    "                    if word == word_to_find:\n",
    "                        word_counter+= 1\n",
    "\n",
    "        print(\"Total number of words in story.txt are: \", word_counter)\n",
    "        file.close()\n",
    "    except Exception as e:\n",
    "        print(e)\n",
    "\n",
    "find_occourance(\"the\")"
   ]
  },
  {
   "cell_type": "markdown",
   "metadata": {},
   "source": [
    "**5. A text file named \"matter.txt\" contains some text, which needs to be displayed such that every next character is separated by a symbol \"#\". Write a function definition for `hash_display()` in Python that would display the entire content of the file matter.txt in the desired format.**"
   ]
  },
  {
   "cell_type": "code",
   "execution_count": 2,
   "metadata": {},
   "outputs": [
    {
     "name": "stdout",
     "output_type": "stream",
     "text": [
      "The#Boy#Who#Cried#Wolf\n",
      "There#once#was#a#boy#who#grew#bored#while#watching#over#the#village#sheep.\n",
      "He#wanted#to#make#things#more#exciting.#So,#he#yelled#out#that#he#saw#a#wolf\n",
      "chasing#the#sheep.#All#the#villagers#came#running#to#drive#the#wolf#away.#However,#they#saw#no#wolf.#The#boy#was#amused,#but#the#villagers#were#not.#They#told#him#not#to#do#it#again.#Shortly#after,#he#repeated#this#antic.#The#villagers#came#running#again,#only#to#find#that#he#was#lying.#Later#that#day,#the#boy#really#sees#a#wolf#sneaking#amongst#the#flock.#He#jumped#up#and#called#out#for#help.#But#no#one#came#this#time#because#they#thought#he#was#still#joking#around.#At#sunset,#the#villagers#looked\n",
      "for#the#boy.#He#had#not#returned#with#their#sheep.#They#found#him#crying.\n",
      "He#told#them#that#there#really#was#a#wolf,#and#the#entire#flock#was#gone.#An#old#man#came#to#comfort#him#and#told#him#that#nobody#would#believe#a#liar#even#when#they#are#being#honest."
     ]
    }
   ],
   "source": [
    "def hash_display():\n",
    "    \n",
    "    try:\n",
    "        file = open(\"story.txt\")\n",
    "        \n",
    "        alpha_list = \"abcdefghijklmnopqrstuvwxyzABCDEFGHIJKLMNOPQRSTUVWXYZ\"\n",
    "\n",
    "        for line in file:\n",
    "\n",
    "                # get all words from the line\n",
    "                words = line.split(\" \")\n",
    "\n",
    "                for word in words:\n",
    "                    if word[0] in alpha_list:\n",
    "                        if words.index(word) == len(words)-1:\n",
    "                            print(f\"{word}\", end = \"\")\n",
    "                        else:\n",
    "                            print(f\"{word}#\", end = \"\")\n",
    "\n",
    "        file.close()\n",
    "    except Exception as e:\n",
    "        print(e)\n",
    "\n",
    "hash_display()"
   ]
  },
  {
   "cell_type": "markdown",
   "metadata": {},
   "source": [
    "**6. Write a Python program that reads content from one file and writes it into another file.**"
   ]
  },
  {
   "cell_type": "code",
   "execution_count": 4,
   "metadata": {},
   "outputs": [
    {
     "name": "stdout",
     "output_type": "stream",
     "text": [
      "New file story2.txt has been created from story.txt file\n"
     ]
    }
   ],
   "source": [
    "try:\n",
    "        file1 = open(\"story.txt\", \"r\")\n",
    "       \n",
    "        file2 = open(\"story2.txt\", \"w\")\n",
    "        \n",
    "        file2.write(file1.read())\n",
    "        \n",
    "        file1.close()\n",
    "        file2.close()\n",
    "        \n",
    "        print(\"New file story2.txt has been created from story.txt file\")\n",
    "\n",
    "except Exception as e:\n",
    "        print(e)"
   ]
  },
  {
   "cell_type": "markdown",
   "metadata": {},
   "source": [
    "**7. Write a Python program to find the most repeated word in a text file.**"
   ]
  },
  {
   "cell_type": "code",
   "execution_count": 11,
   "metadata": {},
   "outputs": [
    {
     "name": "stdout",
     "output_type": "stream",
     "text": [
      "The most repeated word is 'the'\n",
      "It is occoured '10' times in this file\n"
     ]
    }
   ],
   "source": [
    "word_counter = []\n",
    "words_list = []\n",
    "\n",
    "try:\n",
    "    file = open(\"story.txt\")\n",
    "\n",
    "    alpha_list = \"abcdefghijklmnopqrstuvwxyzABCDEFGHIJKLMNOPQRSTUVWXYZ\"\n",
    "\n",
    "    for line in file:\n",
    "\n",
    "        # get all words from the line\n",
    "        words = line.split(\" \")\n",
    "\n",
    "        for word in words:\n",
    "            # check that first letter of word is an alphabet?\n",
    "            if word[0] in alpha_list:\n",
    "                # if word is present in the words_list then increase its occourance number\n",
    "                # if word is not present in the words_list then add it in words_list and\n",
    "                # add its occourencce as 1 in word_counter list\n",
    "                if word in words_list:\n",
    "                    index = words_list.index(word)\n",
    "                    word_counter[index]+=1\n",
    "                else:\n",
    "                    words_list.append(word)\n",
    "                    word_counter.append(1)\n",
    "\n",
    "    # find maximum number from word_counter list\n",
    "    most_repeated = max(word_counter)\n",
    "    \n",
    "    # find index of most occoured word\n",
    "    index_of_most_repeated =word_counter.index(most_repeated)\n",
    "\n",
    "    print(f\"The most repeated word is '{words_list[index_of_most_repeated]}'\")\n",
    "    print(f\"It is occoured '{most_repeated}' times in this file\")\n",
    "\n",
    "\n",
    "\n",
    "    file.close()\n",
    "    \n",
    "except Exception as e:\n",
    "        print(e)"
   ]
  },
  {
   "cell_type": "markdown",
   "metadata": {},
   "source": [
    "**8. Write a Python program to read specific lines from a file in Python.**\n"
   ]
  },
  {
   "cell_type": "code",
   "execution_count": 16,
   "metadata": {},
   "outputs": [
    {
     "name": "stdout",
     "output_type": "stream",
     "text": [
      "reading from line 6 to 10: \n",
      "\n",
      "\n",
      "However, they saw no wolf. The boy was amused, but the villagers were not. \n",
      "\n",
      "They told him not to do it again. Shortly after, he repeated this antic. \n",
      "\n",
      "The villagers came running again, only to find that he was lying. \n",
      "\n",
      "Later that day, the boy really sees a wolf sneaking amongst the flock. \n",
      "\n",
      "He jumped up and called out for help. But no one came this time because \n",
      "\n"
     ]
    }
   ],
   "source": [
    "try:\n",
    "    file = open(\"story.txt\", \"r\")\n",
    "    \n",
    "    line_counter = 0\n",
    "    \n",
    "    print(\"reading from line 6 to 10: \\n\\n\")\n",
    "    \n",
    "    for line in file:\n",
    "        line_counter+=1\n",
    "        \n",
    "        if 6<=line_counter<=10:\n",
    "            print(line)\n",
    "    \n",
    "except Exception as e:\n",
    "    print(e)\n",
    "    "
   ]
  },
  {
   "cell_type": "markdown",
   "metadata": {},
   "source": [
    "**9. A binary file \"Book.dat\" has the structure [BookNo, Book_Name, Author, Price].**\n",
    "\n",
    "i. Write a user-defined function `createFile()` to input data for a record and add it to Book.dat.  \n",
    "ii. Write a function `countRec(Author)` in Python which accepts the Author name as a parameter and counts and returns the number of books by the given Author stored in the binary file \"Book.dat\".\n"
   ]
  },
  {
   "cell_type": "code",
   "execution_count": 6,
   "metadata": {},
   "outputs": [
    {
     "name": "stdout",
     "output_type": "stream",
     "text": [
      "Press 1 to add a book\n",
      "Press 2 to check how many books written by author\n",
      "Press 3 to Exit\n",
      "Enter your choice: 1\n",
      "Enter BookNo: 1\n",
      "Enter Book_Name: Py\n",
      "Enter Author: Mahmood\n",
      "Enter Price: 3000\n",
      "Press 1 to add a book\n",
      "Press 2 to check how many books written by author\n",
      "Press 3 to Exit\n",
      "Enter your choice: 2\n",
      "Enter author name: Mahmood\n",
      "Mahmood had written 1 Books.\n",
      "Press 1 to add a book\n",
      "Press 2 to check how many books written by author\n",
      "Press 3 to Exit\n",
      "Enter your choice: 1\n",
      "Enter BookNo: 3\n",
      "Enter Book_Name: Python\n",
      "Enter Author: Mahmood\n",
      "Enter Price: 800\n",
      "Press 1 to add a book\n",
      "Press 2 to check how many books written by author\n",
      "Press 3 to Exit\n",
      "Enter your choice: 2\n",
      "Enter author name: Mahmood\n",
      "Mahmood had written 2 Books.\n",
      "Press 1 to add a book\n",
      "Press 2 to check how many books written by author\n",
      "Press 3 to Exit\n",
      "Enter your choice: 3\n"
     ]
    }
   ],
   "source": [
    "import pickle as pkl\n",
    "\n",
    "def createFile():\n",
    "\n",
    "    try:\n",
    "    \n",
    "        file = open(\"Book.dat\", \"ab+\")    \n",
    "\n",
    "        book_no = int(input(\"Enter BookNo: \"))\n",
    "        book_name = input(\"Enter Book_Name: \")\n",
    "        book_author = input(\"Enter Author: \")\n",
    "        book_price = int(input(\"Enter Price: \"))\n",
    "\n",
    "        book_data = [book_no, book_name, book_author, book_price]  \n",
    "\n",
    "        pkl.dump(book_data, file)\n",
    "\n",
    "        file.close()\n",
    "\n",
    "    except Exception as e:\n",
    "        print(e)\n",
    "\n",
    "def countRec(author):\n",
    "    \n",
    "    book_counter = 0\n",
    "    \n",
    "    try:\n",
    "        \n",
    "        file = open(\"Book.dat\", \"rb\")\n",
    "        \n",
    "        while True:\n",
    "            try:\n",
    "        \n",
    "                book_data = pkl.load(file)\n",
    "                \n",
    "                if book_data[2] == author:\n",
    "                    book_counter+=1\n",
    "            except:\n",
    "                break\n",
    "            \n",
    "    \n",
    "        print(f\"{author} had written {book_counter} Books.\")\n",
    "\n",
    "        file.close()\n",
    "        \n",
    "    except Exception as e:\n",
    "        print(e)\n",
    "        \n",
    "\n",
    "while True:\n",
    "    \n",
    "    print(\"Press 1 to add a book\")\n",
    "    print(\"Press 2 to check how many books written by author\")\n",
    "    print(\"Press 3 to Exit\")\n",
    "    \n",
    "    choice = int(input(\"Enter your choice: \"))\n",
    "    \n",
    "    if choice == 1:\n",
    "        createFile()\n",
    "    elif choice == 2:\n",
    "        author = input(\"Enter author name: \")\n",
    "        countRec(author)\n",
    "    elif choice == 3:\n",
    "        break\n",
    "    else:\n",
    "        print(\"Invalid choice\")"
   ]
  },
  {
   "cell_type": "markdown",
   "metadata": {},
   "source": [
    "---\n",
    "### **Exception Handling**\n",
    "---"
   ]
  },
  {
   "cell_type": "markdown",
   "metadata": {},
   "source": [
    "**1. Write a Python program to handle a ZeroDivisionError exception when dividing a number by zero.**"
   ]
  },
  {
   "cell_type": "code",
   "execution_count": 8,
   "metadata": {},
   "outputs": [
    {
     "name": "stdout",
     "output_type": "stream",
     "text": [
      "Error: You can not divide a number by zero\n"
     ]
    }
   ],
   "source": [
    "try:\n",
    "    num1 = 15\n",
    "    num2 = 0\n",
    "    result = num1/num2\n",
    "    \n",
    "    print(result)\n",
    "except ZeroDivisionError as e:\n",
    "    print(\"Error: You can not divide a number by zero\")"
   ]
  },
  {
   "cell_type": "markdown",
   "metadata": {},
   "source": [
    "**2. Write a Python program that prompts the user to input an integer and raises a ValueError exception if the input is not a valid integer.**"
   ]
  },
  {
   "cell_type": "code",
   "execution_count": 9,
   "metadata": {},
   "outputs": [
    {
     "name": "stdout",
     "output_type": "stream",
     "text": [
      "Enter a number:a\n",
      "invalid literal for int() with base 10: 'a'\n"
     ]
    }
   ],
   "source": [
    "try:\n",
    "    num = int(input(\"Enter a number:\"))\n",
    "except ValueError as e:\n",
    "    print(e)"
   ]
  },
  {
   "cell_type": "markdown",
   "metadata": {},
   "source": [
    "**3. Write a Python program that opens a file and handles a FileNotFoundError exception if the file does not exist.**"
   ]
  },
  {
   "cell_type": "code",
   "execution_count": 10,
   "metadata": {},
   "outputs": [
    {
     "name": "stdout",
     "output_type": "stream",
     "text": [
      "[Errno 2] No such file or directory: 'data.txt'\n"
     ]
    }
   ],
   "source": [
    "try:\n",
    "    file = open(\"data.txt\", \"r\")\n",
    "except FileNotFoundError as e:\n",
    "    print(e)"
   ]
  },
  {
   "cell_type": "markdown",
   "metadata": {},
   "source": [
    "**4. Write a Python program that prompts the user to input two numbers and raises a TypeError exception if the inputs are not numerical.**"
   ]
  },
  {
   "cell_type": "code",
   "execution_count": 13,
   "metadata": {},
   "outputs": [
    {
     "name": "stdout",
     "output_type": "stream",
     "text": [
      "Enter a number1:3\n",
      "Enter a number2:\"3\"\n",
      "unsupported operand type(s) for +: 'int' and 'str'\n"
     ]
    }
   ],
   "source": [
    "try:\n",
    "    num1 = int(input(\"Enter a number1:\"))\n",
    "    num2 = input(\"Enter a number2:\")\n",
    "    \n",
    "    result = num1 + num2\n",
    "    print(result)\n",
    "except TypeError as e:\n",
    "    print(e)"
   ]
  },
  {
   "cell_type": "markdown",
   "metadata": {},
   "source": [
    "**5. Write a Python program that executes an operation on a list and handles an IndexError exception if the index is out of range.**"
   ]
  },
  {
   "cell_type": "code",
   "execution_count": 15,
   "metadata": {},
   "outputs": [
    {
     "name": "stdout",
     "output_type": "stream",
     "text": [
      "list index out of range\n"
     ]
    }
   ],
   "source": [
    "try:\n",
    "    numbers = [1, 2, 3, 4, 5]    \n",
    "    print(numbers[5])\n",
    "except IndexError as e:\n",
    "    print(e)"
   ]
  },
  {
   "cell_type": "markdown",
   "metadata": {},
   "source": [
    "**6. Define a custom exception called NegativeNumberError. Write a program that asks the user for a positive number and raises this exception if the user inputs a negative number.**"
   ]
  },
  {
   "cell_type": "code",
   "execution_count": 19,
   "metadata": {},
   "outputs": [
    {
     "name": "stdout",
     "output_type": "stream",
     "text": [
      "Entrer a positive number: -1\n",
      "Error: You can not insert a negative number\n"
     ]
    }
   ],
   "source": [
    "class NegativeNumberError(Exception):\n",
    "    def __init__(self, message):\n",
    "        self.message = message\n",
    "try:\n",
    "    num = int(input(\"Entrer a positive number: \"))\n",
    "    \n",
    "    if num < 0:\n",
    "        raise NegativeNumberError(\"Error: You can not insert a negative number\")\n",
    "except NegativeNumberError as e:\n",
    "    print(e)"
   ]
  }
 ],
 "metadata": {
  "colab": {
   "collapsed_sections": [
    "iSQCl3G5RYiy",
    "1J1SoBzkrC20",
    "om4dtaZgReBb",
    "wCIvkzL4I0F5",
    "e8bSitFfCJ34",
    "VgBwDwEyDfwb",
    "Z3zXDznyW5cE"
   ],
   "provenance": []
  },
  "kernelspec": {
   "display_name": "Python 3 (ipykernel)",
   "language": "python",
   "name": "python3"
  },
  "language_info": {
   "codemirror_mode": {
    "name": "ipython",
    "version": 3
   },
   "file_extension": ".py",
   "mimetype": "text/x-python",
   "name": "python",
   "nbconvert_exporter": "python",
   "pygments_lexer": "ipython3",
   "version": "3.11.4"
  }
 },
 "nbformat": 4,
 "nbformat_minor": 1
}
