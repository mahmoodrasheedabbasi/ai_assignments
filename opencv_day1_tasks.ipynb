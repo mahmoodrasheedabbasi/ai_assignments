{
 "cells": [
  {
   "cell_type": "code",
   "execution_count": 2,
   "metadata": {},
   "outputs": [],
   "source": [
    "import numpy as np\n",
    "import cv2 as cv"
   ]
  },
  {
   "cell_type": "code",
   "execution_count": 29,
   "metadata": {},
   "outputs": [],
   "source": [
    "img = np.zeros((512, 512,3), np.uint8)\n",
    "\n",
    "\n",
    "cv.circle(img, (256, 256), 200, (0, 255, 255), -1)\n",
    "cv.circle(img, (170, 200), 40, (0, 0, 0), -1)\n",
    "cv.circle(img, (330, 200), 40, (0, 0, 0), -1)\n",
    "cv.ellipse(img, (250, 330), (100, 50), \n",
    "           0, 0, 180, (0, 0, 0), 2)\n",
    "\n",
    "cv.imshow(\"Laughing Emoji\", img)\n",
    "cv.waitKey(0)\n",
    "cv.destroyAllWindows()"
   ]
  },
  {
   "cell_type": "code",
   "execution_count": 85,
   "metadata": {},
   "outputs": [],
   "source": [
    "img = np.zeros((512, 512,3), np.uint8)\n",
    "\n",
    "\n",
    "cv.circle(img, (256, 256), 200, (0, 255, 255), -1)\n",
    "cv.circle(img, (170, 200), 40, (0, 0, 0), -1)\n",
    "cv.circle(img, (330, 200), 40, (0, 0, 0), -1)\n",
    "cv.ellipse(img, (250, 350), (100, 50), \n",
    "           0, 0, -180, (0, 0, 0), 2)\n",
    "\n",
    "# eyebrow\n",
    "cv.ellipse(img, (180, 180), (50, 30), \n",
    "           20, 0, -180, (0, 0, 0), 2)\n",
    "cv.ellipse(img, (330, 178), (50, 30), \n",
    "           -10, 10, -180, (0, 0, 0), 2)\n",
    "\n",
    "\n",
    "cv.imshow(\"Angry Emoji\", img)\n",
    "cv.waitKey(0)\n",
    "cv.destroyAllWindows()"
   ]
  },
  {
   "cell_type": "code",
   "execution_count": 96,
   "metadata": {},
   "outputs": [],
   "source": [
    "img = np.zeros((512, 512,3), np.uint8)\n",
    "\n",
    "\n",
    "cv.circle(img, (256, 256), 200, (0, 255, 255), -1)\n",
    "cv.circle(img, (170, 200), 40, (0, 0, 0), -1)\n",
    "cv.circle(img, (330, 200), 40, (0, 0, 0), -1)\n",
    "cv.ellipse(img, (250, 370), (100, 70), \n",
    "           0, 0, -180, (0, 0, 0), 2)\n",
    "\n",
    "cv.imshow(\"Sad Emoji\", img)\n",
    "cv.waitKey(0)\n",
    "cv.destroyAllWindows()\n"
   ]
  },
  {
   "cell_type": "code",
   "execution_count": 121,
   "metadata": {},
   "outputs": [],
   "source": [
    "img = np.zeros((512, 512,3), np.uint8)\n",
    "\n",
    "\n",
    "cv.circle(img, (256, 256), 200, (0, 255, 255), -1)\n",
    "cv.circle(img, (170, 200), 40, (0, 0, 0), -1)\n",
    "cv.circle(img, (330, 200), 40, (0, 0, 0), -1)\n",
    "cv.ellipse(img, (250, 370), (100, 70), \n",
    "           0, 0, -180, (0, 0, 0), 2)\n",
    "\n",
    "# tears of left eye\n",
    "cv.circle(img, (170, 240), 20, (235, 213, 7), -1)\n",
    "cv.circle(img, (170, 250), 20, (235, 213, 7), -1)\n",
    "cv.circle(img, (170, 260), 20, (235, 213, 7), -1)\n",
    "cv.circle(img, (170, 270), 20, (235, 213, 7), -1)\n",
    "cv.circle(img, (170, 280), 20, (235, 213, 7), -1)\n",
    "cv.circle(img, (170, 290), 20, (235, 213, 7), -1)\n",
    "cv.circle(img, (170, 300), 20, (235, 213, 7), -1)\n",
    "\n",
    "# tears of right eye\n",
    "cv.circle(img, (330, 240), 20, (235, 213, 7), -1)\n",
    "cv.circle(img, (330, 250), 20, (235, 213, 7), -1)\n",
    "cv.circle(img, (330, 260), 20, (235, 213, 7), -1)\n",
    "cv.circle(img, (330, 270), 20, (235, 213, 7), -1)\n",
    "cv.circle(img, (330, 280), 20, (235, 213, 7), -1)\n",
    "cv.circle(img, (330, 290), 20, (235, 213, 7), -1)\n",
    "cv.circle(img, (330, 300), 20, (235, 213, 7), -1)\n",
    "\n",
    "\n",
    "cv.imshow(\"Cry Emoji\", img)\n",
    "cv.waitKey(0)\n",
    "cv.destroyAllWindows()"
   ]
  },
  {
   "cell_type": "code",
   "execution_count": null,
   "metadata": {},
   "outputs": [],
   "source": []
  }
 ],
 "metadata": {
  "kernelspec": {
   "display_name": "Python 3",
   "language": "python",
   "name": "python3"
  },
  "language_info": {
   "codemirror_mode": {
    "name": "ipython",
    "version": 3
   },
   "file_extension": ".py",
   "mimetype": "text/x-python",
   "name": "python",
   "nbconvert_exporter": "python",
   "pygments_lexer": "ipython3",
   "version": "3.11.4"
  }
 },
 "nbformat": 4,
 "nbformat_minor": 2
}
