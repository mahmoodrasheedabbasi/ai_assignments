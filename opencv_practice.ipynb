{
 "cells": [
  {
   "cell_type": "code",
   "execution_count": 2,
   "metadata": {},
   "outputs": [],
   "source": [
    "import cv2 as cv"
   ]
  },
  {
   "cell_type": "markdown",
   "metadata": {},
   "source": [
    "### Images"
   ]
  },
  {
   "cell_type": "code",
   "execution_count": 2,
   "metadata": {},
   "outputs": [],
   "source": [
    "# loading image\n",
    "img = cv.imread(\"resources\\cat.jpg\")"
   ]
  },
  {
   "cell_type": "code",
   "execution_count": 3,
   "metadata": {},
   "outputs": [],
   "source": [
    "# resizing the image\n",
    "resized_img = cv.resize(img, (300, 600))\n",
    "\n",
    "# conerting to gray scale\n",
    "gray_img = cv.cvtColor(resized_img, cv.COLOR_BGR2GRAY)\n",
    "\n",
    "# black and white image\n",
    "threshold, black_and_white_img = cv.threshold(resized_img, 125, 255, cv.THRESH_BINARY)\n",
    "\n",
    "# blur image\n",
    "blur_img  = cv.blur(resized_img, (19, 19))\n",
    "\n",
    "# Showing colored image\n",
    "cv.imshow(\"Colored Image\", resized_img)\n",
    "\n",
    "# Showing gray scaled image\n",
    "cv.imshow(\"Gray Scaled Image\", gray_img)\n",
    "\n",
    "# Showing black and white image\n",
    "cv.imshow(\"Black and White Image\", black_and_white_img)\n",
    "\n",
    "# Showing black and white image\n",
    "cv.imshow(\"Blur Image\", blur_img)\n",
    "\n",
    "\n",
    "# closing image windows\n",
    "cv.waitKey(0)\n",
    "cv.destroyAllWindows()"
   ]
  },
  {
   "cell_type": "markdown",
   "metadata": {},
   "source": [
    "### Videos"
   ]
  },
  {
   "cell_type": "code",
   "execution_count": null,
   "metadata": {},
   "outputs": [],
   "source": [
    "# using webcam\n",
    "video = cv.VideoCapture(0)\n",
    "\n",
    "while True:\n",
    "    succ, frame = video.read()\n",
    "    frame = cv.resize(frame, (640, 480))\n",
    "    \n",
    "    cv.imshow(\"My video\", frame)\n",
    "    \n",
    "    # Wait for a key press and close the video\n",
    "    if cv.waitKey(1) & 0xFF == ord('q'):\n",
    "        break    "
   ]
  },
  {
   "cell_type": "code",
   "execution_count": null,
   "metadata": {},
   "outputs": [],
   "source": [
    "# using video\n",
    "\n",
    "video = cv.VideoCapture(\"resources/video1.mp4\")\n",
    "\n",
    "while True:\n",
    "\n",
    "    ret, frame = video.read()\n",
    "    frame = cv.resize(frame, (400, 300))\n",
    "\n",
    "    # conerting to gray scale\n",
    "    gray_video = cv.cvtColor(frame, cv.COLOR_BGR2GRAY)\n",
    "\n",
    "    # black and white video\n",
    "    threshold, black_and_white_video = cv.threshold(frame, 125, 255, cv.THRESH_BINARY)\n",
    "\n",
    "    # blur video\n",
    "    blur_video  = cv.blur(frame, (19, 19))\n",
    "\n",
    "    # Showing colored video\n",
    "    cv.imshow(\"Colored video\", frame)\n",
    "\n",
    "    # Showing gray scaled video\n",
    "    cv.imshow(\"Gray Scaled video\", gray_video)\n",
    "\n",
    "    # Showing black and white video\n",
    "    cv.imshow(\"Black and White video\", black_and_white_video)\n",
    "\n",
    "    # Showing black and white video\n",
    "    cv.imshow(\"Blur video\", blur_video)\n",
    "\n",
    "\n",
    "    if cv.waitKey(1) & 0xFF == ord('q'):\n",
    "        break"
   ]
  }
 ],
 "metadata": {
  "kernelspec": {
   "display_name": "Python 3",
   "language": "python",
   "name": "python3"
  },
  "language_info": {
   "codemirror_mode": {
    "name": "ipython",
    "version": 3
   },
   "file_extension": ".py",
   "mimetype": "text/x-python",
   "name": "python",
   "nbconvert_exporter": "python",
   "pygments_lexer": "ipython3",
   "version": "3.11.4"
  }
 },
 "nbformat": 4,
 "nbformat_minor": 2
}
