{
 "cells": [
  {
   "cell_type": "markdown",
   "id": "79217b46",
   "metadata": {},
   "source": [
    "# Mahmood Raheed\n",
    "## Day2 Assignment"
   ]
  },
  {
   "cell_type": "markdown",
   "id": "99005390",
   "metadata": {},
   "source": [
    "- Make a list of 5 students and print the list."
   ]
  },
  {
   "cell_type": "code",
   "execution_count": 76,
   "id": "eb9c169b",
   "metadata": {},
   "outputs": [
    {
     "name": "stdout",
     "output_type": "stream",
     "text": [
      "['Abu Bakkar', 'Ali', 'Usman', 'Faisal', 'Khalid']\n"
     ]
    }
   ],
   "source": [
    "students = [\"Abu Bakkar\", \"Ali\", \"Usman\", \"Faisal\", \"Khalid\"]\n",
    "print(students)"
   ]
  },
  {
   "cell_type": "markdown",
   "id": "0def32fc",
   "metadata": {},
   "source": [
    "- Add 2 more students in the list and print the updated list."
   ]
  },
  {
   "cell_type": "code",
   "execution_count": 77,
   "id": "e8a60e09",
   "metadata": {},
   "outputs": [
    {
     "name": "stdout",
     "output_type": "stream",
     "text": [
      "After adding two new students:  ['Abu Bakkar', 'Ali', 'Usman', 'Faisal', 'Khalid', 'Younis', 'Ibrahim']\n"
     ]
    }
   ],
   "source": [
    "students.append(\"Younis\")\n",
    "students.append(\"Ibrahim\")\n",
    "\n",
    "print(\"After adding two new students: \", students)"
   ]
  },
  {
   "cell_type": "markdown",
   "id": "96e2229e",
   "metadata": {},
   "source": [
    "- Remove 2 students from the list and print the updated list."
   ]
  },
  {
   "cell_type": "code",
   "execution_count": 78,
   "id": "6b729d2f",
   "metadata": {},
   "outputs": [
    {
     "name": "stdout",
     "output_type": "stream",
     "text": [
      "After removing:  ['Abu Bakkar', 'Ali', 'Usman', 'Younis', 'Ibrahim']\n"
     ]
    }
   ],
   "source": [
    "students.remove(\"Faisal\")\n",
    "students.remove(\"Khalid\")\n",
    "print(\"After removing: \", students)"
   ]
  },
  {
   "cell_type": "markdown",
   "id": "dc973b3c",
   "metadata": {},
   "source": [
    "- Sort the list in ascending order and print the updated list."
   ]
  },
  {
   "cell_type": "code",
   "execution_count": 79,
   "id": "d8d5210e",
   "metadata": {},
   "outputs": [
    {
     "name": "stdout",
     "output_type": "stream",
     "text": [
      "After sorting:  ['Abu Bakkar', 'Ali', 'Ibrahim', 'Usman', 'Younis']\n"
     ]
    }
   ],
   "source": [
    "students.sort()\n",
    "print(\"After sorting: \", students)"
   ]
  },
  {
   "cell_type": "markdown",
   "id": "dc9e24c5",
   "metadata": {},
   "source": [
    "- Reverse the list and print the updated list."
   ]
  },
  {
   "cell_type": "code",
   "execution_count": 80,
   "id": "9b306b8d",
   "metadata": {},
   "outputs": [
    {
     "name": "stdout",
     "output_type": "stream",
     "text": [
      "After reversing:  ['Younis', 'Usman', 'Ibrahim', 'Ali', 'Abu Bakkar']\n"
     ]
    }
   ],
   "source": [
    "students.reverse()\n",
    "print(\"After reversing: \", students)"
   ]
  },
  {
   "cell_type": "markdown",
   "id": "2bd66df9",
   "metadata": {},
   "source": [
    "- Clear the list and print the updated list."
   ]
  },
  {
   "cell_type": "code",
   "execution_count": 81,
   "id": "6bae854a",
   "metadata": {},
   "outputs": [
    {
     "name": "stdout",
     "output_type": "stream",
     "text": [
      "After clearing:  []\n"
     ]
    }
   ],
   "source": [
    "students.clear()\n",
    "print(\"After clearing: \", students)"
   ]
  },
  {
   "cell_type": "markdown",
   "id": "826a1f11",
   "metadata": {},
   "source": [
    "- What is the difference between list and tuple?"
   ]
  },
  {
   "cell_type": "markdown",
   "id": "c988d9dc",
   "metadata": {},
   "source": [
    "Ans: The key difference between tuples and lists is that while tuples are immutable objects, lists are mutable. This means tuples cannot be changed while lists can be modified. Tuples are also more memory efficient than the lists. When it comes to time efficiency, tuples have a slight advantage over lists especially when we consider lookup value. If you have data that shouldn’t change, you should choose tuple data type over lists."
   ]
  },
  {
   "cell_type": "markdown",
   "id": "0c1009a1",
   "metadata": {},
   "source": [
    "- Make a tuple that contain only one item and print the type of the tuple."
   ]
  },
  {
   "cell_type": "code",
   "execution_count": 82,
   "id": "18acf552",
   "metadata": {},
   "outputs": [
    {
     "name": "stdout",
     "output_type": "stream",
     "text": [
      "Ahmed\n"
     ]
    }
   ],
   "source": [
    "name = (\"Ahmed\")\n",
    "print(name)"
   ]
  },
  {
   "cell_type": "markdown",
   "id": "0da2dbce",
   "metadata": {},
   "source": [
    "- Make a tuple of 5 items and print the tuple."
   ]
  },
  {
   "cell_type": "code",
   "execution_count": 83,
   "id": "af9f137f",
   "metadata": {},
   "outputs": [
    {
     "name": "stdout",
     "output_type": "stream",
     "text": [
      "('Ahmed', 'Akram', 'Ahsan', 'Mahmood', 'Mustafa')\n"
     ]
    }
   ],
   "source": [
    "names = (\"Ahmed\", \"Akram\", \"Ahsan\", \"Mahmood\", \"Mustafa\")\n",
    "print(names)"
   ]
  },
  {
   "cell_type": "markdown",
   "id": "c0e5ed43",
   "metadata": {},
   "source": [
    "- Find the index of a specific item in the tuple."
   ]
  },
  {
   "cell_type": "code",
   "execution_count": 84,
   "id": "6ecb0e8f",
   "metadata": {},
   "outputs": [
    {
     "name": "stdout",
     "output_type": "stream",
     "text": [
      "Index of Mahmood is:  3\n"
     ]
    }
   ],
   "source": [
    "print(\"Index of Mahmood is: \",names.index(\"Mahmood\"))"
   ]
  },
  {
   "cell_type": "markdown",
   "id": "16324e81",
   "metadata": {},
   "source": [
    "- Find the count of a specific item in the tuple"
   ]
  },
  {
   "cell_type": "code",
   "execution_count": 85,
   "id": "b68f8e39",
   "metadata": {},
   "outputs": [
    {
     "name": "stdout",
     "output_type": "stream",
     "text": [
      "Occourance of Ahmed is:  1 time\n"
     ]
    }
   ],
   "source": [
    "print(\"Occourance of Ahmed is: \", names.count(\"Ahmed\"), \"time\")"
   ]
  },
  {
   "cell_type": "markdown",
   "id": "6f335c17",
   "metadata": {},
   "source": [
    "- Find the length of the tuple."
   ]
  },
  {
   "cell_type": "code",
   "execution_count": 86,
   "id": "97d4c035",
   "metadata": {},
   "outputs": [
    {
     "name": "stdout",
     "output_type": "stream",
     "text": [
      "length is:  5\n"
     ]
    }
   ],
   "source": [
    "print(\"length is: \", len(names))"
   ]
  },
  {
   "cell_type": "markdown",
   "id": "7140b983",
   "metadata": {},
   "source": [
    "- Find the maximum and minimum item in the tuple"
   ]
  },
  {
   "cell_type": "code",
   "execution_count": 87,
   "id": "b29d9885",
   "metadata": {},
   "outputs": [
    {
     "name": "stdout",
     "output_type": "stream",
     "text": [
      "Minimum:  1\n",
      "Maximum:  9\n"
     ]
    }
   ],
   "source": [
    "numbers = (4,1,8,9,7,2)\n",
    "print(\"Minimum: \", min(numbers))\n",
    "print(\"Maximum: \", max(numbers))"
   ]
  },
  {
   "cell_type": "markdown",
   "id": "552fb9d6",
   "metadata": {},
   "source": [
    "- Find the sum of all items in the tuple."
   ]
  },
  {
   "cell_type": "code",
   "execution_count": 88,
   "id": "df5732f0",
   "metadata": {},
   "outputs": [
    {
     "name": "stdout",
     "output_type": "stream",
     "text": [
      "sum =  31\n"
     ]
    }
   ],
   "source": [
    "print(\"sum = \", sum(numbers))"
   ]
  },
  {
   "cell_type": "markdown",
   "id": "5d07871e",
   "metadata": {},
   "source": [
    "- Sort the tuple in ascending order and print the updated tuple."
   ]
  },
  {
   "cell_type": "code",
   "execution_count": 89,
   "id": "724cfe08",
   "metadata": {},
   "outputs": [
    {
     "name": "stdout",
     "output_type": "stream",
     "text": [
      "sorted in asscending order:  [1, 2, 4, 7, 8, 9]\n"
     ]
    }
   ],
   "source": [
    "numbers = sorted(numbers)\n",
    "print(\"sorted in asscending order: \",numbers)"
   ]
  },
  {
   "cell_type": "markdown",
   "id": "8015f1ba",
   "metadata": {},
   "source": [
    "- Sort the tuple in descending order and print the updated tuple."
   ]
  },
  {
   "cell_type": "code",
   "execution_count": 90,
   "id": "834762be",
   "metadata": {},
   "outputs": [
    {
     "name": "stdout",
     "output_type": "stream",
     "text": [
      "sorted in descending order:  [9, 8, 7, 4, 2, 1]\n"
     ]
    }
   ],
   "source": [
    "numbers = sorted(numbers, reverse=True)\n",
    "print(\"sorted in descending order: \",numbers)"
   ]
  },
  {
   "cell_type": "markdown",
   "id": "b4fa71f3",
   "metadata": {},
   "source": [
    "- Clear the tuple and print the updated tuple."
   ]
  },
  {
   "cell_type": "code",
   "execution_count": 91,
   "id": "c5a3c197",
   "metadata": {},
   "outputs": [
    {
     "name": "stdout",
     "output_type": "stream",
     "text": [
      "After clearing:  []\n"
     ]
    }
   ],
   "source": [
    "numbers.clear()\n",
    "print(\"After clearing: \", numbers)"
   ]
  },
  {
   "cell_type": "markdown",
   "id": "b23c6d77",
   "metadata": {},
   "source": [
    "- Delete the tuple and print the tuple."
   ]
  },
  {
   "cell_type": "code",
   "execution_count": 92,
   "id": "057a4746",
   "metadata": {},
   "outputs": [
    {
     "ename": "NameError",
     "evalue": "name 'names' is not defined",
     "output_type": "error",
     "traceback": [
      "\u001b[1;31m---------------------------------------------------------------------------\u001b[0m",
      "\u001b[1;31mNameError\u001b[0m                                 Traceback (most recent call last)",
      "Cell \u001b[1;32mIn[92], line 3\u001b[0m\n\u001b[0;32m      1\u001b[0m \u001b[38;5;66;03m# It will not print the tuple because tuple is deleted from memory\u001b[39;00m\n\u001b[0;32m      2\u001b[0m \u001b[38;5;28;01mdel\u001b[39;00m names\n\u001b[1;32m----> 3\u001b[0m \u001b[38;5;28mprint\u001b[39m(\u001b[38;5;124m\"\u001b[39m\u001b[38;5;124mAfter deleting: \u001b[39m\u001b[38;5;124m\"\u001b[39m, \u001b[43mnames\u001b[49m)\n",
      "\u001b[1;31mNameError\u001b[0m: name 'names' is not defined"
     ]
    }
   ],
   "source": [
    "# It will not print the tuple because tuple is deleted from memory\n",
    "del names\n",
    "print(\"After deleting: \", names)"
   ]
  },
  {
   "cell_type": "markdown",
   "id": "aeb808fe",
   "metadata": {},
   "source": [
    "- Concatenate two tuples and print the updated tuple."
   ]
  },
  {
   "cell_type": "code",
   "execution_count": 93,
   "id": "fae3d03e",
   "metadata": {},
   "outputs": [
    {
     "name": "stdout",
     "output_type": "stream",
     "text": [
      "After concatination:  (1, 2, 3, 4, 5, 6, 7, 8)\n"
     ]
    }
   ],
   "source": [
    "t1 = (1,2,3,4)\n",
    "t2 = (5,6,7,8)\n",
    "t1+=t2\n",
    "print(\"After concatination: \", t1)"
   ]
  },
  {
   "cell_type": "markdown",
   "id": "0c2da064",
   "metadata": {},
   "source": [
    "- Repeat the tuple 3 times and print the updated tuple."
   ]
  },
  {
   "cell_type": "code",
   "execution_count": 94,
   "id": "9abd8edb",
   "metadata": {},
   "outputs": [
    {
     "name": "stdout",
     "output_type": "stream",
     "text": [
      "After repeating 3 times:  (5, 6, 7, 8, 5, 6, 7, 8, 5, 6, 7, 8)\n"
     ]
    }
   ],
   "source": [
    "t2 = t2*3\n",
    "print(\"After repeating 3 times: \"  ,t2)"
   ]
  }
 ],
 "metadata": {
  "kernelspec": {
   "display_name": "Python 3 (ipykernel)",
   "language": "python",
   "name": "python3"
  },
  "language_info": {
   "codemirror_mode": {
    "name": "ipython",
    "version": 3
   },
   "file_extension": ".py",
   "mimetype": "text/x-python",
   "name": "python",
   "nbconvert_exporter": "python",
   "pygments_lexer": "ipython3",
   "version": "3.11.4"
  }
 },
 "nbformat": 4,
 "nbformat_minor": 5
}
