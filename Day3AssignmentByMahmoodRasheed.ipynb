{
 "cells": [
  {
   "cell_type": "markdown",
   "id": "09d9484a",
   "metadata": {},
   "source": [
    "# Mahmood Rasheed\n",
    "## Day 3 Assignment\n",
    "\n",
    "## Dictionary"
   ]
  },
  {
   "cell_type": "markdown",
   "id": "7eb02484",
   "metadata": {},
   "source": [
    "- 1) Write a python program to give discount on the behalf of age. Hint: 0-5: 50%, 5-10: 30%, 10-20: 20%, 20-50: 10%, 50+: 5%\n",
    "​"
   ]
  },
  {
   "cell_type": "markdown",
   "id": "acf83a4d",
   "metadata": {},
   "source": [
    "Ans: The list is a collection of index value pairs like that of the array in C++, whereas a dictionary is a hashed structure of the key and value\n",
    "\n",
    "pairs.\n",
    "\n",
    "The list is created by placing elements in [ ] separated by commas “,”, whereas the dictionary is created by placing elements in { } as “key”:”value”, each key-value pair is separated by commas “, “\n",
    "\n",
    "The indices of the list are integers starting from 0, whereas keys of the dictionary can be of any data type.\n",
    "\n",
    "The elements of the list are accessed via indices, whereas the elements of the dictionary are accessed via key-value pairs.\n",
    "\n",
    "\n"
   ]
  },
  {
   "cell_type": "markdown",
   "id": "2d171c3d",
   "metadata": {},
   "source": [
    "- 2) Make a dictionary of 10 locations and their respective temperatures."
   ]
  },
  {
   "cell_type": "code",
   "execution_count": 2,
   "id": "f043aa68",
   "metadata": {},
   "outputs": [],
   "source": [
    "location_and_temperature = {\"Hyderabad\": 42, \"Karachi\": 37, \"Jamshoro\": 42, \"Sujawal\": 40,\n",
    "                           \"Thatta\": 44, \"Islamabad\": 39, \"Lahore\": 34, \"Rawalpindi\": 39,\n",
    "                           \"Paris\": 29, \"Kashmir\": 20}"
   ]
  },
  {
   "cell_type": "markdown",
   "id": "30423919",
   "metadata": {},
   "source": [
    "- 3) Print the dictionary."
   ]
  },
  {
   "cell_type": "code",
   "execution_count": 4,
   "id": "96b29c28",
   "metadata": {},
   "outputs": [
    {
     "data": {
      "text/plain": [
       "{'Hyderabad': 42,\n",
       " 'Karachi': 37,\n",
       " 'Jamshoro': 42,\n",
       " 'Sujawal': 40,\n",
       " 'Thatta': 44,\n",
       " 'Islamabad': 39,\n",
       " 'Lahore': 34,\n",
       " 'Rawalpindi': 39,\n",
       " 'Paris': 29,\n",
       " 'Kashmir': 20}"
      ]
     },
     "execution_count": 4,
     "metadata": {},
     "output_type": "execute_result"
    }
   ],
   "source": [
    "location_and_temperature"
   ]
  },
  {
   "cell_type": "markdown",
   "id": "11ed3287",
   "metadata": {},
   "source": [
    "- 4) Print the length of the dictionary."
   ]
  },
  {
   "cell_type": "code",
   "execution_count": 9,
   "id": "06f561ee",
   "metadata": {},
   "outputs": [
    {
     "name": "stdout",
     "output_type": "stream",
     "text": [
      "length is:  10\n"
     ]
    }
   ],
   "source": [
    "print(\"length is: \", len(location_and_temperature))"
   ]
  },
  {
   "cell_type": "markdown",
   "id": "30d6bf0d",
   "metadata": {},
   "source": [
    "- 5) Print the value of a specific key."
   ]
  },
  {
   "cell_type": "code",
   "execution_count": 10,
   "id": "e3d114f0",
   "metadata": {},
   "outputs": [
    {
     "name": "stdout",
     "output_type": "stream",
     "text": [
      "Temperature in Hyderabad today:  42 C\n"
     ]
    }
   ],
   "source": [
    "print(\"Temperature in Hyderabad today: \", location_and_temperature[\"Hyderabad\"], \"C\")"
   ]
  },
  {
   "cell_type": "markdown",
   "id": "03aa85d0",
   "metadata": {},
   "source": [
    "- 6) Print all the keys of the dictionary."
   ]
  },
  {
   "cell_type": "code",
   "execution_count": 14,
   "id": "ea42e0f9",
   "metadata": {},
   "outputs": [
    {
     "data": {
      "text/plain": [
       "dict_keys(['Hyderabad', 'Karachi', 'Jamshoro', 'Sujawal', 'Thatta', 'Islamabad', 'Lahore', 'Rawalpindi', 'Paris', 'Kashmir'])"
      ]
     },
     "execution_count": 14,
     "metadata": {},
     "output_type": "execute_result"
    }
   ],
   "source": [
    "location_and_temperature.keys()"
   ]
  },
  {
   "cell_type": "markdown",
   "id": "f37199e8",
   "metadata": {},
   "source": [
    "- 7) Print all the values of the dictionary."
   ]
  },
  {
   "cell_type": "code",
   "execution_count": 15,
   "id": "bf705881",
   "metadata": {},
   "outputs": [
    {
     "data": {
      "text/plain": [
       "dict_values([42, 37, 42, 40, 44, 39, 34, 39, 29, 20])"
      ]
     },
     "execution_count": 15,
     "metadata": {},
     "output_type": "execute_result"
    }
   ],
   "source": [
    "location_and_temperature.values()"
   ]
  },
  {
   "cell_type": "markdown",
   "id": "d1039252",
   "metadata": {},
   "source": [
    "- 8) Add 2 more locations in the dictionary and print the updated dictionary."
   ]
  },
  {
   "cell_type": "code",
   "execution_count": 17,
   "id": "2287d14a",
   "metadata": {},
   "outputs": [
    {
     "name": "stdout",
     "output_type": "stream",
     "text": [
      "After Adding two new locations:  {'Hyderabad': 42, 'Karachi': 37, 'Jamshoro': 42, 'Sujawal': 40, 'Thatta': 44, 'Islamabad': 39, 'Lahore': 34, 'Rawalpindi': 39, 'Paris': 29, 'Kashmir': 20, 'Quetta': 34, 'Murree': 27}\n"
     ]
    }
   ],
   "source": [
    "location_and_temperature.update({\"Quetta\": 34, \"Murree\": 27})\n",
    "print(\"After Adding two new locations: \", location_and_temperature)"
   ]
  },
  {
   "cell_type": "markdown",
   "id": "4a211b6d",
   "metadata": {},
   "source": [
    "- 9) Remove 2 locations from the dictionary and print the updated dictionary."
   ]
  },
  {
   "cell_type": "code",
   "execution_count": 19,
   "id": "7deef2e2",
   "metadata": {},
   "outputs": [
    {
     "name": "stdout",
     "output_type": "stream",
     "text": [
      "After romoving Jamshoro and Paris {'Hyderabad': 42, 'Karachi': 37, 'Sujawal': 40, 'Thatta': 44, 'Islamabad': 39, 'Lahore': 34, 'Rawalpindi': 39, 'Kashmir': 20, 'Quetta': 34, 'Murree': 27}\n"
     ]
    }
   ],
   "source": [
    "location_and_temperature.pop(\"Jamshoro\")\n",
    "location_and_temperature.pop(\"Paris\")\n",
    "\n",
    "print(\"After romoving Jamshoro and Paris\", location_and_temperature)"
   ]
  },
  {
   "cell_type": "markdown",
   "id": "c9eabfdd",
   "metadata": {},
   "source": [
    "- 10) Copy the dictionary and print the copied dictionary."
   ]
  },
  {
   "cell_type": "code",
   "execution_count": 20,
   "id": "85d43b03",
   "metadata": {},
   "outputs": [
    {
     "name": "stdout",
     "output_type": "stream",
     "text": [
      "Copied dictionary:  {'Hyderabad': 42, 'Karachi': 37, 'Sujawal': 40, 'Thatta': 44, 'Islamabad': 39, 'Lahore': 34, 'Rawalpindi': 39, 'Kashmir': 20, 'Quetta': 34, 'Murree': 27}\n"
     ]
    }
   ],
   "source": [
    "dic_clone = location_and_temperature.copy()\n",
    "print(\"Copied dictionary: \", dic_clone)"
   ]
  },
  {
   "cell_type": "markdown",
   "id": "f82b76b3",
   "metadata": {},
   "source": [
    "- 11) Clear the dictionary and print the updated dictionary "
   ]
  },
  {
   "cell_type": "code",
   "execution_count": 21,
   "id": "1f05b968",
   "metadata": {},
   "outputs": [
    {
     "name": "stdout",
     "output_type": "stream",
     "text": [
      "After clear:  {}\n"
     ]
    }
   ],
   "source": [
    "location_and_temperature.clear()\n",
    "print(\"After clear: \", location_and_temperature)"
   ]
  },
  {
   "cell_type": "markdown",
   "id": "84a78467",
   "metadata": {},
   "source": [
    "- 12) Delete the dictionary and print the dictionary."
   ]
  },
  {
   "cell_type": "code",
   "execution_count": 22,
   "id": "2633f2d5",
   "metadata": {},
   "outputs": [
    {
     "ename": "NameError",
     "evalue": "name 'location_and_temperature' is not defined",
     "output_type": "error",
     "traceback": [
      "\u001b[1;31m---------------------------------------------------------------------------\u001b[0m",
      "\u001b[1;31mNameError\u001b[0m                                 Traceback (most recent call last)",
      "Cell \u001b[1;32mIn[22], line 3\u001b[0m\n\u001b[0;32m      1\u001b[0m \u001b[38;5;66;03m# after deleting from memory it will not be printed\u001b[39;00m\n\u001b[0;32m      2\u001b[0m \u001b[38;5;28;01mdel\u001b[39;00m location_and_temperature\n\u001b[1;32m----> 3\u001b[0m \u001b[38;5;28mprint\u001b[39m(\u001b[43mlocation_and_temperature\u001b[49m)\n",
      "\u001b[1;31mNameError\u001b[0m: name 'location_and_temperature' is not defined"
     ]
    }
   ],
   "source": [
    "# after deleting from memory it will not be printed\n",
    "del location_and_temperature\n",
    "print(location_and_temperature)"
   ]
  },
  {
   "cell_type": "markdown",
   "id": "a708b4b2",
   "metadata": {},
   "source": [
    "# Assignment of Operators\n",
    "- 1) What is the difference between = and == in Python?"
   ]
  },
  {
   "cell_type": "markdown",
   "id": "0b51bf9b",
   "metadata": {},
   "source": [
    "Ans: In Python, the operators = and == serve very different purposes, and don't have much relation at all other than similar syntax. The = operator is used for assignment, such as when assigning a value to a variable. The == operator is the relational operator for checking equality of two values"
   ]
  },
  {
   "cell_type": "markdown",
   "id": "d7a44eb9",
   "metadata": {},
   "source": [
    "- 2) What is the difference between = and += in Python?"
   ]
  },
  {
   "cell_type": "markdown",
   "id": "51b8b7be",
   "metadata": {},
   "source": [
    "Ans: + is an arithmetic operator while += is an assignment operator.. When += is used, the value on the RHS will be added to the variable on the LHS and the resultant value will be assigned as the new value of the LHS."
   ]
  },
  {
   "cell_type": "markdown",
   "id": "e4a4f26e",
   "metadata": {},
   "source": [
    "- 3) Write the python code to add your marks in 5 subjects and calculate the total marks. (i.e. 85, 95, 90, 80, 100)"
   ]
  },
  {
   "cell_type": "code",
   "execution_count": 34,
   "id": "1e83e97e",
   "metadata": {},
   "outputs": [
    {
     "name": "stdout",
     "output_type": "stream",
     "text": [
      "Total marks 450\n"
     ]
    }
   ],
   "source": [
    "your_marks = [85, 95, 90, 80, 100]\n",
    "\n",
    "total_marks = sum(your_marks)\n",
    "print(\"Total marks\", total_marks)"
   ]
  },
  {
   "cell_type": "markdown",
   "id": "7e639b29",
   "metadata": {},
   "source": [
    "- 4) Write the python code to calculate the average of your marks."
   ]
  },
  {
   "cell_type": "code",
   "execution_count": 35,
   "id": "4fbb52b3",
   "metadata": {},
   "outputs": [
    {
     "name": "stdout",
     "output_type": "stream",
     "text": [
      "Average of marks:  90.0\n"
     ]
    }
   ],
   "source": [
    "avg = total_marks/5\n",
    "print(\"Average of marks: \", avg)"
   ]
  },
  {
   "cell_type": "markdown",
   "id": "45e1a3ad",
   "metadata": {},
   "source": [
    "- 5) Write the python code to calculate the percentage of your marks."
   ]
  },
  {
   "cell_type": "code",
   "execution_count": 36,
   "id": "0c6503f4",
   "metadata": {},
   "outputs": [
    {
     "name": "stdout",
     "output_type": "stream",
     "text": [
      "Percentage = 90.0\n"
     ]
    }
   ],
   "source": [
    "percentage = (total_marks/500)*100\n",
    "print(\"Percentage =\", percentage)"
   ]
  },
  {
   "cell_type": "markdown",
   "id": "8404dd9e",
   "metadata": {},
   "source": [
    "- 6) Write the python code to compare your marks with your friend's marks and print the result. (i.e. who got more marks) Hint: Use comparison operators. (your friend's marks: 85, 95, 90, 80, 100)"
   ]
  },
  {
   "cell_type": "code",
   "execution_count": 40,
   "id": "fd188514",
   "metadata": {},
   "outputs": [
    {
     "name": "stdout",
     "output_type": "stream",
     "text": [
      "You and your friend got the same marks.\n"
     ]
    }
   ],
   "source": [
    "# no one got more marks, so their will be no output\n",
    "friend_marks = [85, 95, 90, 80, 100]\n",
    "friend_total_marks = sum(friend_marks)\n",
    "\n",
    "if total_marks> friend_total_marks:\n",
    "    print(\"You got more marks\")\n",
    "elif friend_total_marks > total_marks:\n",
    "    print(\"Friend got more marks\")\n",
    "else:\n",
    "    print(\"You and your friend got the same marks.\")"
   ]
  },
  {
   "cell_type": "markdown",
   "id": "7528eae5",
   "metadata": {},
   "source": [
    "- 7) Write the python code to check whether you got more marks than your friend or not. Hint: Use logical operators."
   ]
  },
  {
   "cell_type": "code",
   "execution_count": 41,
   "id": "b80167bf",
   "metadata": {},
   "outputs": [
    {
     "name": "stdout",
     "output_type": "stream",
     "text": [
      "No, you did not get more marks than your friend.\n"
     ]
    }
   ],
   "source": [
    "friend_marks = [85, 95, 90, 80, 100]\n",
    "friend_total_marks = sum(friend_marks)\n",
    "\n",
    "if total_marks> friend_total_marks:\n",
    "    print(\"You got more marks\")\n",
    "else:  print(\"No, you did not get more marks than your friend.\")"
   ]
  },
  {
   "cell_type": "markdown",
   "id": "e8b7c038",
   "metadata": {},
   "source": [
    "# Control structure Tasks"
   ]
  },
  {
   "cell_type": "markdown",
   "id": "21759e69",
   "metadata": {},
   "source": [
    "- 1) Write a python program to check if the number is even or odd."
   ]
  },
  {
   "cell_type": "code",
   "execution_count": 42,
   "id": "6a48002d",
   "metadata": {},
   "outputs": [
    {
     "name": "stdout",
     "output_type": "stream",
     "text": [
      "Enter a number: 78\n",
      "78 is even\n"
     ]
    }
   ],
   "source": [
    "number = int(input(\"Enter a number: \"))\n",
    "\n",
    "if number%2 == 0:\n",
    "    print(number, \"is even\")\n",
    "else:\n",
    "    print(number, \"is odd\")"
   ]
  },
  {
   "cell_type": "markdown",
   "id": "66a79d78",
   "metadata": {},
   "source": [
    "- 2) Write a python program to make grade calculator. Hint: A: 90-100, B: 80-89, C: 70-79, D: 60-69, F: <60"
   ]
  },
  {
   "cell_type": "code",
   "execution_count": 6,
   "id": "3bf3b5d7",
   "metadata": {},
   "outputs": [
    {
     "name": "stdout",
     "output_type": "stream",
     "text": [
      "Grade B\n"
     ]
    }
   ],
   "source": [
    "marks = [85, 67, 95, 91, 75]\n",
    "\n",
    "obt_marks = sum(marks)\n",
    "\n",
    "percentage  = (obt_marks/500)*100\n",
    "\n",
    "if percentage >= 90:\n",
    "    print(\"Grade A\")\n",
    "elif percentage >= 80:\n",
    "    print(\"Grade B\")\n",
    "elif percentage >= 70:\n",
    "    print(\"Grade C\")\n",
    "elif percentage >= 60:\n",
    "    print(\"Grade D\")\n",
    "else:\n",
    "    print(\"Grade F\")"
   ]
  },
  {
   "cell_type": "markdown",
   "id": "7583ff4d",
   "metadata": {},
   "source": [
    "- 3) Write a python program to give discount on the behalf of age. Hint: 0-5: 50%, 5-10: 30%, 10-20: 20%, 20-50: 10%, 50+: 5%"
   ]
  },
  {
   "cell_type": "code",
   "execution_count": 7,
   "id": "6618bd40",
   "metadata": {},
   "outputs": [
    {
     "name": "stdout",
     "output_type": "stream",
     "text": [
      "Enter your age: 22\n",
      "You got 10% discount\n"
     ]
    }
   ],
   "source": [
    "age = int(input(\"Enter your age: \"))\n",
    "\n",
    "if age > 50:\n",
    "    print(\"You got 5% discount\")\n",
    "elif age >= 20:\n",
    "    print(\"You got 10% discount\")\n",
    "elif age >= 10:\n",
    "    print(\"You got 20% discount\")\n",
    "elif age >= 5:\n",
    "    print(\"You got 30% discount\")\n",
    "elif age >= 0:\n",
    "    print(\"You got 50% discount\")\n",
    "else:\n",
    "    print(\"Invalid age\")"
   ]
  },
  {
   "cell_type": "code",
   "execution_count": null,
   "id": "019d6b4b",
   "metadata": {},
   "outputs": [],
   "source": []
  }
 ],
 "metadata": {
  "kernelspec": {
   "display_name": "Python 3 (ipykernel)",
   "language": "python",
   "name": "python3"
  },
  "language_info": {
   "codemirror_mode": {
    "name": "ipython",
    "version": 3
   },
   "file_extension": ".py",
   "mimetype": "text/x-python",
   "name": "python",
   "nbconvert_exporter": "python",
   "pygments_lexer": "ipython3",
   "version": "3.11.4"
  }
 },
 "nbformat": 4,
 "nbformat_minor": 5
}
