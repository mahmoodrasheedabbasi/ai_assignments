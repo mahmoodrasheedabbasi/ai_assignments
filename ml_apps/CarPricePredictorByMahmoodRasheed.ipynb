{
 "cells": [
  {
   "cell_type": "markdown",
   "metadata": {},
   "source": [
    "# Car Price Prediction System\n",
    "\n",
    "### By Mahmood Rasheed"
   ]
  },
  {
   "cell_type": "code",
   "execution_count": 630,
   "metadata": {},
   "outputs": [],
   "source": [
    "# import pandas and numpy libraries\n",
    "import pandas as pd\n",
    "import numpy as np"
   ]
  },
  {
   "cell_type": "code",
   "execution_count": 631,
   "metadata": {},
   "outputs": [],
   "source": [
    "# load dataset\n",
    "df = pd.read_csv(\"car_price.csv\")"
   ]
  },
  {
   "cell_type": "code",
   "execution_count": 632,
   "metadata": {},
   "outputs": [
    {
     "data": {
      "text/html": [
       "<div>\n",
       "<style scoped>\n",
       "    .dataframe tbody tr th:only-of-type {\n",
       "        vertical-align: middle;\n",
       "    }\n",
       "\n",
       "    .dataframe tbody tr th {\n",
       "        vertical-align: top;\n",
       "    }\n",
       "\n",
       "    .dataframe thead th {\n",
       "        text-align: right;\n",
       "    }\n",
       "</style>\n",
       "<table border=\"1\" class=\"dataframe\">\n",
       "  <thead>\n",
       "    <tr style=\"text-align: right;\">\n",
       "      <th></th>\n",
       "      <th>name</th>\n",
       "      <th>company</th>\n",
       "      <th>year</th>\n",
       "      <th>Price</th>\n",
       "      <th>kms_driven</th>\n",
       "      <th>fuel_type</th>\n",
       "    </tr>\n",
       "  </thead>\n",
       "  <tbody>\n",
       "    <tr>\n",
       "      <th>0</th>\n",
       "      <td>Hyundai Santro Xing XO eRLX Euro III</td>\n",
       "      <td>Hyundai</td>\n",
       "      <td>2007</td>\n",
       "      <td>80,000</td>\n",
       "      <td>45,000 kms</td>\n",
       "      <td>Petrol</td>\n",
       "    </tr>\n",
       "    <tr>\n",
       "      <th>1</th>\n",
       "      <td>Mahindra Jeep CL550 MDI</td>\n",
       "      <td>Mahindra</td>\n",
       "      <td>2006</td>\n",
       "      <td>4,25,000</td>\n",
       "      <td>40 kms</td>\n",
       "      <td>Diesel</td>\n",
       "    </tr>\n",
       "    <tr>\n",
       "      <th>2</th>\n",
       "      <td>Maruti Suzuki Alto 800 Vxi</td>\n",
       "      <td>Maruti</td>\n",
       "      <td>2018</td>\n",
       "      <td>Ask For Price</td>\n",
       "      <td>22,000 kms</td>\n",
       "      <td>Petrol</td>\n",
       "    </tr>\n",
       "    <tr>\n",
       "      <th>3</th>\n",
       "      <td>Hyundai Grand i10 Magna 1.2 Kappa VTVT</td>\n",
       "      <td>Hyundai</td>\n",
       "      <td>2014</td>\n",
       "      <td>3,25,000</td>\n",
       "      <td>28,000 kms</td>\n",
       "      <td>Petrol</td>\n",
       "    </tr>\n",
       "    <tr>\n",
       "      <th>4</th>\n",
       "      <td>Ford EcoSport Titanium 1.5L TDCi</td>\n",
       "      <td>Ford</td>\n",
       "      <td>2014</td>\n",
       "      <td>5,75,000</td>\n",
       "      <td>36,000 kms</td>\n",
       "      <td>Diesel</td>\n",
       "    </tr>\n",
       "  </tbody>\n",
       "</table>\n",
       "</div>"
      ],
      "text/plain": [
       "                                     name   company  year          Price  \\\n",
       "0    Hyundai Santro Xing XO eRLX Euro III   Hyundai  2007         80,000   \n",
       "1                 Mahindra Jeep CL550 MDI  Mahindra  2006       4,25,000   \n",
       "2              Maruti Suzuki Alto 800 Vxi    Maruti  2018  Ask For Price   \n",
       "3  Hyundai Grand i10 Magna 1.2 Kappa VTVT   Hyundai  2014       3,25,000   \n",
       "4        Ford EcoSport Titanium 1.5L TDCi      Ford  2014       5,75,000   \n",
       "\n",
       "   kms_driven fuel_type  \n",
       "0  45,000 kms    Petrol  \n",
       "1      40 kms    Diesel  \n",
       "2  22,000 kms    Petrol  \n",
       "3  28,000 kms    Petrol  \n",
       "4  36,000 kms    Diesel  "
      ]
     },
     "execution_count": 632,
     "metadata": {},
     "output_type": "execute_result"
    }
   ],
   "source": [
    "# first five rows\n",
    "df.head()"
   ]
  },
  {
   "cell_type": "code",
   "execution_count": 633,
   "metadata": {},
   "outputs": [
    {
     "name": "stdout",
     "output_type": "stream",
     "text": [
      "This dataset contains 892 rows and 6 coulmns.\n"
     ]
    }
   ],
   "source": [
    "# number of rows and columns\n",
    "r, c = df.shape\n",
    "\n",
    "print(f\"This dataset contains {r} rows and {c} coulmns.\")"
   ]
  },
  {
   "cell_type": "code",
   "execution_count": 634,
   "metadata": {},
   "outputs": [
    {
     "data": {
      "text/html": [
       "<div>\n",
       "<style scoped>\n",
       "    .dataframe tbody tr th:only-of-type {\n",
       "        vertical-align: middle;\n",
       "    }\n",
       "\n",
       "    .dataframe tbody tr th {\n",
       "        vertical-align: top;\n",
       "    }\n",
       "\n",
       "    .dataframe thead th {\n",
       "        text-align: right;\n",
       "    }\n",
       "</style>\n",
       "<table border=\"1\" class=\"dataframe\">\n",
       "  <thead>\n",
       "    <tr style=\"text-align: right;\">\n",
       "      <th></th>\n",
       "      <th>name</th>\n",
       "      <th>company</th>\n",
       "      <th>year</th>\n",
       "      <th>Price</th>\n",
       "      <th>kms_driven</th>\n",
       "      <th>fuel_type</th>\n",
       "    </tr>\n",
       "  </thead>\n",
       "  <tbody>\n",
       "    <tr>\n",
       "      <th>887</th>\n",
       "      <td>Ta</td>\n",
       "      <td>Tara</td>\n",
       "      <td>zest</td>\n",
       "      <td>3,10,000</td>\n",
       "      <td>NaN</td>\n",
       "      <td>NaN</td>\n",
       "    </tr>\n",
       "    <tr>\n",
       "      <th>888</th>\n",
       "      <td>Tata Zest XM Diesel</td>\n",
       "      <td>Tata</td>\n",
       "      <td>2018</td>\n",
       "      <td>2,60,000</td>\n",
       "      <td>27,000 kms</td>\n",
       "      <td>Diesel</td>\n",
       "    </tr>\n",
       "    <tr>\n",
       "      <th>889</th>\n",
       "      <td>Mahindra Quanto C8</td>\n",
       "      <td>Mahindra</td>\n",
       "      <td>2013</td>\n",
       "      <td>3,90,000</td>\n",
       "      <td>40,000 kms</td>\n",
       "      <td>Diesel</td>\n",
       "    </tr>\n",
       "    <tr>\n",
       "      <th>890</th>\n",
       "      <td>Honda Amaze 1.2 E i VTEC</td>\n",
       "      <td>Honda</td>\n",
       "      <td>2014</td>\n",
       "      <td>1,80,000</td>\n",
       "      <td>Petrol</td>\n",
       "      <td>NaN</td>\n",
       "    </tr>\n",
       "    <tr>\n",
       "      <th>891</th>\n",
       "      <td>Chevrolet Sail 1.2 LT ABS</td>\n",
       "      <td>Chevrolet</td>\n",
       "      <td>2014</td>\n",
       "      <td>1,60,000</td>\n",
       "      <td>Petrol</td>\n",
       "      <td>NaN</td>\n",
       "    </tr>\n",
       "  </tbody>\n",
       "</table>\n",
       "</div>"
      ],
      "text/plain": [
       "                          name    company  year     Price  kms_driven  \\\n",
       "887                         Ta       Tara  zest  3,10,000         NaN   \n",
       "888        Tata Zest XM Diesel       Tata  2018  2,60,000  27,000 kms   \n",
       "889         Mahindra Quanto C8   Mahindra  2013  3,90,000  40,000 kms   \n",
       "890   Honda Amaze 1.2 E i VTEC      Honda  2014  1,80,000      Petrol   \n",
       "891  Chevrolet Sail 1.2 LT ABS  Chevrolet  2014  1,60,000      Petrol   \n",
       "\n",
       "    fuel_type  \n",
       "887       NaN  \n",
       "888    Diesel  \n",
       "889    Diesel  \n",
       "890       NaN  \n",
       "891       NaN  "
      ]
     },
     "execution_count": 634,
     "metadata": {},
     "output_type": "execute_result"
    }
   ],
   "source": [
    "# last 5 rows\n",
    "df.tail()"
   ]
  },
  {
   "cell_type": "markdown",
   "metadata": {},
   "source": [
    "# **Data Cleaning**"
   ]
  },
  {
   "cell_type": "code",
   "execution_count": 635,
   "metadata": {},
   "outputs": [
    {
     "data": {
      "text/plain": [
       "94"
      ]
     },
     "execution_count": 635,
     "metadata": {},
     "output_type": "execute_result"
    }
   ],
   "source": [
    "# number of duplicate values\n",
    "\n",
    "df.duplicated().sum()"
   ]
  },
  {
   "cell_type": "code",
   "execution_count": 636,
   "metadata": {},
   "outputs": [
    {
     "data": {
      "text/html": [
       "<div>\n",
       "<style scoped>\n",
       "    .dataframe tbody tr th:only-of-type {\n",
       "        vertical-align: middle;\n",
       "    }\n",
       "\n",
       "    .dataframe tbody tr th {\n",
       "        vertical-align: top;\n",
       "    }\n",
       "\n",
       "    .dataframe thead th {\n",
       "        text-align: right;\n",
       "    }\n",
       "</style>\n",
       "<table border=\"1\" class=\"dataframe\">\n",
       "  <thead>\n",
       "    <tr style=\"text-align: right;\">\n",
       "      <th></th>\n",
       "      <th>name</th>\n",
       "      <th>company</th>\n",
       "      <th>year</th>\n",
       "      <th>Price</th>\n",
       "      <th>kms_driven</th>\n",
       "      <th>fuel_type</th>\n",
       "    </tr>\n",
       "  </thead>\n",
       "  <tbody>\n",
       "    <tr>\n",
       "      <th>14</th>\n",
       "      <td>Hyundai Santro Xing XO eRLX Euro III</td>\n",
       "      <td>Hyundai</td>\n",
       "      <td>2007</td>\n",
       "      <td>80,000</td>\n",
       "      <td>45,000 kms</td>\n",
       "      <td>Petrol</td>\n",
       "    </tr>\n",
       "    <tr>\n",
       "      <th>15</th>\n",
       "      <td>Mahindra Jeep CL550 MDI</td>\n",
       "      <td>Mahindra</td>\n",
       "      <td>2006</td>\n",
       "      <td>4,25,000</td>\n",
       "      <td>40 kms</td>\n",
       "      <td>Diesel</td>\n",
       "    </tr>\n",
       "    <tr>\n",
       "      <th>20</th>\n",
       "      <td>Mahindra Scorpio S10</td>\n",
       "      <td>Mahindra</td>\n",
       "      <td>2016</td>\n",
       "      <td>3,50,000</td>\n",
       "      <td>43,000 kms</td>\n",
       "      <td>Diesel</td>\n",
       "    </tr>\n",
       "    <tr>\n",
       "      <th>24</th>\n",
       "      <td>Hyundai i20 Sportz 1.2</td>\n",
       "      <td>Hyundai</td>\n",
       "      <td>2012</td>\n",
       "      <td>1,00,000</td>\n",
       "      <td>55,000 kms</td>\n",
       "      <td>Petrol</td>\n",
       "    </tr>\n",
       "    <tr>\n",
       "      <th>25</th>\n",
       "      <td>Hyundai i20 Sportz 1.2</td>\n",
       "      <td>Hyundai</td>\n",
       "      <td>2012</td>\n",
       "      <td>1,00,000</td>\n",
       "      <td>55,000 kms</td>\n",
       "      <td>Petrol</td>\n",
       "    </tr>\n",
       "    <tr>\n",
       "      <th>...</th>\n",
       "      <td>...</td>\n",
       "      <td>...</td>\n",
       "      <td>...</td>\n",
       "      <td>...</td>\n",
       "      <td>...</td>\n",
       "      <td>...</td>\n",
       "    </tr>\n",
       "    <tr>\n",
       "      <th>626</th>\n",
       "      <td>Tata Sumo Gold EX BS IV</td>\n",
       "      <td>Tata</td>\n",
       "      <td>2012</td>\n",
       "      <td>2,10,000</td>\n",
       "      <td>75,000 kms</td>\n",
       "      <td>Diesel</td>\n",
       "    </tr>\n",
       "    <tr>\n",
       "      <th>641</th>\n",
       "      <td>Maruti Suzuki Swift VDi BS IV</td>\n",
       "      <td>Maruti</td>\n",
       "      <td>2012</td>\n",
       "      <td>2,80,000</td>\n",
       "      <td>48,006 kms</td>\n",
       "      <td>Diesel</td>\n",
       "    </tr>\n",
       "    <tr>\n",
       "      <th>727</th>\n",
       "      <td>Mahindra Scorpio S4</td>\n",
       "      <td>Mahindra</td>\n",
       "      <td>2015</td>\n",
       "      <td>8,65,000</td>\n",
       "      <td>30,000 kms</td>\n",
       "      <td>Diesel</td>\n",
       "    </tr>\n",
       "    <tr>\n",
       "      <th>861</th>\n",
       "      <td>Hyundai Getz Prime 1.3 GLX</td>\n",
       "      <td>Hyundai</td>\n",
       "      <td>2009</td>\n",
       "      <td>1,15,000</td>\n",
       "      <td>20,000 kms</td>\n",
       "      <td>Petrol</td>\n",
       "    </tr>\n",
       "    <tr>\n",
       "      <th>880</th>\n",
       "      <td>Maruti Suzuki Swift Dzire Tour VDi</td>\n",
       "      <td>Maruti</td>\n",
       "      <td>2009</td>\n",
       "      <td>2,50,000</td>\n",
       "      <td>51,000 kms</td>\n",
       "      <td>Diesel</td>\n",
       "    </tr>\n",
       "  </tbody>\n",
       "</table>\n",
       "<p>94 rows × 6 columns</p>\n",
       "</div>"
      ],
      "text/plain": [
       "                                     name   company  year     Price  \\\n",
       "14   Hyundai Santro Xing XO eRLX Euro III   Hyundai  2007    80,000   \n",
       "15                Mahindra Jeep CL550 MDI  Mahindra  2006  4,25,000   \n",
       "20                   Mahindra Scorpio S10  Mahindra  2016  3,50,000   \n",
       "24                 Hyundai i20 Sportz 1.2   Hyundai  2012  1,00,000   \n",
       "25                 Hyundai i20 Sportz 1.2   Hyundai  2012  1,00,000   \n",
       "..                                    ...       ...   ...       ...   \n",
       "626               Tata Sumo Gold EX BS IV      Tata  2012  2,10,000   \n",
       "641         Maruti Suzuki Swift VDi BS IV    Maruti  2012  2,80,000   \n",
       "727                   Mahindra Scorpio S4  Mahindra  2015  8,65,000   \n",
       "861            Hyundai Getz Prime 1.3 GLX   Hyundai  2009  1,15,000   \n",
       "880    Maruti Suzuki Swift Dzire Tour VDi    Maruti  2009  2,50,000   \n",
       "\n",
       "     kms_driven fuel_type  \n",
       "14   45,000 kms    Petrol  \n",
       "15       40 kms    Diesel  \n",
       "20   43,000 kms    Diesel  \n",
       "24   55,000 kms    Petrol  \n",
       "25   55,000 kms    Petrol  \n",
       "..          ...       ...  \n",
       "626  75,000 kms    Diesel  \n",
       "641  48,006 kms    Diesel  \n",
       "727  30,000 kms    Diesel  \n",
       "861  20,000 kms    Petrol  \n",
       "880  51,000 kms    Diesel  \n",
       "\n",
       "[94 rows x 6 columns]"
      ]
     },
     "execution_count": 636,
     "metadata": {},
     "output_type": "execute_result"
    }
   ],
   "source": [
    "duplicated_rows = df[df.duplicated()]\n",
    "duplicated_rows"
   ]
  },
  {
   "cell_type": "code",
   "execution_count": 637,
   "metadata": {},
   "outputs": [
    {
     "data": {
      "text/plain": [
       "0"
      ]
     },
     "execution_count": 637,
     "metadata": {},
     "output_type": "execute_result"
    }
   ],
   "source": [
    "# after removing duplicate values\n",
    "df.drop_duplicates(inplace=True)\n",
    "df.duplicated().sum()"
   ]
  },
  {
   "cell_type": "code",
   "execution_count": 638,
   "metadata": {},
   "outputs": [
    {
     "name": "stdout",
     "output_type": "stream",
     "text": [
      "This dataset contains 798 rows and 6 coulmns.\n"
     ]
    }
   ],
   "source": [
    "# number of rows and columns after removing duplicate values\n",
    "r, c = df.shape\n",
    "\n",
    "print(f\"This dataset contains {r} rows and {c} coulmns.\")"
   ]
  },
  {
   "cell_type": "code",
   "execution_count": 639,
   "metadata": {},
   "outputs": [
    {
     "data": {
      "text/plain": [
       "name           0\n",
       "company        0\n",
       "year           0\n",
       "Price          0\n",
       "kms_driven    50\n",
       "fuel_type     53\n",
       "dtype: int64"
      ]
     },
     "execution_count": 639,
     "metadata": {},
     "output_type": "execute_result"
    }
   ],
   "source": [
    "df.isnull().sum()"
   ]
  },
  {
   "cell_type": "markdown",
   "metadata": {},
   "source": [
    "# \"name\" Column"
   ]
  },
  {
   "cell_type": "code",
   "execution_count": 640,
   "metadata": {},
   "outputs": [
    {
     "data": {
      "text/plain": [
       "array(['Hyundai Santro Xing XO eRLX Euro III', 'Mahindra Jeep CL550 MDI',\n",
       "       'Maruti Suzuki Alto 800 Vxi',\n",
       "       'Hyundai Grand i10 Magna 1.2 Kappa VTVT',\n",
       "       'Ford EcoSport Titanium 1.5L TDCi', 'Ford Figo', 'Hyundai Eon',\n",
       "       'Ford EcoSport Ambiente 1.5L TDCi',\n",
       "       'Maruti Suzuki Alto K10 VXi AMT', 'Skoda Fabia Classic 1.2 MPI',\n",
       "       'Maruti Suzuki Stingray VXi', 'Hyundai Elite i20 Magna 1.2',\n",
       "       'Mahindra Scorpio SLE BS IV', 'Audi A8', 'Audi Q7',\n",
       "       'Mahindra Scorpio S10', 'Maruti Suzuki Alto 800',\n",
       "       'Hyundai i20 Sportz 1.2', 'Maruti Suzuki Alto 800 Lx',\n",
       "       'Maruti Suzuki Vitara Brezza ZDi', 'Maruti Suzuki Alto LX',\n",
       "       'Mahindra Bolero DI', 'Maruti Suzuki Swift Dzire ZDi',\n",
       "       'Mahindra Scorpio S10 4WD', 'Maruti Suzuki Swift Vdi BSIII',\n",
       "       'Maruti Suzuki Wagon R VXi BS III',\n",
       "       'Maruti Suzuki Wagon R VXi Minor',\n",
       "       'Toyota Innova 2.0 G 8 STR BS IV', 'Renault Lodgy 85 PS RXL',\n",
       "       'Skoda Yeti Ambition 2.0 TDI CR 4x2',\n",
       "       'Maruti Suzuki Baleno Delta 1.2',\n",
       "       'Renault Duster 110 PS RxZ Diesel Plus',\n",
       "       'Renault Duster 85 PS RxE Diesel', 'Honda City 1.5 S MT',\n",
       "       'Maruti Suzuki Dzire', 'Honda Amaze', 'Honda Amaze 1.5 SX i DTEC',\n",
       "       'Honda City', 'Datsun Redi GO S', 'Maruti Suzuki SX4 ZXI MT',\n",
       "       'Mitsubishi Pajero Sport Limited Edition',\n",
       "       'Maruti Suzuki Swift VXi 1.2 ABS BS IV', 'Honda City ZX CVT',\n",
       "       'Maruti Suzuki Wagon R LX BS IV', 'Tata Indigo eCS LS CR4 BS IV',\n",
       "       'Volkswagen Polo Highline Exquisite P',\n",
       "       'I want to sell my car Tata Zest', 'Chevrolet Spark LS 1.0',\n",
       "       'Renault Duster 110PS Diesel RxZ', 'Mini Cooper S 1.6',\n",
       "       'Skoda Fabia 1.2L Diesel Ambiente', 'Renault Duster',\n",
       "       'Mahindra Scorpio S4', 'Mahindra Scorpio VLX 2WD BS IV',\n",
       "       'Mahindra Quanto C8', 'Ford EcoSport', 'Honda Brio',\n",
       "       'Volkswagen Vento Highline Plus 1.5 Diesel AT',\n",
       "       'Hyundai i20 Magna', 'Toyota Corolla Altis Diesel D4DG',\n",
       "       'Hyundai Verna Transform SX VTVT',\n",
       "       'Toyota Corolla Altis Petrol Ltd', 'Honda City 1.5 EXi New',\n",
       "       'Skoda Fabia 1.2L Diesel Elegance', 'BMW 3 Series 320i',\n",
       "       'Maruti Suzuki A Star Lxi', 'Toyota Etios GD',\n",
       "       'Ford Figo Diesel EXI Option',\n",
       "       'Maruti Suzuki Swift Dzire VXi 1.2 BS IV',\n",
       "       'Chevrolet Beat LT Diesel', 'BMW 7 Series 740Li Sedan',\n",
       "       'Mahindra XUV500 W8 AWD 2013', 'Hyundai i10 Magna 1.2',\n",
       "       'Hyundai Verna Fluidic New', 'Maruti Suzuki Swift VXi 1.2 BS IV',\n",
       "       'Maruti Suzuki Ertiga ZXI Plus', 'Maruti Suzuki Ertiga Vxi',\n",
       "       'Maruti Suzuki Ertiga VDi', 'Maruti Suzuki Alto LXi BS III',\n",
       "       'Hyundai Grand i10 Asta 1.1 CRDi', 'Honda Amaze 1.2 S i VTEC',\n",
       "       'Hyundai i20 Asta 1.4 CRDI 6 Speed', 'Ford Figo Diesel EXI',\n",
       "       'Maruti Suzuki Eeco 5 STR WITH AC HTR', 'Maruti Suzuki Ertiga ZXi',\n",
       "       'Maruti Suzuki Esteem LXi BS III', 'Maruti Suzuki Ritz VXI',\n",
       "       'Maruti Suzuki Ritz LDi', 'Maruti Suzuki Dzire VDI',\n",
       "       'Toyota Etios Liva G', 'Hyundai i20 Sportz 1.4 CRDI',\n",
       "       'Chevrolet Spark', 'Nissan Micra XV', 'Maruti Suzuki Swift',\n",
       "       'Honda Amaze 1.5 S i DTEC', 'Chevrolet Beat', 'Toyota Corolla',\n",
       "       'Honda City 1.5 V MT', 'Ford EcoSport Trend 1.5L TDCi',\n",
       "       'Hyundai i20 Asta 1.2', 'Tata Indica V2 eLS',\n",
       "       'Maruti Suzuki Alto 800 Lxi', 'Hindustan Motors Ambassador',\n",
       "       'Toyota Corolla Altis 1.8 GL', 'Toyota Corolla Altis 1.8 J',\n",
       "       'Toyota Innova 2.5 GX BS IV 7 STR',\n",
       "       'Volkswagen Jetta Highline TDI AT',\n",
       "       'Volkswagen Polo Comfortline 1.2L P', 'Volkswagen Polo',\n",
       "       'Mahindra Scorpio', 'Nissan Sunny', 'Hyundai Elite i20',\n",
       "       'Renault Kwid', 'Mahindra Scorpio VLX Airbag',\n",
       "       'Chevrolet Spark LT 1.0', 'Datsun Redi GO T O',\n",
       "       'Maruti Suzuki Swift RS VDI', 'Fiat Punto Emotion 1.2',\n",
       "       'Hyundai i10 Sportz 1.2', 'Chevrolet Beat LT Opt Diesel',\n",
       "       'Chevrolet Beat LS Diesel', 'Tata Indigo CS',\n",
       "       'Maruti Suzuki Swift VDi', 'Hyundai Eon Era Plus',\n",
       "       'Mahindra XUV500', 'Ford Fiesta', 'Maruti Suzuki Wagon R',\n",
       "       'Hyundai i20', 'Tata Indigo eCS LX TDI BS III',\n",
       "       'Hyundai Fluidic Verna 1.6 CRDi SX',\n",
       "       'Commercial , DZire LDI, 2016, for sale', 'Fiat Petra ELX 1.2 PS',\n",
       "       'Hyundai Santro Xing XS', 'Maruti Suzuki Ciaz VXi Plus',\n",
       "       'Maruti Suzuki Zen VX', 'Hyundai Creta 1.6 SX Plus Petrol',\n",
       "       'Tata indigo ecs LX, 201', 'Mahindra Scorpio SLX',\n",
       "       'Toyota Innova 2.5 G BS III 8 STR',\n",
       "       'Maruti Suzuki Wagon R LXI BS IV', 'Tata Nano Cx BSIV',\n",
       "       'Maruti Suzuki Alto Std BS IV', 'Maruti Suzuki Wagon R LXi BS III',\n",
       "       'Maruti Suzuki Swift VXI BSIII',\n",
       "       'Tata Sumo Victa EX 10 by 7 Str BSIII', 'MARUTI SUZUKI DESI',\n",
       "       'Volkswagen Passat Diesel Comfortline AT',\n",
       "       'Renault Scala RxL Diesel Travelogue',\n",
       "       'Hyundai Grand i10 Sportz O 1.2 Kappa VTVT',\n",
       "       'Hyundai i20 Active 1.2 SX', 'Mahindra Xylo E4',\n",
       "       'Mahindra Jeep MM 550 XDB', 'Mahindra Bolero SLE BS IV',\n",
       "       'Force Motors Force One LX ABS 7 STR', 'Maruti Suzuki SX4',\n",
       "       'Toyota Etios', 'Honda City ZX VTEC',\n",
       "       'Maruti Suzuki Wagon R LX BS III', 'Honda City VX O MT Diesel',\n",
       "       'Mahindra Thar CRDe 4x4 AC',\n",
       "       'Audi A4 1.8 TFSI Multitronic Premium Plus',\n",
       "       'Mercedes Benz GLA Class 200 CDI Sport',\n",
       "       'Land Rover Freelander 2 SE', 'Renault Kwid RXT',\n",
       "       'Tata Aria Pleasure 4X2', 'Mercedes Benz B Class B180 Sports',\n",
       "       'Datsun GO T O', 'Honda Jazz VX MT',\n",
       "       'Hyundai i20 Active 1.4L SX O', 'Mini Cooper S',\n",
       "       'Maruti Suzuki Ciaz ZXI Plus', 'Chevrolet Tavera Neo',\n",
       "       'Hyundai Eon Sportz', 'Tata Sumo Gold Select Variant',\n",
       "       'Maruti Suzuki Wagon R 1.0', 'Maruti Suzuki Esteem VXi BS III',\n",
       "       'Chevrolet Enjoy 1.4 LS 8 STR', 'Maruti Suzuki Wagon R 1.0 VXi',\n",
       "       'Nissan Terrano XL D Plus', 'Renault Duster 85 PS RxL Diesel',\n",
       "       'Maruti Suzuki Dzire ZXI', 'Renault Kwid RXT Opt',\n",
       "       'Maruti Suzuki Maruti 800 Std', 'Renault Kwid 1.0 RXT AMT',\n",
       "       'Renault Scala RxL Diesel',\n",
       "       'Hyundai Grand i10 Asta 1.2 Kappa VTVT O',\n",
       "       'Chevrolet Beat LS Petrol', 'Hyundai Accent GLX', 'Yama',\n",
       "       'Maruti Suzuki Swift LDi', 'Mahindra TUV300 T4 Plus',\n",
       "       'Tata Indica V2 Xeta e GLE', 'Tata Indigo CS LS DiCOR',\n",
       "       'Mahindra Scorpio VLX Special Edition BS III',\n",
       "       'Tata Indica eV2 LS', 'Honda Accord',\n",
       "       'Ford EcoSport Titanium 1.5 TDCi', 'Maruti Suzuki Ertiga',\n",
       "       'Mahindra Scorpio 2.6 CRDe', 'Honda Mobilio',\n",
       "       'Toyota Corolla Altis', 'Skoda Laura', 'Hyundai Verna Fluidic',\n",
       "       'Maruti Suzuki Vitara Brezza', 'Tata Manza Aura Quadrajet',\n",
       "       'Chevrolet Sail UVA Petrol LT ABS',\n",
       "       'Hyundai Verna Fluidic 1.6 VTVT SX',\n",
       "       'Audi A4 2.0 TDI 177bhp Premium', 'Hyundai Elantra SX',\n",
       "       'Mahindra Scorpio VLX 4WD Airbag', 'Mahindra KUV100 K8 D 6 STR',\n",
       "       'Hyundai Grand i10', 'Hyundai i10', 'Hyundai i20 Active',\n",
       "       'Datsun Redi GO', 'Toyota Etios Liva', 'Hyundai Accent',\n",
       "       'Hyundai Verna', 'Toyota Fortuner', 'Hyundai i10 Sportz',\n",
       "       'Mahindra Bolero Power Plus SLE', 'selling car Ta',\n",
       "       'Honda City 1.5 V MT Exclusive', 'Chevrolet Spark LT 1.0 Airbag',\n",
       "       'Tata Indigo eCS VX CR4 BS IV', 'Tata Zest 90',\n",
       "       'Skoda Rapid Elegance 1.6 TDI CR MT', 'Tata Vista Quadrajet VX',\n",
       "       'Maruti Suzuki Alto K10 VXi AT', 'Maruti Suzuki Zen LXi BS III',\n",
       "       'Maruti Suzuki Swift Dzire Tour LDi', 'Honda City ZX EXi',\n",
       "       'Chevrolet Beat Diesel', 'Maruti Suzuki Swift Dzire car',\n",
       "       'Hyundai Verna 1.4 VTVT', 'Toyota Innova 2.5 E MS 7 STR BS IV',\n",
       "       'Maruti Suzuki Maruti 800 Std – Befo',\n",
       "       'Hyundai Elite i20 Asta 1.4 CRDI',\n",
       "       'Maruti Suzuki Swift Dzire Tour (Gat',\n",
       "       'Maruti Suzuki Versa DX2 8 SEATER BSIII',\n",
       "       'Tata Indigo LX TDI BS III',\n",
       "       'Volkswagen Vento Konekt Diesel Highline',\n",
       "       'Mercedes Benz C Class 200 CDI Classic', 'URJE',\n",
       "       'Hyundai Santro Xing GLS', 'Maruti Suzuki Omni Limited Edition',\n",
       "       'Hyundai Sonata Transform 2.4 GDi MT',\n",
       "       'Hyundai Elite i20 Sportz 1.2', 'Honda Jazz S MT',\n",
       "       'Hyundai Grand i10 Sportz 1.2 Kappa VTVT',\n",
       "       'Maruti Suzuki Zen LXi BSII',\n",
       "       'Mahindra Scorpio W Turbo 2.6DX 9 Seater',\n",
       "       'Swift Dzire Tour 27 Dec 2016 Regis', 'Maruti Suzuki Alto K10 VXi',\n",
       "       'Hyundai Grand i10 Asta 1.2 Kappa VTVT', 'Mahindra XUV500 W8',\n",
       "       'Hyundai i20 Magna O 1.2', 'Renault Duster 85 PS RxL Explore LE',\n",
       "       'Honda Brio V MT', 'Mahindra TUV300 T8',\n",
       "       'Nissan X Trail Select Variant', 'Ford Ikon 1.3 CLXi NXt Finesse',\n",
       "       'Toyota Fortuner 3.0 4x4 MT', 'Tata Manza ELAN Quadrajet',\n",
       "       'Tata zest x', 'Mahindra xyl',\n",
       "       'Mercedes Benz A Class A 180 Sport Petrol', 'Tata Indigo LS',\n",
       "       'Hyundai i20 Magna 1.2', 'Used Commercial Maruti Omn',\n",
       "       'Honda Amaze 1.5 E i DTEC', 'Hyundai Verna 1.6 EX VTVT',\n",
       "       'BMW 5 Series 520d Sedan', 'Skoda Superb 1.8 TFSI AT',\n",
       "       'Audi Q3 2.0 TDI quattro Premium', 'Mahindra Bolero DI BSII',\n",
       "       'Maruti Suzuki Zen Estilo LXI Green CNG',\n",
       "       'Ford Figo Duratorq Diesel Titanium 1.4',\n",
       "       'Maruti Suzuki Wagon R VXI BS IV', 'Mahindra Logan Diesel 1.5 DLS',\n",
       "       'Tata Nano GenX XMA', 'Honda City SV', 'Ford Figo Petrol LXI',\n",
       "       'Hyundai i10 Magna 1.2 Kappa2', 'Toyota Corolla H2',\n",
       "       'Maruti Suzuki Swift Dzire Tour VXi', 'Tata Indigo CS eLS BS IV',\n",
       "       'Hyundai Xcent Base 1.1 CRDi', 'Hyundai Accent Executive Edition',\n",
       "       'Tata Zest XE 75 PS Diesel', 'Maruti Suzuki Dzire LDI',\n",
       "       'Tata Sumo Gold LX BS IV', 'Toyota Corolla Altis GL Petrol',\n",
       "       'Maruti Suzuki Eeco 7 STR', 'Toyota Fortuner 3.0 4x2 MT',\n",
       "       'Mahindra XUV500 W6', 'Tata Tigor Revotron XZ',\n",
       "       'Maruti Suzuki 800', 'Honda Mobilio S i DTEC',\n",
       "       'Hyundai Verna 1.6 CRDI E', 'Maruti Suzuki Omni Select Variant',\n",
       "       'Tata Indica', 'Hyundai Santro Xing', 'Maruti Suzuki Zen Estilo',\n",
       "       'Honda Brio VX AT', 'Maruti Suzuki Wagon R Select Variant',\n",
       "       'Tata Nano Lx BSIV', 'Jaguar XE XE Portfolio',\n",
       "       'Hyundai Xcent S 1.2', 'Hyundai Eon Magna Plus',\n",
       "       'Maruti Suzuki Ritz GENUS VXI',\n",
       "       'Hyundai Grand i10 Magna AT 1.2 Kappa VTVT',\n",
       "       'Hyundai Eon D Lite Plus', 'Honda Amaze 1.2 VX i VTEC',\n",
       "       'Maruti Suzuki Estilo VXi ABS BS IV',\n",
       "       'Maruti Suzuki Vitara Brezza LDi O', 'Toyota Innova 2.0 V',\n",
       "       'Hyundai Creta 1.6 SX Plus Petrol AT', 'Mahindra Scorpio Vlx BSIV',\n",
       "       'Mitsubishi Lancer 1.8 LXi', 'Maruti Suzuki Maruti 800 AC',\n",
       "       'Maruti Suzuki Alto 800 LXI CNG O', 'Ford Fiesta SXi 1.6 ABS',\n",
       "       'Maruti Suzuki Ritz VDi', 'Maruti Suzuki Estilo LX BS IV',\n",
       "       'Audi A6 2.0 TDI Premium', 'Maruti Suzuki Alto',\n",
       "       'Maruti Suzuki Baleno Sigma 1.2', 'Hyundai Verna 1.6 SX VTVT AT',\n",
       "       'Maruti Suzuki Swift GLAM', 'Hyundai Getz Prime 1.3 GVS',\n",
       "       'Hyundai Santro', 'Hyundai Getz Prime 1.3 GLX',\n",
       "       'Chevrolet Beat PS Diesel', 'Ford EcoSport Trend 1.5 Ti VCT',\n",
       "       'Tata Indica V2 DLG', 'BMW X1 xDrive20d xLine',\n",
       "       'Honda City 1.5 V AT', 'Tata Nano', 'Chevrolet Cruze LTZ AT',\n",
       "       'Hyun', 'Maruti Suzuki Swift Dzire VDi', 'Mahindra XUV500 W10',\n",
       "       'Maruti Suzuki Alto K10 LXi CNG', 'Hyundai Accent GLE',\n",
       "       'Force Motors One SUV', 'Datsun Go Plus T O',\n",
       "       'Chevrolet Spark 1.0 LT', 'Toyota Etios Liva GD',\n",
       "       'Renault Duster 85PS Diesel RxL Optional with Nav',\n",
       "       'Chevrolet Enjoy', 'BMW 5 Series 530i', 'Chevrolet Cruze LTZ',\n",
       "       'Jeep Wrangler Unlimited 4x4 Diesel',\n",
       "       'Hyundai Verna VGT CRDi SX ABS', 'Maruti Suzuki Omni',\n",
       "       'Maruti Suzuki Celerio VDi', 'Tata Zest Quadrajet 1.3',\n",
       "       'Tata Indigo CS eLX BS IV', 'Hyundai i10 Era',\n",
       "       'Tata Indigo eCS LX CR4 BS IV', 'Tata Indigo Marina LS',\n",
       "       'Commercial Chevrolet Sail Hatchback ca', 'Hyundai Xcent SX 1.2',\n",
       "       'Tata Nano LX Special Edition', 'Commercial Car Ta',\n",
       "       'Renault Duster 110 PS RxZ Diesel',\n",
       "       'Maruti Suzuki Wagon R AX BSIV', 'Maruti Suzuki Alto K10 New',\n",
       "       'tata Indica', 'Mahindra Xylo E8', 'Tata Manza Aqua Quadrajet',\n",
       "       'Used bt new conditions ta', 'Renault Kwid 1.0', 'Sale tata',\n",
       "       'Tata Venture EX 8 STR', 'Maruti Suzuki Swift Dzire Tour LXi',\n",
       "       'Maruti Suzuki Alto LX BSII', 'Skoda Octavia Classic 1.9 TDI MT',\n",
       "       'Maruti Suzuki Omni LPG BS IV', 'Tata Sumo Gold EX BS IV',\n",
       "       'Tata indigo 2017 top model..', 'Hyundai Verna 1.6 CRDI SX',\n",
       "       'Mahindra Scorpio SLX 2.6 Turbo 8 Str', 'Ford Ikon 1.6 Nxt',\n",
       "       'Tata indigo', 'Toyota Innova 2.5 V 7 STR', 'Nissan Sunny XL',\n",
       "       'Maruti Suzuki Swift VDi BS IV',\n",
       "       'very good condition tata bolts are av', 'Toyota Innova 2.0 G4',\n",
       "       'Sale Hyundai xcent commerc', 'Maruti Suzuki Swift VDi ABS',\n",
       "       'Hyundai Elite i20 Asta 1.2', 'Volkswagen Polo Trendline 1.5L D',\n",
       "       'Toyota Etios Liva Diesel', 'Maruti Suzuki Ciaz ZXi Plus RS',\n",
       "       'Hyundai Elantra 1.8 S', 'Ford EcoSport Trend 1.5L Ti VCT',\n",
       "       'Jaguar XF 2.2 Diesel Luxury',\n",
       "       'Audi Q5 2.0 TDI quattro Premium Plus', 'BMW 3 Series 320d Sedan',\n",
       "       'Maruti Suzuki Swift ZXi 1.2 BS IV', 'BMW X1 sDrive20d',\n",
       "       'Maruti Suzuki S Cross Sigma 1.3', 'Maruti Suzuki Ertiga LDi',\n",
       "       'Volkswagen Vento Comfortline Petrol', 'Mahindra KUV100',\n",
       "       'Maruti Suzuki Swift Dzire Tour VDi', 'Mahindra Scorpio 2.6 SLX',\n",
       "       'Maruti Suzuki Omni 8 STR BS III',\n",
       "       'Volkswagen Jetta Comfortline 1.9 TDI AT', 'Volvo S80 Summum D4',\n",
       "       'Toyota Corolla Altis VL AT Petrol',\n",
       "       'Mitsubishi Pajero Sport 2.5 AT', 'Chevrolet Beat LT Petrol',\n",
       "       'BMW X1', 'Mercedes Benz C Class C 220 CDI Avantgarde',\n",
       "       'Volkswagen Vento Comfortline Diesel', 'Tata Indigo CS GLS',\n",
       "       'Ford Figo Petrol Titanium', 'Honda City ZX GXi',\n",
       "       'Maruti Suzuki Wagon R Duo Lxi', 'Maruti Suzuki Zen LX BSII',\n",
       "       'Renault Duster RxL Petrol', 'Maruti Suzuki Baleno Zeta 1.2',\n",
       "       'Honda WR V S MT Petrol', 'Renault Duster 110 PS RxL Diesel',\n",
       "       'Mahindra Scorpio LX BS III',\n",
       "       'Maruti Suzuki SX4 Celebration Diesel',\n",
       "       'Audi A3 Cabriolet 40 TFSI',\n",
       "       'I want to sell my commercial car due t',\n",
       "       'Hyundai Santro AE GLS Audio',\n",
       "       'i want sale my car.no emi....uber atta', 'Tata ZEST 6 month old',\n",
       "       'Mahindra Xylo D2 BS IV', 'Hyundai Getz GLE',\n",
       "       'Hyundai Creta 1.6 SX', 'Hyundai Santro Xing XL AT eRLX Euro III',\n",
       "       'Hyundai Santro Xing XL eRLX Euro III',\n",
       "       'Tata Indica V2 DLS BS III', 'Honda City 1.5 E MT',\n",
       "       'Nissan Micra XL', 'Honda City 1.5 S Inspire',\n",
       "       'Tata Indica eV2 eXeta eGLX', 'Maruti Suzuki Omni E 8 STR BS IV',\n",
       "       'MARUTI SUZUKI ERTIGA F', 'Hyundai Verna 1.6 CRDI SX Plus AT',\n",
       "       'Chevrolet Tavera LS B3 10 Seats BSII', 'Tata Tiago Revotron XM',\n",
       "       'Tata Tiago Revotorq XZ', 'Tata Nexon', 'Tata',\n",
       "       'Hindustan Motors Ambassador Classic Mark 4 – Befo',\n",
       "       'Ford Fusion 1.4 TDCi Diesel',\n",
       "       'Fiat Linea Emotion 1.4 L T Jet Petrol',\n",
       "       'Ford Ikon 1.3 Flair Josh 100', 'Tata Indica V2 LS',\n",
       "       'Mahindra Xylo D2', 'Hyundai Eon Magna',\n",
       "       'Tata Sumo Grande MKII GX', 'Volkswagen Polo Highline1.2L P',\n",
       "       'Tata Tiago Revotron XZ', 'Tata Indigo eCS',\n",
       "       '2012 Tata Sumo Gold f', 'Mahindra Xylo E8 BS IV',\n",
       "       'Well mentained Tata Sumo',\n",
       "       'all paper updated tata indica v2 and u',\n",
       "       'Maruti Ertiga showroom condition with',\n",
       "       '7 SEATER MAHINDRA BOLERO IN VERY GOOD', '9 SEATER MAHINDRA BOL',\n",
       "       'scratch less Tata I', 'Maruti Suzuki swift dzire for sale in',\n",
       "       'Commercial Chevrolet beat for sale in',\n",
       "       'urgent sell my Mahindra qu', 'Tata Sumo Gold FX BSIII',\n",
       "       'sell my car Maruti Suzuki Swif',\n",
       "       'Maruti Suzuki Swift Dzire good car fo', 'Hyunda',\n",
       "       'Commercial Maruti Suzuki Alto Lxi 800', 'urgent sale Ta',\n",
       "       'Maruti Suzuki Alto vxi t', 'tata', 'TATA INDI', 'Hyundai Creta',\n",
       "       'Tata Bolt XM Petrol', 'Hyundai Venue', 'Maruti Suzuki Ritz',\n",
       "       'Renault Lodgy', 'Hyundai i20 Asta',\n",
       "       'Maruti Suzuki Swift Select Variant', 'Tata Indica V2 DLX BS III',\n",
       "       'Mahindra Scorpio VLX 2.2 mHawk Airbag BSIV',\n",
       "       'Toyota Innova 2.5 E 8 STR', 'Mahindra KUV100 K8 6 STR',\n",
       "       'Datsun Go Plus', 'Ford Endeavor 4x4 Thunder Plus',\n",
       "       'Tata Indica V2', 'Hyundai Santro Xing GL',\n",
       "       'Toyota Innova 2.5 Z Diesel 7 Seater',\n",
       "       'Any type car avaiabel hare...comercica', 'Maruti Suzuki Alto AX',\n",
       "       'Mahindra Logan', 'Maruti Suzuki 800 Std BS III',\n",
       "       'Chevrolet Sail 1.2 LS',\n",
       "       'Volkswagen Vento Highline Plus 1.5 Diesel', 'Tata Manza',\n",
       "       'Toyota Innova 2.0 G1 Petrol 8seater', 'Toyota Etios G',\n",
       "       'Toyota Qualis', 'Mahindra Quanto C4', 'Maruti Suzuki Swift Dzire',\n",
       "       'Hyundai i20 Select Variant', 'Honda City VX Petrol',\n",
       "       'Hyundai Getz', 'Mercedes Benz C Class 200 K MT', 'Skoda Fabia',\n",
       "       'Maruti Suzuki Alto 800 Select Variant',\n",
       "       'Maruti Suzuki Ritz VXI ABS', 'tata zest 2017 f',\n",
       "       'Tata Indica V2 DLE BS III', 'Ta', 'Tata Zest XM Diesel',\n",
       "       'Honda Amaze 1.2 E i VTEC', 'Chevrolet Sail 1.2 LT ABS'],\n",
       "      dtype=object)"
      ]
     },
     "execution_count": 640,
     "metadata": {},
     "output_type": "execute_result"
    }
   ],
   "source": [
    "df[\"name\"].unique()"
   ]
  },
  {
   "cell_type": "code",
   "execution_count": 641,
   "metadata": {},
   "outputs": [
    {
     "data": {
      "text/plain": [
       "0        hyundai santro xing xo erlx euro iii\n",
       "1                     mahindra jeep cl550 mdi\n",
       "2                  maruti suzuki alto 800 vxi\n",
       "3      hyundai grand i10 magna 1.2 kappa vtvt\n",
       "4            ford ecosport titanium 1.5l tdci\n",
       "                        ...                  \n",
       "887                                        ta\n",
       "888                       tata zest xm diesel\n",
       "889                        mahindra quanto c8\n",
       "890                  honda amaze 1.2 e i vtec\n",
       "891                 chevrolet sail 1.2 lt abs\n",
       "Name: name, Length: 798, dtype: object"
      ]
     },
     "execution_count": 641,
     "metadata": {},
     "output_type": "execute_result"
    }
   ],
   "source": [
    "# transforming into lower case\n",
    "df[\"name\"] = df[\"name\"].str.lower()\n",
    "df[\"name\"]"
   ]
  },
  {
   "cell_type": "code",
   "execution_count": 642,
   "metadata": {},
   "outputs": [
    {
     "data": {
      "text/plain": [
       "array(['hyundai santro xing xo erlx euro iii', 'mahindra jeep cl550 mdi',\n",
       "       'maruti suzuki alto 800 vxi',\n",
       "       'hyundai grand i10 magna 1.2 kappa vtvt',\n",
       "       'ford ecosport titanium 1.5l tdci', 'ford figo', 'hyundai eon',\n",
       "       'ford ecosport ambiente 1.5l tdci',\n",
       "       'maruti suzuki alto k10 vxi amt', 'skoda fabia classic 1.2 mpi',\n",
       "       'maruti suzuki stingray vxi', 'hyundai elite i20 magna 1.2',\n",
       "       'mahindra scorpio sle bs iv', 'audi a8', 'audi q7',\n",
       "       'mahindra scorpio s10', 'maruti suzuki alto 800',\n",
       "       'hyundai i20 sportz 1.2', 'maruti suzuki alto 800 lx',\n",
       "       'maruti suzuki vitara brezza zdi', 'maruti suzuki alto lx',\n",
       "       'mahindra bolero di', 'maruti suzuki swift dzire zdi',\n",
       "       'mahindra scorpio s10 4wd', 'maruti suzuki swift vdi bsiii',\n",
       "       'maruti suzuki wagon r vxi bs iii',\n",
       "       'maruti suzuki wagon r vxi minor',\n",
       "       'toyota innova 2.0 g 8 str bs iv', 'renault lodgy 85 ps rxl',\n",
       "       'skoda yeti ambition 2.0 tdi cr 4x2',\n",
       "       'maruti suzuki baleno delta 1.2',\n",
       "       'renault duster 110 ps rxz diesel plus',\n",
       "       'renault duster 85 ps rxe diesel', 'honda city 1.5 s mt',\n",
       "       'maruti suzuki dzire', 'honda amaze', 'honda amaze 1.5 sx i dtec',\n",
       "       'honda city', 'datsun redi go s', 'maruti suzuki sx4 zxi mt',\n",
       "       'mitsubishi pajero sport limited edition',\n",
       "       'maruti suzuki swift vxi 1.2 abs bs iv', 'honda city zx cvt',\n",
       "       'maruti suzuki wagon r lx bs iv', 'tata indigo ecs ls cr4 bs iv',\n",
       "       'volkswagen polo highline exquisite p',\n",
       "       'i want to sell my car tata zest', 'chevrolet spark ls 1.0',\n",
       "       'renault duster 110ps diesel rxz', 'mini cooper s 1.6',\n",
       "       'skoda fabia 1.2l diesel ambiente', 'renault duster',\n",
       "       'mahindra scorpio s4', 'mahindra scorpio vlx 2wd bs iv',\n",
       "       'mahindra quanto c8', 'ford ecosport', 'honda brio',\n",
       "       'volkswagen vento highline plus 1.5 diesel at',\n",
       "       'hyundai i20 magna', 'toyota corolla altis diesel d4dg',\n",
       "       'hyundai verna transform sx vtvt',\n",
       "       'toyota corolla altis petrol ltd', 'honda city 1.5 exi new',\n",
       "       'skoda fabia 1.2l diesel elegance', 'bmw 3 series 320i',\n",
       "       'maruti suzuki a star lxi', 'toyota etios gd',\n",
       "       'ford figo diesel exi option',\n",
       "       'maruti suzuki swift dzire vxi 1.2 bs iv',\n",
       "       'chevrolet beat lt diesel', 'bmw 7 series 740li sedan',\n",
       "       'mahindra xuv500 w8 awd 2013', 'hyundai i10 magna 1.2',\n",
       "       'hyundai verna fluidic new', 'maruti suzuki swift vxi 1.2 bs iv',\n",
       "       'maruti suzuki ertiga zxi plus', 'maruti suzuki ertiga vxi',\n",
       "       'maruti suzuki ertiga vdi', 'maruti suzuki alto lxi bs iii',\n",
       "       'hyundai grand i10 asta 1.1 crdi', 'honda amaze 1.2 s i vtec',\n",
       "       'hyundai i20 asta 1.4 crdi 6 speed', 'ford figo diesel exi',\n",
       "       'maruti suzuki eeco 5 str with ac htr', 'maruti suzuki ertiga zxi',\n",
       "       'maruti suzuki esteem lxi bs iii', 'maruti suzuki ritz vxi',\n",
       "       'maruti suzuki ritz ldi', 'maruti suzuki dzire vdi',\n",
       "       'toyota etios liva g', 'hyundai i20 sportz 1.4 crdi',\n",
       "       'chevrolet spark', 'nissan micra xv', 'maruti suzuki swift',\n",
       "       'honda amaze 1.5 s i dtec', 'chevrolet beat', 'toyota corolla',\n",
       "       'honda city 1.5 v mt', 'ford ecosport trend 1.5l tdci',\n",
       "       'hyundai i20 asta 1.2', 'tata indica v2 els',\n",
       "       'maruti suzuki alto 800 lxi', 'hindustan motors ambassador',\n",
       "       'toyota corolla altis 1.8 gl', 'toyota corolla altis 1.8 j',\n",
       "       'toyota innova 2.5 gx bs iv 7 str',\n",
       "       'volkswagen jetta highline tdi at',\n",
       "       'volkswagen polo comfortline 1.2l p', 'volkswagen polo',\n",
       "       'mahindra scorpio', 'nissan sunny', 'hyundai elite i20',\n",
       "       'renault kwid', 'mahindra scorpio vlx airbag',\n",
       "       'chevrolet spark lt 1.0', 'datsun redi go t o',\n",
       "       'maruti suzuki swift rs vdi', 'fiat punto emotion 1.2',\n",
       "       'hyundai i10 sportz 1.2', 'chevrolet beat lt opt diesel',\n",
       "       'chevrolet beat ls diesel', 'tata indigo cs',\n",
       "       'maruti suzuki swift vdi', 'hyundai eon era plus',\n",
       "       'mahindra xuv500', 'ford fiesta', 'maruti suzuki wagon r',\n",
       "       'hyundai i20', 'tata indigo ecs lx tdi bs iii',\n",
       "       'hyundai fluidic verna 1.6 crdi sx',\n",
       "       'commercial , dzire ldi, 2016, for sale', 'fiat petra elx 1.2 ps',\n",
       "       'hyundai santro xing xs', 'maruti suzuki ciaz vxi plus',\n",
       "       'maruti suzuki zen vx', 'hyundai creta 1.6 sx plus petrol',\n",
       "       'tata indigo ecs lx, 201', 'mahindra scorpio slx',\n",
       "       'toyota innova 2.5 g bs iii 8 str',\n",
       "       'maruti suzuki wagon r lxi bs iv', 'tata nano cx bsiv',\n",
       "       'maruti suzuki alto std bs iv', 'maruti suzuki wagon r lxi bs iii',\n",
       "       'maruti suzuki swift vxi bsiii',\n",
       "       'tata sumo victa ex 10 by 7 str bsiii', 'maruti suzuki desi',\n",
       "       'volkswagen passat diesel comfortline at',\n",
       "       'renault scala rxl diesel travelogue',\n",
       "       'hyundai grand i10 sportz o 1.2 kappa vtvt',\n",
       "       'hyundai i20 active 1.2 sx', 'mahindra xylo e4',\n",
       "       'mahindra jeep mm 550 xdb', 'mahindra bolero sle bs iv',\n",
       "       'force motors force one lx abs 7 str', 'maruti suzuki sx4',\n",
       "       'toyota etios', 'honda city zx vtec',\n",
       "       'maruti suzuki wagon r lx bs iii', 'honda city vx o mt diesel',\n",
       "       'mahindra thar crde 4x4 ac',\n",
       "       'audi a4 1.8 tfsi multitronic premium plus',\n",
       "       'mercedes benz gla class 200 cdi sport',\n",
       "       'land rover freelander 2 se', 'renault kwid rxt',\n",
       "       'tata aria pleasure 4x2', 'mercedes benz b class b180 sports',\n",
       "       'datsun go t o', 'honda jazz vx mt',\n",
       "       'hyundai i20 active 1.4l sx o', 'mini cooper s',\n",
       "       'maruti suzuki ciaz zxi plus', 'chevrolet tavera neo',\n",
       "       'hyundai eon sportz', 'tata sumo gold select variant',\n",
       "       'maruti suzuki wagon r 1.0', 'maruti suzuki esteem vxi bs iii',\n",
       "       'chevrolet enjoy 1.4 ls 8 str', 'maruti suzuki wagon r 1.0 vxi',\n",
       "       'nissan terrano xl d plus', 'renault duster 85 ps rxl diesel',\n",
       "       'maruti suzuki dzire zxi', 'renault kwid rxt opt',\n",
       "       'maruti suzuki maruti 800 std', 'renault kwid 1.0 rxt amt',\n",
       "       'renault scala rxl diesel',\n",
       "       'hyundai grand i10 asta 1.2 kappa vtvt o',\n",
       "       'chevrolet beat ls petrol', 'hyundai accent glx', 'yama',\n",
       "       'maruti suzuki swift ldi', 'mahindra tuv300 t4 plus',\n",
       "       'tata indica v2 xeta e gle', 'tata indigo cs ls dicor',\n",
       "       'mahindra scorpio vlx special edition bs iii',\n",
       "       'tata indica ev2 ls', 'honda accord',\n",
       "       'ford ecosport titanium 1.5 tdci', 'maruti suzuki ertiga',\n",
       "       'mahindra scorpio 2.6 crde', 'honda mobilio',\n",
       "       'toyota corolla altis', 'skoda laura', 'hyundai verna fluidic',\n",
       "       'maruti suzuki vitara brezza', 'tata manza aura quadrajet',\n",
       "       'chevrolet sail uva petrol lt abs',\n",
       "       'hyundai verna fluidic 1.6 vtvt sx',\n",
       "       'audi a4 2.0 tdi 177bhp premium', 'hyundai elantra sx',\n",
       "       'mahindra scorpio vlx 4wd airbag', 'mahindra kuv100 k8 d 6 str',\n",
       "       'hyundai grand i10', 'hyundai i10', 'hyundai i20 active',\n",
       "       'datsun redi go', 'toyota etios liva', 'hyundai accent',\n",
       "       'hyundai verna', 'toyota fortuner', 'hyundai i10 sportz',\n",
       "       'mahindra bolero power plus sle', 'selling car ta',\n",
       "       'honda city 1.5 v mt exclusive', 'chevrolet spark lt 1.0 airbag',\n",
       "       'tata indigo ecs vx cr4 bs iv', 'tata zest 90',\n",
       "       'skoda rapid elegance 1.6 tdi cr mt', 'tata vista quadrajet vx',\n",
       "       'maruti suzuki alto k10 vxi at', 'maruti suzuki zen lxi bs iii',\n",
       "       'maruti suzuki swift dzire tour ldi', 'honda city zx exi',\n",
       "       'chevrolet beat diesel', 'maruti suzuki swift dzire car',\n",
       "       'hyundai verna 1.4 vtvt', 'toyota innova 2.5 e ms 7 str bs iv',\n",
       "       'maruti suzuki maruti 800 std – befo',\n",
       "       'hyundai elite i20 asta 1.4 crdi',\n",
       "       'maruti suzuki swift dzire tour (gat',\n",
       "       'maruti suzuki versa dx2 8 seater bsiii',\n",
       "       'tata indigo lx tdi bs iii',\n",
       "       'volkswagen vento konekt diesel highline',\n",
       "       'mercedes benz c class 200 cdi classic', 'urje',\n",
       "       'hyundai santro xing gls', 'maruti suzuki omni limited edition',\n",
       "       'hyundai sonata transform 2.4 gdi mt',\n",
       "       'hyundai elite i20 sportz 1.2', 'honda jazz s mt',\n",
       "       'hyundai grand i10 sportz 1.2 kappa vtvt',\n",
       "       'maruti suzuki zen lxi bsii',\n",
       "       'mahindra scorpio w turbo 2.6dx 9 seater',\n",
       "       'swift dzire tour 27 dec 2016 regis', 'maruti suzuki alto k10 vxi',\n",
       "       'hyundai grand i10 asta 1.2 kappa vtvt', 'mahindra xuv500 w8',\n",
       "       'hyundai i20 magna o 1.2', 'renault duster 85 ps rxl explore le',\n",
       "       'honda brio v mt', 'mahindra tuv300 t8',\n",
       "       'nissan x trail select variant', 'ford ikon 1.3 clxi nxt finesse',\n",
       "       'toyota fortuner 3.0 4x4 mt', 'tata manza elan quadrajet',\n",
       "       'tata zest x', 'mahindra xyl',\n",
       "       'mercedes benz a class a 180 sport petrol', 'tata indigo ls',\n",
       "       'hyundai i20 magna 1.2', 'used commercial maruti omn',\n",
       "       'honda amaze 1.5 e i dtec', 'hyundai verna 1.6 ex vtvt',\n",
       "       'bmw 5 series 520d sedan', 'skoda superb 1.8 tfsi at',\n",
       "       'audi q3 2.0 tdi quattro premium', 'mahindra bolero di bsii',\n",
       "       'maruti suzuki zen estilo lxi green cng',\n",
       "       'ford figo duratorq diesel titanium 1.4',\n",
       "       'maruti suzuki wagon r vxi bs iv', 'mahindra logan diesel 1.5 dls',\n",
       "       'tata nano genx xma', 'honda city sv', 'ford figo petrol lxi',\n",
       "       'hyundai i10 magna 1.2 kappa2', 'toyota corolla h2',\n",
       "       'maruti suzuki swift dzire tour vxi', 'tata indigo cs els bs iv',\n",
       "       'hyundai xcent base 1.1 crdi', 'hyundai accent executive edition',\n",
       "       'tata zest xe 75 ps diesel', 'maruti suzuki dzire ldi',\n",
       "       'tata sumo gold lx bs iv', 'toyota corolla altis gl petrol',\n",
       "       'maruti suzuki eeco 7 str', 'toyota fortuner 3.0 4x2 mt',\n",
       "       'mahindra xuv500 w6', 'tata tigor revotron xz',\n",
       "       'maruti suzuki 800', 'honda mobilio s i dtec',\n",
       "       'hyundai verna 1.6 crdi e', 'maruti suzuki omni select variant',\n",
       "       'tata indica', 'hyundai santro xing', 'maruti suzuki zen estilo',\n",
       "       'honda brio vx at', 'maruti suzuki wagon r select variant',\n",
       "       'tata nano lx bsiv', 'jaguar xe xe portfolio',\n",
       "       'hyundai xcent s 1.2', 'hyundai eon magna plus',\n",
       "       'maruti suzuki ritz genus vxi',\n",
       "       'hyundai grand i10 magna at 1.2 kappa vtvt',\n",
       "       'hyundai eon d lite plus', 'honda amaze 1.2 vx i vtec',\n",
       "       'maruti suzuki estilo vxi abs bs iv',\n",
       "       'maruti suzuki vitara brezza ldi o', 'toyota innova 2.0 v',\n",
       "       'hyundai creta 1.6 sx plus petrol at', 'mahindra scorpio vlx bsiv',\n",
       "       'mitsubishi lancer 1.8 lxi', 'maruti suzuki maruti 800 ac',\n",
       "       'maruti suzuki alto 800 lxi cng o', 'ford fiesta sxi 1.6 abs',\n",
       "       'maruti suzuki ritz vdi', 'maruti suzuki estilo lx bs iv',\n",
       "       'audi a6 2.0 tdi premium', 'maruti suzuki alto',\n",
       "       'maruti suzuki baleno sigma 1.2', 'hyundai verna 1.6 sx vtvt at',\n",
       "       'maruti suzuki swift glam', 'hyundai getz prime 1.3 gvs',\n",
       "       'hyundai santro', 'hyundai getz prime 1.3 glx',\n",
       "       'chevrolet beat ps diesel', 'ford ecosport trend 1.5 ti vct',\n",
       "       'tata indica v2 dlg', 'bmw x1 xdrive20d xline',\n",
       "       'honda city 1.5 v at', 'tata nano', 'chevrolet cruze ltz at',\n",
       "       'hyun', 'maruti suzuki swift dzire vdi', 'mahindra xuv500 w10',\n",
       "       'maruti suzuki alto k10 lxi cng', 'hyundai accent gle',\n",
       "       'force motors one suv', 'datsun go plus t o',\n",
       "       'chevrolet spark 1.0 lt', 'toyota etios liva gd',\n",
       "       'renault duster 85ps diesel rxl optional with nav',\n",
       "       'chevrolet enjoy', 'bmw 5 series 530i', 'chevrolet cruze ltz',\n",
       "       'jeep wrangler unlimited 4x4 diesel',\n",
       "       'hyundai verna vgt crdi sx abs', 'maruti suzuki omni',\n",
       "       'maruti suzuki celerio vdi', 'tata zest quadrajet 1.3',\n",
       "       'tata indigo cs elx bs iv', 'hyundai i10 era',\n",
       "       'tata indigo ecs lx cr4 bs iv', 'tata indigo marina ls',\n",
       "       'commercial chevrolet sail hatchback ca', 'hyundai xcent sx 1.2',\n",
       "       'tata nano lx special edition', 'commercial car ta',\n",
       "       'renault duster 110 ps rxz diesel',\n",
       "       'maruti suzuki wagon r ax bsiv', 'maruti suzuki alto k10 new',\n",
       "       'mahindra xylo e8', 'tata manza aqua quadrajet',\n",
       "       'used bt new conditions ta', 'renault kwid 1.0', 'sale tata',\n",
       "       'tata venture ex 8 str', 'maruti suzuki swift dzire tour lxi',\n",
       "       'maruti suzuki alto lx bsii', 'skoda octavia classic 1.9 tdi mt',\n",
       "       'maruti suzuki omni lpg bs iv', 'tata sumo gold ex bs iv',\n",
       "       'tata indigo 2017 top model..', 'hyundai verna 1.6 crdi sx',\n",
       "       'mahindra scorpio slx 2.6 turbo 8 str', 'ford ikon 1.6 nxt',\n",
       "       'tata indigo', 'toyota innova 2.5 v 7 str', 'nissan sunny xl',\n",
       "       'maruti suzuki swift vdi bs iv',\n",
       "       'very good condition tata bolts are av', 'toyota innova 2.0 g4',\n",
       "       'sale hyundai xcent commerc', 'maruti suzuki swift vdi abs',\n",
       "       'hyundai elite i20 asta 1.2', 'volkswagen polo trendline 1.5l d',\n",
       "       'toyota etios liva diesel', 'maruti suzuki ciaz zxi plus rs',\n",
       "       'hyundai elantra 1.8 s', 'ford ecosport trend 1.5l ti vct',\n",
       "       'jaguar xf 2.2 diesel luxury',\n",
       "       'audi q5 2.0 tdi quattro premium plus', 'bmw 3 series 320d sedan',\n",
       "       'maruti suzuki swift zxi 1.2 bs iv', 'bmw x1 sdrive20d',\n",
       "       'maruti suzuki s cross sigma 1.3', 'maruti suzuki ertiga ldi',\n",
       "       'volkswagen vento comfortline petrol', 'mahindra kuv100',\n",
       "       'maruti suzuki swift dzire tour vdi', 'mahindra scorpio 2.6 slx',\n",
       "       'maruti suzuki omni 8 str bs iii',\n",
       "       'volkswagen jetta comfortline 1.9 tdi at', 'volvo s80 summum d4',\n",
       "       'toyota corolla altis vl at petrol',\n",
       "       'mitsubishi pajero sport 2.5 at', 'chevrolet beat lt petrol',\n",
       "       'bmw x1', 'mercedes benz c class c 220 cdi avantgarde',\n",
       "       'volkswagen vento comfortline diesel', 'tata indigo cs gls',\n",
       "       'ford figo petrol titanium', 'honda city zx gxi',\n",
       "       'maruti suzuki wagon r duo lxi', 'maruti suzuki zen lx bsii',\n",
       "       'renault duster rxl petrol', 'maruti suzuki baleno zeta 1.2',\n",
       "       'honda wr v s mt petrol', 'renault duster 110 ps rxl diesel',\n",
       "       'mahindra scorpio lx bs iii',\n",
       "       'maruti suzuki sx4 celebration diesel',\n",
       "       'audi a3 cabriolet 40 tfsi',\n",
       "       'i want to sell my commercial car due t',\n",
       "       'hyundai santro ae gls audio',\n",
       "       'i want sale my car.no emi....uber atta', 'tata zest 6 month old',\n",
       "       'mahindra xylo d2 bs iv', 'hyundai getz gle',\n",
       "       'hyundai creta 1.6 sx', 'hyundai santro xing xl at erlx euro iii',\n",
       "       'hyundai santro xing xl erlx euro iii',\n",
       "       'tata indica v2 dls bs iii', 'honda city 1.5 e mt',\n",
       "       'nissan micra xl', 'honda city 1.5 s inspire',\n",
       "       'tata indica ev2 exeta eglx', 'maruti suzuki omni e 8 str bs iv',\n",
       "       'maruti suzuki ertiga f', 'hyundai verna 1.6 crdi sx plus at',\n",
       "       'chevrolet tavera ls b3 10 seats bsii', 'tata tiago revotron xm',\n",
       "       'tata tiago revotorq xz', 'tata nexon', 'tata',\n",
       "       'hindustan motors ambassador classic mark 4 – befo',\n",
       "       'ford fusion 1.4 tdci diesel',\n",
       "       'fiat linea emotion 1.4 l t jet petrol',\n",
       "       'ford ikon 1.3 flair josh 100', 'tata indica v2 ls',\n",
       "       'mahindra xylo d2', 'hyundai eon magna',\n",
       "       'tata sumo grande mkii gx', 'volkswagen polo highline1.2l p',\n",
       "       'tata tiago revotron xz', 'tata indigo ecs',\n",
       "       '2012 tata sumo gold f', 'mahindra xylo e8 bs iv',\n",
       "       'well mentained tata sumo',\n",
       "       'all paper updated tata indica v2 and u',\n",
       "       'maruti ertiga showroom condition with',\n",
       "       '7 seater mahindra bolero in very good', '9 seater mahindra bol',\n",
       "       'scratch less tata i', 'maruti suzuki swift dzire for sale in',\n",
       "       'commercial chevrolet beat for sale in',\n",
       "       'urgent sell my mahindra qu', 'tata sumo gold fx bsiii',\n",
       "       'sell my car maruti suzuki swif',\n",
       "       'maruti suzuki swift dzire good car fo', 'hyunda',\n",
       "       'commercial maruti suzuki alto lxi 800', 'urgent sale ta',\n",
       "       'maruti suzuki alto vxi t', 'tata indi', 'hyundai creta',\n",
       "       'tata bolt xm petrol', 'hyundai venue', 'maruti suzuki ritz',\n",
       "       'renault lodgy', 'hyundai i20 asta',\n",
       "       'maruti suzuki swift select variant', 'tata indica v2 dlx bs iii',\n",
       "       'mahindra scorpio vlx 2.2 mhawk airbag bsiv',\n",
       "       'toyota innova 2.5 e 8 str', 'mahindra kuv100 k8 6 str',\n",
       "       'datsun go plus', 'ford endeavor 4x4 thunder plus',\n",
       "       'tata indica v2', 'hyundai santro xing gl',\n",
       "       'toyota innova 2.5 z diesel 7 seater',\n",
       "       'any type car avaiabel hare...comercica', 'maruti suzuki alto ax',\n",
       "       'mahindra logan', 'maruti suzuki 800 std bs iii',\n",
       "       'chevrolet sail 1.2 ls',\n",
       "       'volkswagen vento highline plus 1.5 diesel', 'tata manza',\n",
       "       'toyota innova 2.0 g1 petrol 8seater', 'toyota etios g',\n",
       "       'toyota qualis', 'mahindra quanto c4', 'maruti suzuki swift dzire',\n",
       "       'hyundai i20 select variant', 'honda city vx petrol',\n",
       "       'hyundai getz', 'mercedes benz c class 200 k mt', 'skoda fabia',\n",
       "       'maruti suzuki alto 800 select variant',\n",
       "       'maruti suzuki ritz vxi abs', 'tata zest 2017 f',\n",
       "       'tata indica v2 dle bs iii', 'ta', 'tata zest xm diesel',\n",
       "       'honda amaze 1.2 e i vtec', 'chevrolet sail 1.2 lt abs'],\n",
       "      dtype=object)"
      ]
     },
     "execution_count": 642,
     "metadata": {},
     "output_type": "execute_result"
    }
   ],
   "source": [
    "df[\"name\"].unique()"
   ]
  },
  {
   "cell_type": "code",
   "execution_count": 643,
   "metadata": {},
   "outputs": [
    {
     "data": {
      "text/plain": [
       "523"
      ]
     },
     "execution_count": 643,
     "metadata": {},
     "output_type": "execute_result"
    }
   ],
   "source": [
    "df[\"name\"].nunique()"
   ]
  },
  {
   "cell_type": "code",
   "execution_count": 644,
   "metadata": {},
   "outputs": [
    {
     "data": {
      "text/plain": [
       "482"
      ]
     },
     "execution_count": 644,
     "metadata": {},
     "output_type": "execute_result"
    }
   ],
   "source": [
    "# correcting names of cars\n",
    "\n",
    "df[\"name\"].replace(\"used bt new conditions ta\", \"unknown\", inplace=True)\n",
    "\n",
    "df[\"name\"].replace(\"sale tata\", \"unknown\", inplace=True)\n",
    "df[\"name\"].replace(\"very good condition tata bolts are av\", \"tata bolts\", inplace=True)\n",
    "df[\"name\"].replace(\"i want to sell my commercial car due t\", \"unknown\", inplace=True)\n",
    "df[\"name\"].replace(\"i want sale my car.no emi....uber atta\", \"unknown\", inplace=True)\n",
    "df[\"name\"].replace(\"tata zest 6 month old\", \"tata zest\", inplace=True)\n",
    "df[\"name\"].replace(\"tata\", \"unknown\", inplace=True)\n",
    "df[\"name\"].replace(\"well mentained tata sumo\", \"tata sumo\", inplace=True)\n",
    "df[\"name\"].replace(\"maruti ertiga showroom condition with\", \"maruti ertiga\", inplace=True)\n",
    "df[\"name\"].replace(\"7 seater mahindra bolero in very good\", \"mahindra bolero neo\", inplace=True)\n",
    "df[\"name\"].replace(\"9 seater mahindra bol\", \"mahindra bolero neo plus\", inplace=True)\n",
    "df[\"name\"].replace(\"scratch less tata i\", \"tata indica\", inplace=True)\n",
    "df[\"name\"].replace(\"maruti suzuki swift dzire for sale in\", \"maruti suzuki swift dzire\", inplace=True)\n",
    "df[\"name\"].replace(\"commercial chevrolet beat for sale in\", \"chevrolet beat\", inplace=True)\n",
    "df[\"name\"].replace(\"urgent sell my mahindra qu\", \"mahindra quanto\", inplace=True)\n",
    "df[\"name\"].replace(\"sell my car maruti suzuki swif\", \"maruti suzuki swift\", inplace=True)\n",
    "df[\"name\"].replace(\"maruti suzuki swift dzire good car fo\", \"maruti suzuki swift dzire\", inplace=True)\n",
    "df[\"name\"].replace(\"hyunda\", \"unknown\", inplace=True)\n",
    "df[\"name\"].replace(\"commercial maruti suzuki alto lxi 800\", \"maruti suzuki alto lxi 800\", inplace=True)\n",
    "df[\"name\"].replace(\"urgent sale ta\", \"unknown\", inplace=True)\n",
    "df[\"name\"].replace(\"maruti suzuki alto vxi t\", \"maruti suzuki alto vxi\", inplace=True)\n",
    "df[\"name\"].replace(\"tata\", \"unknown\", inplace=True)\n",
    "df[\"name\"].replace(\"tata indi\", \"tata indica\", inplace=True)\n",
    "df[\"name\"].replace(\"maruti suzuki swift select variant\", \"maruti suzuki swift\", inplace=True)\n",
    "df[\"name\"].replace(\"any type car avaiabel hare...comercica\", \"unknown\", inplace=True)\n",
    "df[\"name\"].replace(\"maruti suzuki alto 800 select variant\", \"maruti suzuki alto lxi 800\", inplace=True)\n",
    "df[\"name\"].replace(\"ta\", \"unknown\", inplace=True)\n",
    "df[\"name\"].replace(\"i want to sell my car tata zest\", \"tata zest\", inplace=True)\n",
    "df[\"name\"].replace(\"commercial , dzire ldi, 2016, for sale\", \"maruti suzuki swift dzire\", inplace=True)\n",
    "df[\"name\"].replace(\"selling car ta\", \"unknown\", inplace=True)\n",
    "df[\"name\"].replace(\"maruti suzuki wagon r select variant\", \"maruti suzuki wagon r\", inplace=True)\n",
    "df[\"name\"].replace(\"maruti suzuki alto 800 lx\", \"maruti suzuki alto 800 lxi\", inplace=True)\n",
    "df[\"name\"].replace(\"maruti suzuki alto lx\", \"maruti suzuki alto 800 lxi\", inplace=True)\n",
    "df[\"name\"].replace(\"maruti suzuki swift dzire zdi\", \"maruti suzuki swift dzire\", inplace=True)\n",
    "df[\"name\"].replace(\"maruti suzuki swift dzire vxi 1.2 bs iv\", \"maruti suzuki swift dzire\", inplace=True)\n",
    "df[\"name\"].replace(\"volkswagen polo comfortline 1.2l p\", \"volkswagen polo\", inplace=True)\n",
    "df[\"name\"].replace(\"hindustan motors ambassador\", \"unknown\", inplace=True)\n",
    "df[\"name\"].replace(\"maruti suzuki dzire\", \"maruti suzuki swift dzire\", inplace=True)\n",
    "df[\"name\"].replace(\"tata zest 90\", \"tata zest\", inplace=True)\n",
    "df[\"name\"].replace(\"maruti suzuki swift dzire car\", \"maruti suzuki swift dzire\", inplace=True)\n",
    "df[\"name\"].replace(\"maruti suzuki swift dzire tour ldi\", \"maruti suzuki swift dzire\", inplace=True)\n",
    "df[\"name\"].replace(\"maruti suzuki swift dzire vxi 1.2 bs iv\", \"maruti suzuki swift dzire\", inplace=True)\n",
    "df[\"name\"].replace(\"maruti suzuki swift dzire tour (gat\", \"maruti suzuki swift dzire\", inplace=True)\n",
    "df[\"name\"].replace(\"commercial chevrolet sail hatchback ca\", \"chevrolet sail hatchback\", inplace=True)\n",
    "df[\"name\"].replace(\"commercial car ta\", \"unknown\", inplace=True)\n",
    "df[\"name\"].replace(\"sale hyundai xcent commerc\", \"hyundai xcent\", inplace=True)\n",
    "df[\"name\"].replace(\"urje\", \"unknown\", inplace=True)\n",
    "df[\"name\"].replace(\"maruti suzuki alto lxi bs iii\", \"maruti suzuki alto 800 lxi\", inplace=True)\n",
    "df[\"name\"].replace(\"tata zest x\", \"tata zest\", inplace=True)\n",
    "df[\"name\"].replace(\"honda city sv\", \"honda city\", inplace=True)\n",
    "df[\"name\"].replace(\"hyun\", \"unknown\", inplace=True)\n",
    "df[\"name\"].replace(\"ta\", \"unknown\", inplace=True)\n",
    "df[\"name\"].replace(\"used commercial maruti omn\", \"maruti omni\", inplace = True)\n",
    "df[\"name\"].replace(\"hindustan motors ambassador classic mark 4 – befo\", \"classic mark 4\", inplace = True)\n",
    "df[\"name\"].replace(\"2012 tata sumo gold f\", \"tata sumo\", inplace=True)\n",
    "df[\"name\"].replace(\"all paper updated tata indica v2 and u\", \"tata indica\", inplace=True)\n",
    "df[\"name\"].replace(\"tata indigo ecs lx, 201\", \"tata indigo ecs\", inplace=True)\n",
    "df[\"name\"].replace(\"swift dzire tour 27 dec 2016 regis\", \"maruti suzuki swift dzire\", inplace=True)\n",
    "\n",
    "\n",
    "\n",
    "\n",
    "\n",
    "# after correction\n",
    "\n",
    "df[\"name\"].nunique()"
   ]
  },
  {
   "cell_type": "code",
   "execution_count": 645,
   "metadata": {},
   "outputs": [
    {
     "data": {
      "text/html": [
       "<div>\n",
       "<style scoped>\n",
       "    .dataframe tbody tr th:only-of-type {\n",
       "        vertical-align: middle;\n",
       "    }\n",
       "\n",
       "    .dataframe tbody tr th {\n",
       "        vertical-align: top;\n",
       "    }\n",
       "\n",
       "    .dataframe thead th {\n",
       "        text-align: right;\n",
       "    }\n",
       "</style>\n",
       "<table border=\"1\" class=\"dataframe\">\n",
       "  <thead>\n",
       "    <tr style=\"text-align: right;\">\n",
       "      <th></th>\n",
       "      <th>name</th>\n",
       "      <th>company</th>\n",
       "      <th>year</th>\n",
       "      <th>Price</th>\n",
       "      <th>kms_driven</th>\n",
       "      <th>fuel_type</th>\n",
       "    </tr>\n",
       "  </thead>\n",
       "  <tbody>\n",
       "    <tr>\n",
       "      <th>139</th>\n",
       "      <td>unknown</td>\n",
       "      <td>Hindustan</td>\n",
       "      <td>2000</td>\n",
       "      <td>70,000</td>\n",
       "      <td>2,00,000 kms</td>\n",
       "      <td>Diesel</td>\n",
       "    </tr>\n",
       "    <tr>\n",
       "      <th>360</th>\n",
       "      <td>unknown</td>\n",
       "      <td>selling</td>\n",
       "      <td>Zest</td>\n",
       "      <td>Ask For Price</td>\n",
       "      <td>NaN</td>\n",
       "      <td>NaN</td>\n",
       "    </tr>\n",
       "    <tr>\n",
       "      <th>401</th>\n",
       "      <td>unknown</td>\n",
       "      <td>URJENT</td>\n",
       "      <td>SELL</td>\n",
       "      <td>1,80,000</td>\n",
       "      <td>NaN</td>\n",
       "      <td>NaN</td>\n",
       "    </tr>\n",
       "    <tr>\n",
       "      <th>514</th>\n",
       "      <td>unknown</td>\n",
       "      <td>Hindustan</td>\n",
       "      <td>2002</td>\n",
       "      <td>90,000</td>\n",
       "      <td>25,000 kms</td>\n",
       "      <td>Diesel</td>\n",
       "    </tr>\n",
       "    <tr>\n",
       "      <th>560</th>\n",
       "      <td>unknown</td>\n",
       "      <td>Hyundai</td>\n",
       "      <td>Eon</td>\n",
       "      <td>Ask For Price</td>\n",
       "      <td>NaN</td>\n",
       "      <td>NaN</td>\n",
       "    </tr>\n",
       "    <tr>\n",
       "      <th>599</th>\n",
       "      <td>unknown</td>\n",
       "      <td>Commercial</td>\n",
       "      <td>Zest</td>\n",
       "      <td>3,71,500</td>\n",
       "      <td>NaN</td>\n",
       "      <td>NaN</td>\n",
       "    </tr>\n",
       "    <tr>\n",
       "      <th>614</th>\n",
       "      <td>unknown</td>\n",
       "      <td>Used</td>\n",
       "      <td>Zest</td>\n",
       "      <td>2,55,000</td>\n",
       "      <td>NaN</td>\n",
       "      <td>NaN</td>\n",
       "    </tr>\n",
       "    <tr>\n",
       "      <th>616</th>\n",
       "      <td>unknown</td>\n",
       "      <td>Sale</td>\n",
       "      <td>ture</td>\n",
       "      <td>1,00,000</td>\n",
       "      <td>NaN</td>\n",
       "      <td>NaN</td>\n",
       "    </tr>\n",
       "    <tr>\n",
       "      <th>723</th>\n",
       "      <td>unknown</td>\n",
       "      <td>I</td>\n",
       "      <td>o...</td>\n",
       "      <td>4,75,000</td>\n",
       "      <td>NaN</td>\n",
       "      <td>NaN</td>\n",
       "    </tr>\n",
       "    <tr>\n",
       "      <th>725</th>\n",
       "      <td>unknown</td>\n",
       "      <td>i</td>\n",
       "      <td>d...</td>\n",
       "      <td>3,20,000</td>\n",
       "      <td>NaN</td>\n",
       "      <td>NaN</td>\n",
       "    </tr>\n",
       "    <tr>\n",
       "      <th>764</th>\n",
       "      <td>unknown</td>\n",
       "      <td>Tata</td>\n",
       "      <td>digo</td>\n",
       "      <td>Ask For Price</td>\n",
       "      <td>NaN</td>\n",
       "      <td>NaN</td>\n",
       "    </tr>\n",
       "    <tr>\n",
       "      <th>807</th>\n",
       "      <td>unknown</td>\n",
       "      <td>Hyundai</td>\n",
       "      <td>cent</td>\n",
       "      <td>Ask For Price</td>\n",
       "      <td>NaN</td>\n",
       "      <td>NaN</td>\n",
       "    </tr>\n",
       "    <tr>\n",
       "      <th>809</th>\n",
       "      <td>unknown</td>\n",
       "      <td>urgent</td>\n",
       "      <td>Sumo</td>\n",
       "      <td>2,20,000</td>\n",
       "      <td>NaN</td>\n",
       "      <td>NaN</td>\n",
       "    </tr>\n",
       "    <tr>\n",
       "      <th>811</th>\n",
       "      <td>unknown</td>\n",
       "      <td>tata</td>\n",
       "      <td>t xe</td>\n",
       "      <td>Ask For Price</td>\n",
       "      <td>NaN</td>\n",
       "      <td>NaN</td>\n",
       "    </tr>\n",
       "    <tr>\n",
       "      <th>845</th>\n",
       "      <td>unknown</td>\n",
       "      <td>Any</td>\n",
       "      <td>r...</td>\n",
       "      <td>1,70,000</td>\n",
       "      <td>NaN</td>\n",
       "      <td>NaN</td>\n",
       "    </tr>\n",
       "    <tr>\n",
       "      <th>887</th>\n",
       "      <td>unknown</td>\n",
       "      <td>Tara</td>\n",
       "      <td>zest</td>\n",
       "      <td>3,10,000</td>\n",
       "      <td>NaN</td>\n",
       "      <td>NaN</td>\n",
       "    </tr>\n",
       "  </tbody>\n",
       "</table>\n",
       "</div>"
      ],
      "text/plain": [
       "        name     company  year          Price    kms_driven fuel_type\n",
       "139  unknown   Hindustan  2000         70,000  2,00,000 kms    Diesel\n",
       "360  unknown     selling  Zest  Ask For Price           NaN       NaN\n",
       "401  unknown      URJENT  SELL       1,80,000           NaN       NaN\n",
       "514  unknown   Hindustan  2002         90,000    25,000 kms    Diesel\n",
       "560  unknown     Hyundai   Eon  Ask For Price           NaN       NaN\n",
       "599  unknown  Commercial  Zest       3,71,500           NaN       NaN\n",
       "614  unknown        Used  Zest       2,55,000           NaN       NaN\n",
       "616  unknown        Sale  ture       1,00,000           NaN       NaN\n",
       "723  unknown           I  o...       4,75,000           NaN       NaN\n",
       "725  unknown           i  d...       3,20,000           NaN       NaN\n",
       "764  unknown        Tata  digo  Ask For Price           NaN       NaN\n",
       "807  unknown     Hyundai  cent  Ask For Price           NaN       NaN\n",
       "809  unknown      urgent  Sumo       2,20,000           NaN       NaN\n",
       "811  unknown        tata  t xe  Ask For Price           NaN       NaN\n",
       "845  unknown         Any  r...       1,70,000           NaN       NaN\n",
       "887  unknown        Tara  zest       3,10,000           NaN       NaN"
      ]
     },
     "execution_count": 645,
     "metadata": {},
     "output_type": "execute_result"
    }
   ],
   "source": [
    "df[df[\"name\"] == \"unknown\"]"
   ]
  },
  {
   "cell_type": "code",
   "execution_count": 646,
   "metadata": {},
   "outputs": [
    {
     "data": {
      "text/html": [
       "<div>\n",
       "<style scoped>\n",
       "    .dataframe tbody tr th:only-of-type {\n",
       "        vertical-align: middle;\n",
       "    }\n",
       "\n",
       "    .dataframe tbody tr th {\n",
       "        vertical-align: top;\n",
       "    }\n",
       "\n",
       "    .dataframe thead th {\n",
       "        text-align: right;\n",
       "    }\n",
       "</style>\n",
       "<table border=\"1\" class=\"dataframe\">\n",
       "  <thead>\n",
       "    <tr style=\"text-align: right;\">\n",
       "      <th></th>\n",
       "      <th>name</th>\n",
       "      <th>company</th>\n",
       "      <th>year</th>\n",
       "      <th>Price</th>\n",
       "      <th>kms_driven</th>\n",
       "      <th>fuel_type</th>\n",
       "    </tr>\n",
       "  </thead>\n",
       "  <tbody>\n",
       "    <tr>\n",
       "      <th>0</th>\n",
       "      <td>hyundai santro xing xo erlx euro iii</td>\n",
       "      <td>Hyundai</td>\n",
       "      <td>2007</td>\n",
       "      <td>80,000</td>\n",
       "      <td>45,000 kms</td>\n",
       "      <td>Petrol</td>\n",
       "    </tr>\n",
       "    <tr>\n",
       "      <th>1</th>\n",
       "      <td>mahindra jeep cl550 mdi</td>\n",
       "      <td>Mahindra</td>\n",
       "      <td>2006</td>\n",
       "      <td>4,25,000</td>\n",
       "      <td>40 kms</td>\n",
       "      <td>Diesel</td>\n",
       "    </tr>\n",
       "    <tr>\n",
       "      <th>2</th>\n",
       "      <td>maruti suzuki alto 800 vxi</td>\n",
       "      <td>Maruti</td>\n",
       "      <td>2018</td>\n",
       "      <td>Ask For Price</td>\n",
       "      <td>22,000 kms</td>\n",
       "      <td>Petrol</td>\n",
       "    </tr>\n",
       "    <tr>\n",
       "      <th>3</th>\n",
       "      <td>hyundai grand i10 magna 1.2 kappa vtvt</td>\n",
       "      <td>Hyundai</td>\n",
       "      <td>2014</td>\n",
       "      <td>3,25,000</td>\n",
       "      <td>28,000 kms</td>\n",
       "      <td>Petrol</td>\n",
       "    </tr>\n",
       "    <tr>\n",
       "      <th>4</th>\n",
       "      <td>ford ecosport titanium 1.5l tdci</td>\n",
       "      <td>Ford</td>\n",
       "      <td>2014</td>\n",
       "      <td>5,75,000</td>\n",
       "      <td>36,000 kms</td>\n",
       "      <td>Diesel</td>\n",
       "    </tr>\n",
       "  </tbody>\n",
       "</table>\n",
       "</div>"
      ],
      "text/plain": [
       "                                     name   company  year          Price  \\\n",
       "0    hyundai santro xing xo erlx euro iii   Hyundai  2007         80,000   \n",
       "1                 mahindra jeep cl550 mdi  Mahindra  2006       4,25,000   \n",
       "2              maruti suzuki alto 800 vxi    Maruti  2018  Ask For Price   \n",
       "3  hyundai grand i10 magna 1.2 kappa vtvt   Hyundai  2014       3,25,000   \n",
       "4        ford ecosport titanium 1.5l tdci      Ford  2014       5,75,000   \n",
       "\n",
       "   kms_driven fuel_type  \n",
       "0  45,000 kms    Petrol  \n",
       "1      40 kms    Diesel  \n",
       "2  22,000 kms    Petrol  \n",
       "3  28,000 kms    Petrol  \n",
       "4  36,000 kms    Diesel  "
      ]
     },
     "execution_count": 646,
     "metadata": {},
     "output_type": "execute_result"
    }
   ],
   "source": [
    "# cars having name \"unknown\" have mostly nan and inconsistant data\n",
    "# like company contains any, Tara, urgent, etc\n",
    "# I am removing rows having name \"unkown\" \n",
    "\n",
    "df = df[df[\"name\"] != \"unknown\"]\n",
    "df.head()"
   ]
  },
  {
   "cell_type": "code",
   "execution_count": 647,
   "metadata": {},
   "outputs": [
    {
     "name": "stdout",
     "output_type": "stream",
     "text": [
      "<class 'pandas.core.series.Series'>\n",
      "Index: 782 entries, 0 to 891\n",
      "Series name: name\n",
      "Non-Null Count  Dtype \n",
      "--------------  ----- \n",
      "782 non-null    object\n",
      "dtypes: object(1)\n",
      "memory usage: 12.2+ KB\n"
     ]
    }
   ],
   "source": [
    "# no null value in name column\n",
    "df[\"name\"].info()"
   ]
  },
  {
   "cell_type": "code",
   "execution_count": 648,
   "metadata": {},
   "outputs": [
    {
     "data": {
      "text/html": [
       "<div>\n",
       "<style scoped>\n",
       "    .dataframe tbody tr th:only-of-type {\n",
       "        vertical-align: middle;\n",
       "    }\n",
       "\n",
       "    .dataframe tbody tr th {\n",
       "        vertical-align: top;\n",
       "    }\n",
       "\n",
       "    .dataframe thead th {\n",
       "        text-align: right;\n",
       "    }\n",
       "</style>\n",
       "<table border=\"1\" class=\"dataframe\">\n",
       "  <thead>\n",
       "    <tr style=\"text-align: right;\">\n",
       "      <th></th>\n",
       "      <th>name</th>\n",
       "      <th>company</th>\n",
       "      <th>year</th>\n",
       "      <th>Price</th>\n",
       "      <th>kms_driven</th>\n",
       "      <th>fuel_type</th>\n",
       "    </tr>\n",
       "  </thead>\n",
       "  <tbody>\n",
       "    <tr>\n",
       "      <th>0</th>\n",
       "      <td>hyundai santro xing xo erlx euro iii</td>\n",
       "      <td>Hyundai</td>\n",
       "      <td>2007</td>\n",
       "      <td>80,000</td>\n",
       "      <td>45,000 kms</td>\n",
       "      <td>Petrol</td>\n",
       "    </tr>\n",
       "    <tr>\n",
       "      <th>1</th>\n",
       "      <td>mahindra jeep cl550 mdi</td>\n",
       "      <td>Mahindra</td>\n",
       "      <td>2006</td>\n",
       "      <td>4,25,000</td>\n",
       "      <td>40 kms</td>\n",
       "      <td>Diesel</td>\n",
       "    </tr>\n",
       "    <tr>\n",
       "      <th>2</th>\n",
       "      <td>maruti suzuki alto 800 vxi</td>\n",
       "      <td>Maruti</td>\n",
       "      <td>2018</td>\n",
       "      <td>Ask For Price</td>\n",
       "      <td>22,000 kms</td>\n",
       "      <td>Petrol</td>\n",
       "    </tr>\n",
       "    <tr>\n",
       "      <th>3</th>\n",
       "      <td>hyundai grand i10 magna 1.2 kappa vtvt</td>\n",
       "      <td>Hyundai</td>\n",
       "      <td>2014</td>\n",
       "      <td>3,25,000</td>\n",
       "      <td>28,000 kms</td>\n",
       "      <td>Petrol</td>\n",
       "    </tr>\n",
       "    <tr>\n",
       "      <th>4</th>\n",
       "      <td>ford ecosport titanium 1.5l tdci</td>\n",
       "      <td>Ford</td>\n",
       "      <td>2014</td>\n",
       "      <td>5,75,000</td>\n",
       "      <td>36,000 kms</td>\n",
       "      <td>Diesel</td>\n",
       "    </tr>\n",
       "  </tbody>\n",
       "</table>\n",
       "</div>"
      ],
      "text/plain": [
       "                                     name   company  year          Price  \\\n",
       "0    hyundai santro xing xo erlx euro iii   Hyundai  2007         80,000   \n",
       "1                 mahindra jeep cl550 mdi  Mahindra  2006       4,25,000   \n",
       "2              maruti suzuki alto 800 vxi    Maruti  2018  Ask For Price   \n",
       "3  hyundai grand i10 magna 1.2 kappa vtvt   Hyundai  2014       3,25,000   \n",
       "4        ford ecosport titanium 1.5l tdci      Ford  2014       5,75,000   \n",
       "\n",
       "   kms_driven fuel_type  \n",
       "0  45,000 kms    Petrol  \n",
       "1      40 kms    Diesel  \n",
       "2  22,000 kms    Petrol  \n",
       "3  28,000 kms    Petrol  \n",
       "4  36,000 kms    Diesel  "
      ]
     },
     "execution_count": 648,
     "metadata": {},
     "output_type": "execute_result"
    }
   ],
   "source": [
    "df.head()"
   ]
  },
  {
   "cell_type": "markdown",
   "metadata": {},
   "source": [
    "# **\"company\" Column**"
   ]
  },
  {
   "cell_type": "code",
   "execution_count": 649,
   "metadata": {},
   "outputs": [
    {
     "data": {
      "text/plain": [
       "array(['Hyundai', 'Mahindra', 'Maruti', 'Ford', 'Skoda', 'Audi', 'Toyota',\n",
       "       'Renault', 'Honda', 'Datsun', 'Mitsubishi', 'Tata', 'Volkswagen',\n",
       "       'I', 'Chevrolet', 'Mini', 'BMW', 'Nissan', 'Fiat', 'Commercial',\n",
       "       'MARUTI', 'Force', 'Mercedes', 'Land', 'Yamaha', 'Swift', 'Used',\n",
       "       'Jaguar', 'Jeep', 'tata', 'very', 'Sale', 'Volvo', 'Hindustan',\n",
       "       '2012', 'Well', 'all', '7', '9', 'scratch', 'urgent', 'sell',\n",
       "       'TATA'], dtype=object)"
      ]
     },
     "execution_count": 649,
     "metadata": {},
     "output_type": "execute_result"
    }
   ],
   "source": [
    "df[\"company\"].unique()"
   ]
  },
  {
   "cell_type": "code",
   "execution_count": 650,
   "metadata": {},
   "outputs": [
    {
     "data": {
      "text/plain": [
       "array(['hyundai', 'mahindra', 'maruti', 'ford', 'skoda', 'audi', 'toyota',\n",
       "       'renault', 'honda', 'datsun', 'mitsubishi', 'tata', 'volkswagen',\n",
       "       'i', 'chevrolet', 'mini', 'bmw', 'nissan', 'fiat', 'commercial',\n",
       "       'force', 'mercedes', 'land', 'yamaha', 'swift', 'used', 'jaguar',\n",
       "       'jeep', 'very', 'sale', 'volvo', 'hindustan', '2012', 'well',\n",
       "       'all', '7', '9', 'scratch', 'urgent', 'sell'], dtype=object)"
      ]
     },
     "execution_count": 650,
     "metadata": {},
     "output_type": "execute_result"
    }
   ],
   "source": [
    "df[\"company\"] = df[\"company\"].str.lower()\n",
    "df[\"company\"].unique()"
   ]
  },
  {
   "cell_type": "code",
   "execution_count": 651,
   "metadata": {},
   "outputs": [
    {
     "data": {
      "text/html": [
       "<div>\n",
       "<style scoped>\n",
       "    .dataframe tbody tr th:only-of-type {\n",
       "        vertical-align: middle;\n",
       "    }\n",
       "\n",
       "    .dataframe tbody tr th {\n",
       "        vertical-align: top;\n",
       "    }\n",
       "\n",
       "    .dataframe thead th {\n",
       "        text-align: right;\n",
       "    }\n",
       "</style>\n",
       "<table border=\"1\" class=\"dataframe\">\n",
       "  <thead>\n",
       "    <tr style=\"text-align: right;\">\n",
       "      <th></th>\n",
       "      <th>name</th>\n",
       "      <th>company</th>\n",
       "      <th>year</th>\n",
       "      <th>Price</th>\n",
       "      <th>kms_driven</th>\n",
       "      <th>fuel_type</th>\n",
       "    </tr>\n",
       "  </thead>\n",
       "  <tbody>\n",
       "    <tr>\n",
       "      <th>69</th>\n",
       "      <td>tata zest</td>\n",
       "      <td>i</td>\n",
       "      <td>2017</td>\n",
       "      <td>Ask For Price</td>\n",
       "      <td>NaN</td>\n",
       "      <td>NaN</td>\n",
       "    </tr>\n",
       "  </tbody>\n",
       "</table>\n",
       "</div>"
      ],
      "text/plain": [
       "         name company  year          Price kms_driven fuel_type\n",
       "69  tata zest       i  2017  Ask For Price        NaN       NaN"
      ]
     },
     "execution_count": 651,
     "metadata": {},
     "output_type": "execute_result"
    }
   ],
   "source": [
    "data =df[df[\"company\"] == \"i\"] \n",
    "data"
   ]
  },
  {
   "cell_type": "code",
   "execution_count": 652,
   "metadata": {},
   "outputs": [
    {
     "data": {
      "text/plain": [
       "array(['hyundai', 'mahindra', 'maruti', 'ford', 'skoda', 'audi', 'toyota',\n",
       "       'renault', 'honda', 'datsun', 'mitsubishi', 'tata', 'volkswagen',\n",
       "       'chevrolet', 'mini', 'bmw', 'nissan', 'fiat', 'commercial',\n",
       "       'force', 'mercedes', 'land', 'yamaha', 'swift', 'used', 'jaguar',\n",
       "       'jeep', 'very', 'sale', 'volvo', 'hindustan', '2012', 'well',\n",
       "       'all', '7', '9', 'scratch', 'urgent', 'sell'], dtype=object)"
      ]
     },
     "execution_count": 652,
     "metadata": {},
     "output_type": "execute_result"
    }
   ],
   "source": [
    "df[\"company\"].replace(\"i\", \"tata\", inplace = True)\n",
    "df[\"company\"].unique()"
   ]
  },
  {
   "cell_type": "code",
   "execution_count": 653,
   "metadata": {},
   "outputs": [
    {
     "data": {
      "text/html": [
       "<div>\n",
       "<style scoped>\n",
       "    .dataframe tbody tr th:only-of-type {\n",
       "        vertical-align: middle;\n",
       "    }\n",
       "\n",
       "    .dataframe tbody tr th {\n",
       "        vertical-align: top;\n",
       "    }\n",
       "\n",
       "    .dataframe thead th {\n",
       "        text-align: right;\n",
       "    }\n",
       "</style>\n",
       "<table border=\"1\" class=\"dataframe\">\n",
       "  <thead>\n",
       "    <tr style=\"text-align: right;\">\n",
       "      <th></th>\n",
       "      <th>name</th>\n",
       "      <th>company</th>\n",
       "      <th>year</th>\n",
       "      <th>Price</th>\n",
       "      <th>kms_driven</th>\n",
       "      <th>fuel_type</th>\n",
       "    </tr>\n",
       "  </thead>\n",
       "  <tbody>\n",
       "    <tr>\n",
       "      <th>185</th>\n",
       "      <td>maruti suzuki swift dzire</td>\n",
       "      <td>commercial</td>\n",
       "      <td>...</td>\n",
       "      <td>Ask For Price</td>\n",
       "      <td>NaN</td>\n",
       "      <td>NaN</td>\n",
       "    </tr>\n",
       "    <tr>\n",
       "      <th>593</th>\n",
       "      <td>chevrolet sail hatchback</td>\n",
       "      <td>commercial</td>\n",
       "      <td>o...</td>\n",
       "      <td>2,25,000</td>\n",
       "      <td>NaN</td>\n",
       "      <td>NaN</td>\n",
       "    </tr>\n",
       "    <tr>\n",
       "      <th>802</th>\n",
       "      <td>chevrolet beat</td>\n",
       "      <td>commercial</td>\n",
       "      <td>k...</td>\n",
       "      <td>1,80,000</td>\n",
       "      <td>NaN</td>\n",
       "      <td>NaN</td>\n",
       "    </tr>\n",
       "    <tr>\n",
       "      <th>808</th>\n",
       "      <td>maruti suzuki alto lxi 800</td>\n",
       "      <td>commercial</td>\n",
       "      <td>...</td>\n",
       "      <td>Ask For Price</td>\n",
       "      <td>NaN</td>\n",
       "      <td>NaN</td>\n",
       "    </tr>\n",
       "  </tbody>\n",
       "</table>\n",
       "</div>"
      ],
      "text/plain": [
       "                           name     company  year          Price kms_driven  \\\n",
       "185   maruti suzuki swift dzire  commercial   ...  Ask For Price        NaN   \n",
       "593    chevrolet sail hatchback  commercial  o...       2,25,000        NaN   \n",
       "802              chevrolet beat  commercial  k...       1,80,000        NaN   \n",
       "808  maruti suzuki alto lxi 800  commercial   ...  Ask For Price        NaN   \n",
       "\n",
       "    fuel_type  \n",
       "185       NaN  \n",
       "593       NaN  \n",
       "802       NaN  \n",
       "808       NaN  "
      ]
     },
     "execution_count": 653,
     "metadata": {},
     "output_type": "execute_result"
    }
   ],
   "source": [
    "data =df[df[\"company\"] == \"commercial\"] \n",
    "\n",
    "data"
   ]
  },
  {
   "cell_type": "code",
   "execution_count": 654,
   "metadata": {},
   "outputs": [
    {
     "name": "stdout",
     "output_type": "stream",
     "text": [
      "name          maruti suzuki swift dzire\n",
      "company                          maruti\n",
      "year                                ...\n",
      "Price                     Ask For Price\n",
      "kms_driven                          NaN\n",
      "fuel_type                           NaN\n",
      "Name: 185, dtype: object\n",
      "\n",
      "name          chevrolet sail hatchback\n",
      "company                      chevrolet\n",
      "year                              o...\n",
      "Price                         2,25,000\n",
      "kms_driven                         NaN\n",
      "fuel_type                          NaN\n",
      "Name: 593, dtype: object\n",
      "\n",
      "name          chevrolet beat\n",
      "company            chevrolet\n",
      "year                    k...\n",
      "Price               1,80,000\n",
      "kms_driven               NaN\n",
      "fuel_type                NaN\n",
      "Name: 802, dtype: object\n",
      "\n",
      "name          maruti suzuki alto lxi 800\n",
      "company                           maruti\n",
      "year                                 ...\n",
      "Price                      Ask For Price\n",
      "kms_driven                           NaN\n",
      "fuel_type                            NaN\n",
      "Name: 808, dtype: object\n"
     ]
    }
   ],
   "source": [
    "df[\"company\"].loc[185] = \"maruti\"\n",
    "df[\"company\"].loc[593] = \"chevrolet\"\n",
    "df[\"company\"].loc[802] = \"chevrolet\"\n",
    "df[\"company\"].loc[808] = \"maruti\"\n",
    "\n",
    "\n",
    "print(df.loc[185])\n",
    "print()\n",
    "print(df.loc[593])\n",
    "print()\n",
    "print(df.loc[802])\n",
    "print()\n",
    "print(df.loc[808])"
   ]
  },
  {
   "cell_type": "code",
   "execution_count": 655,
   "metadata": {},
   "outputs": [
    {
     "data": {
      "text/plain": [
       "array(['hyundai', 'mahindra', 'maruti', 'ford', 'skoda', 'audi', 'toyota',\n",
       "       'renault', 'honda', 'datsun', 'mitsubishi', 'tata', 'volkswagen',\n",
       "       'chevrolet', 'mini', 'bmw', 'nissan', 'fiat', 'force', 'mercedes',\n",
       "       'land', 'yamaha', 'swift', 'used', 'jaguar', 'jeep', 'very',\n",
       "       'sale', 'volvo', 'hindustan', '2012', 'well', 'all', '7', '9',\n",
       "       'scratch', 'urgent', 'sell'], dtype=object)"
      ]
     },
     "execution_count": 655,
     "metadata": {},
     "output_type": "execute_result"
    }
   ],
   "source": [
    "df[\"company\"].unique()"
   ]
  },
  {
   "cell_type": "code",
   "execution_count": 656,
   "metadata": {},
   "outputs": [
    {
     "data": {
      "text/html": [
       "<div>\n",
       "<style scoped>\n",
       "    .dataframe tbody tr th:only-of-type {\n",
       "        vertical-align: middle;\n",
       "    }\n",
       "\n",
       "    .dataframe tbody tr th {\n",
       "        vertical-align: top;\n",
       "    }\n",
       "\n",
       "    .dataframe thead th {\n",
       "        text-align: right;\n",
       "    }\n",
       "</style>\n",
       "<table border=\"1\" class=\"dataframe\">\n",
       "  <thead>\n",
       "    <tr style=\"text-align: right;\">\n",
       "      <th></th>\n",
       "      <th>name</th>\n",
       "      <th>company</th>\n",
       "      <th>year</th>\n",
       "      <th>Price</th>\n",
       "      <th>kms_driven</th>\n",
       "      <th>fuel_type</th>\n",
       "    </tr>\n",
       "  </thead>\n",
       "  <tbody>\n",
       "    <tr>\n",
       "      <th>441</th>\n",
       "      <td>maruti omni</td>\n",
       "      <td>used</td>\n",
       "      <td>arry</td>\n",
       "      <td>1,50,000</td>\n",
       "      <td>NaN</td>\n",
       "      <td>NaN</td>\n",
       "    </tr>\n",
       "  </tbody>\n",
       "</table>\n",
       "</div>"
      ],
      "text/plain": [
       "            name company  year     Price kms_driven fuel_type\n",
       "441  maruti omni    used  arry  1,50,000        NaN       NaN"
      ]
     },
     "execution_count": 656,
     "metadata": {},
     "output_type": "execute_result"
    }
   ],
   "source": [
    "data =df[df[\"company\"] == \"used\"] \n",
    "\n",
    "data"
   ]
  },
  {
   "cell_type": "code",
   "execution_count": 657,
   "metadata": {},
   "outputs": [
    {
     "data": {
      "text/plain": [
       "array(['hyundai', 'mahindra', 'maruti', 'ford', 'skoda', 'audi', 'toyota',\n",
       "       'renault', 'honda', 'datsun', 'mitsubishi', 'tata', 'volkswagen',\n",
       "       'chevrolet', 'mini', 'bmw', 'nissan', 'fiat', 'force', 'mercedes',\n",
       "       'land', 'yamaha', 'swift', 'jaguar', 'jeep', 'very', 'sale',\n",
       "       'volvo', 'hindustan', '2012', 'well', 'all', '7', '9', 'scratch',\n",
       "       'urgent', 'sell'], dtype=object)"
      ]
     },
     "execution_count": 657,
     "metadata": {},
     "output_type": "execute_result"
    }
   ],
   "source": [
    "df[\"company\"].replace(\"used\", \"maruti\", inplace = True)\n",
    "df[\"company\"].unique()"
   ]
  },
  {
   "cell_type": "code",
   "execution_count": 658,
   "metadata": {},
   "outputs": [
    {
     "data": {
      "text/html": [
       "<div>\n",
       "<style scoped>\n",
       "    .dataframe tbody tr th:only-of-type {\n",
       "        vertical-align: middle;\n",
       "    }\n",
       "\n",
       "    .dataframe tbody tr th {\n",
       "        vertical-align: top;\n",
       "    }\n",
       "\n",
       "    .dataframe thead th {\n",
       "        text-align: right;\n",
       "    }\n",
       "</style>\n",
       "<table border=\"1\" class=\"dataframe\">\n",
       "  <thead>\n",
       "    <tr style=\"text-align: right;\">\n",
       "      <th></th>\n",
       "      <th>name</th>\n",
       "      <th>company</th>\n",
       "      <th>year</th>\n",
       "      <th>Price</th>\n",
       "      <th>kms_driven</th>\n",
       "      <th>fuel_type</th>\n",
       "    </tr>\n",
       "  </thead>\n",
       "  <tbody>\n",
       "    <tr>\n",
       "      <th>643</th>\n",
       "      <td>tata bolts</td>\n",
       "      <td>very</td>\n",
       "      <td>able</td>\n",
       "      <td>2,00,000</td>\n",
       "      <td>NaN</td>\n",
       "      <td>NaN</td>\n",
       "    </tr>\n",
       "  </tbody>\n",
       "</table>\n",
       "</div>"
      ],
      "text/plain": [
       "           name company  year     Price kms_driven fuel_type\n",
       "643  tata bolts    very  able  2,00,000        NaN       NaN"
      ]
     },
     "execution_count": 658,
     "metadata": {},
     "output_type": "execute_result"
    }
   ],
   "source": [
    "data =df[df[\"company\"] == \"very\"] \n",
    "\n",
    "data"
   ]
  },
  {
   "cell_type": "code",
   "execution_count": 659,
   "metadata": {},
   "outputs": [
    {
     "data": {
      "text/plain": [
       "array(['hyundai', 'mahindra', 'maruti', 'ford', 'skoda', 'audi', 'toyota',\n",
       "       'renault', 'honda', 'datsun', 'mitsubishi', 'tata', 'volkswagen',\n",
       "       'chevrolet', 'mini', 'bmw', 'nissan', 'fiat', 'force', 'mercedes',\n",
       "       'land', 'yamaha', 'swift', 'jaguar', 'jeep', 'sale', 'volvo',\n",
       "       'hindustan', '2012', 'well', 'all', '7', '9', 'scratch', 'urgent',\n",
       "       'sell'], dtype=object)"
      ]
     },
     "execution_count": 659,
     "metadata": {},
     "output_type": "execute_result"
    }
   ],
   "source": [
    "df[\"company\"].replace(\"very\", \"tata\", inplace = True)\n",
    "df[\"company\"].unique()"
   ]
  },
  {
   "cell_type": "code",
   "execution_count": 660,
   "metadata": {},
   "outputs": [
    {
     "data": {
      "text/html": [
       "<div>\n",
       "<style scoped>\n",
       "    .dataframe tbody tr th:only-of-type {\n",
       "        vertical-align: middle;\n",
       "    }\n",
       "\n",
       "    .dataframe tbody tr th {\n",
       "        vertical-align: top;\n",
       "    }\n",
       "\n",
       "    .dataframe thead th {\n",
       "        text-align: right;\n",
       "    }\n",
       "</style>\n",
       "<table border=\"1\" class=\"dataframe\">\n",
       "  <thead>\n",
       "    <tr style=\"text-align: right;\">\n",
       "      <th></th>\n",
       "      <th>name</th>\n",
       "      <th>company</th>\n",
       "      <th>year</th>\n",
       "      <th>Price</th>\n",
       "      <th>kms_driven</th>\n",
       "      <th>fuel_type</th>\n",
       "    </tr>\n",
       "  </thead>\n",
       "  <tbody>\n",
       "    <tr>\n",
       "      <th>645</th>\n",
       "      <td>hyundai xcent</td>\n",
       "      <td>sale</td>\n",
       "      <td>no.</td>\n",
       "      <td>Ask For Price</td>\n",
       "      <td>NaN</td>\n",
       "      <td>NaN</td>\n",
       "    </tr>\n",
       "  </tbody>\n",
       "</table>\n",
       "</div>"
      ],
      "text/plain": [
       "              name company year          Price kms_driven fuel_type\n",
       "645  hyundai xcent    sale  no.  Ask For Price        NaN       NaN"
      ]
     },
     "execution_count": 660,
     "metadata": {},
     "output_type": "execute_result"
    }
   ],
   "source": [
    "data =df[df[\"company\"] == \"sale\"] \n",
    "\n",
    "data"
   ]
  },
  {
   "cell_type": "code",
   "execution_count": 661,
   "metadata": {},
   "outputs": [
    {
     "data": {
      "text/plain": [
       "array(['hyundai', 'mahindra', 'maruti', 'ford', 'skoda', 'audi', 'toyota',\n",
       "       'renault', 'honda', 'datsun', 'mitsubishi', 'tata', 'volkswagen',\n",
       "       'chevrolet', 'mini', 'bmw', 'nissan', 'fiat', 'force', 'mercedes',\n",
       "       'land', 'yamaha', 'swift', 'jaguar', 'jeep', 'volvo', 'hindustan',\n",
       "       '2012', 'well', 'all', '7', '9', 'scratch', 'urgent', 'sell'],\n",
       "      dtype=object)"
      ]
     },
     "execution_count": 661,
     "metadata": {},
     "output_type": "execute_result"
    }
   ],
   "source": [
    "df[\"company\"].replace(\"sale\", \"hyundai\", inplace = True)\n",
    "df[\"company\"].unique()"
   ]
  },
  {
   "cell_type": "code",
   "execution_count": 662,
   "metadata": {},
   "outputs": [
    {
     "data": {
      "text/html": [
       "<div>\n",
       "<style scoped>\n",
       "    .dataframe tbody tr th:only-of-type {\n",
       "        vertical-align: middle;\n",
       "    }\n",
       "\n",
       "    .dataframe tbody tr th {\n",
       "        vertical-align: top;\n",
       "    }\n",
       "\n",
       "    .dataframe thead th {\n",
       "        text-align: right;\n",
       "    }\n",
       "</style>\n",
       "<table border=\"1\" class=\"dataframe\">\n",
       "  <thead>\n",
       "    <tr style=\"text-align: right;\">\n",
       "      <th></th>\n",
       "      <th>name</th>\n",
       "      <th>company</th>\n",
       "      <th>year</th>\n",
       "      <th>Price</th>\n",
       "      <th>kms_driven</th>\n",
       "      <th>fuel_type</th>\n",
       "    </tr>\n",
       "  </thead>\n",
       "  <tbody>\n",
       "    <tr>\n",
       "      <th>768</th>\n",
       "      <td>classic mark 4</td>\n",
       "      <td>hindustan</td>\n",
       "      <td>1995</td>\n",
       "      <td>7,50,000</td>\n",
       "      <td>37,000 kms</td>\n",
       "      <td>Petrol</td>\n",
       "    </tr>\n",
       "  </tbody>\n",
       "</table>\n",
       "</div>"
      ],
      "text/plain": [
       "               name    company  year     Price  kms_driven fuel_type\n",
       "768  classic mark 4  hindustan  1995  7,50,000  37,000 kms    Petrol"
      ]
     },
     "execution_count": 662,
     "metadata": {},
     "output_type": "execute_result"
    }
   ],
   "source": [
    "data =df[df[\"company\"] == \"hindustan\"] \n",
    "\n",
    "data"
   ]
  },
  {
   "cell_type": "code",
   "execution_count": 663,
   "metadata": {},
   "outputs": [
    {
     "data": {
      "text/plain": [
       "array(['hyundai', 'mahindra', 'maruti', 'ford', 'skoda', 'audi', 'toyota',\n",
       "       'renault', 'honda', 'datsun', 'mitsubishi', 'tata', 'volkswagen',\n",
       "       'chevrolet', 'mini', 'bmw', 'nissan', 'fiat', 'force', 'mercedes',\n",
       "       'land', 'yamaha', 'swift', 'jaguar', 'jeep', 'volvo',\n",
       "       'hindustan motors', '2012', 'well', 'all', '7', '9', 'scratch',\n",
       "       'urgent', 'sell'], dtype=object)"
      ]
     },
     "execution_count": 663,
     "metadata": {},
     "output_type": "execute_result"
    }
   ],
   "source": [
    "df[\"company\"].replace(\"hindustan\", \"hindustan motors\", inplace = True)\n",
    "df[\"company\"].unique()"
   ]
  },
  {
   "cell_type": "code",
   "execution_count": 664,
   "metadata": {},
   "outputs": [
    {
     "data": {
      "text/html": [
       "<div>\n",
       "<style scoped>\n",
       "    .dataframe tbody tr th:only-of-type {\n",
       "        vertical-align: middle;\n",
       "    }\n",
       "\n",
       "    .dataframe tbody tr th {\n",
       "        vertical-align: top;\n",
       "    }\n",
       "\n",
       "    .dataframe thead th {\n",
       "        text-align: right;\n",
       "    }\n",
       "</style>\n",
       "<table border=\"1\" class=\"dataframe\">\n",
       "  <thead>\n",
       "    <tr style=\"text-align: right;\">\n",
       "      <th></th>\n",
       "      <th>name</th>\n",
       "      <th>company</th>\n",
       "      <th>year</th>\n",
       "      <th>Price</th>\n",
       "      <th>kms_driven</th>\n",
       "      <th>fuel_type</th>\n",
       "    </tr>\n",
       "  </thead>\n",
       "  <tbody>\n",
       "    <tr>\n",
       "      <th>792</th>\n",
       "      <td>tata sumo</td>\n",
       "      <td>2012</td>\n",
       "      <td>sell</td>\n",
       "      <td>2,50,000</td>\n",
       "      <td>NaN</td>\n",
       "      <td>NaN</td>\n",
       "    </tr>\n",
       "  </tbody>\n",
       "</table>\n",
       "</div>"
      ],
      "text/plain": [
       "          name company  year     Price kms_driven fuel_type\n",
       "792  tata sumo    2012  sell  2,50,000        NaN       NaN"
      ]
     },
     "execution_count": 664,
     "metadata": {},
     "output_type": "execute_result"
    }
   ],
   "source": [
    "data =df[df[\"company\"] == \"2012\"] \n",
    "\n",
    "data"
   ]
  },
  {
   "cell_type": "code",
   "execution_count": 665,
   "metadata": {},
   "outputs": [
    {
     "data": {
      "text/plain": [
       "array(['hyundai', 'mahindra', 'maruti', 'ford', 'skoda', 'audi', 'toyota',\n",
       "       'renault', 'honda', 'datsun', 'mitsubishi', 'tata', 'volkswagen',\n",
       "       'chevrolet', 'mini', 'bmw', 'nissan', 'fiat', 'force', 'mercedes',\n",
       "       'land', 'yamaha', 'swift', 'jaguar', 'jeep', 'volvo',\n",
       "       'hindustan motors', 'well', 'all', '7', '9', 'scratch', 'urgent',\n",
       "       'sell'], dtype=object)"
      ]
     },
     "execution_count": 665,
     "metadata": {},
     "output_type": "execute_result"
    }
   ],
   "source": [
    "df[\"company\"].replace(\"2012\", \"tata\", inplace = True)\n",
    "df[\"company\"].unique()"
   ]
  },
  {
   "cell_type": "code",
   "execution_count": 666,
   "metadata": {},
   "outputs": [
    {
     "data": {
      "text/html": [
       "<div>\n",
       "<style scoped>\n",
       "    .dataframe tbody tr th:only-of-type {\n",
       "        vertical-align: middle;\n",
       "    }\n",
       "\n",
       "    .dataframe tbody tr th {\n",
       "        vertical-align: top;\n",
       "    }\n",
       "\n",
       "    .dataframe thead th {\n",
       "        text-align: right;\n",
       "    }\n",
       "</style>\n",
       "<table border=\"1\" class=\"dataframe\">\n",
       "  <thead>\n",
       "    <tr style=\"text-align: right;\">\n",
       "      <th></th>\n",
       "      <th>name</th>\n",
       "      <th>company</th>\n",
       "      <th>year</th>\n",
       "      <th>Price</th>\n",
       "      <th>kms_driven</th>\n",
       "      <th>fuel_type</th>\n",
       "    </tr>\n",
       "  </thead>\n",
       "  <tbody>\n",
       "    <tr>\n",
       "      <th>795</th>\n",
       "      <td>tata sumo</td>\n",
       "      <td>well</td>\n",
       "      <td>d Ex</td>\n",
       "      <td>3,80,000</td>\n",
       "      <td>NaN</td>\n",
       "      <td>NaN</td>\n",
       "    </tr>\n",
       "  </tbody>\n",
       "</table>\n",
       "</div>"
      ],
      "text/plain": [
       "          name company  year     Price kms_driven fuel_type\n",
       "795  tata sumo    well  d Ex  3,80,000        NaN       NaN"
      ]
     },
     "execution_count": 666,
     "metadata": {},
     "output_type": "execute_result"
    }
   ],
   "source": [
    "data =df[df[\"company\"] == \"well\"] \n",
    "\n",
    "data"
   ]
  },
  {
   "cell_type": "code",
   "execution_count": 667,
   "metadata": {},
   "outputs": [
    {
     "data": {
      "text/plain": [
       "array(['hyundai', 'mahindra', 'maruti', 'ford', 'skoda', 'audi', 'toyota',\n",
       "       'renault', 'honda', 'datsun', 'mitsubishi', 'tata', 'volkswagen',\n",
       "       'chevrolet', 'mini', 'bmw', 'nissan', 'fiat', 'force', 'mercedes',\n",
       "       'land', 'yamaha', 'swift', 'jaguar', 'jeep', 'volvo',\n",
       "       'hindustan motors', 'all', '7', '9', 'scratch', 'urgent', 'sell'],\n",
       "      dtype=object)"
      ]
     },
     "execution_count": 667,
     "metadata": {},
     "output_type": "execute_result"
    }
   ],
   "source": [
    "df[\"company\"].replace(\"well\", \"tata\", inplace = True)\n",
    "df[\"company\"].unique()"
   ]
  },
  {
   "cell_type": "code",
   "execution_count": 668,
   "metadata": {},
   "outputs": [
    {
     "data": {
      "text/html": [
       "<div>\n",
       "<style scoped>\n",
       "    .dataframe tbody tr th:only-of-type {\n",
       "        vertical-align: middle;\n",
       "    }\n",
       "\n",
       "    .dataframe tbody tr th {\n",
       "        vertical-align: top;\n",
       "    }\n",
       "\n",
       "    .dataframe thead th {\n",
       "        text-align: right;\n",
       "    }\n",
       "</style>\n",
       "<table border=\"1\" class=\"dataframe\">\n",
       "  <thead>\n",
       "    <tr style=\"text-align: right;\">\n",
       "      <th></th>\n",
       "      <th>name</th>\n",
       "      <th>company</th>\n",
       "      <th>year</th>\n",
       "      <th>Price</th>\n",
       "      <th>kms_driven</th>\n",
       "      <th>fuel_type</th>\n",
       "    </tr>\n",
       "  </thead>\n",
       "  <tbody>\n",
       "    <tr>\n",
       "      <th>796</th>\n",
       "      <td>tata indica</td>\n",
       "      <td>all</td>\n",
       "      <td>n...</td>\n",
       "      <td>1,45,000</td>\n",
       "      <td>NaN</td>\n",
       "      <td>NaN</td>\n",
       "    </tr>\n",
       "  </tbody>\n",
       "</table>\n",
       "</div>"
      ],
      "text/plain": [
       "            name company  year     Price kms_driven fuel_type\n",
       "796  tata indica     all  n...  1,45,000        NaN       NaN"
      ]
     },
     "execution_count": 668,
     "metadata": {},
     "output_type": "execute_result"
    }
   ],
   "source": [
    "data =df[df[\"company\"] == \"all\"] \n",
    "\n",
    "data"
   ]
  },
  {
   "cell_type": "code",
   "execution_count": 669,
   "metadata": {},
   "outputs": [
    {
     "data": {
      "text/plain": [
       "array(['hyundai', 'mahindra', 'maruti', 'ford', 'skoda', 'audi', 'toyota',\n",
       "       'renault', 'honda', 'datsun', 'mitsubishi', 'tata', 'volkswagen',\n",
       "       'chevrolet', 'mini', 'bmw', 'nissan', 'fiat', 'force', 'mercedes',\n",
       "       'land', 'yamaha', 'swift', 'jaguar', 'jeep', 'volvo',\n",
       "       'hindustan motors', '7', '9', 'scratch', 'urgent', 'sell'],\n",
       "      dtype=object)"
      ]
     },
     "execution_count": 669,
     "metadata": {},
     "output_type": "execute_result"
    }
   ],
   "source": [
    "df[\"company\"].replace(\"all\", \"tata\", inplace = True)\n",
    "df[\"company\"].unique()"
   ]
  },
  {
   "cell_type": "code",
   "execution_count": 670,
   "metadata": {},
   "outputs": [
    {
     "data": {
      "text/html": [
       "<div>\n",
       "<style scoped>\n",
       "    .dataframe tbody tr th:only-of-type {\n",
       "        vertical-align: middle;\n",
       "    }\n",
       "\n",
       "    .dataframe tbody tr th {\n",
       "        vertical-align: top;\n",
       "    }\n",
       "\n",
       "    .dataframe thead th {\n",
       "        text-align: right;\n",
       "    }\n",
       "</style>\n",
       "<table border=\"1\" class=\"dataframe\">\n",
       "  <thead>\n",
       "    <tr style=\"text-align: right;\">\n",
       "      <th></th>\n",
       "      <th>name</th>\n",
       "      <th>company</th>\n",
       "      <th>year</th>\n",
       "      <th>Price</th>\n",
       "      <th>kms_driven</th>\n",
       "      <th>fuel_type</th>\n",
       "    </tr>\n",
       "  </thead>\n",
       "  <tbody>\n",
       "    <tr>\n",
       "      <th>798</th>\n",
       "      <td>mahindra bolero neo</td>\n",
       "      <td>7</td>\n",
       "      <td>D...</td>\n",
       "      <td>Ask For Price</td>\n",
       "      <td>NaN</td>\n",
       "      <td>NaN</td>\n",
       "    </tr>\n",
       "  </tbody>\n",
       "</table>\n",
       "</div>"
      ],
      "text/plain": [
       "                    name company  year          Price kms_driven fuel_type\n",
       "798  mahindra bolero neo       7  D...  Ask For Price        NaN       NaN"
      ]
     },
     "execution_count": 670,
     "metadata": {},
     "output_type": "execute_result"
    }
   ],
   "source": [
    "data =df[df[\"company\"] == \"7\"] \n",
    "\n",
    "data"
   ]
  },
  {
   "cell_type": "code",
   "execution_count": 671,
   "metadata": {},
   "outputs": [
    {
     "data": {
      "text/plain": [
       "array(['hyundai', 'mahindra', 'maruti', 'ford', 'skoda', 'audi', 'toyota',\n",
       "       'renault', 'honda', 'datsun', 'mitsubishi', 'tata', 'volkswagen',\n",
       "       'chevrolet', 'mini', 'bmw', 'nissan', 'fiat', 'force', 'mercedes',\n",
       "       'land', 'yamaha', 'swift', 'jaguar', 'jeep', 'volvo',\n",
       "       'hindustan motors', '9', 'scratch', 'urgent', 'sell'], dtype=object)"
      ]
     },
     "execution_count": 671,
     "metadata": {},
     "output_type": "execute_result"
    }
   ],
   "source": [
    "df[\"company\"].replace(\"7\", \"mahindra\", inplace = True)\n",
    "df[\"company\"].unique()"
   ]
  },
  {
   "cell_type": "code",
   "execution_count": 672,
   "metadata": {},
   "outputs": [
    {
     "data": {
      "text/html": [
       "<div>\n",
       "<style scoped>\n",
       "    .dataframe tbody tr th:only-of-type {\n",
       "        vertical-align: middle;\n",
       "    }\n",
       "\n",
       "    .dataframe tbody tr th {\n",
       "        vertical-align: top;\n",
       "    }\n",
       "\n",
       "    .dataframe thead th {\n",
       "        text-align: right;\n",
       "    }\n",
       "</style>\n",
       "<table border=\"1\" class=\"dataframe\">\n",
       "  <thead>\n",
       "    <tr style=\"text-align: right;\">\n",
       "      <th></th>\n",
       "      <th>name</th>\n",
       "      <th>company</th>\n",
       "      <th>year</th>\n",
       "      <th>Price</th>\n",
       "      <th>kms_driven</th>\n",
       "      <th>fuel_type</th>\n",
       "    </tr>\n",
       "  </thead>\n",
       "  <tbody>\n",
       "    <tr>\n",
       "      <th>799</th>\n",
       "      <td>mahindra bolero neo plus</td>\n",
       "      <td>9</td>\n",
       "      <td>, Ac</td>\n",
       "      <td>Ask For Price</td>\n",
       "      <td>NaN</td>\n",
       "      <td>NaN</td>\n",
       "    </tr>\n",
       "  </tbody>\n",
       "</table>\n",
       "</div>"
      ],
      "text/plain": [
       "                         name company  year          Price kms_driven  \\\n",
       "799  mahindra bolero neo plus       9  , Ac  Ask For Price        NaN   \n",
       "\n",
       "    fuel_type  \n",
       "799       NaN  "
      ]
     },
     "execution_count": 672,
     "metadata": {},
     "output_type": "execute_result"
    }
   ],
   "source": [
    "data = df[df[\"company\"] == \"9\"] \n",
    "\n",
    "data"
   ]
  },
  {
   "cell_type": "code",
   "execution_count": 673,
   "metadata": {},
   "outputs": [
    {
     "data": {
      "text/plain": [
       "array(['hyundai', 'mahindra', 'maruti', 'ford', 'skoda', 'audi', 'toyota',\n",
       "       'renault', 'honda', 'datsun', 'mitsubishi', 'tata', 'volkswagen',\n",
       "       'chevrolet', 'mini', 'bmw', 'nissan', 'fiat', 'force', 'mercedes',\n",
       "       'land', 'yamaha', 'swift', 'jaguar', 'jeep', 'volvo',\n",
       "       'hindustan motors', 'scratch', 'urgent', 'sell'], dtype=object)"
      ]
     },
     "execution_count": 673,
     "metadata": {},
     "output_type": "execute_result"
    }
   ],
   "source": [
    "df[\"company\"].replace(\"9\", \"mahindra\", inplace = True)\n",
    "df[\"company\"].unique()"
   ]
  },
  {
   "cell_type": "code",
   "execution_count": 674,
   "metadata": {},
   "outputs": [
    {
     "data": {
      "text/html": [
       "<div>\n",
       "<style scoped>\n",
       "    .dataframe tbody tr th:only-of-type {\n",
       "        vertical-align: middle;\n",
       "    }\n",
       "\n",
       "    .dataframe tbody tr th {\n",
       "        vertical-align: top;\n",
       "    }\n",
       "\n",
       "    .dataframe thead th {\n",
       "        text-align: right;\n",
       "    }\n",
       "</style>\n",
       "<table border=\"1\" class=\"dataframe\">\n",
       "  <thead>\n",
       "    <tr style=\"text-align: right;\">\n",
       "      <th></th>\n",
       "      <th>name</th>\n",
       "      <th>company</th>\n",
       "      <th>year</th>\n",
       "      <th>Price</th>\n",
       "      <th>kms_driven</th>\n",
       "      <th>fuel_type</th>\n",
       "    </tr>\n",
       "  </thead>\n",
       "  <tbody>\n",
       "    <tr>\n",
       "      <th>800</th>\n",
       "      <td>tata indica</td>\n",
       "      <td>scratch</td>\n",
       "      <td>go .</td>\n",
       "      <td>1,40,000</td>\n",
       "      <td>NaN</td>\n",
       "      <td>NaN</td>\n",
       "    </tr>\n",
       "  </tbody>\n",
       "</table>\n",
       "</div>"
      ],
      "text/plain": [
       "            name  company  year     Price kms_driven fuel_type\n",
       "800  tata indica  scratch  go .  1,40,000        NaN       NaN"
      ]
     },
     "execution_count": 674,
     "metadata": {},
     "output_type": "execute_result"
    }
   ],
   "source": [
    "data = df[df[\"company\"] == \"scratch\"] \n",
    "\n",
    "data"
   ]
  },
  {
   "cell_type": "code",
   "execution_count": 675,
   "metadata": {},
   "outputs": [
    {
     "data": {
      "text/plain": [
       "array(['hyundai', 'mahindra', 'maruti', 'ford', 'skoda', 'audi', 'toyota',\n",
       "       'renault', 'honda', 'datsun', 'mitsubishi', 'tata', 'volkswagen',\n",
       "       'chevrolet', 'mini', 'bmw', 'nissan', 'fiat', 'force', 'mercedes',\n",
       "       'land', 'yamaha', 'swift', 'jaguar', 'jeep', 'volvo',\n",
       "       'hindustan motors', 'urgent', 'sell'], dtype=object)"
      ]
     },
     "execution_count": 675,
     "metadata": {},
     "output_type": "execute_result"
    }
   ],
   "source": [
    "df[\"company\"].replace(\"scratch\", \"tata\", inplace = True)\n",
    "df[\"company\"].unique()"
   ]
  },
  {
   "cell_type": "code",
   "execution_count": 676,
   "metadata": {},
   "outputs": [
    {
     "data": {
      "text/html": [
       "<div>\n",
       "<style scoped>\n",
       "    .dataframe tbody tr th:only-of-type {\n",
       "        vertical-align: middle;\n",
       "    }\n",
       "\n",
       "    .dataframe tbody tr th {\n",
       "        vertical-align: top;\n",
       "    }\n",
       "\n",
       "    .dataframe thead th {\n",
       "        text-align: right;\n",
       "    }\n",
       "</style>\n",
       "<table border=\"1\" class=\"dataframe\">\n",
       "  <thead>\n",
       "    <tr style=\"text-align: right;\">\n",
       "      <th></th>\n",
       "      <th>name</th>\n",
       "      <th>company</th>\n",
       "      <th>year</th>\n",
       "      <th>Price</th>\n",
       "      <th>kms_driven</th>\n",
       "      <th>fuel_type</th>\n",
       "    </tr>\n",
       "  </thead>\n",
       "  <tbody>\n",
       "    <tr>\n",
       "      <th>803</th>\n",
       "      <td>mahindra quanto</td>\n",
       "      <td>urgent</td>\n",
       "      <td>o c4</td>\n",
       "      <td>3,50,000</td>\n",
       "      <td>NaN</td>\n",
       "      <td>NaN</td>\n",
       "    </tr>\n",
       "  </tbody>\n",
       "</table>\n",
       "</div>"
      ],
      "text/plain": [
       "                name company  year     Price kms_driven fuel_type\n",
       "803  mahindra quanto  urgent  o c4  3,50,000        NaN       NaN"
      ]
     },
     "execution_count": 676,
     "metadata": {},
     "output_type": "execute_result"
    }
   ],
   "source": [
    "data = df[df[\"company\"] == \"urgent\"] \n",
    "\n",
    "data"
   ]
  },
  {
   "cell_type": "code",
   "execution_count": 677,
   "metadata": {},
   "outputs": [
    {
     "data": {
      "text/plain": [
       "array(['hyundai', 'mahindra', 'maruti', 'ford', 'skoda', 'audi', 'toyota',\n",
       "       'renault', 'honda', 'datsun', 'mitsubishi', 'tata', 'volkswagen',\n",
       "       'chevrolet', 'mini', 'bmw', 'nissan', 'fiat', 'force', 'mercedes',\n",
       "       'land', 'yamaha', 'swift', 'jaguar', 'jeep', 'volvo',\n",
       "       'hindustan motors', 'sell'], dtype=object)"
      ]
     },
     "execution_count": 677,
     "metadata": {},
     "output_type": "execute_result"
    }
   ],
   "source": [
    "df[\"company\"].replace(\"urgent\", \"mahindra\", inplace = True)\n",
    "df[\"company\"].unique()"
   ]
  },
  {
   "cell_type": "code",
   "execution_count": 678,
   "metadata": {},
   "outputs": [
    {
     "data": {
      "text/html": [
       "<div>\n",
       "<style scoped>\n",
       "    .dataframe tbody tr th:only-of-type {\n",
       "        vertical-align: middle;\n",
       "    }\n",
       "\n",
       "    .dataframe tbody tr th {\n",
       "        vertical-align: top;\n",
       "    }\n",
       "\n",
       "    .dataframe thead th {\n",
       "        text-align: right;\n",
       "    }\n",
       "</style>\n",
       "<table border=\"1\" class=\"dataframe\">\n",
       "  <thead>\n",
       "    <tr style=\"text-align: right;\">\n",
       "      <th></th>\n",
       "      <th>name</th>\n",
       "      <th>company</th>\n",
       "      <th>year</th>\n",
       "      <th>Price</th>\n",
       "      <th>kms_driven</th>\n",
       "      <th>fuel_type</th>\n",
       "    </tr>\n",
       "  </thead>\n",
       "  <tbody>\n",
       "    <tr>\n",
       "      <th>805</th>\n",
       "      <td>maruti suzuki swift</td>\n",
       "      <td>sell</td>\n",
       "      <td>zire</td>\n",
       "      <td>3,00,000</td>\n",
       "      <td>NaN</td>\n",
       "      <td>NaN</td>\n",
       "    </tr>\n",
       "  </tbody>\n",
       "</table>\n",
       "</div>"
      ],
      "text/plain": [
       "                    name company  year     Price kms_driven fuel_type\n",
       "805  maruti suzuki swift    sell  zire  3,00,000        NaN       NaN"
      ]
     },
     "execution_count": 678,
     "metadata": {},
     "output_type": "execute_result"
    }
   ],
   "source": [
    "data = df[df[\"company\"] == \"sell\"] \n",
    "\n",
    "data"
   ]
  },
  {
   "cell_type": "code",
   "execution_count": 679,
   "metadata": {},
   "outputs": [
    {
     "data": {
      "text/plain": [
       "array(['hyundai', 'mahindra', 'maruti', 'ford', 'skoda', 'audi', 'toyota',\n",
       "       'renault', 'honda', 'datsun', 'mitsubishi', 'tata', 'volkswagen',\n",
       "       'chevrolet', 'mini', 'bmw', 'nissan', 'fiat', 'force', 'mercedes',\n",
       "       'land', 'yamaha', 'swift', 'jaguar', 'jeep', 'volvo',\n",
       "       'hindustan motors'], dtype=object)"
      ]
     },
     "execution_count": 679,
     "metadata": {},
     "output_type": "execute_result"
    }
   ],
   "source": [
    "df[\"company\"].replace(\"sell\", \"maruti\", inplace = True)\n",
    "df[\"company\"].unique()"
   ]
  },
  {
   "cell_type": "code",
   "execution_count": 680,
   "metadata": {},
   "outputs": [
    {
     "data": {
      "text/plain": [
       "name           0\n",
       "company        0\n",
       "year           0\n",
       "Price          0\n",
       "kms_driven    36\n",
       "fuel_type     39\n",
       "dtype: int64"
      ]
     },
     "execution_count": 680,
     "metadata": {},
     "output_type": "execute_result"
    }
   ],
   "source": [
    "df.isnull().sum()"
   ]
  },
  {
   "cell_type": "code",
   "execution_count": 681,
   "metadata": {},
   "outputs": [
    {
     "name": "stdout",
     "output_type": "stream",
     "text": [
      "<class 'pandas.core.frame.DataFrame'>\n",
      "Index: 782 entries, 0 to 891\n",
      "Data columns (total 6 columns):\n",
      " #   Column      Non-Null Count  Dtype \n",
      "---  ------      --------------  ----- \n",
      " 0   name        782 non-null    object\n",
      " 1   company     782 non-null    object\n",
      " 2   year        782 non-null    object\n",
      " 3   Price       782 non-null    object\n",
      " 4   kms_driven  746 non-null    object\n",
      " 5   fuel_type   743 non-null    object\n",
      "dtypes: object(6)\n",
      "memory usage: 58.9+ KB\n"
     ]
    }
   ],
   "source": [
    "df.info()"
   ]
  },
  {
   "cell_type": "markdown",
   "metadata": {},
   "source": [
    "# **\"year\" column**"
   ]
  },
  {
   "cell_type": "code",
   "execution_count": 682,
   "metadata": {},
   "outputs": [
    {
     "data": {
      "text/plain": [
       "array(['2007', '2006', '2018', '2014', '2015', '2012', '2013', '2016',\n",
       "       '2010', '2017', '2008', '2011', '2019', '2009', '2005', '...',\n",
       "       '2000', '150k', 'TOUR', '2003', 'r 15', '2004', '/-Rs', 'sale',\n",
       "       '1995', 'ara)', '2002', '2001', 'tion', 'odel', '2 bs', 'arry',\n",
       "       'o...', 'emi', 'car', 'able', 'no.', 'SALE', 'sell', 'd Ex',\n",
       "       'n...', 'e...', 'D...', ', Ac', 'go .', 'd...', 'k...', 'o c4',\n",
       "       'zire', 'cab', 'EV2'], dtype=object)"
      ]
     },
     "execution_count": 682,
     "metadata": {},
     "output_type": "execute_result"
    }
   ],
   "source": [
    "df[\"year\"].unique()"
   ]
  },
  {
   "cell_type": "code",
   "execution_count": 683,
   "metadata": {},
   "outputs": [
    {
     "data": {
      "text/html": [
       "<div>\n",
       "<style scoped>\n",
       "    .dataframe tbody tr th:only-of-type {\n",
       "        vertical-align: middle;\n",
       "    }\n",
       "\n",
       "    .dataframe tbody tr th {\n",
       "        vertical-align: top;\n",
       "    }\n",
       "\n",
       "    .dataframe thead th {\n",
       "        text-align: right;\n",
       "    }\n",
       "</style>\n",
       "<table border=\"1\" class=\"dataframe\">\n",
       "  <thead>\n",
       "    <tr style=\"text-align: right;\">\n",
       "      <th></th>\n",
       "      <th>name</th>\n",
       "      <th>company</th>\n",
       "      <th>year</th>\n",
       "      <th>Price</th>\n",
       "      <th>kms_driven</th>\n",
       "      <th>fuel_type</th>\n",
       "    </tr>\n",
       "  </thead>\n",
       "  <tbody>\n",
       "    <tr>\n",
       "      <th>185</th>\n",
       "      <td>maruti suzuki swift dzire</td>\n",
       "      <td>maruti</td>\n",
       "      <td>...</td>\n",
       "      <td>Ask For Price</td>\n",
       "      <td>NaN</td>\n",
       "      <td>NaN</td>\n",
       "    </tr>\n",
       "    <tr>\n",
       "      <th>808</th>\n",
       "      <td>maruti suzuki alto lxi 800</td>\n",
       "      <td>maruti</td>\n",
       "      <td>...</td>\n",
       "      <td>Ask For Price</td>\n",
       "      <td>NaN</td>\n",
       "      <td>NaN</td>\n",
       "    </tr>\n",
       "  </tbody>\n",
       "</table>\n",
       "</div>"
      ],
      "text/plain": [
       "                           name company year          Price kms_driven  \\\n",
       "185   maruti suzuki swift dzire  maruti  ...  Ask For Price        NaN   \n",
       "808  maruti suzuki alto lxi 800  maruti  ...  Ask For Price        NaN   \n",
       "\n",
       "    fuel_type  \n",
       "185       NaN  \n",
       "808       NaN  "
      ]
     },
     "execution_count": 683,
     "metadata": {},
     "output_type": "execute_result"
    }
   ],
   "source": [
    "data = df[df[\"year\"] == \"...\"] \n",
    "\n",
    "data"
   ]
  },
  {
   "cell_type": "code",
   "execution_count": 684,
   "metadata": {},
   "outputs": [
    {
     "data": {
      "text/plain": [
       "array(['2007', '2006', '2018', '2014', '2015', '2012', '2013', '2016',\n",
       "       '2010', '2017', '2008', '2011', '2019', '2009', '2005', nan,\n",
       "       '2000', '150k', 'TOUR', '2003', 'r 15', '2004', '/-Rs', 'sale',\n",
       "       '1995', 'ara)', '2002', '2001', 'tion', 'odel', '2 bs', 'arry',\n",
       "       'o...', 'emi', 'car', 'able', 'no.', 'SALE', 'sell', 'd Ex',\n",
       "       'n...', 'e...', 'D...', ', Ac', 'go .', 'd...', 'k...', 'o c4',\n",
       "       'zire', 'cab', 'EV2'], dtype=object)"
      ]
     },
     "execution_count": 684,
     "metadata": {},
     "output_type": "execute_result"
    }
   ],
   "source": [
    "df[\"year\"].replace(\"...\", np.NaN, inplace = True)\n",
    "df[\"year\"].unique()"
   ]
  },
  {
   "cell_type": "code",
   "execution_count": 685,
   "metadata": {},
   "outputs": [
    {
     "data": {
      "text/html": [
       "<div>\n",
       "<style scoped>\n",
       "    .dataframe tbody tr th:only-of-type {\n",
       "        vertical-align: middle;\n",
       "    }\n",
       "\n",
       "    .dataframe tbody tr th {\n",
       "        vertical-align: top;\n",
       "    }\n",
       "\n",
       "    .dataframe thead th {\n",
       "        text-align: right;\n",
       "    }\n",
       "</style>\n",
       "<table border=\"1\" class=\"dataframe\">\n",
       "  <thead>\n",
       "    <tr style=\"text-align: right;\">\n",
       "      <th></th>\n",
       "      <th>name</th>\n",
       "      <th>company</th>\n",
       "      <th>year</th>\n",
       "      <th>Price</th>\n",
       "      <th>kms_driven</th>\n",
       "      <th>fuel_type</th>\n",
       "    </tr>\n",
       "  </thead>\n",
       "  <tbody>\n",
       "    <tr>\n",
       "      <th>195</th>\n",
       "      <td>tata indigo ecs</td>\n",
       "      <td>tata</td>\n",
       "      <td>150k</td>\n",
       "      <td>1,50,000</td>\n",
       "      <td>NaN</td>\n",
       "      <td>NaN</td>\n",
       "    </tr>\n",
       "  </tbody>\n",
       "</table>\n",
       "</div>"
      ],
      "text/plain": [
       "                name company  year     Price kms_driven fuel_type\n",
       "195  tata indigo ecs    tata  150k  1,50,000        NaN       NaN"
      ]
     },
     "execution_count": 685,
     "metadata": {},
     "output_type": "execute_result"
    }
   ],
   "source": [
    "data = df[df[\"year\"] == \"150k\"] \n",
    "\n",
    "data"
   ]
  },
  {
   "cell_type": "code",
   "execution_count": 686,
   "metadata": {},
   "outputs": [
    {
     "data": {
      "text/plain": [
       "array(['2007', '2006', '2018', '2014', '2015', '2012', '2013', '2016',\n",
       "       '2010', '2017', '2008', '2011', '2019', '2009', '2005', nan,\n",
       "       '2000', 'TOUR', '2003', 'r 15', '2004', '/-Rs', 'sale', '1995',\n",
       "       'ara)', '2002', '2001', 'tion', 'odel', '2 bs', 'arry', 'o...',\n",
       "       'emi', 'car', 'able', 'no.', 'SALE', 'sell', 'd Ex', 'n...',\n",
       "       'e...', 'D...', ', Ac', 'go .', 'd...', 'k...', 'o c4', 'zire',\n",
       "       'cab', 'EV2'], dtype=object)"
      ]
     },
     "execution_count": 686,
     "metadata": {},
     "output_type": "execute_result"
    }
   ],
   "source": [
    "df[\"year\"].replace(\"150k\", \"2010\", inplace = True)\n",
    "df[\"year\"].unique()"
   ]
  },
  {
   "cell_type": "code",
   "execution_count": 687,
   "metadata": {},
   "outputs": [
    {
     "data": {
      "text/plain": [
       "array(['2007', '2006', '2018', '2014', '2015', '2012', '2013', '2016',\n",
       "       '2010', '2017', '2008', '2011', '2019', '2009', '2005', nan,\n",
       "       '2000', 'tour', '2003', 'r 15', '2004', '/-rs', 'sale', '1995',\n",
       "       'ara)', '2002', '2001', 'tion', 'odel', '2 bs', 'arry', 'o...',\n",
       "       'emi', 'car', 'able', 'no.', 'sell', 'd ex', 'n...', 'e...',\n",
       "       'd...', ', ac', 'go .', 'k...', 'o c4', 'zire', 'cab', 'ev2'],\n",
       "      dtype=object)"
      ]
     },
     "execution_count": 687,
     "metadata": {},
     "output_type": "execute_result"
    }
   ],
   "source": [
    "df[\"year\"] = df[\"year\"].str.lower()\n",
    "df[\"year\"].unique()"
   ]
  },
  {
   "cell_type": "code",
   "execution_count": 688,
   "metadata": {},
   "outputs": [
    {
     "data": {
      "text/html": [
       "<div>\n",
       "<style scoped>\n",
       "    .dataframe tbody tr th:only-of-type {\n",
       "        vertical-align: middle;\n",
       "    }\n",
       "\n",
       "    .dataframe tbody tr th {\n",
       "        vertical-align: top;\n",
       "    }\n",
       "\n",
       "    .dataframe thead th {\n",
       "        text-align: right;\n",
       "    }\n",
       "</style>\n",
       "<table border=\"1\" class=\"dataframe\">\n",
       "  <thead>\n",
       "    <tr style=\"text-align: right;\">\n",
       "      <th></th>\n",
       "      <th>name</th>\n",
       "      <th>company</th>\n",
       "      <th>year</th>\n",
       "      <th>Price</th>\n",
       "      <th>kms_driven</th>\n",
       "      <th>fuel_type</th>\n",
       "    </tr>\n",
       "  </thead>\n",
       "  <tbody>\n",
       "    <tr>\n",
       "      <th>206</th>\n",
       "      <td>maruti suzuki desi</td>\n",
       "      <td>maruti</td>\n",
       "      <td>tour</td>\n",
       "      <td>4,00,000</td>\n",
       "      <td>NaN</td>\n",
       "      <td>NaN</td>\n",
       "    </tr>\n",
       "  </tbody>\n",
       "</table>\n",
       "</div>"
      ],
      "text/plain": [
       "                   name company  year     Price kms_driven fuel_type\n",
       "206  maruti suzuki desi  maruti  tour  4,00,000        NaN       NaN"
      ]
     },
     "execution_count": 688,
     "metadata": {},
     "output_type": "execute_result"
    }
   ],
   "source": [
    "data = df[df[\"year\"] == \"tour\"] \n",
    "\n",
    "data"
   ]
  },
  {
   "cell_type": "code",
   "execution_count": 689,
   "metadata": {},
   "outputs": [
    {
     "data": {
      "text/plain": [
       "array(['2007', '2006', '2018', '2014', '2015', '2012', '2013', '2016',\n",
       "       '2010', '2017', '2008', '2011', '2019', '2009', '2005', nan,\n",
       "       '2000', '2003', 'r 15', '2004', '/-rs', 'sale', '1995', 'ara)',\n",
       "       '2002', '2001', 'tion', 'odel', '2 bs', 'arry', 'o...', 'emi',\n",
       "       'car', 'able', 'no.', 'sell', 'd ex', 'n...', 'e...', 'd...',\n",
       "       ', ac', 'go .', 'k...', 'o c4', 'zire', 'cab', 'ev2'], dtype=object)"
      ]
     },
     "execution_count": 689,
     "metadata": {},
     "output_type": "execute_result"
    }
   ],
   "source": [
    "df[\"year\"].replace(\"tour\", np.NaN, inplace = True)\n",
    "df[\"year\"].unique()"
   ]
  },
  {
   "cell_type": "code",
   "execution_count": 690,
   "metadata": {},
   "outputs": [
    {
     "data": {
      "text/html": [
       "<div>\n",
       "<style scoped>\n",
       "    .dataframe tbody tr th:only-of-type {\n",
       "        vertical-align: middle;\n",
       "    }\n",
       "\n",
       "    .dataframe tbody tr th {\n",
       "        vertical-align: top;\n",
       "    }\n",
       "\n",
       "    .dataframe thead th {\n",
       "        text-align: right;\n",
       "    }\n",
       "</style>\n",
       "<table border=\"1\" class=\"dataframe\">\n",
       "  <thead>\n",
       "    <tr style=\"text-align: right;\">\n",
       "      <th></th>\n",
       "      <th>name</th>\n",
       "      <th>company</th>\n",
       "      <th>year</th>\n",
       "      <th>Price</th>\n",
       "      <th>kms_driven</th>\n",
       "      <th>fuel_type</th>\n",
       "    </tr>\n",
       "  </thead>\n",
       "  <tbody>\n",
       "    <tr>\n",
       "      <th>294</th>\n",
       "      <td>yama</td>\n",
       "      <td>yamaha</td>\n",
       "      <td>r 15</td>\n",
       "      <td>55,000</td>\n",
       "      <td>NaN</td>\n",
       "      <td>NaN</td>\n",
       "    </tr>\n",
       "  </tbody>\n",
       "</table>\n",
       "</div>"
      ],
      "text/plain": [
       "     name company  year   Price kms_driven fuel_type\n",
       "294  yama  yamaha  r 15  55,000        NaN       NaN"
      ]
     },
     "execution_count": 690,
     "metadata": {},
     "output_type": "execute_result"
    }
   ],
   "source": [
    "data = df[df[\"year\"] == \"r 15\"] \n",
    "\n",
    "data"
   ]
  },
  {
   "cell_type": "code",
   "execution_count": 691,
   "metadata": {},
   "outputs": [
    {
     "data": {
      "text/plain": [
       "array(['2007', '2006', '2018', '2014', '2015', '2012', '2013', '2016',\n",
       "       '2010', '2017', '2008', '2011', '2019', '2009', '2005', nan,\n",
       "       '2000', '2003', '2004', '/-rs', 'sale', '1995', 'ara)', '2002',\n",
       "       '2001', 'tion', 'odel', '2 bs', 'arry', 'o...', 'emi', 'car',\n",
       "       'able', 'no.', 'sell', 'd ex', 'n...', 'e...', 'd...', ', ac',\n",
       "       'go .', 'k...', 'o c4', 'zire', 'cab', 'ev2'], dtype=object)"
      ]
     },
     "execution_count": 691,
     "metadata": {},
     "output_type": "execute_result"
    }
   ],
   "source": [
    "df[\"year\"].replace(\"r 15\", np.NaN, inplace = True)\n",
    "df[\"year\"].unique()"
   ]
  },
  {
   "cell_type": "code",
   "execution_count": 692,
   "metadata": {},
   "outputs": [
    {
     "data": {
      "text/html": [
       "<div>\n",
       "<style scoped>\n",
       "    .dataframe tbody tr th:only-of-type {\n",
       "        vertical-align: middle;\n",
       "    }\n",
       "\n",
       "    .dataframe tbody tr th {\n",
       "        vertical-align: top;\n",
       "    }\n",
       "\n",
       "    .dataframe thead th {\n",
       "        text-align: right;\n",
       "    }\n",
       "</style>\n",
       "<table border=\"1\" class=\"dataframe\">\n",
       "  <thead>\n",
       "    <tr style=\"text-align: right;\">\n",
       "      <th></th>\n",
       "      <th>name</th>\n",
       "      <th>company</th>\n",
       "      <th>year</th>\n",
       "      <th>Price</th>\n",
       "      <th>kms_driven</th>\n",
       "      <th>fuel_type</th>\n",
       "    </tr>\n",
       "  </thead>\n",
       "  <tbody>\n",
       "    <tr>\n",
       "      <th>368</th>\n",
       "      <td>tata zest</td>\n",
       "      <td>tata</td>\n",
       "      <td>/-rs</td>\n",
       "      <td>Ask For Price</td>\n",
       "      <td>NaN</td>\n",
       "      <td>NaN</td>\n",
       "    </tr>\n",
       "  </tbody>\n",
       "</table>\n",
       "</div>"
      ],
      "text/plain": [
       "          name company  year          Price kms_driven fuel_type\n",
       "368  tata zest    tata  /-rs  Ask For Price        NaN       NaN"
      ]
     },
     "execution_count": 692,
     "metadata": {},
     "output_type": "execute_result"
    }
   ],
   "source": [
    "data = df[df[\"year\"] == \"/-rs\"] \n",
    "\n",
    "data"
   ]
  },
  {
   "cell_type": "code",
   "execution_count": 693,
   "metadata": {},
   "outputs": [
    {
     "data": {
      "text/plain": [
       "array(['2007', '2006', '2018', '2014', '2015', '2012', '2013', '2016',\n",
       "       '2010', '2017', '2008', '2011', '2019', '2009', '2005', nan,\n",
       "       '2000', '2003', '2004', 'sale', '1995', 'ara)', '2002', '2001',\n",
       "       'tion', 'odel', '2 bs', 'arry', 'o...', 'emi', 'car', 'able',\n",
       "       'no.', 'sell', 'd ex', 'n...', 'e...', 'd...', ', ac', 'go .',\n",
       "       'k...', 'o c4', 'zire', 'cab', 'ev2'], dtype=object)"
      ]
     },
     "execution_count": 693,
     "metadata": {},
     "output_type": "execute_result"
    }
   ],
   "source": [
    "df[\"year\"].replace(\"/-rs\", np.NaN, inplace = True)\n",
    "df[\"year\"].unique()"
   ]
  },
  {
   "cell_type": "code",
   "execution_count": 694,
   "metadata": {},
   "outputs": [
    {
     "data": {
      "text/html": [
       "<div>\n",
       "<style scoped>\n",
       "    .dataframe tbody tr th:only-of-type {\n",
       "        vertical-align: middle;\n",
       "    }\n",
       "\n",
       "    .dataframe tbody tr th {\n",
       "        vertical-align: top;\n",
       "    }\n",
       "\n",
       "    .dataframe thead th {\n",
       "        text-align: right;\n",
       "    }\n",
       "</style>\n",
       "<table border=\"1\" class=\"dataframe\">\n",
       "  <thead>\n",
       "    <tr style=\"text-align: right;\">\n",
       "      <th></th>\n",
       "      <th>name</th>\n",
       "      <th>company</th>\n",
       "      <th>year</th>\n",
       "      <th>Price</th>\n",
       "      <th>kms_driven</th>\n",
       "      <th>fuel_type</th>\n",
       "    </tr>\n",
       "  </thead>\n",
       "  <tbody>\n",
       "    <tr>\n",
       "      <th>385</th>\n",
       "      <td>maruti suzuki swift dzire</td>\n",
       "      <td>maruti</td>\n",
       "      <td>sale</td>\n",
       "      <td>3,00,000</td>\n",
       "      <td>NaN</td>\n",
       "      <td>NaN</td>\n",
       "    </tr>\n",
       "    <tr>\n",
       "      <th>608</th>\n",
       "      <td>tata indica</td>\n",
       "      <td>tata</td>\n",
       "      <td>sale</td>\n",
       "      <td>1,30,000</td>\n",
       "      <td>NaN</td>\n",
       "      <td>NaN</td>\n",
       "    </tr>\n",
       "    <tr>\n",
       "      <th>758</th>\n",
       "      <td>maruti suzuki ertiga f</td>\n",
       "      <td>maruti</td>\n",
       "      <td>sale</td>\n",
       "      <td>6,50,000</td>\n",
       "      <td>NaN</td>\n",
       "      <td>NaN</td>\n",
       "    </tr>\n",
       "    <tr>\n",
       "      <th>884</th>\n",
       "      <td>tata zest 2017 f</td>\n",
       "      <td>tata</td>\n",
       "      <td>sale</td>\n",
       "      <td>4,50,000</td>\n",
       "      <td>NaN</td>\n",
       "      <td>NaN</td>\n",
       "    </tr>\n",
       "  </tbody>\n",
       "</table>\n",
       "</div>"
      ],
      "text/plain": [
       "                          name company  year     Price kms_driven fuel_type\n",
       "385  maruti suzuki swift dzire  maruti  sale  3,00,000        NaN       NaN\n",
       "608                tata indica    tata  sale  1,30,000        NaN       NaN\n",
       "758     maruti suzuki ertiga f  maruti  sale  6,50,000        NaN       NaN\n",
       "884           tata zest 2017 f    tata  sale  4,50,000        NaN       NaN"
      ]
     },
     "execution_count": 694,
     "metadata": {},
     "output_type": "execute_result"
    }
   ],
   "source": [
    "data = df[df[\"year\"] == \"sale\"] \n",
    "\n",
    "data"
   ]
  },
  {
   "cell_type": "code",
   "execution_count": 695,
   "metadata": {},
   "outputs": [
    {
     "data": {
      "text/plain": [
       "array(['2007', '2006', '2018', '2014', '2015', '2012', '2013', '2016',\n",
       "       '2010', '2017', '2008', '2011', '2019', '2009', '2005', nan,\n",
       "       '2000', '2003', '2004', '1995', 'ara)', '2002', '2001', 'tion',\n",
       "       'odel', '2 bs', 'arry', 'o...', 'emi', 'car', 'able', 'no.',\n",
       "       'sell', 'd ex', 'n...', 'e...', 'd...', ', ac', 'go .', 'k...',\n",
       "       'o c4', 'zire', 'cab', 'ev2'], dtype=object)"
      ]
     },
     "execution_count": 695,
     "metadata": {},
     "output_type": "execute_result"
    }
   ],
   "source": [
    "df[\"year\"].replace(\"sale\", np.NaN, inplace = True)\n",
    "df[\"year\"].unique()"
   ]
  },
  {
   "cell_type": "code",
   "execution_count": 696,
   "metadata": {},
   "outputs": [
    {
     "data": {
      "text/html": [
       "<div>\n",
       "<style scoped>\n",
       "    .dataframe tbody tr th:only-of-type {\n",
       "        vertical-align: middle;\n",
       "    }\n",
       "\n",
       "    .dataframe tbody tr th {\n",
       "        vertical-align: top;\n",
       "    }\n",
       "\n",
       "    .dataframe thead th {\n",
       "        text-align: right;\n",
       "    }\n",
       "</style>\n",
       "<table border=\"1\" class=\"dataframe\">\n",
       "  <thead>\n",
       "    <tr style=\"text-align: right;\">\n",
       "      <th></th>\n",
       "      <th>name</th>\n",
       "      <th>company</th>\n",
       "      <th>year</th>\n",
       "      <th>Price</th>\n",
       "      <th>kms_driven</th>\n",
       "      <th>fuel_type</th>\n",
       "    </tr>\n",
       "  </thead>\n",
       "  <tbody>\n",
       "    <tr>\n",
       "      <th>395</th>\n",
       "      <td>maruti suzuki swift dzire</td>\n",
       "      <td>maruti</td>\n",
       "      <td>ara)</td>\n",
       "      <td>3,00,000</td>\n",
       "      <td>NaN</td>\n",
       "      <td>NaN</td>\n",
       "    </tr>\n",
       "  </tbody>\n",
       "</table>\n",
       "</div>"
      ],
      "text/plain": [
       "                          name company  year     Price kms_driven fuel_type\n",
       "395  maruti suzuki swift dzire  maruti  ara)  3,00,000        NaN       NaN"
      ]
     },
     "execution_count": 696,
     "metadata": {},
     "output_type": "execute_result"
    }
   ],
   "source": [
    "data = df[df[\"year\"] == \"ara)\"] \n",
    "\n",
    "data"
   ]
  },
  {
   "cell_type": "code",
   "execution_count": 697,
   "metadata": {},
   "outputs": [
    {
     "data": {
      "text/plain": [
       "array(['2007', '2006', '2018', '2014', '2015', '2012', '2013', '2016',\n",
       "       '2010', '2017', '2008', '2011', '2019', '2009', '2005', nan,\n",
       "       '2000', '2003', '2004', '1995', '2002', '2001', 'tion', 'odel',\n",
       "       '2 bs', 'arry', 'o...', 'emi', 'car', 'able', 'no.', 'sell',\n",
       "       'd ex', 'n...', 'e...', 'd...', ', ac', 'go .', 'k...', 'o c4',\n",
       "       'zire', 'cab', 'ev2'], dtype=object)"
      ]
     },
     "execution_count": 697,
     "metadata": {},
     "output_type": "execute_result"
    }
   ],
   "source": [
    "df[\"year\"].replace(\"ara)\", np.NaN, inplace = True)\n",
    "df[\"year\"].unique()"
   ]
  },
  {
   "cell_type": "code",
   "execution_count": 698,
   "metadata": {},
   "outputs": [
    {
     "data": {
      "text/html": [
       "<div>\n",
       "<style scoped>\n",
       "    .dataframe tbody tr th:only-of-type {\n",
       "        vertical-align: middle;\n",
       "    }\n",
       "\n",
       "    .dataframe tbody tr th {\n",
       "        vertical-align: top;\n",
       "    }\n",
       "\n",
       "    .dataframe thead th {\n",
       "        text-align: right;\n",
       "    }\n",
       "</style>\n",
       "<table border=\"1\" class=\"dataframe\">\n",
       "  <thead>\n",
       "    <tr style=\"text-align: right;\">\n",
       "      <th></th>\n",
       "      <th>name</th>\n",
       "      <th>company</th>\n",
       "      <th>year</th>\n",
       "      <th>Price</th>\n",
       "      <th>kms_driven</th>\n",
       "      <th>fuel_type</th>\n",
       "    </tr>\n",
       "  </thead>\n",
       "  <tbody>\n",
       "    <tr>\n",
       "      <th>414</th>\n",
       "      <td>maruti suzuki swift dzire</td>\n",
       "      <td>swift</td>\n",
       "      <td>tion</td>\n",
       "      <td>3,70,000</td>\n",
       "      <td>NaN</td>\n",
       "      <td>NaN</td>\n",
       "    </tr>\n",
       "  </tbody>\n",
       "</table>\n",
       "</div>"
      ],
      "text/plain": [
       "                          name company  year     Price kms_driven fuel_type\n",
       "414  maruti suzuki swift dzire   swift  tion  3,70,000        NaN       NaN"
      ]
     },
     "execution_count": 698,
     "metadata": {},
     "output_type": "execute_result"
    }
   ],
   "source": [
    "data = df[df[\"year\"] == \"tion\"] \n",
    "\n",
    "data"
   ]
  },
  {
   "cell_type": "code",
   "execution_count": 699,
   "metadata": {},
   "outputs": [
    {
     "data": {
      "text/plain": [
       "array(['2007', '2006', '2018', '2014', '2015', '2012', '2013', '2016',\n",
       "       '2010', '2017', '2008', '2011', '2019', '2009', '2005', nan,\n",
       "       '2000', '2003', '2004', '1995', '2002', '2001', 'odel', '2 bs',\n",
       "       'arry', 'o...', 'emi', 'car', 'able', 'no.', 'sell', 'd ex',\n",
       "       'n...', 'e...', 'd...', ', ac', 'go .', 'k...', 'o c4', 'zire',\n",
       "       'cab', 'ev2'], dtype=object)"
      ]
     },
     "execution_count": 699,
     "metadata": {},
     "output_type": "execute_result"
    }
   ],
   "source": [
    "df[\"year\"].replace(\"tion\", \"2016\", inplace = True)\n",
    "df[\"year\"].unique()"
   ]
  },
  {
   "cell_type": "code",
   "execution_count": 700,
   "metadata": {},
   "outputs": [
    {
     "data": {
      "text/html": [
       "<div>\n",
       "<style scoped>\n",
       "    .dataframe tbody tr th:only-of-type {\n",
       "        vertical-align: middle;\n",
       "    }\n",
       "\n",
       "    .dataframe tbody tr th {\n",
       "        vertical-align: top;\n",
       "    }\n",
       "\n",
       "    .dataframe thead th {\n",
       "        text-align: right;\n",
       "    }\n",
       "</style>\n",
       "<table border=\"1\" class=\"dataframe\">\n",
       "  <thead>\n",
       "    <tr style=\"text-align: right;\">\n",
       "      <th></th>\n",
       "      <th>name</th>\n",
       "      <th>company</th>\n",
       "      <th>year</th>\n",
       "      <th>Price</th>\n",
       "      <th>kms_driven</th>\n",
       "      <th>fuel_type</th>\n",
       "    </tr>\n",
       "  </thead>\n",
       "  <tbody>\n",
       "    <tr>\n",
       "      <th>432</th>\n",
       "      <td>tata zest</td>\n",
       "      <td>tata</td>\n",
       "      <td>odel</td>\n",
       "      <td>3,20,000</td>\n",
       "      <td>NaN</td>\n",
       "      <td>NaN</td>\n",
       "    </tr>\n",
       "  </tbody>\n",
       "</table>\n",
       "</div>"
      ],
      "text/plain": [
       "          name company  year     Price kms_driven fuel_type\n",
       "432  tata zest    tata  odel  3,20,000        NaN       NaN"
      ]
     },
     "execution_count": 700,
     "metadata": {},
     "output_type": "execute_result"
    }
   ],
   "source": [
    "data = df[df[\"year\"] == \"odel\"] \n",
    "\n",
    "data"
   ]
  },
  {
   "cell_type": "code",
   "execution_count": 701,
   "metadata": {},
   "outputs": [
    {
     "data": {
      "text/plain": [
       "array(['2007', '2006', '2018', '2014', '2015', '2012', '2013', '2016',\n",
       "       '2010', '2017', '2008', '2011', '2019', '2009', '2005', nan,\n",
       "       '2000', '2003', '2004', '1995', '2002', '2001', '2 bs', 'arry',\n",
       "       'o...', 'emi', 'car', 'able', 'no.', 'sell', 'd ex', 'n...',\n",
       "       'e...', 'd...', ', ac', 'go .', 'k...', 'o c4', 'zire', 'cab',\n",
       "       'ev2'], dtype=object)"
      ]
     },
     "execution_count": 701,
     "metadata": {},
     "output_type": "execute_result"
    }
   ],
   "source": [
    "df[\"year\"].replace(\"odel\", np.NaN, inplace = True)\n",
    "df[\"year\"].unique()"
   ]
  },
  {
   "cell_type": "code",
   "execution_count": 702,
   "metadata": {},
   "outputs": [
    {
     "data": {
      "text/html": [
       "<div>\n",
       "<style scoped>\n",
       "    .dataframe tbody tr th:only-of-type {\n",
       "        vertical-align: middle;\n",
       "    }\n",
       "\n",
       "    .dataframe tbody tr th {\n",
       "        vertical-align: top;\n",
       "    }\n",
       "\n",
       "    .dataframe thead th {\n",
       "        text-align: right;\n",
       "    }\n",
       "</style>\n",
       "<table border=\"1\" class=\"dataframe\">\n",
       "  <thead>\n",
       "    <tr style=\"text-align: right;\">\n",
       "      <th></th>\n",
       "      <th>name</th>\n",
       "      <th>company</th>\n",
       "      <th>year</th>\n",
       "      <th>Price</th>\n",
       "      <th>kms_driven</th>\n",
       "      <th>fuel_type</th>\n",
       "    </tr>\n",
       "  </thead>\n",
       "  <tbody>\n",
       "    <tr>\n",
       "      <th>433</th>\n",
       "      <td>mahindra xyl</td>\n",
       "      <td>mahindra</td>\n",
       "      <td>2 bs</td>\n",
       "      <td>3,50,000</td>\n",
       "      <td>NaN</td>\n",
       "      <td>NaN</td>\n",
       "    </tr>\n",
       "  </tbody>\n",
       "</table>\n",
       "</div>"
      ],
      "text/plain": [
       "             name   company  year     Price kms_driven fuel_type\n",
       "433  mahindra xyl  mahindra  2 bs  3,50,000        NaN       NaN"
      ]
     },
     "execution_count": 702,
     "metadata": {},
     "output_type": "execute_result"
    }
   ],
   "source": [
    "data = df[df[\"year\"] == \"2 bs\"] \n",
    "\n",
    "data"
   ]
  },
  {
   "cell_type": "code",
   "execution_count": 703,
   "metadata": {},
   "outputs": [
    {
     "data": {
      "text/plain": [
       "array(['2007', '2006', '2018', '2014', '2015', '2012', '2013', '2016',\n",
       "       '2010', '2017', '2008', '2011', '2019', '2009', '2005', nan,\n",
       "       '2000', '2003', '2004', '1995', '2002', '2001', 'arry', 'o...',\n",
       "       'emi', 'car', 'able', 'no.', 'sell', 'd ex', 'n...', 'e...',\n",
       "       'd...', ', ac', 'go .', 'k...', 'o c4', 'zire', 'cab', 'ev2'],\n",
       "      dtype=object)"
      ]
     },
     "execution_count": 703,
     "metadata": {},
     "output_type": "execute_result"
    }
   ],
   "source": [
    "df[\"year\"].replace(\"2 bs\", np.NaN, inplace = True)\n",
    "df[\"year\"].unique()"
   ]
  },
  {
   "cell_type": "code",
   "execution_count": 704,
   "metadata": {},
   "outputs": [
    {
     "data": {
      "text/html": [
       "<div>\n",
       "<style scoped>\n",
       "    .dataframe tbody tr th:only-of-type {\n",
       "        vertical-align: middle;\n",
       "    }\n",
       "\n",
       "    .dataframe tbody tr th {\n",
       "        vertical-align: top;\n",
       "    }\n",
       "\n",
       "    .dataframe thead th {\n",
       "        text-align: right;\n",
       "    }\n",
       "</style>\n",
       "<table border=\"1\" class=\"dataframe\">\n",
       "  <thead>\n",
       "    <tr style=\"text-align: right;\">\n",
       "      <th></th>\n",
       "      <th>name</th>\n",
       "      <th>company</th>\n",
       "      <th>year</th>\n",
       "      <th>Price</th>\n",
       "      <th>kms_driven</th>\n",
       "      <th>fuel_type</th>\n",
       "    </tr>\n",
       "  </thead>\n",
       "  <tbody>\n",
       "    <tr>\n",
       "      <th>441</th>\n",
       "      <td>maruti omni</td>\n",
       "      <td>maruti</td>\n",
       "      <td>arry</td>\n",
       "      <td>1,50,000</td>\n",
       "      <td>NaN</td>\n",
       "      <td>NaN</td>\n",
       "    </tr>\n",
       "  </tbody>\n",
       "</table>\n",
       "</div>"
      ],
      "text/plain": [
       "            name company  year     Price kms_driven fuel_type\n",
       "441  maruti omni  maruti  arry  1,50,000        NaN       NaN"
      ]
     },
     "execution_count": 704,
     "metadata": {},
     "output_type": "execute_result"
    }
   ],
   "source": [
    "data = df[df[\"year\"] == \"arry\"] \n",
    "\n",
    "data"
   ]
  },
  {
   "cell_type": "code",
   "execution_count": 705,
   "metadata": {},
   "outputs": [
    {
     "data": {
      "text/plain": [
       "array(['2007', '2006', '2018', '2014', '2015', '2012', '2013', '2016',\n",
       "       '2010', '2017', '2008', '2011', '2019', '2009', '2005', nan,\n",
       "       '2000', '2003', '2004', '1995', '2002', '2001', 'o...', 'emi',\n",
       "       'car', 'able', 'no.', 'sell', 'd ex', 'n...', 'e...', 'd...',\n",
       "       ', ac', 'go .', 'k...', 'o c4', 'zire', 'cab', 'ev2'], dtype=object)"
      ]
     },
     "execution_count": 705,
     "metadata": {},
     "output_type": "execute_result"
    }
   ],
   "source": [
    "df[\"year\"].replace(\"arry\", np.NaN, inplace = True)\n",
    "df[\"year\"].unique()"
   ]
  },
  {
   "cell_type": "code",
   "execution_count": 706,
   "metadata": {},
   "outputs": [
    {
     "data": {
      "text/html": [
       "<div>\n",
       "<style scoped>\n",
       "    .dataframe tbody tr th:only-of-type {\n",
       "        vertical-align: middle;\n",
       "    }\n",
       "\n",
       "    .dataframe tbody tr th {\n",
       "        vertical-align: top;\n",
       "    }\n",
       "\n",
       "    .dataframe thead th {\n",
       "        text-align: right;\n",
       "    }\n",
       "</style>\n",
       "<table border=\"1\" class=\"dataframe\">\n",
       "  <thead>\n",
       "    <tr style=\"text-align: right;\">\n",
       "      <th></th>\n",
       "      <th>name</th>\n",
       "      <th>company</th>\n",
       "      <th>year</th>\n",
       "      <th>Price</th>\n",
       "      <th>kms_driven</th>\n",
       "      <th>fuel_type</th>\n",
       "    </tr>\n",
       "  </thead>\n",
       "  <tbody>\n",
       "    <tr>\n",
       "      <th>593</th>\n",
       "      <td>chevrolet sail hatchback</td>\n",
       "      <td>chevrolet</td>\n",
       "      <td>o...</td>\n",
       "      <td>2,25,000</td>\n",
       "      <td>NaN</td>\n",
       "      <td>NaN</td>\n",
       "    </tr>\n",
       "    <tr>\n",
       "      <th>806</th>\n",
       "      <td>maruti suzuki swift dzire</td>\n",
       "      <td>maruti</td>\n",
       "      <td>o...</td>\n",
       "      <td>3,10,000</td>\n",
       "      <td>NaN</td>\n",
       "      <td>NaN</td>\n",
       "    </tr>\n",
       "  </tbody>\n",
       "</table>\n",
       "</div>"
      ],
      "text/plain": [
       "                          name    company  year     Price kms_driven fuel_type\n",
       "593   chevrolet sail hatchback  chevrolet  o...  2,25,000        NaN       NaN\n",
       "806  maruti suzuki swift dzire     maruti  o...  3,10,000        NaN       NaN"
      ]
     },
     "execution_count": 706,
     "metadata": {},
     "output_type": "execute_result"
    }
   ],
   "source": [
    "data = df[df[\"year\"] == \"o...\"] \n",
    "\n",
    "data"
   ]
  },
  {
   "cell_type": "code",
   "execution_count": 707,
   "metadata": {},
   "outputs": [
    {
     "data": {
      "text/plain": [
       "array(['2007', '2006', '2018', '2014', '2015', '2012', '2013', '2016',\n",
       "       '2010', '2017', '2008', '2011', '2019', '2009', '2005', nan,\n",
       "       '2000', '2003', '2004', '1995', '2002', '2001', 'emi', 'car',\n",
       "       'able', 'no.', 'sell', 'd ex', 'n...', 'e...', 'd...', ', ac',\n",
       "       'go .', 'k...', 'o c4', 'zire', 'cab', 'ev2'], dtype=object)"
      ]
     },
     "execution_count": 707,
     "metadata": {},
     "output_type": "execute_result"
    }
   ],
   "source": [
    "df[\"year\"].replace(\"o...\", np.NaN, inplace = True)\n",
    "df[\"year\"].unique()"
   ]
  },
  {
   "cell_type": "code",
   "execution_count": 708,
   "metadata": {},
   "outputs": [
    {
     "data": {
      "text/html": [
       "<div>\n",
       "<style scoped>\n",
       "    .dataframe tbody tr th:only-of-type {\n",
       "        vertical-align: middle;\n",
       "    }\n",
       "\n",
       "    .dataframe tbody tr th {\n",
       "        vertical-align: top;\n",
       "    }\n",
       "\n",
       "    .dataframe thead th {\n",
       "        text-align: right;\n",
       "    }\n",
       "</style>\n",
       "<table border=\"1\" class=\"dataframe\">\n",
       "  <thead>\n",
       "    <tr style=\"text-align: right;\">\n",
       "      <th></th>\n",
       "      <th>name</th>\n",
       "      <th>company</th>\n",
       "      <th>year</th>\n",
       "      <th>Price</th>\n",
       "      <th>kms_driven</th>\n",
       "      <th>fuel_type</th>\n",
       "    </tr>\n",
       "  </thead>\n",
       "  <tbody>\n",
       "    <tr>\n",
       "      <th>624</th>\n",
       "      <td>tata indigo 2017 top model..</td>\n",
       "      <td>tata</td>\n",
       "      <td>emi</td>\n",
       "      <td>1,70,000</td>\n",
       "      <td>NaN</td>\n",
       "      <td>NaN</td>\n",
       "    </tr>\n",
       "  </tbody>\n",
       "</table>\n",
       "</div>"
      ],
      "text/plain": [
       "                             name company year     Price kms_driven fuel_type\n",
       "624  tata indigo 2017 top model..    tata  emi  1,70,000        NaN       NaN"
      ]
     },
     "execution_count": 708,
     "metadata": {},
     "output_type": "execute_result"
    }
   ],
   "source": [
    "data = df[df[\"year\"] == \"emi\"] \n",
    "\n",
    "data"
   ]
  },
  {
   "cell_type": "code",
   "execution_count": 709,
   "metadata": {},
   "outputs": [
    {
     "data": {
      "text/plain": [
       "array(['2007', '2006', '2018', '2014', '2015', '2012', '2013', '2016',\n",
       "       '2010', '2017', '2008', '2011', '2019', '2009', '2005', nan,\n",
       "       '2000', '2003', '2004', '1995', '2002', '2001', 'car', 'able',\n",
       "       'no.', 'sell', 'd ex', 'n...', 'e...', 'd...', ', ac', 'go .',\n",
       "       'k...', 'o c4', 'zire', 'cab', 'ev2'], dtype=object)"
      ]
     },
     "execution_count": 709,
     "metadata": {},
     "output_type": "execute_result"
    }
   ],
   "source": [
    "df[\"year\"].replace(\"emi\", np.NaN, inplace = True)\n",
    "df[\"year\"].unique()"
   ]
  },
  {
   "cell_type": "code",
   "execution_count": 710,
   "metadata": {},
   "outputs": [
    {
     "data": {
      "text/html": [
       "<div>\n",
       "<style scoped>\n",
       "    .dataframe tbody tr th:only-of-type {\n",
       "        vertical-align: middle;\n",
       "    }\n",
       "\n",
       "    .dataframe tbody tr th {\n",
       "        vertical-align: top;\n",
       "    }\n",
       "\n",
       "    .dataframe thead th {\n",
       "        text-align: right;\n",
       "    }\n",
       "</style>\n",
       "<table border=\"1\" class=\"dataframe\">\n",
       "  <thead>\n",
       "    <tr style=\"text-align: right;\">\n",
       "      <th></th>\n",
       "      <th>name</th>\n",
       "      <th>company</th>\n",
       "      <th>year</th>\n",
       "      <th>Price</th>\n",
       "      <th>kms_driven</th>\n",
       "      <th>fuel_type</th>\n",
       "    </tr>\n",
       "  </thead>\n",
       "  <tbody>\n",
       "    <tr>\n",
       "      <th>635</th>\n",
       "      <td>tata indigo</td>\n",
       "      <td>tata</td>\n",
       "      <td>car</td>\n",
       "      <td>1,50,000</td>\n",
       "      <td>NaN</td>\n",
       "      <td>NaN</td>\n",
       "    </tr>\n",
       "    <tr>\n",
       "      <th>728</th>\n",
       "      <td>tata zest</td>\n",
       "      <td>tata</td>\n",
       "      <td>car</td>\n",
       "      <td>3,70,000</td>\n",
       "      <td>NaN</td>\n",
       "      <td>NaN</td>\n",
       "    </tr>\n",
       "  </tbody>\n",
       "</table>\n",
       "</div>"
      ],
      "text/plain": [
       "            name company year     Price kms_driven fuel_type\n",
       "635  tata indigo    tata  car  1,50,000        NaN       NaN\n",
       "728    tata zest    tata  car  3,70,000        NaN       NaN"
      ]
     },
     "execution_count": 710,
     "metadata": {},
     "output_type": "execute_result"
    }
   ],
   "source": [
    "data = df[df[\"year\"] == \"car\"] \n",
    "\n",
    "data"
   ]
  },
  {
   "cell_type": "code",
   "execution_count": 711,
   "metadata": {},
   "outputs": [
    {
     "data": {
      "text/plain": [
       "array(['2007', '2006', '2018', '2014', '2015', '2012', '2013', '2016',\n",
       "       '2010', '2017', '2008', '2011', '2019', '2009', '2005', nan,\n",
       "       '2000', '2003', '2004', '1995', '2002', '2001', 'able', 'no.',\n",
       "       'sell', 'd ex', 'n...', 'e...', 'd...', ', ac', 'go .', 'k...',\n",
       "       'o c4', 'zire', 'cab', 'ev2'], dtype=object)"
      ]
     },
     "execution_count": 711,
     "metadata": {},
     "output_type": "execute_result"
    }
   ],
   "source": [
    "df[\"year\"].replace(\"car\", np.NaN, inplace = True)\n",
    "df[\"year\"].unique()"
   ]
  },
  {
   "cell_type": "code",
   "execution_count": 712,
   "metadata": {},
   "outputs": [
    {
     "data": {
      "text/html": [
       "<div>\n",
       "<style scoped>\n",
       "    .dataframe tbody tr th:only-of-type {\n",
       "        vertical-align: middle;\n",
       "    }\n",
       "\n",
       "    .dataframe tbody tr th {\n",
       "        vertical-align: top;\n",
       "    }\n",
       "\n",
       "    .dataframe thead th {\n",
       "        text-align: right;\n",
       "    }\n",
       "</style>\n",
       "<table border=\"1\" class=\"dataframe\">\n",
       "  <thead>\n",
       "    <tr style=\"text-align: right;\">\n",
       "      <th></th>\n",
       "      <th>name</th>\n",
       "      <th>company</th>\n",
       "      <th>year</th>\n",
       "      <th>Price</th>\n",
       "      <th>kms_driven</th>\n",
       "      <th>fuel_type</th>\n",
       "    </tr>\n",
       "  </thead>\n",
       "  <tbody>\n",
       "    <tr>\n",
       "      <th>643</th>\n",
       "      <td>tata bolts</td>\n",
       "      <td>tata</td>\n",
       "      <td>able</td>\n",
       "      <td>2,00,000</td>\n",
       "      <td>NaN</td>\n",
       "      <td>NaN</td>\n",
       "    </tr>\n",
       "  </tbody>\n",
       "</table>\n",
       "</div>"
      ],
      "text/plain": [
       "           name company  year     Price kms_driven fuel_type\n",
       "643  tata bolts    tata  able  2,00,000        NaN       NaN"
      ]
     },
     "execution_count": 712,
     "metadata": {},
     "output_type": "execute_result"
    }
   ],
   "source": [
    "data = df[df[\"year\"] == \"able\"] \n",
    "\n",
    "data"
   ]
  },
  {
   "cell_type": "code",
   "execution_count": 713,
   "metadata": {},
   "outputs": [
    {
     "data": {
      "text/plain": [
       "array(['2007', '2006', '2018', '2014', '2015', '2012', '2013', '2016',\n",
       "       '2010', '2017', '2008', '2011', '2019', '2009', '2005', nan,\n",
       "       '2000', '2003', '2004', '1995', '2002', '2001', 'no.', 'sell',\n",
       "       'd ex', 'n...', 'e...', 'd...', ', ac', 'go .', 'k...', 'o c4',\n",
       "       'zire', 'cab', 'ev2'], dtype=object)"
      ]
     },
     "execution_count": 713,
     "metadata": {},
     "output_type": "execute_result"
    }
   ],
   "source": [
    "df[\"year\"].replace(\"able\", np.NaN, inplace = True)\n",
    "df[\"year\"].unique()"
   ]
  },
  {
   "cell_type": "code",
   "execution_count": 714,
   "metadata": {},
   "outputs": [
    {
     "data": {
      "text/html": [
       "<div>\n",
       "<style scoped>\n",
       "    .dataframe tbody tr th:only-of-type {\n",
       "        vertical-align: middle;\n",
       "    }\n",
       "\n",
       "    .dataframe tbody tr th {\n",
       "        vertical-align: top;\n",
       "    }\n",
       "\n",
       "    .dataframe thead th {\n",
       "        text-align: right;\n",
       "    }\n",
       "</style>\n",
       "<table border=\"1\" class=\"dataframe\">\n",
       "  <thead>\n",
       "    <tr style=\"text-align: right;\">\n",
       "      <th></th>\n",
       "      <th>name</th>\n",
       "      <th>company</th>\n",
       "      <th>year</th>\n",
       "      <th>Price</th>\n",
       "      <th>kms_driven</th>\n",
       "      <th>fuel_type</th>\n",
       "    </tr>\n",
       "  </thead>\n",
       "  <tbody>\n",
       "    <tr>\n",
       "      <th>645</th>\n",
       "      <td>hyundai xcent</td>\n",
       "      <td>hyundai</td>\n",
       "      <td>no.</td>\n",
       "      <td>Ask For Price</td>\n",
       "      <td>NaN</td>\n",
       "      <td>NaN</td>\n",
       "    </tr>\n",
       "  </tbody>\n",
       "</table>\n",
       "</div>"
      ],
      "text/plain": [
       "              name  company year          Price kms_driven fuel_type\n",
       "645  hyundai xcent  hyundai  no.  Ask For Price        NaN       NaN"
      ]
     },
     "execution_count": 714,
     "metadata": {},
     "output_type": "execute_result"
    }
   ],
   "source": [
    "data = df[df[\"year\"] == \"no.\"] \n",
    "\n",
    "data"
   ]
  },
  {
   "cell_type": "code",
   "execution_count": 715,
   "metadata": {},
   "outputs": [
    {
     "data": {
      "text/plain": [
       "array(['2007', '2006', '2018', '2014', '2015', '2012', '2013', '2016',\n",
       "       '2010', '2017', '2008', '2011', '2019', '2009', '2005', nan,\n",
       "       '2000', '2003', '2004', '1995', '2002', '2001', 'sell', 'd ex',\n",
       "       'n...', 'e...', 'd...', ', ac', 'go .', 'k...', 'o c4', 'zire',\n",
       "       'cab', 'ev2'], dtype=object)"
      ]
     },
     "execution_count": 715,
     "metadata": {},
     "output_type": "execute_result"
    }
   ],
   "source": [
    "df[\"year\"].replace(\"no.\", np.NaN, inplace = True)\n",
    "df[\"year\"].unique()"
   ]
  },
  {
   "cell_type": "code",
   "execution_count": 716,
   "metadata": {},
   "outputs": [
    {
     "data": {
      "text/html": [
       "<div>\n",
       "<style scoped>\n",
       "    .dataframe tbody tr th:only-of-type {\n",
       "        vertical-align: middle;\n",
       "    }\n",
       "\n",
       "    .dataframe tbody tr th {\n",
       "        vertical-align: top;\n",
       "    }\n",
       "\n",
       "    .dataframe thead th {\n",
       "        text-align: right;\n",
       "    }\n",
       "</style>\n",
       "<table border=\"1\" class=\"dataframe\">\n",
       "  <thead>\n",
       "    <tr style=\"text-align: right;\">\n",
       "      <th></th>\n",
       "      <th>name</th>\n",
       "      <th>company</th>\n",
       "      <th>year</th>\n",
       "      <th>Price</th>\n",
       "      <th>kms_driven</th>\n",
       "      <th>fuel_type</th>\n",
       "    </tr>\n",
       "  </thead>\n",
       "  <tbody>\n",
       "    <tr>\n",
       "      <th>792</th>\n",
       "      <td>tata sumo</td>\n",
       "      <td>tata</td>\n",
       "      <td>sell</td>\n",
       "      <td>2,50,000</td>\n",
       "      <td>NaN</td>\n",
       "      <td>NaN</td>\n",
       "    </tr>\n",
       "  </tbody>\n",
       "</table>\n",
       "</div>"
      ],
      "text/plain": [
       "          name company  year     Price kms_driven fuel_type\n",
       "792  tata sumo    tata  sell  2,50,000        NaN       NaN"
      ]
     },
     "execution_count": 716,
     "metadata": {},
     "output_type": "execute_result"
    }
   ],
   "source": [
    "data = df[df[\"year\"] == \"sell\"] \n",
    "\n",
    "data"
   ]
  },
  {
   "cell_type": "code",
   "execution_count": 717,
   "metadata": {},
   "outputs": [
    {
     "data": {
      "text/plain": [
       "array(['2007', '2006', '2018', '2014', '2015', '2012', '2013', '2016',\n",
       "       '2010', '2017', '2008', '2011', '2019', '2009', '2005', nan,\n",
       "       '2000', '2003', '2004', '1995', '2002', '2001', 'd ex', 'n...',\n",
       "       'e...', 'd...', ', ac', 'go .', 'k...', 'o c4', 'zire', 'cab',\n",
       "       'ev2'], dtype=object)"
      ]
     },
     "execution_count": 717,
     "metadata": {},
     "output_type": "execute_result"
    }
   ],
   "source": [
    "df[\"year\"].replace(\"sell\", np.NaN, inplace = True)\n",
    "df[\"year\"].unique()"
   ]
  },
  {
   "cell_type": "code",
   "execution_count": 718,
   "metadata": {},
   "outputs": [
    {
     "data": {
      "text/html": [
       "<div>\n",
       "<style scoped>\n",
       "    .dataframe tbody tr th:only-of-type {\n",
       "        vertical-align: middle;\n",
       "    }\n",
       "\n",
       "    .dataframe tbody tr th {\n",
       "        vertical-align: top;\n",
       "    }\n",
       "\n",
       "    .dataframe thead th {\n",
       "        text-align: right;\n",
       "    }\n",
       "</style>\n",
       "<table border=\"1\" class=\"dataframe\">\n",
       "  <thead>\n",
       "    <tr style=\"text-align: right;\">\n",
       "      <th></th>\n",
       "      <th>name</th>\n",
       "      <th>company</th>\n",
       "      <th>year</th>\n",
       "      <th>Price</th>\n",
       "      <th>kms_driven</th>\n",
       "      <th>fuel_type</th>\n",
       "    </tr>\n",
       "  </thead>\n",
       "  <tbody>\n",
       "    <tr>\n",
       "      <th>795</th>\n",
       "      <td>tata sumo</td>\n",
       "      <td>tata</td>\n",
       "      <td>d ex</td>\n",
       "      <td>3,80,000</td>\n",
       "      <td>NaN</td>\n",
       "      <td>NaN</td>\n",
       "    </tr>\n",
       "  </tbody>\n",
       "</table>\n",
       "</div>"
      ],
      "text/plain": [
       "          name company  year     Price kms_driven fuel_type\n",
       "795  tata sumo    tata  d ex  3,80,000        NaN       NaN"
      ]
     },
     "execution_count": 718,
     "metadata": {},
     "output_type": "execute_result"
    }
   ],
   "source": [
    "data = df[df[\"year\"] == \"d ex\"] \n",
    "\n",
    "data"
   ]
  },
  {
   "cell_type": "code",
   "execution_count": 719,
   "metadata": {},
   "outputs": [
    {
     "data": {
      "text/plain": [
       "array(['2007', '2006', '2018', '2014', '2015', '2012', '2013', '2016',\n",
       "       '2010', '2017', '2008', '2011', '2019', '2009', '2005', nan,\n",
       "       '2000', '2003', '2004', '1995', '2002', '2001', 'n...', 'e...',\n",
       "       'd...', ', ac', 'go .', 'k...', 'o c4', 'zire', 'cab', 'ev2'],\n",
       "      dtype=object)"
      ]
     },
     "execution_count": 719,
     "metadata": {},
     "output_type": "execute_result"
    }
   ],
   "source": [
    "df[\"year\"].replace(\"d ex\", np.NaN, inplace = True)\n",
    "df[\"year\"].unique()"
   ]
  },
  {
   "cell_type": "code",
   "execution_count": 720,
   "metadata": {},
   "outputs": [
    {
     "data": {
      "text/html": [
       "<div>\n",
       "<style scoped>\n",
       "    .dataframe tbody tr th:only-of-type {\n",
       "        vertical-align: middle;\n",
       "    }\n",
       "\n",
       "    .dataframe tbody tr th {\n",
       "        vertical-align: top;\n",
       "    }\n",
       "\n",
       "    .dataframe thead th {\n",
       "        text-align: right;\n",
       "    }\n",
       "</style>\n",
       "<table border=\"1\" class=\"dataframe\">\n",
       "  <thead>\n",
       "    <tr style=\"text-align: right;\">\n",
       "      <th></th>\n",
       "      <th>name</th>\n",
       "      <th>company</th>\n",
       "      <th>year</th>\n",
       "      <th>Price</th>\n",
       "      <th>kms_driven</th>\n",
       "      <th>fuel_type</th>\n",
       "    </tr>\n",
       "  </thead>\n",
       "  <tbody>\n",
       "    <tr>\n",
       "      <th>796</th>\n",
       "      <td>tata indica</td>\n",
       "      <td>tata</td>\n",
       "      <td>n...</td>\n",
       "      <td>1,45,000</td>\n",
       "      <td>NaN</td>\n",
       "      <td>NaN</td>\n",
       "    </tr>\n",
       "  </tbody>\n",
       "</table>\n",
       "</div>"
      ],
      "text/plain": [
       "            name company  year     Price kms_driven fuel_type\n",
       "796  tata indica    tata  n...  1,45,000        NaN       NaN"
      ]
     },
     "execution_count": 720,
     "metadata": {},
     "output_type": "execute_result"
    }
   ],
   "source": [
    "data = df[df[\"year\"] == \"n...\"] \n",
    "\n",
    "data"
   ]
  },
  {
   "cell_type": "code",
   "execution_count": 721,
   "metadata": {},
   "outputs": [
    {
     "data": {
      "text/plain": [
       "array(['2007', '2006', '2018', '2014', '2015', '2012', '2013', '2016',\n",
       "       '2010', '2017', '2008', '2011', '2019', '2009', '2005', nan,\n",
       "       '2000', '2003', '2004', '1995', '2002', '2001', 'e...', 'd...',\n",
       "       ', ac', 'go .', 'k...', 'o c4', 'zire', 'cab', 'ev2'], dtype=object)"
      ]
     },
     "execution_count": 721,
     "metadata": {},
     "output_type": "execute_result"
    }
   ],
   "source": [
    "df[\"year\"].replace(\"n...\", np.NaN, inplace = True)\n",
    "df[\"year\"].unique()"
   ]
  },
  {
   "cell_type": "code",
   "execution_count": 722,
   "metadata": {},
   "outputs": [
    {
     "data": {
      "text/html": [
       "<div>\n",
       "<style scoped>\n",
       "    .dataframe tbody tr th:only-of-type {\n",
       "        vertical-align: middle;\n",
       "    }\n",
       "\n",
       "    .dataframe tbody tr th {\n",
       "        vertical-align: top;\n",
       "    }\n",
       "\n",
       "    .dataframe thead th {\n",
       "        text-align: right;\n",
       "    }\n",
       "</style>\n",
       "<table border=\"1\" class=\"dataframe\">\n",
       "  <thead>\n",
       "    <tr style=\"text-align: right;\">\n",
       "      <th></th>\n",
       "      <th>name</th>\n",
       "      <th>company</th>\n",
       "      <th>year</th>\n",
       "      <th>Price</th>\n",
       "      <th>kms_driven</th>\n",
       "      <th>fuel_type</th>\n",
       "    </tr>\n",
       "  </thead>\n",
       "  <tbody>\n",
       "    <tr>\n",
       "      <th>797</th>\n",
       "      <td>maruti ertiga</td>\n",
       "      <td>maruti</td>\n",
       "      <td>e...</td>\n",
       "      <td>4,80,000</td>\n",
       "      <td>NaN</td>\n",
       "      <td>NaN</td>\n",
       "    </tr>\n",
       "  </tbody>\n",
       "</table>\n",
       "</div>"
      ],
      "text/plain": [
       "              name company  year     Price kms_driven fuel_type\n",
       "797  maruti ertiga  maruti  e...  4,80,000        NaN       NaN"
      ]
     },
     "execution_count": 722,
     "metadata": {},
     "output_type": "execute_result"
    }
   ],
   "source": [
    "data = df[df[\"year\"] == \"e...\"] \n",
    "\n",
    "data"
   ]
  },
  {
   "cell_type": "code",
   "execution_count": 723,
   "metadata": {},
   "outputs": [
    {
     "data": {
      "text/plain": [
       "array(['2007', '2006', '2018', '2014', '2015', '2012', '2013', '2016',\n",
       "       '2010', '2017', '2008', '2011', '2019', '2009', '2005', nan,\n",
       "       '2000', '2003', '2004', '1995', '2002', '2001', 'd...', ', ac',\n",
       "       'go .', 'k...', 'o c4', 'zire', 'cab', 'ev2'], dtype=object)"
      ]
     },
     "execution_count": 723,
     "metadata": {},
     "output_type": "execute_result"
    }
   ],
   "source": [
    "df[\"year\"].replace(\"e...\", np.NaN, inplace = True)\n",
    "df[\"year\"].unique()"
   ]
  },
  {
   "cell_type": "code",
   "execution_count": 724,
   "metadata": {},
   "outputs": [
    {
     "data": {
      "text/html": [
       "<div>\n",
       "<style scoped>\n",
       "    .dataframe tbody tr th:only-of-type {\n",
       "        vertical-align: middle;\n",
       "    }\n",
       "\n",
       "    .dataframe tbody tr th {\n",
       "        vertical-align: top;\n",
       "    }\n",
       "\n",
       "    .dataframe thead th {\n",
       "        text-align: right;\n",
       "    }\n",
       "</style>\n",
       "<table border=\"1\" class=\"dataframe\">\n",
       "  <thead>\n",
       "    <tr style=\"text-align: right;\">\n",
       "      <th></th>\n",
       "      <th>name</th>\n",
       "      <th>company</th>\n",
       "      <th>year</th>\n",
       "      <th>Price</th>\n",
       "      <th>kms_driven</th>\n",
       "      <th>fuel_type</th>\n",
       "    </tr>\n",
       "  </thead>\n",
       "  <tbody>\n",
       "    <tr>\n",
       "      <th>798</th>\n",
       "      <td>mahindra bolero neo</td>\n",
       "      <td>mahindra</td>\n",
       "      <td>d...</td>\n",
       "      <td>Ask For Price</td>\n",
       "      <td>NaN</td>\n",
       "      <td>NaN</td>\n",
       "    </tr>\n",
       "    <tr>\n",
       "      <th>801</th>\n",
       "      <td>maruti suzuki swift dzire</td>\n",
       "      <td>maruti</td>\n",
       "      <td>d...</td>\n",
       "      <td>3,60,000</td>\n",
       "      <td>NaN</td>\n",
       "      <td>NaN</td>\n",
       "    </tr>\n",
       "  </tbody>\n",
       "</table>\n",
       "</div>"
      ],
      "text/plain": [
       "                          name   company  year          Price kms_driven  \\\n",
       "798        mahindra bolero neo  mahindra  d...  Ask For Price        NaN   \n",
       "801  maruti suzuki swift dzire    maruti  d...       3,60,000        NaN   \n",
       "\n",
       "    fuel_type  \n",
       "798       NaN  \n",
       "801       NaN  "
      ]
     },
     "execution_count": 724,
     "metadata": {},
     "output_type": "execute_result"
    }
   ],
   "source": [
    "data = df[df[\"year\"] == \"d...\"] \n",
    "\n",
    "data"
   ]
  },
  {
   "cell_type": "code",
   "execution_count": 725,
   "metadata": {},
   "outputs": [
    {
     "data": {
      "text/plain": [
       "array(['2007', '2006', '2018', '2014', '2015', '2012', '2013', '2016',\n",
       "       '2010', '2017', '2008', '2011', '2019', '2009', '2005', nan,\n",
       "       '2000', '2003', '2004', '1995', '2002', '2001', ', ac', 'go .',\n",
       "       'k...', 'o c4', 'zire', 'cab', 'ev2'], dtype=object)"
      ]
     },
     "execution_count": 725,
     "metadata": {},
     "output_type": "execute_result"
    }
   ],
   "source": [
    "df[\"year\"].replace(\"d...\", np.NaN, inplace = True)\n",
    "df[\"year\"].unique()"
   ]
  },
  {
   "cell_type": "code",
   "execution_count": 726,
   "metadata": {},
   "outputs": [
    {
     "data": {
      "text/html": [
       "<div>\n",
       "<style scoped>\n",
       "    .dataframe tbody tr th:only-of-type {\n",
       "        vertical-align: middle;\n",
       "    }\n",
       "\n",
       "    .dataframe tbody tr th {\n",
       "        vertical-align: top;\n",
       "    }\n",
       "\n",
       "    .dataframe thead th {\n",
       "        text-align: right;\n",
       "    }\n",
       "</style>\n",
       "<table border=\"1\" class=\"dataframe\">\n",
       "  <thead>\n",
       "    <tr style=\"text-align: right;\">\n",
       "      <th></th>\n",
       "      <th>name</th>\n",
       "      <th>company</th>\n",
       "      <th>year</th>\n",
       "      <th>Price</th>\n",
       "      <th>kms_driven</th>\n",
       "      <th>fuel_type</th>\n",
       "    </tr>\n",
       "  </thead>\n",
       "  <tbody>\n",
       "    <tr>\n",
       "      <th>799</th>\n",
       "      <td>mahindra bolero neo plus</td>\n",
       "      <td>mahindra</td>\n",
       "      <td>, ac</td>\n",
       "      <td>Ask For Price</td>\n",
       "      <td>NaN</td>\n",
       "      <td>NaN</td>\n",
       "    </tr>\n",
       "  </tbody>\n",
       "</table>\n",
       "</div>"
      ],
      "text/plain": [
       "                         name   company  year          Price kms_driven  \\\n",
       "799  mahindra bolero neo plus  mahindra  , ac  Ask For Price        NaN   \n",
       "\n",
       "    fuel_type  \n",
       "799       NaN  "
      ]
     },
     "execution_count": 726,
     "metadata": {},
     "output_type": "execute_result"
    }
   ],
   "source": [
    "data = df[df[\"year\"] == \", ac\"] \n",
    "\n",
    "data"
   ]
  },
  {
   "cell_type": "code",
   "execution_count": 727,
   "metadata": {},
   "outputs": [
    {
     "data": {
      "text/plain": [
       "array(['2007', '2006', '2018', '2014', '2015', '2012', '2013', '2016',\n",
       "       '2010', '2017', '2008', '2011', '2019', '2009', '2005', nan,\n",
       "       '2000', '2003', '2004', '1995', '2002', '2001', 'go .', 'k...',\n",
       "       'o c4', 'zire', 'cab', 'ev2'], dtype=object)"
      ]
     },
     "execution_count": 727,
     "metadata": {},
     "output_type": "execute_result"
    }
   ],
   "source": [
    "df[\"year\"].replace(\", ac\", np.NaN, inplace = True)\n",
    "df[\"year\"].unique()"
   ]
  },
  {
   "cell_type": "code",
   "execution_count": 728,
   "metadata": {},
   "outputs": [
    {
     "data": {
      "text/html": [
       "<div>\n",
       "<style scoped>\n",
       "    .dataframe tbody tr th:only-of-type {\n",
       "        vertical-align: middle;\n",
       "    }\n",
       "\n",
       "    .dataframe tbody tr th {\n",
       "        vertical-align: top;\n",
       "    }\n",
       "\n",
       "    .dataframe thead th {\n",
       "        text-align: right;\n",
       "    }\n",
       "</style>\n",
       "<table border=\"1\" class=\"dataframe\">\n",
       "  <thead>\n",
       "    <tr style=\"text-align: right;\">\n",
       "      <th></th>\n",
       "      <th>name</th>\n",
       "      <th>company</th>\n",
       "      <th>year</th>\n",
       "      <th>Price</th>\n",
       "      <th>kms_driven</th>\n",
       "      <th>fuel_type</th>\n",
       "    </tr>\n",
       "  </thead>\n",
       "  <tbody>\n",
       "    <tr>\n",
       "      <th>800</th>\n",
       "      <td>tata indica</td>\n",
       "      <td>tata</td>\n",
       "      <td>go .</td>\n",
       "      <td>1,40,000</td>\n",
       "      <td>NaN</td>\n",
       "      <td>NaN</td>\n",
       "    </tr>\n",
       "  </tbody>\n",
       "</table>\n",
       "</div>"
      ],
      "text/plain": [
       "            name company  year     Price kms_driven fuel_type\n",
       "800  tata indica    tata  go .  1,40,000        NaN       NaN"
      ]
     },
     "execution_count": 728,
     "metadata": {},
     "output_type": "execute_result"
    }
   ],
   "source": [
    "data = df[df[\"year\"] == \"go .\"] \n",
    "\n",
    "data"
   ]
  },
  {
   "cell_type": "code",
   "execution_count": 729,
   "metadata": {},
   "outputs": [
    {
     "data": {
      "text/plain": [
       "array(['2007', '2006', '2018', '2014', '2015', '2012', '2013', '2016',\n",
       "       '2010', '2017', '2008', '2011', '2019', '2009', '2005', nan,\n",
       "       '2000', '2003', '2004', '1995', '2002', '2001', 'k...', 'o c4',\n",
       "       'zire', 'cab', 'ev2'], dtype=object)"
      ]
     },
     "execution_count": 729,
     "metadata": {},
     "output_type": "execute_result"
    }
   ],
   "source": [
    "df[\"year\"].replace(\"go .\", np.NaN, inplace = True)\n",
    "df[\"year\"].unique()"
   ]
  },
  {
   "cell_type": "code",
   "execution_count": 730,
   "metadata": {},
   "outputs": [
    {
     "data": {
      "text/html": [
       "<div>\n",
       "<style scoped>\n",
       "    .dataframe tbody tr th:only-of-type {\n",
       "        vertical-align: middle;\n",
       "    }\n",
       "\n",
       "    .dataframe tbody tr th {\n",
       "        vertical-align: top;\n",
       "    }\n",
       "\n",
       "    .dataframe thead th {\n",
       "        text-align: right;\n",
       "    }\n",
       "</style>\n",
       "<table border=\"1\" class=\"dataframe\">\n",
       "  <thead>\n",
       "    <tr style=\"text-align: right;\">\n",
       "      <th></th>\n",
       "      <th>name</th>\n",
       "      <th>company</th>\n",
       "      <th>year</th>\n",
       "      <th>Price</th>\n",
       "      <th>kms_driven</th>\n",
       "      <th>fuel_type</th>\n",
       "    </tr>\n",
       "  </thead>\n",
       "  <tbody>\n",
       "    <tr>\n",
       "      <th>802</th>\n",
       "      <td>chevrolet beat</td>\n",
       "      <td>chevrolet</td>\n",
       "      <td>k...</td>\n",
       "      <td>1,80,000</td>\n",
       "      <td>NaN</td>\n",
       "      <td>NaN</td>\n",
       "    </tr>\n",
       "  </tbody>\n",
       "</table>\n",
       "</div>"
      ],
      "text/plain": [
       "               name    company  year     Price kms_driven fuel_type\n",
       "802  chevrolet beat  chevrolet  k...  1,80,000        NaN       NaN"
      ]
     },
     "execution_count": 730,
     "metadata": {},
     "output_type": "execute_result"
    }
   ],
   "source": [
    "data = df[df[\"year\"] == \"k...\"] \n",
    "\n",
    "data"
   ]
  },
  {
   "cell_type": "code",
   "execution_count": 731,
   "metadata": {},
   "outputs": [
    {
     "data": {
      "text/plain": [
       "array(['2007', '2006', '2018', '2014', '2015', '2012', '2013', '2016',\n",
       "       '2010', '2017', '2008', '2011', '2019', '2009', '2005', nan,\n",
       "       '2000', '2003', '2004', '1995', '2002', '2001', 'o c4', 'zire',\n",
       "       'cab', 'ev2'], dtype=object)"
      ]
     },
     "execution_count": 731,
     "metadata": {},
     "output_type": "execute_result"
    }
   ],
   "source": [
    "df[\"year\"].replace(\"k...\", np.NaN, inplace = True)\n",
    "df[\"year\"].unique()"
   ]
  },
  {
   "cell_type": "code",
   "execution_count": 732,
   "metadata": {},
   "outputs": [
    {
     "data": {
      "text/html": [
       "<div>\n",
       "<style scoped>\n",
       "    .dataframe tbody tr th:only-of-type {\n",
       "        vertical-align: middle;\n",
       "    }\n",
       "\n",
       "    .dataframe tbody tr th {\n",
       "        vertical-align: top;\n",
       "    }\n",
       "\n",
       "    .dataframe thead th {\n",
       "        text-align: right;\n",
       "    }\n",
       "</style>\n",
       "<table border=\"1\" class=\"dataframe\">\n",
       "  <thead>\n",
       "    <tr style=\"text-align: right;\">\n",
       "      <th></th>\n",
       "      <th>name</th>\n",
       "      <th>company</th>\n",
       "      <th>year</th>\n",
       "      <th>Price</th>\n",
       "      <th>kms_driven</th>\n",
       "      <th>fuel_type</th>\n",
       "    </tr>\n",
       "  </thead>\n",
       "  <tbody>\n",
       "    <tr>\n",
       "      <th>803</th>\n",
       "      <td>mahindra quanto</td>\n",
       "      <td>mahindra</td>\n",
       "      <td>o c4</td>\n",
       "      <td>3,50,000</td>\n",
       "      <td>NaN</td>\n",
       "      <td>NaN</td>\n",
       "    </tr>\n",
       "  </tbody>\n",
       "</table>\n",
       "</div>"
      ],
      "text/plain": [
       "                name   company  year     Price kms_driven fuel_type\n",
       "803  mahindra quanto  mahindra  o c4  3,50,000        NaN       NaN"
      ]
     },
     "execution_count": 732,
     "metadata": {},
     "output_type": "execute_result"
    }
   ],
   "source": [
    "data = df[df[\"year\"] == \"o c4\"] \n",
    "\n",
    "data"
   ]
  },
  {
   "cell_type": "code",
   "execution_count": 733,
   "metadata": {},
   "outputs": [
    {
     "data": {
      "text/plain": [
       "array(['2007', '2006', '2018', '2014', '2015', '2012', '2013', '2016',\n",
       "       '2010', '2017', '2008', '2011', '2019', '2009', '2005', nan,\n",
       "       '2000', '2003', '2004', '1995', '2002', '2001', 'zire', 'cab',\n",
       "       'ev2'], dtype=object)"
      ]
     },
     "execution_count": 733,
     "metadata": {},
     "output_type": "execute_result"
    }
   ],
   "source": [
    "df[\"year\"].replace(\"o c4\", np.NaN, inplace = True)\n",
    "df[\"year\"].unique()"
   ]
  },
  {
   "cell_type": "code",
   "execution_count": 734,
   "metadata": {},
   "outputs": [
    {
     "data": {
      "text/html": [
       "<div>\n",
       "<style scoped>\n",
       "    .dataframe tbody tr th:only-of-type {\n",
       "        vertical-align: middle;\n",
       "    }\n",
       "\n",
       "    .dataframe tbody tr th {\n",
       "        vertical-align: top;\n",
       "    }\n",
       "\n",
       "    .dataframe thead th {\n",
       "        text-align: right;\n",
       "    }\n",
       "</style>\n",
       "<table border=\"1\" class=\"dataframe\">\n",
       "  <thead>\n",
       "    <tr style=\"text-align: right;\">\n",
       "      <th></th>\n",
       "      <th>name</th>\n",
       "      <th>company</th>\n",
       "      <th>year</th>\n",
       "      <th>Price</th>\n",
       "      <th>kms_driven</th>\n",
       "      <th>fuel_type</th>\n",
       "    </tr>\n",
       "  </thead>\n",
       "  <tbody>\n",
       "    <tr>\n",
       "      <th>805</th>\n",
       "      <td>maruti suzuki swift</td>\n",
       "      <td>maruti</td>\n",
       "      <td>zire</td>\n",
       "      <td>3,00,000</td>\n",
       "      <td>NaN</td>\n",
       "      <td>NaN</td>\n",
       "    </tr>\n",
       "  </tbody>\n",
       "</table>\n",
       "</div>"
      ],
      "text/plain": [
       "                    name company  year     Price kms_driven fuel_type\n",
       "805  maruti suzuki swift  maruti  zire  3,00,000        NaN       NaN"
      ]
     },
     "execution_count": 734,
     "metadata": {},
     "output_type": "execute_result"
    }
   ],
   "source": [
    "data = df[df[\"year\"] == \"zire\"] \n",
    "\n",
    "data"
   ]
  },
  {
   "cell_type": "code",
   "execution_count": 735,
   "metadata": {},
   "outputs": [
    {
     "data": {
      "text/plain": [
       "array(['2007', '2006', '2018', '2014', '2015', '2012', '2013', '2016',\n",
       "       '2010', '2017', '2008', '2011', '2019', '2009', '2005', nan,\n",
       "       '2000', '2003', '2004', '1995', '2002', '2001', 'cab', 'ev2'],\n",
       "      dtype=object)"
      ]
     },
     "execution_count": 735,
     "metadata": {},
     "output_type": "execute_result"
    }
   ],
   "source": [
    "df[\"year\"].replace(\"zire\", np.NaN, inplace = True)\n",
    "df[\"year\"].unique()"
   ]
  },
  {
   "cell_type": "code",
   "execution_count": 736,
   "metadata": {},
   "outputs": [
    {
     "data": {
      "text/html": [
       "<div>\n",
       "<style scoped>\n",
       "    .dataframe tbody tr th:only-of-type {\n",
       "        vertical-align: middle;\n",
       "    }\n",
       "\n",
       "    .dataframe tbody tr th {\n",
       "        vertical-align: top;\n",
       "    }\n",
       "\n",
       "    .dataframe thead th {\n",
       "        text-align: right;\n",
       "    }\n",
       "</style>\n",
       "<table border=\"1\" class=\"dataframe\">\n",
       "  <thead>\n",
       "    <tr style=\"text-align: right;\">\n",
       "      <th></th>\n",
       "      <th>name</th>\n",
       "      <th>company</th>\n",
       "      <th>year</th>\n",
       "      <th>Price</th>\n",
       "      <th>kms_driven</th>\n",
       "      <th>fuel_type</th>\n",
       "    </tr>\n",
       "  </thead>\n",
       "  <tbody>\n",
       "    <tr>\n",
       "      <th>810</th>\n",
       "      <td>maruti suzuki alto vxi</td>\n",
       "      <td>maruti</td>\n",
       "      <td>cab</td>\n",
       "      <td>95,000</td>\n",
       "      <td>NaN</td>\n",
       "      <td>NaN</td>\n",
       "    </tr>\n",
       "  </tbody>\n",
       "</table>\n",
       "</div>"
      ],
      "text/plain": [
       "                       name company year   Price kms_driven fuel_type\n",
       "810  maruti suzuki alto vxi  maruti  cab  95,000        NaN       NaN"
      ]
     },
     "execution_count": 736,
     "metadata": {},
     "output_type": "execute_result"
    }
   ],
   "source": [
    "data = df[df[\"year\"] == \"cab\"] \n",
    "\n",
    "data"
   ]
  },
  {
   "cell_type": "code",
   "execution_count": 737,
   "metadata": {},
   "outputs": [
    {
     "data": {
      "text/plain": [
       "array(['2007', '2006', '2018', '2014', '2015', '2012', '2013', '2016',\n",
       "       '2010', '2017', '2008', '2011', '2019', '2009', '2005', nan,\n",
       "       '2000', '2003', '2004', '1995', '2002', '2001', 'ev2'],\n",
       "      dtype=object)"
      ]
     },
     "execution_count": 737,
     "metadata": {},
     "output_type": "execute_result"
    }
   ],
   "source": [
    "df[\"year\"].replace(\"cab\", np.NaN, inplace = True)\n",
    "df[\"year\"].unique()"
   ]
  },
  {
   "cell_type": "code",
   "execution_count": 738,
   "metadata": {},
   "outputs": [
    {
     "data": {
      "text/html": [
       "<div>\n",
       "<style scoped>\n",
       "    .dataframe tbody tr th:only-of-type {\n",
       "        vertical-align: middle;\n",
       "    }\n",
       "\n",
       "    .dataframe tbody tr th {\n",
       "        vertical-align: top;\n",
       "    }\n",
       "\n",
       "    .dataframe thead th {\n",
       "        text-align: right;\n",
       "    }\n",
       "</style>\n",
       "<table border=\"1\" class=\"dataframe\">\n",
       "  <thead>\n",
       "    <tr style=\"text-align: right;\">\n",
       "      <th></th>\n",
       "      <th>name</th>\n",
       "      <th>company</th>\n",
       "      <th>year</th>\n",
       "      <th>Price</th>\n",
       "      <th>kms_driven</th>\n",
       "      <th>fuel_type</th>\n",
       "    </tr>\n",
       "  </thead>\n",
       "  <tbody>\n",
       "    <tr>\n",
       "      <th>812</th>\n",
       "      <td>tata indica</td>\n",
       "      <td>tata</td>\n",
       "      <td>ev2</td>\n",
       "      <td>1,10,000</td>\n",
       "      <td>NaN</td>\n",
       "      <td>NaN</td>\n",
       "    </tr>\n",
       "  </tbody>\n",
       "</table>\n",
       "</div>"
      ],
      "text/plain": [
       "            name company year     Price kms_driven fuel_type\n",
       "812  tata indica    tata  ev2  1,10,000        NaN       NaN"
      ]
     },
     "execution_count": 738,
     "metadata": {},
     "output_type": "execute_result"
    }
   ],
   "source": [
    "data = df[df[\"year\"] == \"ev2\"] \n",
    "\n",
    "data"
   ]
  },
  {
   "cell_type": "code",
   "execution_count": 739,
   "metadata": {},
   "outputs": [
    {
     "data": {
      "text/plain": [
       "array(['2007', '2006', '2018', '2014', '2015', '2012', '2013', '2016',\n",
       "       '2010', '2017', '2008', '2011', '2019', '2009', '2005', nan,\n",
       "       '2000', '2003', '2004', '1995', '2002', '2001'], dtype=object)"
      ]
     },
     "execution_count": 739,
     "metadata": {},
     "output_type": "execute_result"
    }
   ],
   "source": [
    "df[\"year\"].replace(\"ev2\", np.NaN, inplace = True)\n",
    "df[\"year\"].unique()"
   ]
  },
  {
   "cell_type": "code",
   "execution_count": 740,
   "metadata": {},
   "outputs": [
    {
     "data": {
      "text/plain": [
       "name           0\n",
       "company        0\n",
       "year          33\n",
       "Price          0\n",
       "kms_driven    36\n",
       "fuel_type     39\n",
       "dtype: int64"
      ]
     },
     "execution_count": 740,
     "metadata": {},
     "output_type": "execute_result"
    }
   ],
   "source": [
    "df.isnull().sum()"
   ]
  },
  {
   "cell_type": "code",
   "execution_count": 741,
   "metadata": {},
   "outputs": [
    {
     "data": {
      "text/html": [
       "<div>\n",
       "<style scoped>\n",
       "    .dataframe tbody tr th:only-of-type {\n",
       "        vertical-align: middle;\n",
       "    }\n",
       "\n",
       "    .dataframe tbody tr th {\n",
       "        vertical-align: top;\n",
       "    }\n",
       "\n",
       "    .dataframe thead th {\n",
       "        text-align: right;\n",
       "    }\n",
       "</style>\n",
       "<table border=\"1\" class=\"dataframe\">\n",
       "  <thead>\n",
       "    <tr style=\"text-align: right;\">\n",
       "      <th></th>\n",
       "      <th>name</th>\n",
       "      <th>company</th>\n",
       "      <th>year</th>\n",
       "      <th>Price</th>\n",
       "      <th>kms_driven</th>\n",
       "      <th>fuel_type</th>\n",
       "    </tr>\n",
       "  </thead>\n",
       "  <tbody>\n",
       "    <tr>\n",
       "      <th>0</th>\n",
       "      <td>hyundai santro xing xo erlx euro iii</td>\n",
       "      <td>hyundai</td>\n",
       "      <td>2007</td>\n",
       "      <td>80,000</td>\n",
       "      <td>45,000 kms</td>\n",
       "      <td>Petrol</td>\n",
       "    </tr>\n",
       "    <tr>\n",
       "      <th>1</th>\n",
       "      <td>mahindra jeep cl550 mdi</td>\n",
       "      <td>mahindra</td>\n",
       "      <td>2006</td>\n",
       "      <td>4,25,000</td>\n",
       "      <td>40 kms</td>\n",
       "      <td>Diesel</td>\n",
       "    </tr>\n",
       "    <tr>\n",
       "      <th>2</th>\n",
       "      <td>maruti suzuki alto 800 vxi</td>\n",
       "      <td>maruti</td>\n",
       "      <td>2018</td>\n",
       "      <td>Ask For Price</td>\n",
       "      <td>22,000 kms</td>\n",
       "      <td>Petrol</td>\n",
       "    </tr>\n",
       "    <tr>\n",
       "      <th>3</th>\n",
       "      <td>hyundai grand i10 magna 1.2 kappa vtvt</td>\n",
       "      <td>hyundai</td>\n",
       "      <td>2014</td>\n",
       "      <td>3,25,000</td>\n",
       "      <td>28,000 kms</td>\n",
       "      <td>Petrol</td>\n",
       "    </tr>\n",
       "    <tr>\n",
       "      <th>4</th>\n",
       "      <td>ford ecosport titanium 1.5l tdci</td>\n",
       "      <td>ford</td>\n",
       "      <td>2014</td>\n",
       "      <td>5,75,000</td>\n",
       "      <td>36,000 kms</td>\n",
       "      <td>Diesel</td>\n",
       "    </tr>\n",
       "    <tr>\n",
       "      <th>...</th>\n",
       "      <td>...</td>\n",
       "      <td>...</td>\n",
       "      <td>...</td>\n",
       "      <td>...</td>\n",
       "      <td>...</td>\n",
       "      <td>...</td>\n",
       "    </tr>\n",
       "    <tr>\n",
       "      <th>886</th>\n",
       "      <td>toyota corolla altis</td>\n",
       "      <td>toyota</td>\n",
       "      <td>2009</td>\n",
       "      <td>3,00,000</td>\n",
       "      <td>1,32,000 kms</td>\n",
       "      <td>Petrol</td>\n",
       "    </tr>\n",
       "    <tr>\n",
       "      <th>888</th>\n",
       "      <td>tata zest xm diesel</td>\n",
       "      <td>tata</td>\n",
       "      <td>2018</td>\n",
       "      <td>2,60,000</td>\n",
       "      <td>27,000 kms</td>\n",
       "      <td>Diesel</td>\n",
       "    </tr>\n",
       "    <tr>\n",
       "      <th>889</th>\n",
       "      <td>mahindra quanto c8</td>\n",
       "      <td>mahindra</td>\n",
       "      <td>2013</td>\n",
       "      <td>3,90,000</td>\n",
       "      <td>40,000 kms</td>\n",
       "      <td>Diesel</td>\n",
       "    </tr>\n",
       "    <tr>\n",
       "      <th>890</th>\n",
       "      <td>honda amaze 1.2 e i vtec</td>\n",
       "      <td>honda</td>\n",
       "      <td>2014</td>\n",
       "      <td>1,80,000</td>\n",
       "      <td>Petrol</td>\n",
       "      <td>NaN</td>\n",
       "    </tr>\n",
       "    <tr>\n",
       "      <th>891</th>\n",
       "      <td>chevrolet sail 1.2 lt abs</td>\n",
       "      <td>chevrolet</td>\n",
       "      <td>2014</td>\n",
       "      <td>1,60,000</td>\n",
       "      <td>Petrol</td>\n",
       "      <td>NaN</td>\n",
       "    </tr>\n",
       "  </tbody>\n",
       "</table>\n",
       "<p>749 rows × 6 columns</p>\n",
       "</div>"
      ],
      "text/plain": [
       "                                       name    company  year          Price  \\\n",
       "0      hyundai santro xing xo erlx euro iii    hyundai  2007         80,000   \n",
       "1                   mahindra jeep cl550 mdi   mahindra  2006       4,25,000   \n",
       "2                maruti suzuki alto 800 vxi     maruti  2018  Ask For Price   \n",
       "3    hyundai grand i10 magna 1.2 kappa vtvt    hyundai  2014       3,25,000   \n",
       "4          ford ecosport titanium 1.5l tdci       ford  2014       5,75,000   \n",
       "..                                      ...        ...   ...            ...   \n",
       "886                    toyota corolla altis     toyota  2009       3,00,000   \n",
       "888                     tata zest xm diesel       tata  2018       2,60,000   \n",
       "889                      mahindra quanto c8   mahindra  2013       3,90,000   \n",
       "890                honda amaze 1.2 e i vtec      honda  2014       1,80,000   \n",
       "891               chevrolet sail 1.2 lt abs  chevrolet  2014       1,60,000   \n",
       "\n",
       "       kms_driven fuel_type  \n",
       "0      45,000 kms    Petrol  \n",
       "1          40 kms    Diesel  \n",
       "2      22,000 kms    Petrol  \n",
       "3      28,000 kms    Petrol  \n",
       "4      36,000 kms    Diesel  \n",
       "..            ...       ...  \n",
       "886  1,32,000 kms    Petrol  \n",
       "888    27,000 kms    Diesel  \n",
       "889    40,000 kms    Diesel  \n",
       "890        Petrol       NaN  \n",
       "891        Petrol       NaN  \n",
       "\n",
       "[749 rows x 6 columns]"
      ]
     },
     "execution_count": 741,
     "metadata": {},
     "output_type": "execute_result"
    }
   ],
   "source": [
    "df = df[df[\"year\"].notna()]\n",
    "df"
   ]
  },
  {
   "cell_type": "code",
   "execution_count": 742,
   "metadata": {},
   "outputs": [
    {
     "data": {
      "text/plain": [
       "name          0\n",
       "company       0\n",
       "year          0\n",
       "Price         0\n",
       "kms_driven    3\n",
       "fuel_type     6\n",
       "dtype: int64"
      ]
     },
     "execution_count": 742,
     "metadata": {},
     "output_type": "execute_result"
    }
   ],
   "source": [
    "df.isnull().sum()"
   ]
  },
  {
   "cell_type": "markdown",
   "metadata": {},
   "source": [
    "# **\"Price\" column**"
   ]
  },
  {
   "cell_type": "code",
   "execution_count": 743,
   "metadata": {},
   "outputs": [
    {
     "data": {
      "text/plain": [
       "array(['80,000', '4,25,000', 'Ask For Price', '3,25,000', '5,75,000',\n",
       "       '1,75,000', '1,90,000', '8,30,000', '2,50,000', '1,82,000',\n",
       "       '3,15,000', '4,15,000', '3,20,000', '10,00,000', '5,00,000',\n",
       "       '3,50,000', '1,60,000', '3,10,000', '75,000', '1,00,000',\n",
       "       '2,90,000', '95,000', '1,80,000', '3,85,000', '1,05,000',\n",
       "       '6,50,000', '6,89,999', '4,48,000', '5,49,000', '5,01,000',\n",
       "       '4,89,999', '2,80,000', '3,49,999', '2,84,999', '3,45,000',\n",
       "       '4,99,999', '2,35,000', '2,49,999', '14,75,000', '3,95,000',\n",
       "       '2,20,000', '1,70,000', '85,000', '2,00,000', '5,70,000',\n",
       "       '1,10,000', '4,48,999', '18,91,111', '1,59,500', '3,44,999',\n",
       "       '4,49,999', '8,65,000', '6,99,000', '3,75,000', '2,24,999',\n",
       "       '12,00,000', '1,95,000', '3,51,000', '2,40,000', '90,000',\n",
       "       '1,55,000', '6,00,000', '1,89,500', '2,10,000', '3,90,000',\n",
       "       '1,35,000', '16,00,000', '7,01,000', '2,65,000', '5,25,000',\n",
       "       '3,72,000', '6,35,000', '5,50,000', '4,85,000', '3,29,500',\n",
       "       '2,51,111', '5,69,999', '69,999', '2,99,999', '3,99,999',\n",
       "       '4,50,000', '2,70,000', '1,58,400', '1,79,000', '1,25,000',\n",
       "       '2,99,000', '1,50,000', '2,75,000', '2,85,000', '3,40,000',\n",
       "       '2,89,999', '8,49,999', '7,49,999', '2,74,999', '9,84,999',\n",
       "       '5,99,999', '2,44,999', '4,74,999', '2,45,000', '1,69,500',\n",
       "       '3,70,000', '1,68,000', '1,45,000', '98,500', '2,09,000',\n",
       "       '1,85,000', '9,00,000', '6,99,999', '1,99,999', '5,44,999',\n",
       "       '1,99,000', '5,40,000', '49,000', '7,00,000', '55,000', '8,95,000',\n",
       "       '3,55,000', '5,65,000', '3,65,000', '40,000', '4,00,000',\n",
       "       '3,30,000', '5,80,000', '3,79,000', '2,19,000', '5,19,000',\n",
       "       '7,30,000', '20,00,000', '21,00,000', '14,00,000', '3,11,000',\n",
       "       '8,55,000', '5,35,000', '1,78,000', '3,00,000', '2,55,000',\n",
       "       '5,49,999', '3,80,000', '57,000', '4,10,000', '2,25,000',\n",
       "       '1,20,000', '59,000', '5,99,000', '6,75,000', '72,500', '6,10,000',\n",
       "       '2,30,000', '5,20,000', '5,24,999', '4,24,999', '6,44,999',\n",
       "       '5,84,999', '7,99,999', '4,44,999', '6,49,999', '9,44,999',\n",
       "       '5,74,999', '3,74,999', '1,30,000', '4,01,000', '13,50,000',\n",
       "       '1,74,999', '2,39,999', '99,999', '3,24,999', '10,74,999',\n",
       "       '11,30,000', '1,49,000', '7,70,000', '30,000', '3,35,000',\n",
       "       '3,99,000', '65,000', '70,000', '1,69,999', '1,65,000', '5,60,000',\n",
       "       '9,50,000', '7,15,000', '45,000', '9,40,000', '1,55,555',\n",
       "       '15,00,000', '4,95,000', '8,00,000', '12,99,000', '5,30,000',\n",
       "       '14,99,000', '32,000', '4,05,000', '7,60,000', '7,50,000',\n",
       "       '4,19,000', '1,40,000', '15,40,000', '1,23,000', '4,98,000',\n",
       "       '4,80,000', '4,88,000', '15,25,000', '5,48,900', '7,25,000',\n",
       "       '99,000', '52,000', '28,00,000', '4,99,000', '3,81,000',\n",
       "       '2,78,000', '6,90,000', '2,60,000', '90,001', '1,15,000',\n",
       "       '15,99,000', '1,59,000', '51,999', '2,15,000', '35,000',\n",
       "       '11,50,000', '2,69,000', '60,000', '4,30,000', '85,00,003',\n",
       "       '4,01,919', '4,90,000', '4,24,000', '2,05,000', '5,49,900',\n",
       "       '4,35,000', '1,89,700', '3,89,700', '3,60,000', '2,95,000',\n",
       "       '1,14,990', '10,65,000', '4,70,000', '48,000', '1,88,000',\n",
       "       '4,65,000', '1,79,999', '21,90,000', '23,90,000', '10,75,000',\n",
       "       '4,75,000', '10,25,000', '6,15,000', '19,00,000', '14,90,000',\n",
       "       '15,10,000', '18,50,000', '7,90,000', '17,25,000', '12,25,000',\n",
       "       '68,000', '9,70,000', '31,00,000', '8,99,000', '88,000', '53,000',\n",
       "       '5,68,500', '71,000', '5,90,000', '7,95,000', '42,000', '1,89,000',\n",
       "       '1,62,000', '35,999', '29,00,000', '39,999', '50,500', '5,10,000',\n",
       "       '8,60,000', '5,00,001'], dtype=object)"
      ]
     },
     "execution_count": 743,
     "metadata": {},
     "output_type": "execute_result"
    }
   ],
   "source": [
    "df[\"Price\"].unique()"
   ]
  },
  {
   "cell_type": "code",
   "execution_count": 744,
   "metadata": {},
   "outputs": [
    {
     "data": {
      "text/html": [
       "<div>\n",
       "<style scoped>\n",
       "    .dataframe tbody tr th:only-of-type {\n",
       "        vertical-align: middle;\n",
       "    }\n",
       "\n",
       "    .dataframe tbody tr th {\n",
       "        vertical-align: top;\n",
       "    }\n",
       "\n",
       "    .dataframe thead th {\n",
       "        text-align: right;\n",
       "    }\n",
       "</style>\n",
       "<table border=\"1\" class=\"dataframe\">\n",
       "  <thead>\n",
       "    <tr style=\"text-align: right;\">\n",
       "      <th></th>\n",
       "      <th>name</th>\n",
       "      <th>company</th>\n",
       "      <th>year</th>\n",
       "      <th>Price</th>\n",
       "      <th>kms_driven</th>\n",
       "      <th>fuel_type</th>\n",
       "    </tr>\n",
       "  </thead>\n",
       "  <tbody>\n",
       "    <tr>\n",
       "      <th>2</th>\n",
       "      <td>maruti suzuki alto 800 vxi</td>\n",
       "      <td>maruti</td>\n",
       "      <td>2018</td>\n",
       "      <td>Ask For Price</td>\n",
       "      <td>22,000 kms</td>\n",
       "      <td>Petrol</td>\n",
       "    </tr>\n",
       "    <tr>\n",
       "      <th>5</th>\n",
       "      <td>ford ecosport titanium 1.5l tdci</td>\n",
       "      <td>ford</td>\n",
       "      <td>2015</td>\n",
       "      <td>Ask For Price</td>\n",
       "      <td>59,000 kms</td>\n",
       "      <td>Diesel</td>\n",
       "    </tr>\n",
       "    <tr>\n",
       "      <th>69</th>\n",
       "      <td>tata zest</td>\n",
       "      <td>tata</td>\n",
       "      <td>2017</td>\n",
       "      <td>Ask For Price</td>\n",
       "      <td>NaN</td>\n",
       "      <td>NaN</td>\n",
       "    </tr>\n",
       "    <tr>\n",
       "      <th>138</th>\n",
       "      <td>maruti suzuki alto 800 lxi</td>\n",
       "      <td>maruti</td>\n",
       "      <td>2018</td>\n",
       "      <td>Ask For Price</td>\n",
       "      <td>28,028 kms</td>\n",
       "      <td>Petrol</td>\n",
       "    </tr>\n",
       "    <tr>\n",
       "      <th>295</th>\n",
       "      <td>maruti suzuki swift ldi</td>\n",
       "      <td>maruti</td>\n",
       "      <td>2010</td>\n",
       "      <td>Ask For Price</td>\n",
       "      <td>52,000 kms</td>\n",
       "      <td>Diesel</td>\n",
       "    </tr>\n",
       "    <tr>\n",
       "      <th>304</th>\n",
       "      <td>tata indica ev2 ls</td>\n",
       "      <td>tata</td>\n",
       "      <td>2017</td>\n",
       "      <td>Ask For Price</td>\n",
       "      <td>84,000 kms</td>\n",
       "      <td>Diesel</td>\n",
       "    </tr>\n",
       "    <tr>\n",
       "      <th>388</th>\n",
       "      <td>maruti suzuki alto 800 lxi</td>\n",
       "      <td>maruti</td>\n",
       "      <td>2018</td>\n",
       "      <td>Ask For Price</td>\n",
       "      <td>24,000 kms</td>\n",
       "      <td>Petrol</td>\n",
       "    </tr>\n",
       "    <tr>\n",
       "      <th>449</th>\n",
       "      <td>maruti suzuki zen estilo lxi green cng</td>\n",
       "      <td>maruti</td>\n",
       "      <td>2011</td>\n",
       "      <td>Ask For Price</td>\n",
       "      <td>16,000 kms</td>\n",
       "      <td>Petrol</td>\n",
       "    </tr>\n",
       "    <tr>\n",
       "      <th>503</th>\n",
       "      <td>hyundai xcent base 1.1 crdi</td>\n",
       "      <td>hyundai</td>\n",
       "      <td>2015</td>\n",
       "      <td>Ask For Price</td>\n",
       "      <td>1,80,000 kms</td>\n",
       "      <td>Diesel</td>\n",
       "    </tr>\n",
       "    <tr>\n",
       "      <th>511</th>\n",
       "      <td>hyundai xcent s 1.2</td>\n",
       "      <td>hyundai</td>\n",
       "      <td>2015</td>\n",
       "      <td>Ask For Price</td>\n",
       "      <td>35,000 kms</td>\n",
       "      <td>Petrol</td>\n",
       "    </tr>\n",
       "    <tr>\n",
       "      <th>524</th>\n",
       "      <td>toyota innova 2.0 v</td>\n",
       "      <td>toyota</td>\n",
       "      <td>2009</td>\n",
       "      <td>Ask For Price</td>\n",
       "      <td>15,574 kms</td>\n",
       "      <td>Diesel</td>\n",
       "    </tr>\n",
       "    <tr>\n",
       "      <th>567</th>\n",
       "      <td>datsun go plus t o</td>\n",
       "      <td>datsun</td>\n",
       "      <td>2016</td>\n",
       "      <td>Ask For Price</td>\n",
       "      <td>5 kms</td>\n",
       "      <td>Petrol</td>\n",
       "    </tr>\n",
       "    <tr>\n",
       "      <th>613</th>\n",
       "      <td>mahindra kuv100 k8 d 6 str</td>\n",
       "      <td>mahindra</td>\n",
       "      <td>2018</td>\n",
       "      <td>Ask For Price</td>\n",
       "      <td>7,500 kms</td>\n",
       "      <td>Diesel</td>\n",
       "    </tr>\n",
       "    <tr>\n",
       "      <th>619</th>\n",
       "      <td>maruti suzuki alto lx bsii</td>\n",
       "      <td>maruti</td>\n",
       "      <td>2002</td>\n",
       "      <td>Ask For Price</td>\n",
       "      <td>56,000 kms</td>\n",
       "      <td>Petrol</td>\n",
       "    </tr>\n",
       "    <tr>\n",
       "      <th>634</th>\n",
       "      <td>hyundai elite i20 sportz 1.2</td>\n",
       "      <td>hyundai</td>\n",
       "      <td>2015</td>\n",
       "      <td>Ask For Price</td>\n",
       "      <td>49,500 kms</td>\n",
       "      <td>Petrol</td>\n",
       "    </tr>\n",
       "    <tr>\n",
       "      <th>763</th>\n",
       "      <td>tata nexon</td>\n",
       "      <td>tata</td>\n",
       "      <td>2019</td>\n",
       "      <td>Ask For Price</td>\n",
       "      <td>0 kms</td>\n",
       "      <td>Petrol</td>\n",
       "    </tr>\n",
       "    <tr>\n",
       "      <th>822</th>\n",
       "      <td>hyundai venue</td>\n",
       "      <td>hyundai</td>\n",
       "      <td>2019</td>\n",
       "      <td>Ask For Price</td>\n",
       "      <td>7,000 kms</td>\n",
       "      <td>Diesel</td>\n",
       "    </tr>\n",
       "    <tr>\n",
       "      <th>826</th>\n",
       "      <td>renault lodgy</td>\n",
       "      <td>renault</td>\n",
       "      <td>2016</td>\n",
       "      <td>Ask For Price</td>\n",
       "      <td>20,000 kms</td>\n",
       "      <td>Diesel</td>\n",
       "    </tr>\n",
       "    <tr>\n",
       "      <th>848</th>\n",
       "      <td>maruti suzuki alto 800 lxi</td>\n",
       "      <td>maruti</td>\n",
       "      <td>2019</td>\n",
       "      <td>Ask For Price</td>\n",
       "      <td>1,500 kms</td>\n",
       "      <td>Petrol</td>\n",
       "    </tr>\n",
       "    <tr>\n",
       "      <th>854</th>\n",
       "      <td>volkswagen vento highline plus 1.5 diesel</td>\n",
       "      <td>volkswagen</td>\n",
       "      <td>2015</td>\n",
       "      <td>Ask For Price</td>\n",
       "      <td>38,900 kms</td>\n",
       "      <td>Diesel</td>\n",
       "    </tr>\n",
       "    <tr>\n",
       "      <th>859</th>\n",
       "      <td>toyota innova 2.0 g1 petrol 8seater</td>\n",
       "      <td>toyota</td>\n",
       "      <td>2019</td>\n",
       "      <td>Ask For Price</td>\n",
       "      <td>4,000 kms</td>\n",
       "      <td>Petrol</td>\n",
       "    </tr>\n",
       "    <tr>\n",
       "      <th>882</th>\n",
       "      <td>maruti suzuki alto lxi 800</td>\n",
       "      <td>maruti</td>\n",
       "      <td>2015</td>\n",
       "      <td>Ask For Price</td>\n",
       "      <td>70,000 kms</td>\n",
       "      <td>Petrol</td>\n",
       "    </tr>\n",
       "  </tbody>\n",
       "</table>\n",
       "</div>"
      ],
      "text/plain": [
       "                                          name     company  year  \\\n",
       "2                   maruti suzuki alto 800 vxi      maruti  2018   \n",
       "5             ford ecosport titanium 1.5l tdci        ford  2015   \n",
       "69                                   tata zest        tata  2017   \n",
       "138                 maruti suzuki alto 800 lxi      maruti  2018   \n",
       "295                    maruti suzuki swift ldi      maruti  2010   \n",
       "304                         tata indica ev2 ls        tata  2017   \n",
       "388                 maruti suzuki alto 800 lxi      maruti  2018   \n",
       "449     maruti suzuki zen estilo lxi green cng      maruti  2011   \n",
       "503                hyundai xcent base 1.1 crdi     hyundai  2015   \n",
       "511                        hyundai xcent s 1.2     hyundai  2015   \n",
       "524                        toyota innova 2.0 v      toyota  2009   \n",
       "567                         datsun go plus t o      datsun  2016   \n",
       "613                 mahindra kuv100 k8 d 6 str    mahindra  2018   \n",
       "619                 maruti suzuki alto lx bsii      maruti  2002   \n",
       "634               hyundai elite i20 sportz 1.2     hyundai  2015   \n",
       "763                                 tata nexon        tata  2019   \n",
       "822                              hyundai venue     hyundai  2019   \n",
       "826                              renault lodgy     renault  2016   \n",
       "848                 maruti suzuki alto 800 lxi      maruti  2019   \n",
       "854  volkswagen vento highline plus 1.5 diesel  volkswagen  2015   \n",
       "859        toyota innova 2.0 g1 petrol 8seater      toyota  2019   \n",
       "882                 maruti suzuki alto lxi 800      maruti  2015   \n",
       "\n",
       "             Price    kms_driven fuel_type  \n",
       "2    Ask For Price    22,000 kms    Petrol  \n",
       "5    Ask For Price    59,000 kms    Diesel  \n",
       "69   Ask For Price           NaN       NaN  \n",
       "138  Ask For Price    28,028 kms    Petrol  \n",
       "295  Ask For Price    52,000 kms    Diesel  \n",
       "304  Ask For Price    84,000 kms    Diesel  \n",
       "388  Ask For Price    24,000 kms    Petrol  \n",
       "449  Ask For Price    16,000 kms    Petrol  \n",
       "503  Ask For Price  1,80,000 kms    Diesel  \n",
       "511  Ask For Price    35,000 kms    Petrol  \n",
       "524  Ask For Price    15,574 kms    Diesel  \n",
       "567  Ask For Price         5 kms    Petrol  \n",
       "613  Ask For Price     7,500 kms    Diesel  \n",
       "619  Ask For Price    56,000 kms    Petrol  \n",
       "634  Ask For Price    49,500 kms    Petrol  \n",
       "763  Ask For Price         0 kms    Petrol  \n",
       "822  Ask For Price     7,000 kms    Diesel  \n",
       "826  Ask For Price    20,000 kms    Diesel  \n",
       "848  Ask For Price     1,500 kms    Petrol  \n",
       "854  Ask For Price    38,900 kms    Diesel  \n",
       "859  Ask For Price     4,000 kms    Petrol  \n",
       "882  Ask For Price    70,000 kms    Petrol  "
      ]
     },
     "execution_count": 744,
     "metadata": {},
     "output_type": "execute_result"
    }
   ],
   "source": [
    "df[df[\"Price\"] == \"Ask For Price\"]"
   ]
  },
  {
   "cell_type": "code",
   "execution_count": 745,
   "metadata": {},
   "outputs": [
    {
     "data": {
      "text/plain": [
       "array(['80,000', '4,25,000', nan, '3,25,000', '5,75,000', '1,75,000',\n",
       "       '1,90,000', '8,30,000', '2,50,000', '1,82,000', '3,15,000',\n",
       "       '4,15,000', '3,20,000', '10,00,000', '5,00,000', '3,50,000',\n",
       "       '1,60,000', '3,10,000', '75,000', '1,00,000', '2,90,000', '95,000',\n",
       "       '1,80,000', '3,85,000', '1,05,000', '6,50,000', '6,89,999',\n",
       "       '4,48,000', '5,49,000', '5,01,000', '4,89,999', '2,80,000',\n",
       "       '3,49,999', '2,84,999', '3,45,000', '4,99,999', '2,35,000',\n",
       "       '2,49,999', '14,75,000', '3,95,000', '2,20,000', '1,70,000',\n",
       "       '85,000', '2,00,000', '5,70,000', '1,10,000', '4,48,999',\n",
       "       '18,91,111', '1,59,500', '3,44,999', '4,49,999', '8,65,000',\n",
       "       '6,99,000', '3,75,000', '2,24,999', '12,00,000', '1,95,000',\n",
       "       '3,51,000', '2,40,000', '90,000', '1,55,000', '6,00,000',\n",
       "       '1,89,500', '2,10,000', '3,90,000', '1,35,000', '16,00,000',\n",
       "       '7,01,000', '2,65,000', '5,25,000', '3,72,000', '6,35,000',\n",
       "       '5,50,000', '4,85,000', '3,29,500', '2,51,111', '5,69,999',\n",
       "       '69,999', '2,99,999', '3,99,999', '4,50,000', '2,70,000',\n",
       "       '1,58,400', '1,79,000', '1,25,000', '2,99,000', '1,50,000',\n",
       "       '2,75,000', '2,85,000', '3,40,000', '2,89,999', '8,49,999',\n",
       "       '7,49,999', '2,74,999', '9,84,999', '5,99,999', '2,44,999',\n",
       "       '4,74,999', '2,45,000', '1,69,500', '3,70,000', '1,68,000',\n",
       "       '1,45,000', '98,500', '2,09,000', '1,85,000', '9,00,000',\n",
       "       '6,99,999', '1,99,999', '5,44,999', '1,99,000', '5,40,000',\n",
       "       '49,000', '7,00,000', '55,000', '8,95,000', '3,55,000', '5,65,000',\n",
       "       '3,65,000', '40,000', '4,00,000', '3,30,000', '5,80,000',\n",
       "       '3,79,000', '2,19,000', '5,19,000', '7,30,000', '20,00,000',\n",
       "       '21,00,000', '14,00,000', '3,11,000', '8,55,000', '5,35,000',\n",
       "       '1,78,000', '3,00,000', '2,55,000', '5,49,999', '3,80,000',\n",
       "       '57,000', '4,10,000', '2,25,000', '1,20,000', '59,000', '5,99,000',\n",
       "       '6,75,000', '72,500', '6,10,000', '2,30,000', '5,20,000',\n",
       "       '5,24,999', '4,24,999', '6,44,999', '5,84,999', '7,99,999',\n",
       "       '4,44,999', '6,49,999', '9,44,999', '5,74,999', '3,74,999',\n",
       "       '1,30,000', '4,01,000', '13,50,000', '1,74,999', '2,39,999',\n",
       "       '99,999', '3,24,999', '10,74,999', '11,30,000', '1,49,000',\n",
       "       '7,70,000', '30,000', '3,35,000', '3,99,000', '65,000', '70,000',\n",
       "       '1,69,999', '1,65,000', '5,60,000', '9,50,000', '7,15,000',\n",
       "       '45,000', '9,40,000', '1,55,555', '15,00,000', '4,95,000',\n",
       "       '8,00,000', '12,99,000', '5,30,000', '14,99,000', '32,000',\n",
       "       '4,05,000', '7,60,000', '7,50,000', '4,19,000', '1,40,000',\n",
       "       '15,40,000', '1,23,000', '4,98,000', '4,80,000', '4,88,000',\n",
       "       '15,25,000', '5,48,900', '7,25,000', '99,000', '52,000',\n",
       "       '28,00,000', '4,99,000', '3,81,000', '2,78,000', '6,90,000',\n",
       "       '2,60,000', '90,001', '1,15,000', '15,99,000', '1,59,000',\n",
       "       '51,999', '2,15,000', '35,000', '11,50,000', '2,69,000', '60,000',\n",
       "       '4,30,000', '85,00,003', '4,01,919', '4,90,000', '4,24,000',\n",
       "       '2,05,000', '5,49,900', '4,35,000', '1,89,700', '3,89,700',\n",
       "       '3,60,000', '2,95,000', '1,14,990', '10,65,000', '4,70,000',\n",
       "       '48,000', '1,88,000', '4,65,000', '1,79,999', '21,90,000',\n",
       "       '23,90,000', '10,75,000', '4,75,000', '10,25,000', '6,15,000',\n",
       "       '19,00,000', '14,90,000', '15,10,000', '18,50,000', '7,90,000',\n",
       "       '17,25,000', '12,25,000', '68,000', '9,70,000', '31,00,000',\n",
       "       '8,99,000', '88,000', '53,000', '5,68,500', '71,000', '5,90,000',\n",
       "       '7,95,000', '42,000', '1,89,000', '1,62,000', '35,999',\n",
       "       '29,00,000', '39,999', '50,500', '5,10,000', '8,60,000',\n",
       "       '5,00,001'], dtype=object)"
      ]
     },
     "execution_count": 745,
     "metadata": {},
     "output_type": "execute_result"
    }
   ],
   "source": [
    "df[\"Price\"].replace(\"Ask For Price\", np.NaN, inplace=True)\n",
    "df[\"Price\"].unique()"
   ]
  },
  {
   "cell_type": "code",
   "execution_count": 746,
   "metadata": {},
   "outputs": [
    {
     "data": {
      "text/plain": [
       "0       80000\n",
       "1      425000\n",
       "2         NaN\n",
       "3      325000\n",
       "4      575000\n",
       "        ...  \n",
       "886    300000\n",
       "888    260000\n",
       "889    390000\n",
       "890    180000\n",
       "891    160000\n",
       "Name: Price, Length: 749, dtype: object"
      ]
     },
     "execution_count": 746,
     "metadata": {},
     "output_type": "execute_result"
    }
   ],
   "source": [
    "df[\"Price\"] = df[\"Price\"].str.replace(\",\", \"\")\n",
    "df[\"Price\"]"
   ]
  },
  {
   "cell_type": "markdown",
   "metadata": {},
   "source": [
    "### Outlier Detection"
   ]
  },
  {
   "cell_type": "code",
   "execution_count": 747,
   "metadata": {},
   "outputs": [
    {
     "data": {
      "text/plain": [
       "<Axes: ylabel='Price'>"
      ]
     },
     "execution_count": 747,
     "metadata": {},
     "output_type": "execute_result"
    },
    {
     "data": {
      "image/png": "[encoded data removed]",
      "text/plain": [
       "<Figure size 640x480 with 1 Axes>"
      ]
     },
     "metadata": {},
     "output_type": "display_data"
    }
   ],
   "source": [
    "import seaborn as sns\n",
    "\n",
    "sns.boxplot(data=df[\"Price\"])"
   ]
  },
  {
   "cell_type": "code",
   "execution_count": 748,
   "metadata": {},
   "outputs": [
    {
     "data": {
      "text/plain": [
       "290000.0"
      ]
     },
     "execution_count": 748,
     "metadata": {},
     "output_type": "execute_result"
    }
   ],
   "source": [
    "median = df[\"Price\"].median()\n",
    "median"
   ]
  },
  {
   "cell_type": "code",
   "execution_count": 749,
   "metadata": {},
   "outputs": [
    {
     "data": {
      "text/html": [
       "<div>\n",
       "<style scoped>\n",
       "    .dataframe tbody tr th:only-of-type {\n",
       "        vertical-align: middle;\n",
       "    }\n",
       "\n",
       "    .dataframe tbody tr th {\n",
       "        vertical-align: top;\n",
       "    }\n",
       "\n",
       "    .dataframe thead th {\n",
       "        text-align: right;\n",
       "    }\n",
       "</style>\n",
       "<table border=\"1\" class=\"dataframe\">\n",
       "  <thead>\n",
       "    <tr style=\"text-align: right;\">\n",
       "      <th></th>\n",
       "      <th>name</th>\n",
       "      <th>company</th>\n",
       "      <th>year</th>\n",
       "      <th>Price</th>\n",
       "      <th>kms_driven</th>\n",
       "      <th>fuel_type</th>\n",
       "    </tr>\n",
       "  </thead>\n",
       "  <tbody>\n",
       "    <tr>\n",
       "      <th>0</th>\n",
       "      <td>hyundai santro xing xo erlx euro iii</td>\n",
       "      <td>hyundai</td>\n",
       "      <td>2007</td>\n",
       "      <td>80000</td>\n",
       "      <td>45,000 kms</td>\n",
       "      <td>Petrol</td>\n",
       "    </tr>\n",
       "    <tr>\n",
       "      <th>1</th>\n",
       "      <td>mahindra jeep cl550 mdi</td>\n",
       "      <td>mahindra</td>\n",
       "      <td>2006</td>\n",
       "      <td>425000</td>\n",
       "      <td>40 kms</td>\n",
       "      <td>Diesel</td>\n",
       "    </tr>\n",
       "    <tr>\n",
       "      <th>2</th>\n",
       "      <td>maruti suzuki alto 800 vxi</td>\n",
       "      <td>maruti</td>\n",
       "      <td>2018</td>\n",
       "      <td>290000.0</td>\n",
       "      <td>22,000 kms</td>\n",
       "      <td>Petrol</td>\n",
       "    </tr>\n",
       "    <tr>\n",
       "      <th>3</th>\n",
       "      <td>hyundai grand i10 magna 1.2 kappa vtvt</td>\n",
       "      <td>hyundai</td>\n",
       "      <td>2014</td>\n",
       "      <td>325000</td>\n",
       "      <td>28,000 kms</td>\n",
       "      <td>Petrol</td>\n",
       "    </tr>\n",
       "    <tr>\n",
       "      <th>4</th>\n",
       "      <td>ford ecosport titanium 1.5l tdci</td>\n",
       "      <td>ford</td>\n",
       "      <td>2014</td>\n",
       "      <td>575000</td>\n",
       "      <td>36,000 kms</td>\n",
       "      <td>Diesel</td>\n",
       "    </tr>\n",
       "    <tr>\n",
       "      <th>...</th>\n",
       "      <td>...</td>\n",
       "      <td>...</td>\n",
       "      <td>...</td>\n",
       "      <td>...</td>\n",
       "      <td>...</td>\n",
       "      <td>...</td>\n",
       "    </tr>\n",
       "    <tr>\n",
       "      <th>886</th>\n",
       "      <td>toyota corolla altis</td>\n",
       "      <td>toyota</td>\n",
       "      <td>2009</td>\n",
       "      <td>300000</td>\n",
       "      <td>1,32,000 kms</td>\n",
       "      <td>Petrol</td>\n",
       "    </tr>\n",
       "    <tr>\n",
       "      <th>888</th>\n",
       "      <td>tata zest xm diesel</td>\n",
       "      <td>tata</td>\n",
       "      <td>2018</td>\n",
       "      <td>260000</td>\n",
       "      <td>27,000 kms</td>\n",
       "      <td>Diesel</td>\n",
       "    </tr>\n",
       "    <tr>\n",
       "      <th>889</th>\n",
       "      <td>mahindra quanto c8</td>\n",
       "      <td>mahindra</td>\n",
       "      <td>2013</td>\n",
       "      <td>390000</td>\n",
       "      <td>40,000 kms</td>\n",
       "      <td>Diesel</td>\n",
       "    </tr>\n",
       "    <tr>\n",
       "      <th>890</th>\n",
       "      <td>honda amaze 1.2 e i vtec</td>\n",
       "      <td>honda</td>\n",
       "      <td>2014</td>\n",
       "      <td>180000</td>\n",
       "      <td>Petrol</td>\n",
       "      <td>NaN</td>\n",
       "    </tr>\n",
       "    <tr>\n",
       "      <th>891</th>\n",
       "      <td>chevrolet sail 1.2 lt abs</td>\n",
       "      <td>chevrolet</td>\n",
       "      <td>2014</td>\n",
       "      <td>160000</td>\n",
       "      <td>Petrol</td>\n",
       "      <td>NaN</td>\n",
       "    </tr>\n",
       "  </tbody>\n",
       "</table>\n",
       "<p>749 rows × 6 columns</p>\n",
       "</div>"
      ],
      "text/plain": [
       "                                       name    company  year     Price  \\\n",
       "0      hyundai santro xing xo erlx euro iii    hyundai  2007     80000   \n",
       "1                   mahindra jeep cl550 mdi   mahindra  2006    425000   \n",
       "2                maruti suzuki alto 800 vxi     maruti  2018  290000.0   \n",
       "3    hyundai grand i10 magna 1.2 kappa vtvt    hyundai  2014    325000   \n",
       "4          ford ecosport titanium 1.5l tdci       ford  2014    575000   \n",
       "..                                      ...        ...   ...       ...   \n",
       "886                    toyota corolla altis     toyota  2009    300000   \n",
       "888                     tata zest xm diesel       tata  2018    260000   \n",
       "889                      mahindra quanto c8   mahindra  2013    390000   \n",
       "890                honda amaze 1.2 e i vtec      honda  2014    180000   \n",
       "891               chevrolet sail 1.2 lt abs  chevrolet  2014    160000   \n",
       "\n",
       "       kms_driven fuel_type  \n",
       "0      45,000 kms    Petrol  \n",
       "1          40 kms    Diesel  \n",
       "2      22,000 kms    Petrol  \n",
       "3      28,000 kms    Petrol  \n",
       "4      36,000 kms    Diesel  \n",
       "..            ...       ...  \n",
       "886  1,32,000 kms    Petrol  \n",
       "888    27,000 kms    Diesel  \n",
       "889    40,000 kms    Diesel  \n",
       "890        Petrol       NaN  \n",
       "891        Petrol       NaN  \n",
       "\n",
       "[749 rows x 6 columns]"
      ]
     },
     "execution_count": 749,
     "metadata": {},
     "output_type": "execute_result"
    }
   ],
   "source": [
    "df[\"Price\"].fillna(median, inplace=True)\n",
    "df"
   ]
  },
  {
   "cell_type": "code",
   "execution_count": 750,
   "metadata": {},
   "outputs": [
    {
     "data": {
      "text/plain": [
       "name          0\n",
       "company       0\n",
       "year          0\n",
       "Price         0\n",
       "kms_driven    3\n",
       "fuel_type     6\n",
       "dtype: int64"
      ]
     },
     "execution_count": 750,
     "metadata": {},
     "output_type": "execute_result"
    }
   ],
   "source": [
    "df.isnull().sum()"
   ]
  },
  {
   "cell_type": "markdown",
   "metadata": {},
   "source": [
    "# **\"kms_driven\" column**"
   ]
  },
  {
   "cell_type": "code",
   "execution_count": 751,
   "metadata": {},
   "outputs": [
    {
     "data": {
      "text/plain": [
       "array(['45,000 kms', '40 kms', '22,000 kms', '28,000 kms', '36,000 kms',\n",
       "       '59,000 kms', '41,000 kms', '25,000 kms', '24,530 kms',\n",
       "       '60,000 kms', '30,000 kms', '32,000 kms', '48,660 kms',\n",
       "       '4,000 kms', '16,934 kms', '43,000 kms', '35,550 kms',\n",
       "       '39,522 kms', '39,000 kms', '55,000 kms', '72,000 kms',\n",
       "       '15,975 kms', '70,000 kms', '23,452 kms', '35,522 kms',\n",
       "       '48,508 kms', '15,487 kms', '82,000 kms', '20,000 kms',\n",
       "       '68,000 kms', '38,000 kms', '27,000 kms', '33,000 kms',\n",
       "       '46,000 kms', '16,000 kms', '47,000 kms', '35,000 kms',\n",
       "       '30,874 kms', '15,000 kms', '29,685 kms', '1,30,000 kms',\n",
       "       '19,000 kms', nan, '54,000 kms', '13,000 kms', '38,200 kms',\n",
       "       '50,000 kms', '13,500 kms', '3,600 kms', '45,863 kms',\n",
       "       '60,500 kms', '12,500 kms', '18,000 kms', '13,349 kms',\n",
       "       '29,000 kms', '44,000 kms', '42,000 kms', '14,000 kms',\n",
       "       '49,000 kms', '36,200 kms', '51,000 kms', '1,04,000 kms',\n",
       "       '33,333 kms', '33,600 kms', '5,600 kms', '7,500 kms', '26,000 kms',\n",
       "       '24,330 kms', '65,480 kms', '28,028 kms', '99,000 kms',\n",
       "       '2,800 kms', '21,000 kms', '11,000 kms', '66,000 kms', '3,000 kms',\n",
       "       '7,000 kms', '38,500 kms', '37,200 kms', '43,200 kms',\n",
       "       '24,800 kms', '45,872 kms', '40,000 kms', '11,400 kms',\n",
       "       '97,200 kms', '52,000 kms', '31,000 kms', '1,75,430 kms',\n",
       "       '37,000 kms', '65,000 kms', '3,350 kms', '75,000 kms',\n",
       "       '62,000 kms', '73,000 kms', '2,200 kms', '54,870 kms',\n",
       "       '34,580 kms', '97,000 kms', '60 kms', '80,200 kms', '3,200 kms',\n",
       "       '0,000 kms', '5,000 kms', '588 kms', '71,200 kms', '1,75,400 kms',\n",
       "       '9,300 kms', '56,758 kms', '10,000 kms', '56,450 kms',\n",
       "       '56,000 kms', '32,700 kms', '9,000 kms', '73 kms', '1,60,000 kms',\n",
       "       '84,000 kms', '58,559 kms', '57,000 kms', '1,70,000 kms',\n",
       "       '80,000 kms', '6,821 kms', '23,000 kms', '34,000 kms', '1,800 kms',\n",
       "       '4,00,000 kms', '48,000 kms', '90,000 kms', '12,000 kms',\n",
       "       '69,900 kms', '1,66,000 kms', '122 kms', '0 kms', '24,000 kms',\n",
       "       '36,469 kms', '7,800 kms', '24,695 kms', '15,141 kms',\n",
       "       '59,910 kms', '1,00,000 kms', '4,500 kms', '1,29,000 kms',\n",
       "       '300 kms', '1,31,000 kms', '1,11,111 kms', '59,466 kms',\n",
       "       '25,500 kms', '44,005 kms', '2,110 kms', '43,222 kms',\n",
       "       '1,00,200 kms', '65 kms', '1,40,000 kms', '1,03,553 kms',\n",
       "       '58,000 kms', '1,20,000 kms', '49,800 kms', '100 kms',\n",
       "       '81,876 kms', '6,020 kms', '55,700 kms', '18,500 kms',\n",
       "       '1,80,000 kms', '53,000 kms', '35,500 kms', '22,134 kms',\n",
       "       '1,000 kms', '8,500 kms', '87,000 kms', '6,000 kms', '15,574 kms',\n",
       "       '8,000 kms', '55,800 kms', '56,400 kms', '72,160 kms',\n",
       "       '11,500 kms', '1,33,000 kms', '2,000 kms', '88,000 kms',\n",
       "       '65,422 kms', '1,17,000 kms', '1,50,000 kms', '10,750 kms',\n",
       "       '6,800 kms', '5 kms', '9,800 kms', '57,923 kms', '30,201 kms',\n",
       "       '6,200 kms', '37,518 kms', '24,652 kms', '383 kms', '95,000 kms',\n",
       "       '3,528 kms', '52,500 kms', '47,900 kms', '52,800 kms',\n",
       "       '1,95,000 kms', '48,008 kms', '48,247 kms', '9,400 kms',\n",
       "       '64,000 kms', '2,00,000 kms', '2,137 kms', '10,544 kms',\n",
       "       '49,500 kms', '1,47,000 kms', '90,001 kms', '48,006 kms',\n",
       "       '74,000 kms', '85,000 kms', '29,500 kms', '39,700 kms',\n",
       "       '67,000 kms', '19,336 kms', '60,105 kms', '45,933 kms',\n",
       "       '1,02,563 kms', '28,600 kms', '41,800 kms', '1,16,000 kms',\n",
       "       '42,590 kms', '7,400 kms', '54,500 kms', '76,000 kms', '00 kms',\n",
       "       '11,523 kms', '38,600 kms', '95,500 kms', '37,458 kms',\n",
       "       '85,960 kms', '12,516 kms', '30,600 kms', '2,550 kms',\n",
       "       '62,500 kms', '69,000 kms', '28,400 kms', '68,485 kms',\n",
       "       '3,500 kms', '85,455 kms', '63,000 kms', '1,600 kms', '77,000 kms',\n",
       "       '26,500 kms', '2,875 kms', '13,900 kms', '1,500 kms', '2,450 kms',\n",
       "       '1,625 kms', '33,400 kms', '60,123 kms', '38,900 kms',\n",
       "       '1,37,495 kms', '91,200 kms', '1,46,000 kms', '1,00,800 kms',\n",
       "       '2,100 kms', '2,500 kms', '1,32,000 kms', 'Petrol'], dtype=object)"
      ]
     },
     "execution_count": 751,
     "metadata": {},
     "output_type": "execute_result"
    }
   ],
   "source": [
    "df[\"kms_driven\"].unique()"
   ]
  },
  {
   "cell_type": "code",
   "execution_count": 752,
   "metadata": {},
   "outputs": [
    {
     "data": {
      "text/html": [
       "<div>\n",
       "<style scoped>\n",
       "    .dataframe tbody tr th:only-of-type {\n",
       "        vertical-align: middle;\n",
       "    }\n",
       "\n",
       "    .dataframe tbody tr th {\n",
       "        vertical-align: top;\n",
       "    }\n",
       "\n",
       "    .dataframe thead th {\n",
       "        text-align: right;\n",
       "    }\n",
       "</style>\n",
       "<table border=\"1\" class=\"dataframe\">\n",
       "  <thead>\n",
       "    <tr style=\"text-align: right;\">\n",
       "      <th></th>\n",
       "      <th>name</th>\n",
       "      <th>company</th>\n",
       "      <th>year</th>\n",
       "      <th>Price</th>\n",
       "      <th>kms_driven</th>\n",
       "      <th>fuel_type</th>\n",
       "    </tr>\n",
       "  </thead>\n",
       "  <tbody>\n",
       "    <tr>\n",
       "      <th>890</th>\n",
       "      <td>honda amaze 1.2 e i vtec</td>\n",
       "      <td>honda</td>\n",
       "      <td>2014</td>\n",
       "      <td>180000</td>\n",
       "      <td>Petrol</td>\n",
       "      <td>NaN</td>\n",
       "    </tr>\n",
       "    <tr>\n",
       "      <th>891</th>\n",
       "      <td>chevrolet sail 1.2 lt abs</td>\n",
       "      <td>chevrolet</td>\n",
       "      <td>2014</td>\n",
       "      <td>160000</td>\n",
       "      <td>Petrol</td>\n",
       "      <td>NaN</td>\n",
       "    </tr>\n",
       "  </tbody>\n",
       "</table>\n",
       "</div>"
      ],
      "text/plain": [
       "                          name    company  year   Price kms_driven fuel_type\n",
       "890   honda amaze 1.2 e i vtec      honda  2014  180000     Petrol       NaN\n",
       "891  chevrolet sail 1.2 lt abs  chevrolet  2014  160000     Petrol       NaN"
      ]
     },
     "execution_count": 752,
     "metadata": {},
     "output_type": "execute_result"
    }
   ],
   "source": [
    "data = df[df[\"kms_driven\"] == \"Petrol\"]\n",
    "data"
   ]
  },
  {
   "cell_type": "code",
   "execution_count": 753,
   "metadata": {},
   "outputs": [
    {
     "data": {
      "text/html": [
       "<div>\n",
       "<style scoped>\n",
       "    .dataframe tbody tr th:only-of-type {\n",
       "        vertical-align: middle;\n",
       "    }\n",
       "\n",
       "    .dataframe tbody tr th {\n",
       "        vertical-align: top;\n",
       "    }\n",
       "\n",
       "    .dataframe thead th {\n",
       "        text-align: right;\n",
       "    }\n",
       "</style>\n",
       "<table border=\"1\" class=\"dataframe\">\n",
       "  <thead>\n",
       "    <tr style=\"text-align: right;\">\n",
       "      <th></th>\n",
       "      <th>name</th>\n",
       "      <th>company</th>\n",
       "      <th>year</th>\n",
       "      <th>Price</th>\n",
       "      <th>kms_driven</th>\n",
       "      <th>fuel_type</th>\n",
       "    </tr>\n",
       "  </thead>\n",
       "  <tbody>\n",
       "    <tr>\n",
       "      <th>890</th>\n",
       "      <td>honda amaze 1.2 e i vtec</td>\n",
       "      <td>honda</td>\n",
       "      <td>2014</td>\n",
       "      <td>180000</td>\n",
       "      <td>Petrol</td>\n",
       "      <td>Petrol</td>\n",
       "    </tr>\n",
       "    <tr>\n",
       "      <th>891</th>\n",
       "      <td>chevrolet sail 1.2 lt abs</td>\n",
       "      <td>chevrolet</td>\n",
       "      <td>2014</td>\n",
       "      <td>160000</td>\n",
       "      <td>Petrol</td>\n",
       "      <td>Petrol</td>\n",
       "    </tr>\n",
       "  </tbody>\n",
       "</table>\n",
       "</div>"
      ],
      "text/plain": [
       "                          name    company  year   Price kms_driven fuel_type\n",
       "890   honda amaze 1.2 e i vtec      honda  2014  180000     Petrol    Petrol\n",
       "891  chevrolet sail 1.2 lt abs  chevrolet  2014  160000     Petrol    Petrol"
      ]
     },
     "execution_count": 753,
     "metadata": {},
     "output_type": "execute_result"
    }
   ],
   "source": [
    "df[\"fuel_type\"].loc[890] = \"Petrol\"\n",
    "df[\"fuel_type\"].loc[891] = \"Petrol\"\n",
    "\n",
    "data = df[df[\"kms_driven\"] == \"Petrol\"]\n",
    "data"
   ]
  },
  {
   "cell_type": "code",
   "execution_count": 754,
   "metadata": {},
   "outputs": [
    {
     "data": {
      "text/plain": [
       "array(['45,000 kms', '40 kms', '22,000 kms', '28,000 kms', '36,000 kms',\n",
       "       '59,000 kms', '41,000 kms', '25,000 kms', '24,530 kms',\n",
       "       '60,000 kms', '30,000 kms', '32,000 kms', '48,660 kms',\n",
       "       '4,000 kms', '16,934 kms', '43,000 kms', '35,550 kms',\n",
       "       '39,522 kms', '39,000 kms', '55,000 kms', '72,000 kms',\n",
       "       '15,975 kms', '70,000 kms', '23,452 kms', '35,522 kms',\n",
       "       '48,508 kms', '15,487 kms', '82,000 kms', '20,000 kms',\n",
       "       '68,000 kms', '38,000 kms', '27,000 kms', '33,000 kms',\n",
       "       '46,000 kms', '16,000 kms', '47,000 kms', '35,000 kms',\n",
       "       '30,874 kms', '15,000 kms', '29,685 kms', '1,30,000 kms',\n",
       "       '19,000 kms', nan, '54,000 kms', '13,000 kms', '38,200 kms',\n",
       "       '50,000 kms', '13,500 kms', '3,600 kms', '45,863 kms',\n",
       "       '60,500 kms', '12,500 kms', '18,000 kms', '13,349 kms',\n",
       "       '29,000 kms', '44,000 kms', '42,000 kms', '14,000 kms',\n",
       "       '49,000 kms', '36,200 kms', '51,000 kms', '1,04,000 kms',\n",
       "       '33,333 kms', '33,600 kms', '5,600 kms', '7,500 kms', '26,000 kms',\n",
       "       '24,330 kms', '65,480 kms', '28,028 kms', '99,000 kms',\n",
       "       '2,800 kms', '21,000 kms', '11,000 kms', '66,000 kms', '3,000 kms',\n",
       "       '7,000 kms', '38,500 kms', '37,200 kms', '43,200 kms',\n",
       "       '24,800 kms', '45,872 kms', '40,000 kms', '11,400 kms',\n",
       "       '97,200 kms', '52,000 kms', '31,000 kms', '1,75,430 kms',\n",
       "       '37,000 kms', '65,000 kms', '3,350 kms', '75,000 kms',\n",
       "       '62,000 kms', '73,000 kms', '2,200 kms', '54,870 kms',\n",
       "       '34,580 kms', '97,000 kms', '60 kms', '80,200 kms', '3,200 kms',\n",
       "       '0,000 kms', '5,000 kms', '588 kms', '71,200 kms', '1,75,400 kms',\n",
       "       '9,300 kms', '56,758 kms', '10,000 kms', '56,450 kms',\n",
       "       '56,000 kms', '32,700 kms', '9,000 kms', '73 kms', '1,60,000 kms',\n",
       "       '84,000 kms', '58,559 kms', '57,000 kms', '1,70,000 kms',\n",
       "       '80,000 kms', '6,821 kms', '23,000 kms', '34,000 kms', '1,800 kms',\n",
       "       '4,00,000 kms', '48,000 kms', '90,000 kms', '12,000 kms',\n",
       "       '69,900 kms', '1,66,000 kms', '122 kms', '0 kms', '24,000 kms',\n",
       "       '36,469 kms', '7,800 kms', '24,695 kms', '15,141 kms',\n",
       "       '59,910 kms', '1,00,000 kms', '4,500 kms', '1,29,000 kms',\n",
       "       '300 kms', '1,31,000 kms', '1,11,111 kms', '59,466 kms',\n",
       "       '25,500 kms', '44,005 kms', '2,110 kms', '43,222 kms',\n",
       "       '1,00,200 kms', '65 kms', '1,40,000 kms', '1,03,553 kms',\n",
       "       '58,000 kms', '1,20,000 kms', '49,800 kms', '100 kms',\n",
       "       '81,876 kms', '6,020 kms', '55,700 kms', '18,500 kms',\n",
       "       '1,80,000 kms', '53,000 kms', '35,500 kms', '22,134 kms',\n",
       "       '1,000 kms', '8,500 kms', '87,000 kms', '6,000 kms', '15,574 kms',\n",
       "       '8,000 kms', '55,800 kms', '56,400 kms', '72,160 kms',\n",
       "       '11,500 kms', '1,33,000 kms', '2,000 kms', '88,000 kms',\n",
       "       '65,422 kms', '1,17,000 kms', '1,50,000 kms', '10,750 kms',\n",
       "       '6,800 kms', '5 kms', '9,800 kms', '57,923 kms', '30,201 kms',\n",
       "       '6,200 kms', '37,518 kms', '24,652 kms', '383 kms', '95,000 kms',\n",
       "       '3,528 kms', '52,500 kms', '47,900 kms', '52,800 kms',\n",
       "       '1,95,000 kms', '48,008 kms', '48,247 kms', '9,400 kms',\n",
       "       '64,000 kms', '2,00,000 kms', '2,137 kms', '10,544 kms',\n",
       "       '49,500 kms', '1,47,000 kms', '90,001 kms', '48,006 kms',\n",
       "       '74,000 kms', '85,000 kms', '29,500 kms', '39,700 kms',\n",
       "       '67,000 kms', '19,336 kms', '60,105 kms', '45,933 kms',\n",
       "       '1,02,563 kms', '28,600 kms', '41,800 kms', '1,16,000 kms',\n",
       "       '42,590 kms', '7,400 kms', '54,500 kms', '76,000 kms', '00 kms',\n",
       "       '11,523 kms', '38,600 kms', '95,500 kms', '37,458 kms',\n",
       "       '85,960 kms', '12,516 kms', '30,600 kms', '2,550 kms',\n",
       "       '62,500 kms', '69,000 kms', '28,400 kms', '68,485 kms',\n",
       "       '3,500 kms', '85,455 kms', '63,000 kms', '1,600 kms', '77,000 kms',\n",
       "       '26,500 kms', '2,875 kms', '13,900 kms', '1,500 kms', '2,450 kms',\n",
       "       '1,625 kms', '33,400 kms', '60,123 kms', '38,900 kms',\n",
       "       '1,37,495 kms', '91,200 kms', '1,46,000 kms', '1,00,800 kms',\n",
       "       '2,100 kms', '2,500 kms', '1,32,000 kms'], dtype=object)"
      ]
     },
     "execution_count": 754,
     "metadata": {},
     "output_type": "execute_result"
    }
   ],
   "source": [
    "df[\"kms_driven\"].replace(\"Petrol\", np.NaN, inplace=True)\n",
    "df[\"kms_driven\"].unique()"
   ]
  },
  {
   "cell_type": "code",
   "execution_count": 755,
   "metadata": {},
   "outputs": [
    {
     "data": {
      "text/plain": [
       "array(['45000', '40', '22000', '28000', '36000', '59000', '41000',\n",
       "       '25000', '24530', '60000', '30000', '32000', '48660', '4000',\n",
       "       '16934', '43000', '35550', '39522', '39000', '55000', '72000',\n",
       "       '15975', '70000', '23452', '35522', '48508', '15487', '82000',\n",
       "       '20000', '68000', '38000', '27000', '33000', '46000', '16000',\n",
       "       '47000', '35000', '30874', '15000', '29685', '130000', '19000',\n",
       "       nan, '54000', '13000', '38200', '50000', '13500', '3600', '45863',\n",
       "       '60500', '12500', '18000', '13349', '29000', '44000', '42000',\n",
       "       '14000', '49000', '36200', '51000', '104000', '33333', '33600',\n",
       "       '5600', '7500', '26000', '24330', '65480', '28028', '99000',\n",
       "       '2800', '21000', '11000', '66000', '3000', '7000', '38500',\n",
       "       '37200', '43200', '24800', '45872', '40000', '11400', '97200',\n",
       "       '52000', '31000', '175430', '37000', '65000', '3350', '75000',\n",
       "       '62000', '73000', '2200', '54870', '34580', '97000', '60', '80200',\n",
       "       '3200', '0000', '5000', '588', '71200', '175400', '9300', '56758',\n",
       "       '10000', '56450', '56000', '32700', '9000', '73', '160000',\n",
       "       '84000', '58559', '57000', '170000', '80000', '6821', '23000',\n",
       "       '34000', '1800', '400000', '48000', '90000', '12000', '69900',\n",
       "       '166000', '122', '0', '24000', '36469', '7800', '24695', '15141',\n",
       "       '59910', '100000', '4500', '129000', '300', '131000', '111111',\n",
       "       '59466', '25500', '44005', '2110', '43222', '100200', '65',\n",
       "       '140000', '103553', '58000', '120000', '49800', '100', '81876',\n",
       "       '6020', '55700', '18500', '180000', '53000', '35500', '22134',\n",
       "       '1000', '8500', '87000', '6000', '15574', '8000', '55800', '56400',\n",
       "       '72160', '11500', '133000', '2000', '88000', '65422', '117000',\n",
       "       '150000', '10750', '6800', '5', '9800', '57923', '30201', '6200',\n",
       "       '37518', '24652', '383', '95000', '3528', '52500', '47900',\n",
       "       '52800', '195000', '48008', '48247', '9400', '64000', '200000',\n",
       "       '2137', '10544', '49500', '147000', '90001', '48006', '74000',\n",
       "       '85000', '29500', '39700', '67000', '19336', '60105', '45933',\n",
       "       '102563', '28600', '41800', '116000', '42590', '7400', '54500',\n",
       "       '76000', '00', '11523', '38600', '95500', '37458', '85960',\n",
       "       '12516', '30600', '2550', '62500', '69000', '28400', '68485',\n",
       "       '3500', '85455', '63000', '1600', '77000', '26500', '2875',\n",
       "       '13900', '1500', '2450', '1625', '33400', '60123', '38900',\n",
       "       '137495', '91200', '146000', '100800', '2100', '2500', '132000'],\n",
       "      dtype=object)"
      ]
     },
     "execution_count": 755,
     "metadata": {},
     "output_type": "execute_result"
    }
   ],
   "source": [
    "df[\"kms_driven\"] = df[\"kms_driven\"].str.replace(\",\" , \"\")\n",
    "df[\"kms_driven\"] = df[\"kms_driven\"].str.replace(\" kms\" , \"\")\n",
    "\n",
    "df[\"kms_driven\"].unique()"
   ]
  },
  {
   "cell_type": "code",
   "execution_count": 756,
   "metadata": {},
   "outputs": [
    {
     "data": {
      "text/plain": [
       "41000.0"
      ]
     },
     "execution_count": 756,
     "metadata": {},
     "output_type": "execute_result"
    }
   ],
   "source": [
    "median = df[\"kms_driven\"].median()\n",
    "median"
   ]
  },
  {
   "cell_type": "code",
   "execution_count": 757,
   "metadata": {},
   "outputs": [
    {
     "data": {
      "text/plain": [
       "name          0\n",
       "company       0\n",
       "year          0\n",
       "Price         0\n",
       "kms_driven    0\n",
       "fuel_type     4\n",
       "dtype: int64"
      ]
     },
     "execution_count": 757,
     "metadata": {},
     "output_type": "execute_result"
    }
   ],
   "source": [
    "df[\"kms_driven\"].fillna(median, inplace=True)\n",
    "df.isnull().sum()"
   ]
  },
  {
   "cell_type": "markdown",
   "metadata": {},
   "source": [
    "# \"fuel_type\" column"
   ]
  },
  {
   "cell_type": "code",
   "execution_count": 758,
   "metadata": {},
   "outputs": [
    {
     "data": {
      "text/plain": [
       "array(['Petrol', 'Diesel', nan, 'LPG'], dtype=object)"
      ]
     },
     "execution_count": 758,
     "metadata": {},
     "output_type": "execute_result"
    }
   ],
   "source": [
    "df[\"fuel_type\"].unique()"
   ]
  },
  {
   "cell_type": "code",
   "execution_count": 759,
   "metadata": {},
   "outputs": [
    {
     "data": {
      "text/plain": [
       "'Petrol'"
      ]
     },
     "execution_count": 759,
     "metadata": {},
     "output_type": "execute_result"
    }
   ],
   "source": [
    "mode = df[\"fuel_type\"].mode()[0]\n",
    "mode"
   ]
  },
  {
   "cell_type": "code",
   "execution_count": 760,
   "metadata": {},
   "outputs": [
    {
     "data": {
      "text/plain": [
       "name          0\n",
       "company       0\n",
       "year          0\n",
       "Price         0\n",
       "kms_driven    0\n",
       "fuel_type     0\n",
       "dtype: int64"
      ]
     },
     "execution_count": 760,
     "metadata": {},
     "output_type": "execute_result"
    }
   ],
   "source": [
    "df[\"fuel_type\"].fillna(mode, inplace=True)\n",
    "\n",
    "df.isnull().sum()"
   ]
  },
  {
   "cell_type": "code",
   "execution_count": 761,
   "metadata": {},
   "outputs": [
    {
     "name": "stdout",
     "output_type": "stream",
     "text": [
      "<class 'pandas.core.frame.DataFrame'>\n",
      "Index: 749 entries, 0 to 891\n",
      "Data columns (total 6 columns):\n",
      " #   Column      Non-Null Count  Dtype \n",
      "---  ------      --------------  ----- \n",
      " 0   name        749 non-null    object\n",
      " 1   company     749 non-null    object\n",
      " 2   year        749 non-null    object\n",
      " 3   Price       749 non-null    object\n",
      " 4   kms_driven  749 non-null    object\n",
      " 5   fuel_type   749 non-null    object\n",
      "dtypes: object(6)\n",
      "memory usage: 57.1+ KB\n"
     ]
    }
   ],
   "source": [
    "df.info()"
   ]
  },
  {
   "cell_type": "code",
   "execution_count": 762,
   "metadata": {},
   "outputs": [
    {
     "name": "stdout",
     "output_type": "stream",
     "text": [
      "<class 'pandas.core.frame.DataFrame'>\n",
      "Index: 749 entries, 0 to 891\n",
      "Data columns (total 6 columns):\n",
      " #   Column      Non-Null Count  Dtype \n",
      "---  ------      --------------  ----- \n",
      " 0   name        749 non-null    object\n",
      " 1   company     749 non-null    object\n",
      " 2   year        749 non-null    object\n",
      " 3   Price       749 non-null    int32 \n",
      " 4   kms_driven  749 non-null    int32 \n",
      " 5   fuel_type   749 non-null    object\n",
      "dtypes: int32(2), object(4)\n",
      "memory usage: 51.3+ KB\n"
     ]
    }
   ],
   "source": [
    "df[\"Price\"] = df[\"Price\"].astype(int)\n",
    "df[\"kms_driven\"] = df[\"kms_driven\"].astype(int)\n",
    "\n",
    "df.info()"
   ]
  },
  {
   "cell_type": "code",
   "execution_count": 763,
   "metadata": {},
   "outputs": [
    {
     "data": {
      "text/html": [
       "<div>\n",
       "<style scoped>\n",
       "    .dataframe tbody tr th:only-of-type {\n",
       "        vertical-align: middle;\n",
       "    }\n",
       "\n",
       "    .dataframe tbody tr th {\n",
       "        vertical-align: top;\n",
       "    }\n",
       "\n",
       "    .dataframe thead th {\n",
       "        text-align: right;\n",
       "    }\n",
       "</style>\n",
       "<table border=\"1\" class=\"dataframe\">\n",
       "  <thead>\n",
       "    <tr style=\"text-align: right;\">\n",
       "      <th></th>\n",
       "      <th>name</th>\n",
       "      <th>company</th>\n",
       "      <th>year</th>\n",
       "      <th>Price</th>\n",
       "      <th>kms_driven</th>\n",
       "      <th>fuel_type</th>\n",
       "    </tr>\n",
       "  </thead>\n",
       "  <tbody>\n",
       "    <tr>\n",
       "      <th>0</th>\n",
       "      <td>hyundai santro xing xo erlx euro iii</td>\n",
       "      <td>hyundai</td>\n",
       "      <td>2007</td>\n",
       "      <td>80000</td>\n",
       "      <td>45000</td>\n",
       "      <td>Petrol</td>\n",
       "    </tr>\n",
       "    <tr>\n",
       "      <th>1</th>\n",
       "      <td>mahindra jeep cl550 mdi</td>\n",
       "      <td>mahindra</td>\n",
       "      <td>2006</td>\n",
       "      <td>425000</td>\n",
       "      <td>40</td>\n",
       "      <td>Diesel</td>\n",
       "    </tr>\n",
       "    <tr>\n",
       "      <th>2</th>\n",
       "      <td>maruti suzuki alto 800 vxi</td>\n",
       "      <td>maruti</td>\n",
       "      <td>2018</td>\n",
       "      <td>290000</td>\n",
       "      <td>22000</td>\n",
       "      <td>Petrol</td>\n",
       "    </tr>\n",
       "    <tr>\n",
       "      <th>3</th>\n",
       "      <td>hyundai grand i10 magna 1.2 kappa vtvt</td>\n",
       "      <td>hyundai</td>\n",
       "      <td>2014</td>\n",
       "      <td>325000</td>\n",
       "      <td>28000</td>\n",
       "      <td>Petrol</td>\n",
       "    </tr>\n",
       "    <tr>\n",
       "      <th>4</th>\n",
       "      <td>ford ecosport titanium 1.5l tdci</td>\n",
       "      <td>ford</td>\n",
       "      <td>2014</td>\n",
       "      <td>575000</td>\n",
       "      <td>36000</td>\n",
       "      <td>Diesel</td>\n",
       "    </tr>\n",
       "    <tr>\n",
       "      <th>...</th>\n",
       "      <td>...</td>\n",
       "      <td>...</td>\n",
       "      <td>...</td>\n",
       "      <td>...</td>\n",
       "      <td>...</td>\n",
       "      <td>...</td>\n",
       "    </tr>\n",
       "    <tr>\n",
       "      <th>744</th>\n",
       "      <td>toyota corolla altis</td>\n",
       "      <td>toyota</td>\n",
       "      <td>2009</td>\n",
       "      <td>300000</td>\n",
       "      <td>132000</td>\n",
       "      <td>Petrol</td>\n",
       "    </tr>\n",
       "    <tr>\n",
       "      <th>745</th>\n",
       "      <td>tata zest xm diesel</td>\n",
       "      <td>tata</td>\n",
       "      <td>2018</td>\n",
       "      <td>260000</td>\n",
       "      <td>27000</td>\n",
       "      <td>Diesel</td>\n",
       "    </tr>\n",
       "    <tr>\n",
       "      <th>746</th>\n",
       "      <td>mahindra quanto c8</td>\n",
       "      <td>mahindra</td>\n",
       "      <td>2013</td>\n",
       "      <td>390000</td>\n",
       "      <td>40000</td>\n",
       "      <td>Diesel</td>\n",
       "    </tr>\n",
       "    <tr>\n",
       "      <th>747</th>\n",
       "      <td>honda amaze 1.2 e i vtec</td>\n",
       "      <td>honda</td>\n",
       "      <td>2014</td>\n",
       "      <td>180000</td>\n",
       "      <td>41000</td>\n",
       "      <td>Petrol</td>\n",
       "    </tr>\n",
       "    <tr>\n",
       "      <th>748</th>\n",
       "      <td>chevrolet sail 1.2 lt abs</td>\n",
       "      <td>chevrolet</td>\n",
       "      <td>2014</td>\n",
       "      <td>160000</td>\n",
       "      <td>41000</td>\n",
       "      <td>Petrol</td>\n",
       "    </tr>\n",
       "  </tbody>\n",
       "</table>\n",
       "<p>749 rows × 6 columns</p>\n",
       "</div>"
      ],
      "text/plain": [
       "                                       name    company  year   Price  \\\n",
       "0      hyundai santro xing xo erlx euro iii    hyundai  2007   80000   \n",
       "1                   mahindra jeep cl550 mdi   mahindra  2006  425000   \n",
       "2                maruti suzuki alto 800 vxi     maruti  2018  290000   \n",
       "3    hyundai grand i10 magna 1.2 kappa vtvt    hyundai  2014  325000   \n",
       "4          ford ecosport titanium 1.5l tdci       ford  2014  575000   \n",
       "..                                      ...        ...   ...     ...   \n",
       "744                    toyota corolla altis     toyota  2009  300000   \n",
       "745                     tata zest xm diesel       tata  2018  260000   \n",
       "746                      mahindra quanto c8   mahindra  2013  390000   \n",
       "747                honda amaze 1.2 e i vtec      honda  2014  180000   \n",
       "748               chevrolet sail 1.2 lt abs  chevrolet  2014  160000   \n",
       "\n",
       "     kms_driven fuel_type  \n",
       "0         45000    Petrol  \n",
       "1            40    Diesel  \n",
       "2         22000    Petrol  \n",
       "3         28000    Petrol  \n",
       "4         36000    Diesel  \n",
       "..          ...       ...  \n",
       "744      132000    Petrol  \n",
       "745       27000    Diesel  \n",
       "746       40000    Diesel  \n",
       "747       41000    Petrol  \n",
       "748       41000    Petrol  \n",
       "\n",
       "[749 rows x 6 columns]"
      ]
     },
     "execution_count": 763,
     "metadata": {},
     "output_type": "execute_result"
    }
   ],
   "source": [
    "df.to_csv(\"cleaned_car_data.csv\", index=False)\n",
    "\n",
    "df = pd.read_csv(\"cleaned_car_data.csv\")\n",
    "df"
   ]
  },
  {
   "cell_type": "markdown",
   "metadata": {},
   "source": [
    "# Data Preprocessing"
   ]
  },
  {
   "cell_type": "code",
   "execution_count": 764,
   "metadata": {},
   "outputs": [],
   "source": [
    "from sklearn.preprocessing import LabelEncoder, StandardScaler"
   ]
  },
  {
   "cell_type": "code",
   "execution_count": 765,
   "metadata": {},
   "outputs": [
    {
     "data": {
      "text/html": [
       "<div>\n",
       "<style scoped>\n",
       "    .dataframe tbody tr th:only-of-type {\n",
       "        vertical-align: middle;\n",
       "    }\n",
       "\n",
       "    .dataframe tbody tr th {\n",
       "        vertical-align: top;\n",
       "    }\n",
       "\n",
       "    .dataframe thead th {\n",
       "        text-align: right;\n",
       "    }\n",
       "</style>\n",
       "<table border=\"1\" class=\"dataframe\">\n",
       "  <thead>\n",
       "    <tr style=\"text-align: right;\">\n",
       "      <th></th>\n",
       "      <th>name</th>\n",
       "      <th>company</th>\n",
       "      <th>year</th>\n",
       "      <th>Price</th>\n",
       "      <th>kms_driven</th>\n",
       "      <th>fuel_type</th>\n",
       "    </tr>\n",
       "  </thead>\n",
       "  <tbody>\n",
       "    <tr>\n",
       "      <th>0</th>\n",
       "      <td>160</td>\n",
       "      <td>9</td>\n",
       "      <td>8</td>\n",
       "      <td>80000</td>\n",
       "      <td>45000</td>\n",
       "      <td>2</td>\n",
       "    </tr>\n",
       "    <tr>\n",
       "      <th>1</th>\n",
       "      <td>187</td>\n",
       "      <td>13</td>\n",
       "      <td>7</td>\n",
       "      <td>425000</td>\n",
       "      <td>40</td>\n",
       "      <td>0</td>\n",
       "    </tr>\n",
       "    <tr>\n",
       "      <th>2</th>\n",
       "      <td>233</td>\n",
       "      <td>14</td>\n",
       "      <td>19</td>\n",
       "      <td>290000</td>\n",
       "      <td>22000</td>\n",
       "      <td>2</td>\n",
       "    </tr>\n",
       "    <tr>\n",
       "      <th>3</th>\n",
       "      <td>130</td>\n",
       "      <td>9</td>\n",
       "      <td>15</td>\n",
       "      <td>325000</td>\n",
       "      <td>28000</td>\n",
       "      <td>2</td>\n",
       "    </tr>\n",
       "    <tr>\n",
       "      <th>4</th>\n",
       "      <td>53</td>\n",
       "      <td>6</td>\n",
       "      <td>15</td>\n",
       "      <td>575000</td>\n",
       "      <td>36000</td>\n",
       "      <td>0</td>\n",
       "    </tr>\n",
       "    <tr>\n",
       "      <th>...</th>\n",
       "      <td>...</td>\n",
       "      <td>...</td>\n",
       "      <td>...</td>\n",
       "      <td>...</td>\n",
       "      <td>...</td>\n",
       "      <td>...</td>\n",
       "    </tr>\n",
       "    <tr>\n",
       "      <th>744</th>\n",
       "      <td>422</td>\n",
       "      <td>23</td>\n",
       "      <td>10</td>\n",
       "      <td>300000</td>\n",
       "      <td>132000</td>\n",
       "      <td>2</td>\n",
       "    </tr>\n",
       "    <tr>\n",
       "      <th>745</th>\n",
       "      <td>420</td>\n",
       "      <td>22</td>\n",
       "      <td>19</td>\n",
       "      <td>260000</td>\n",
       "      <td>27000</td>\n",
       "      <td>0</td>\n",
       "    </tr>\n",
       "    <tr>\n",
       "      <th>746</th>\n",
       "      <td>195</td>\n",
       "      <td>13</td>\n",
       "      <td>14</td>\n",
       "      <td>390000</td>\n",
       "      <td>40000</td>\n",
       "      <td>0</td>\n",
       "    </tr>\n",
       "    <tr>\n",
       "      <th>747</th>\n",
       "      <td>72</td>\n",
       "      <td>8</td>\n",
       "      <td>15</td>\n",
       "      <td>180000</td>\n",
       "      <td>41000</td>\n",
       "      <td>2</td>\n",
       "    </tr>\n",
       "    <tr>\n",
       "      <th>748</th>\n",
       "      <td>29</td>\n",
       "      <td>2</td>\n",
       "      <td>15</td>\n",
       "      <td>160000</td>\n",
       "      <td>41000</td>\n",
       "      <td>2</td>\n",
       "    </tr>\n",
       "  </tbody>\n",
       "</table>\n",
       "<p>749 rows × 6 columns</p>\n",
       "</div>"
      ],
      "text/plain": [
       "     name  company  year   Price  kms_driven  fuel_type\n",
       "0     160        9     8   80000       45000          2\n",
       "1     187       13     7  425000          40          0\n",
       "2     233       14    19  290000       22000          2\n",
       "3     130        9    15  325000       28000          2\n",
       "4      53        6    15  575000       36000          0\n",
       "..    ...      ...   ...     ...         ...        ...\n",
       "744   422       23    10  300000      132000          2\n",
       "745   420       22    19  260000       27000          0\n",
       "746   195       13    14  390000       40000          0\n",
       "747    72        8    15  180000       41000          2\n",
       "748    29        2    15  160000       41000          2\n",
       "\n",
       "[749 rows x 6 columns]"
      ]
     },
     "execution_count": 765,
     "metadata": {},
     "output_type": "execute_result"
    }
   ],
   "source": [
    "le = LabelEncoder()\n",
    "\n",
    "df[\"name\"] = le.fit_transform(df[\"name\"])\n",
    "df[\"company\"] = le.fit_transform(df[\"company\"])\n",
    "df[\"fuel_type\"] = le.fit_transform(df[\"fuel_type\"])\n",
    "df[\"year\"] = le.fit_transform(df[\"year\"])\n",
    "\n",
    "df"
   ]
  },
  {
   "cell_type": "code",
   "execution_count": 766,
   "metadata": {},
   "outputs": [],
   "source": [
    "df.to_csv(\"preprocessed_car_data.csv\", index=True)"
   ]
  },
  {
   "cell_type": "markdown",
   "metadata": {},
   "source": [
    "## Model Trainig & Model Evaluation"
   ]
  },
  {
   "cell_type": "code",
   "execution_count": 767,
   "metadata": {},
   "outputs": [],
   "source": [
    "X = df.drop(columns=[\"Price\"])\n",
    "Y = df[\"Price\"]"
   ]
  },
  {
   "cell_type": "code",
   "execution_count": 768,
   "metadata": {},
   "outputs": [
    {
     "name": "stdout",
     "output_type": "stream",
     "text": [
      "0.07985806673277851\n"
     ]
    }
   ],
   "source": [
    "from sklearn.model_selection import train_test_split\n",
    "from sklearn.linear_model import LinearRegression\n",
    "from sklearn.metrics import r2_score\n",
    "\n",
    "X_train, X_test, y_train, y_test = train_test_split(X, Y, test_size = 0.2, random_state=42)\n",
    "\n",
    "linear_model = LinearRegression()\n",
    "linear_model.fit(X_train, y_train)\n",
    "\n",
    "y_pred  = linear_model.predict(X_test)\n",
    "\n",
    "r2score = r2_score(y_test, y_pred)\n",
    "print(r2score)"
   ]
  },
  {
   "cell_type": "code",
   "execution_count": 769,
   "metadata": {},
   "outputs": [
    {
     "name": "stdout",
     "output_type": "stream",
     "text": [
      "0.1413217774629406\n"
     ]
    },
    {
     "name": "stderr",
     "output_type": "stream",
     "text": [
      "C:\\Users\\sakhii computer\\AppData\\Local\\Programs\\Python\\Python311\\Lib\\site-packages\\sklearn\\linear_model\\_glm\\glm.py:282: ConvergenceWarning: lbfgs failed to converge (status=1):\n",
      "STOP: TOTAL NO. of ITERATIONS REACHED LIMIT.\n",
      "\n",
      "Increase the number of iterations (max_iter) or scale the data as shown in:\n",
      "    https://scikit-learn.org/stable/modules/preprocessing.html\n",
      "  self.n_iter_ = _check_optimize_result(\"lbfgs\", opt_res)\n"
     ]
    }
   ],
   "source": [
    "from sklearn.linear_model import TweedieRegressor\n",
    "\n",
    "tweedie_model = TweedieRegressor()\n",
    "tweedie_model.fit(X_train, y_train)\n",
    "\n",
    "y_pred  = tweedie_model.predict(X_test)\n",
    "\n",
    "r2score = r2_score(y_test, y_pred)\n",
    "print(r2score)"
   ]
  },
  {
   "cell_type": "code",
   "execution_count": 770,
   "metadata": {},
   "outputs": [
    {
     "name": "stdout",
     "output_type": "stream",
     "text": [
      "0.5248831252582595\n"
     ]
    }
   ],
   "source": [
    "from sklearn.ensemble import ExtraTreesRegressor\n",
    "\n",
    "extra_trees_model = ExtraTreesRegressor()\n",
    "extra_trees_model.fit(X_train, y_train)\n",
    "\n",
    "y_pred  = extra_trees_model.predict(X_test)\n",
    "\n",
    "r2score = r2_score(y_test, y_pred)\n",
    "print(r2score)"
   ]
  },
  {
   "cell_type": "code",
   "execution_count": 771,
   "metadata": {},
   "outputs": [
    {
     "name": "stdout",
     "output_type": "stream",
     "text": [
      "0.41277862451309566\n"
     ]
    }
   ],
   "source": [
    "from sklearn.ensemble import GradientBoostingRegressor\n",
    "\n",
    "gradient_boosting_model = GradientBoostingRegressor()\n",
    "gradient_boosting_model.fit(X_train, y_train)\n",
    "\n",
    "y_pred  = gradient_boosting_model.predict(X_test)\n",
    "\n",
    "r2score = r2_score(y_test, y_pred)\n",
    "print(r2score)"
   ]
  },
  {
   "cell_type": "code",
   "execution_count": 772,
   "metadata": {},
   "outputs": [
    {
     "name": "stdout",
     "output_type": "stream",
     "text": [
      "0.45000012491660935\n"
     ]
    }
   ],
   "source": [
    "from sklearn.ensemble import HistGradientBoostingRegressor\n",
    "\n",
    "hist_gradient_model = HistGradientBoostingRegressor()\n",
    "hist_gradient_model.fit(X_train, y_train)\n",
    "\n",
    "y_pred  = hist_gradient_model.predict(X_test)\n",
    "\n",
    "r2score = r2_score(y_test, y_pred)\n",
    "print(r2score)"
   ]
  },
  {
   "cell_type": "markdown",
   "metadata": {},
   "source": [
    "# Conclusion:\n",
    "\n",
    "### ExtraTreesRegressor have highest r2_score"
   ]
  },
  {
   "cell_type": "markdown",
   "metadata": {},
   "source": [
    "- pickling the model"
   ]
  },
  {
   "cell_type": "code",
   "execution_count": 773,
   "metadata": {},
   "outputs": [],
   "source": [
    "import pickle\n",
    "\n",
    "file = open(\"car_price_predictor.pkl\", \"wb\")\n",
    "\n",
    "pickle.dump(extra_trees_model, file)\n",
    "file.close()"
   ]
  },
  {
   "cell_type": "code",
   "execution_count": 774,
   "metadata": {},
   "outputs": [
    {
     "name": "stderr",
     "output_type": "stream",
     "text": [
      "C:\\Users\\sakhii computer\\AppData\\Local\\Programs\\Python\\Python311\\Lib\\site-packages\\sklearn\\base.py:465: UserWarning: X does not have valid feature names, but ExtraTreesRegressor was fitted with feature names\n",
      "  warnings.warn(\n"
     ]
    },
    {
     "data": {
      "text/plain": [
       "array([330829.62])"
      ]
     },
     "execution_count": 774,
     "metadata": {},
     "output_type": "execute_result"
    }
   ],
   "source": [
    "my_model = pickle.load(open(\"car_price_predictor.pkl\", \"rb\"))\n",
    "\n",
    "my_model.predict([[\"130\", \"9\", \"15\", \"5000\", \"2\"]])"
   ]
  }
 ],
 "metadata": {
  "kernelspec": {
   "display_name": "Python 3 (ipykernel)",
   "language": "python",
   "name": "python3"
  },
  "language_info": {
   "codemirror_mode": {
    "name": "ipython",
    "version": 3
   },
   "file_extension": ".py",
   "mimetype": "text/x-python",
   "name": "python",
   "nbconvert_exporter": "python",
   "pygments_lexer": "ipython3",
   "version": "3.11.4"
  }
 },
 "nbformat": 4,
 "nbformat_minor": 2
}
