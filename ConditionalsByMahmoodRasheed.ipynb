{
 "cells": [
  {
   "cell_type": "markdown",
   "id": "d976dc32",
   "metadata": {},
   "source": [
    "# Mahmood Rasheed\n",
    "## Conditionals"
   ]
  },
  {
   "cell_type": "markdown",
   "id": "8d57eb4a",
   "metadata": {},
   "source": [
    "### Level1"
   ]
  },
  {
   "cell_type": "markdown",
   "id": "32c41c1a",
   "metadata": {},
   "source": [
    "- 1) Get user input using input(“Enter your age: ”). If user is 18 or older, give feedback: You are old enough to drive. If below 18 give feedback to wait for the missing amount of years. Output:"
   ]
  },
  {
   "cell_type": "code",
   "execution_count": 2,
   "id": "174c3072",
   "metadata": {},
   "outputs": [
    {
     "name": "stdout",
     "output_type": "stream",
     "text": [
      "Enter your age: 15\n",
      "You need 3 more years to learn to drive.\n"
     ]
    }
   ],
   "source": [
    "age = int(input(\"Enter your age: \"))\n",
    "\n",
    "if age >= 18:\n",
    "    print(\"You are old enough to drive\")\n",
    "else: \n",
    "    print(f\"You need {18-age} more years to learn to drive.\")"
   ]
  },
  {
   "cell_type": "markdown",
   "id": "77807231",
   "metadata": {},
   "source": [
    "- 2) Compare the values of my_age and your_age using if … else. Who is older (me or you)? Use input(“Enter your age: ”) to get the age as input. You can use a nested condition to print 'year' for 1 year difference in age, 'years' for bigger differences, and a custom text if my_age = your_age."
   ]
  },
  {
   "cell_type": "code",
   "execution_count": 10,
   "id": "af836dd1",
   "metadata": {},
   "outputs": [
    {
     "name": "stdout",
     "output_type": "stream",
     "text": [
      "Enter your age: 15\n",
      "I am 7 years older than you.\n"
     ]
    }
   ],
   "source": [
    "my_age = 22\n",
    "your_age = int(input(\"Enter your age: \"))\n",
    "\n",
    "if your_age >= my_age:\n",
    "    if(your_age == my_age):\n",
    "        print(\"Both have same age\")\n",
    "    else:\n",
    "        if(your_age-my_age == 1):\n",
    "            print(f\"You are {your_age-my_age} year older than me.\")\n",
    "        else:\n",
    "            print(f\"You are {your_age-my_age} years older than me.\")\n",
    "else:\n",
    "    if(my_age - your_age == 1):\n",
    "            print(f\"I am {my_age-your_age} year older than you.\")\n",
    "    else:\n",
    "            print(f\"I am {my_age-your_age} years older than you.\")"
   ]
  },
  {
   "cell_type": "markdown",
   "id": "ffb55189",
   "metadata": {},
   "source": [
    "- 3) Get two numbers from the user using input prompt. If a is greater than b return a is greater than b, if a is less b return a is smaller than b, else a is equal to b."
   ]
  },
  {
   "cell_type": "code",
   "execution_count": 6,
   "id": "b4fcfff1",
   "metadata": {},
   "outputs": [
    {
     "name": "stdout",
     "output_type": "stream",
     "text": [
      "Enter number1: 43\n",
      "Enter number2: 43\n",
      "43 is equal to 43\n"
     ]
    }
   ],
   "source": [
    "number1 = int(input(\"Enter number1: \"))\n",
    "number2 = int(input(\"Enter number2: \"))\n",
    "\n",
    "if number1 > number2:\n",
    "    print(number1, \"is greater than\", number2)\n",
    "elif number1 < number2:\n",
    "    print(number1, \"is less than\", number2)\n",
    "else: \n",
    "    print(number1, \"is equal to\", number2)"
   ]
  },
  {
   "cell_type": "markdown",
   "id": "95653465",
   "metadata": {},
   "source": [
    "### Level2"
   ]
  },
  {
   "cell_type": "markdown",
   "id": "52f6054e",
   "metadata": {},
   "source": [
    "- 1) Write a code which gives grade to students according to theirs scores:\n",
    "- 80-100, A\n",
    "- 70-89, B\n",
    "- 60-69, C\n",
    "- 50-59, D\n",
    "- 0-49, F"
   ]
  },
  {
   "cell_type": "code",
   "execution_count": 2,
   "id": "a42d486c",
   "metadata": {},
   "outputs": [
    {
     "name": "stdout",
     "output_type": "stream",
     "text": [
      "Enter marks in maths: 90\n",
      "Enter marks in cpp: 78\n",
      "Enter marks in java: 89\n",
      "Enter marks in python: 85\n",
      "Enter marks is web: 79\n",
      "Grade A\n"
     ]
    }
   ],
   "source": [
    "maths = int(input(\"Enter marks in maths: \"))\n",
    "cpp = int(input(\"Enter marks in cpp: \"))\n",
    "java = int(input(\"Enter marks in java: \"))\n",
    "python = int(input(\"Enter marks in python: \"))\n",
    "web = int(input(\"Enter marks is web: \"))\n",
    "\n",
    "obt_marks = maths + cpp + java + python + web\n",
    "\n",
    "percentage = (obt_marks/500)*100\n",
    "\n",
    "if percentage >= 80:\n",
    "    print(\"Grade A\")\n",
    "elif percentage >= 70:\n",
    "    print(\"Grade B\")\n",
    "elif percentage >= 60:\n",
    "    print(\"Grade C\")\n",
    "elif percentage >= 50:\n",
    "    print(\"Grade D\")\n",
    "else:\n",
    "    print(\"Grade F\")\n"
   ]
  },
  {
   "cell_type": "markdown",
   "id": "9fb293da",
   "metadata": {},
   "source": [
    "- 2) Check if the season is Autumn, Winter, Spring or Summer. If the user input is: September, October or November, the season is Autumn. December, January or February, the season is Winter. March, April or May, the season is Spring June, July or August, the season is Summer"
   ]
  },
  {
   "cell_type": "code",
   "execution_count": 7,
   "id": "e9f724f6",
   "metadata": {},
   "outputs": [
    {
     "name": "stdout",
     "output_type": "stream",
     "text": [
      "Enter month name: october\n",
      "The season is Autumn\n"
     ]
    }
   ],
   "source": [
    "month = input(\"Enter month name: \").capitalize()\n",
    "\n",
    "if month in (\"September\", \"October\", \"November\"):\n",
    "    print(\"The season is Autumn\")\n",
    "elif month in (\"December\", \"January\", \"February\"):\n",
    "    print(\"The season is Winter\")\n",
    "elif month in (\"March\", \"April\", \"May\"):\n",
    "    print(\"The season is Spring\")\n",
    "elif month in (\"June\", \"July\", \"August\"):\n",
    "    print(\"The season is Summer\")\n",
    "else:\n",
    "    print(\"Invalid input\")"
   ]
  },
  {
   "cell_type": "markdown",
   "id": "657782dc",
   "metadata": {},
   "source": [
    "- 3) The following list contains some fruits:\n",
    "\n",
    "fruits = ['banana', 'orange', 'mango', 'lemon']\n",
    "- If a fruit doesn't exist in the list add the fruit to the list and print the modified list. If the fruit exists print('That fruit already exist in the list')"
   ]
  },
  {
   "cell_type": "code",
   "execution_count": 12,
   "id": "ee088705",
   "metadata": {},
   "outputs": [
    {
     "name": "stdout",
     "output_type": "stream",
     "text": [
      "Enter the fruit name: apple\n",
      "Updated list:  ['banana', 'orange', 'mango', 'lemon', 'apple']\n"
     ]
    }
   ],
   "source": [
    "fruits = ['banana', 'orange', 'mango', 'lemon']\n",
    "\n",
    "fruit = input(\"Enter the fruit name: \").lower()\n",
    "\n",
    "if fruit in fruits:\n",
    "    print(f\"The {fruit} is alreday exist\")\n",
    "else: \n",
    "    fruits.append(fruit)\n",
    "    print(\"Updated list: \", fruits)"
   ]
  },
  {
   "cell_type": "markdown",
   "id": "ce5e79ef",
   "metadata": {},
   "source": [
    "### Level3"
   ]
  },
  {
   "cell_type": "markdown",
   "id": "04bc89df",
   "metadata": {},
   "source": [
    "Here we have a person dictionary. Feel free to modify it!\n",
    "\n",
    "        person={\n",
    "    'first_name': 'Asabeneh',\n",
    "    'last_name': 'Yetayeh',\n",
    "    'age': 250,\n",
    "    'country': 'Finland',\n",
    "    'is_marred': True,\n",
    "    'skills': ['JavaScript', 'React', 'Node', 'MongoDB', 'Python'],\n",
    "    'address': {\n",
    "        'street': 'Space street',\n",
    "        'zipcode': '02210'\n",
    "    }\n",
    "    }\n",
    " * Check if the person dictionary has skills key, if so print out the middle skill in the skills list.\n",
    " * Check if the person dictionary has skills key, if so check if the person has 'Python' skill and print out the result.\n",
    " * If a person skills has only JavaScript and React, print('He is a front end developer'), if the person skills has Node, Python, MongoDB, print('He is a backend developer'), if the person skills has React, Node and MongoDB, Print('He is a fullstack developer'), else print('unknown title') - for more accurate results more conditions can be nested!\n",
    " * If the person is married and if he lives in Finland, print the information in the following format:\n",
    "    Asabeneh Yetayeh lives in Finland. He is married."
   ]
  },
  {
   "cell_type": "code",
   "execution_count": 30,
   "id": "a99113a4",
   "metadata": {},
   "outputs": [],
   "source": [
    "person={\n",
    "    'first_name': 'Asabeneh',\n",
    "    'last_name': 'Yetayeh',\n",
    "    'age': 250,\n",
    "    'country': 'Finland',\n",
    "    'is_marred': True,\n",
    "    'skills': ['JavaScript', 'React', 'Node', 'MongoDB', 'Python'],\n",
    "    'address': {\n",
    "        'street': 'Space street',\n",
    "        'zipcode': '02210'\n",
    "    }\n",
    "}\n"
   ]
  },
  {
   "cell_type": "markdown",
   "id": "977e460a",
   "metadata": {},
   "source": [
    "- Check if the person dictionary has skills key, if so print out the middle skill in the skills list."
   ]
  },
  {
   "cell_type": "code",
   "execution_count": 31,
   "id": "0a403e2f",
   "metadata": {},
   "outputs": [
    {
     "name": "stdout",
     "output_type": "stream",
     "text": [
      "Node\n"
     ]
    }
   ],
   "source": [
    "if \"skills\" in person:\n",
    "    index_of_middle = len(person[\"skills\"])//2\n",
    "    print(person[\"skills\"][index_of_middle])"
   ]
  },
  {
   "cell_type": "markdown",
   "id": "7b26b9ce",
   "metadata": {},
   "source": [
    "- Check if the person dictionary has skills key, if so check if the person has 'Python' skill and print out the result."
   ]
  },
  {
   "cell_type": "code",
   "execution_count": 32,
   "id": "dcf73e67",
   "metadata": {},
   "outputs": [
    {
     "name": "stdout",
     "output_type": "stream",
     "text": [
      "Python is present in skills\n"
     ]
    }
   ],
   "source": [
    "if \"skills\" in person:\n",
    "    if \"Python\" in person[\"skills\"]:\n",
    "        print(\"Python is present in skills\")"
   ]
  },
  {
   "cell_type": "markdown",
   "id": "ab935d37",
   "metadata": {},
   "source": [
    "- If a person skills has only JavaScript and React, print('He is a front end developer'), if the person skills has Node, Python, MongoDB, print('He is a backend developer'), if the person skills has React, Node and MongoDB, Print('He is a fullstack developer'), else print('unknown title') - for more accurate results more conditions can be nested!"
   ]
  },
  {
   "cell_type": "code",
   "execution_count": 33,
   "id": "41f6c58f",
   "metadata": {},
   "outputs": [
    {
     "name": "stdout",
     "output_type": "stream",
     "text": [
      "He is fullstack developer\n"
     ]
    }
   ],
   "source": [
    "if \"React\" in person[\"skills\"]:\n",
    "    if \"Node\" in person[\"skills\"]:\n",
    "        if \"MongoDB\" in person[\"skills\"]:\n",
    "            print(\"He is fullstack developer\")\n",
    "\n",
    "elif \"Node\" in person[\"skills\"]:\n",
    "    if \"Python\" in person[\"skills\"]:\n",
    "        if \"MongoDB\" in person[\"skills\"]:\n",
    "            print(\"He is back end developer\")\n",
    "            \n",
    "elif \"Javascript\" in person[\"skills\"]:\n",
    "    if \"React\" in person[\"skills\"]:\n",
    "        print(\"He is front end developer\")\n",
    "\n",
    "else: \n",
    "    print(\"unknown title\")\n",
    "    "
   ]
  },
  {
   "cell_type": "markdown",
   "id": "a5f1630c",
   "metadata": {},
   "source": [
    "- If the person is married and if he lives in Finland, print the information in the following format: Asabeneh Yetayeh lives in Finland. He is married."
   ]
  },
  {
   "cell_type": "code",
   "execution_count": 29,
   "id": "1bbb040c",
   "metadata": {},
   "outputs": [
    {
     "name": "stdout",
     "output_type": "stream",
     "text": [
      "Asabeneh Yetayeh lives in Finland. He is married.\n"
     ]
    }
   ],
   "source": [
    "if person['is_marred'] and person[\"country\"] == \"Finland\":\n",
    "    print(\"Asabeneh Yetayeh lives in Finland. He is married.\")"
   ]
  }
 ],
 "metadata": {
  "kernelspec": {
   "display_name": "Python 3 (ipykernel)",
   "language": "python",
   "name": "python3"
  },
  "language_info": {
   "codemirror_mode": {
    "name": "ipython",
    "version": 3
   },
   "file_extension": ".py",
   "mimetype": "text/x-python",
   "name": "python",
   "nbconvert_exporter": "python",
   "pygments_lexer": "ipython3",
   "version": "3.11.4"
  }
 },
 "nbformat": 4,
 "nbformat_minor": 5
}
